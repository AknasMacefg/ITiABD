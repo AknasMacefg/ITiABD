{
 "cells": [
  {
   "cell_type": "markdown",
   "metadata": {
    "id": "rF6XYi1FAYJO"
   },
   "source": [
    "<center>     \n",
    "    <img src=\"https://drive.google.com/uc?export=view&id=1Otvj8yDtg-_KI6wuCUqxA4evJX04nB4c\"/>\n",
    "</center>"
   ]
  },
  {
   "cell_type": "markdown",
   "metadata": {
    "id": "8PhnOaTOAGS3"
   },
   "source": [
    "#**Лекция по теме 2.1: &nbsp; Введение в объектно-ориентированное программирование. Классы и Объекты. Атрибуты класса. Экземпляр класса. Методы экземпляра класса.**\n",
    "### Финансовый университет при Правительстве РФ, &nbsp; Департамент анализа данных и машинного обучения \n",
    "### **Лектор: Черняков Алексей Николаевич**    \n",
    "e-mail: anchernyakov@fa.ru"
   ]
  },
  {
   "cell_type": "markdown",
   "metadata": {
    "id": "T-uHpbWkAGS7"
   },
   "source": [
    "## **Парадигмы программирования**"
   ]
  },
  {
   "cell_type": "markdown",
   "metadata": {
    "id": "2HtrHgnMPYm3"
   },
   "source": [
    "Парадигма программирования – это совокупность принципов, методов и понятий, определяющих способ написания программ."
   ]
  },
  {
   "cell_type": "markdown",
   "metadata": {
    "id": "gFfSeHGmYhiQ"
   },
   "source": [
    "<center>     \n",
    "    <img src=\"https://drive.google.com/uc?export=view&id=1dv4LLLdCwkw7bCOn5yFUBF8U3R8wHY-y\" width=\"500\"/>\n",
    "    <p style=\"text-align: center;\"> Рисунок 1 - Парадигмы программирования</p>\n",
    "</center>"
   ]
  },
  {
   "cell_type": "markdown",
   "metadata": {
    "id": "FUiVInMejuuV"
   },
   "source": [
    "Цель - сделать процесс программирования максимально эффективным. Это значит, что благодаря им разработка программного обеспечения становится более простой для понимания, легко масштабируемой и содержащей минимальное количество ошибок."
   ]
  },
  {
   "cell_type": "markdown",
   "metadata": {
    "id": "GTt3EjGxONyX"
   },
   "source": [
    "## **Объектно-ориентированное программирование**"
   ]
  },
  {
   "cell_type": "markdown",
   "metadata": {
    "id": "FVqte514AGS7"
   },
   "source": [
    "__Объектно-ориентированное программирование (ООП)__ — методология программирования, основанная на представлении программы в виде совокупности объектов, каждый из которых является экземпляром определённого класса.    \n"
   ]
  },
  {
   "cell_type": "markdown",
   "metadata": {
    "id": "kJ5cOhlhiCpd"
   },
   "source": [
    "__Что дает ООП?__       \n",
    "* Программа, решающая некоторую задачу, заключает в себе описание части мира, относящейся к этой задаче. \n",
    "\n",
    "* Описание действительности в форме системы взаимодействующих объектов естественнее, чем в форме иерархии подпрограмм. "
   ]
  },
  {
   "cell_type": "markdown",
   "metadata": {
    "id": "WRLkh4NmkVj8"
   },
   "source": [
    "<center>     \n",
    "    <img src=\"https://drive.google.com/uc?export=view&id=143c1UxWPyrD07bN1T2z0-vzP2D9thCl5\" width=\"700\"/>\n",
    "    <p style=\"text-align: center;\"> Рисунок 2 - Автомобили</p>\n",
    "</center>\n",
    "\n"
   ]
  },
  {
   "cell_type": "markdown",
   "metadata": {
    "id": "Yv8CeFm0HMsk"
   },
   "source": [
    "## **Классы**"
   ]
  },
  {
   "cell_type": "markdown",
   "metadata": {
    "id": "Igo3YbLJT4Sg"
   },
   "source": [
    "__Класс__ — представляет собой шаблон для создания объектов, обеспечивающий начальные значения состояний.    \n",
    "\n",
    "__Начальные значения состояния__ задается в виде:   \n",
    "*Переменных* - в ООП называется  __свойства(поля) класса.__   \n",
    "*Функций* - в ООП называется __методы класса.__     "
   ]
  },
  {
   "cell_type": "markdown",
   "metadata": {
    "id": "7vlneVerp937"
   },
   "source": [
    "<center>     \n",
    "    <img src=\"https://drive.google.com/uc?export=view&id=1AX-bSOieJkwidkbxzMVGOlRAMYwQoHto\" width=\"150\"/>\n",
    "    <p style=\"text-align: center;\"> Рисунок 3 - Класс автомобиль</p>\n",
    "</center>"
   ]
  },
  {
   "cell_type": "markdown",
   "metadata": {
    "id": "VJ4O-C2osW0x"
   },
   "source": [
    "__Класс:__ Автомобиль.   \n",
    "__*Свойства*:__    \n",
    "* Производитель   \n",
    "* Тип кузова\n",
    "* Год      \n",
    "* Цвет   \n",
    "* Мощность двигателя   \n",
    "\n",
    "__*Методы*:__   \n",
    "* Вычислить возраст автомобиля   \n",
    "* Вычислить транспортный налог   "
   ]
  },
  {
   "cell_type": "markdown",
   "metadata": {
    "id": "hSn4m0nrvAuF"
   },
   "source": [
    "## **Объект**"
   ]
  },
  {
   "cell_type": "markdown",
   "metadata": {
    "id": "LEIo9M8LoxTI"
   },
   "source": [
    "__Объект__ – это отдельный экземпляр (представитель) класса, имеющий конкретное состояние и поведение, полностью определяемое классом. "
   ]
  },
  {
   "cell_type": "markdown",
   "metadata": {
    "id": "gq4VALQOvHXU"
   },
   "source": [
    "<center>     \n",
    "    <img src=\"https://drive.google.com/uc?export=view&id=1me940CexeKNuqZSGLYOTcwOK88zzEVMY\" width=\"150\"/>\n",
    "    <p style=\"text-align: center;\"> Рисунок 4 - Объект Класс автомобиль</p>\n",
    "</center>"
   ]
  },
  {
   "cell_type": "markdown",
   "metadata": {
    "id": "-WY5jPFWv6wz"
   },
   "source": [
    "__Класс:__ Автомобиль.   \n",
    "__*Свойства*:__    \n",
    "* Производитель = Porsche   \n",
    "* Тип кузова = Кабриалет\n",
    "* Год = 2020      \n",
    "* Цвет = Красный   \n",
    "* Мощность двигателя = 400 л/с   \n",
    "\n",
    "__*Методы*:__   \n",
    "* Вычислить возраст автомобиля   \n",
    "* Вычислить транспортный налог   "
   ]
  },
  {
   "cell_type": "markdown",
   "metadata": {
    "id": "CAoVTP0DymWP"
   },
   "source": [
    "##  **Создание классов на языке Python**"
   ]
  },
  {
   "cell_type": "markdown",
   "metadata": {
    "id": "E2aa5_5nys6X"
   },
   "source": [
    "Синтаксис   \n",
    "```\n",
    "class <имя>:    \n",
    "  <свойства>   \n",
    "  ...    \n",
    "  <методы>   \n",
    "  ...\n",
    "```\n"
   ]
  },
  {
   "cell_type": "code",
   "execution_count": 5,
   "metadata": {
    "executionInfo": {
     "elapsed": 300,
     "status": "ok",
     "timestamp": 1674484109469,
     "user": {
      "displayName": "Алексей Николаевич Черняков",
      "userId": "03502009944256768352"
     },
     "user_tz": -180
    },
    "id": "1rACw1eq1cNT"
   },
   "outputs": [],
   "source": [
    "class Car:\n",
    "  make = None\n",
    "  category = 'Седан'\n",
    "  year = None\n",
    "  color = ''\n",
    "  power = ''\n",
    "\n",
    "  def get_age():\n",
    "    print('Подсчет возраста автомобиля')\n",
    "  \n",
    "  def get_tax():\n",
    "    print('Подсчет транспортного налога')"
   ]
  },
  {
   "cell_type": "code",
   "execution_count": 2,
   "metadata": {
    "colab": {
     "base_uri": "https://localhost:8080/"
    },
    "executionInfo": {
     "elapsed": 380,
     "status": "ok",
     "timestamp": 1674483997845,
     "user": {
      "displayName": "Алексей Николаевич Черняков",
      "userId": "03502009944256768352"
     },
     "user_tz": -180
    },
    "id": "flbW_y-Ar75M",
    "outputId": "454ff850-0667-4eb3-cf36-980074d3f92e"
   },
   "outputs": [
    {
     "data": {
      "text/plain": [
       "__main__.Car"
      ]
     },
     "execution_count": 2,
     "metadata": {},
     "output_type": "execute_result"
    }
   ],
   "source": [
    "type(Car())"
   ]
  },
  {
   "cell_type": "code",
   "execution_count": 6,
   "metadata": {
    "colab": {
     "base_uri": "https://localhost:8080/"
    },
    "executionInfo": {
     "elapsed": 684,
     "status": "ok",
     "timestamp": 1674484125094,
     "user": {
      "displayName": "Алексей Николаевич Черняков",
      "userId": "03502009944256768352"
     },
     "user_tz": -180
    },
    "id": "YauOJgB14U1f",
    "outputId": "5a213f38-5b70-4e97-b041-6e413b69ce33"
   },
   "outputs": [
    {
     "name": "stdout",
     "output_type": "stream",
     "text": [
      "Седан\n"
     ]
    }
   ],
   "source": [
    "print(Car.category)"
   ]
  },
  {
   "cell_type": "code",
   "execution_count": 7,
   "metadata": {
    "colab": {
     "base_uri": "https://localhost:8080/"
    },
    "executionInfo": {
     "elapsed": 763,
     "status": "ok",
     "timestamp": 1674484156477,
     "user": {
      "displayName": "Алексей Николаевич Черняков",
      "userId": "03502009944256768352"
     },
     "user_tz": -180
    },
    "id": "fkEwQzdO5KM4",
    "outputId": "ee6adc03-c185-4b60-8050-64a5a9698457"
   },
   "outputs": [
    {
     "name": "stdout",
     "output_type": "stream",
     "text": [
      "Марка авто\n"
     ]
    }
   ],
   "source": [
    "Car.make = 'Марка авто'\n",
    "print(Car.make)"
   ]
  },
  {
   "cell_type": "markdown",
   "metadata": {
    "id": "Lqbo-liFexFL"
   },
   "source": [
    "##  **Атрибуты класса**"
   ]
  },
  {
   "cell_type": "markdown",
   "metadata": {
    "id": "EgAhvXEVe41z"
   },
   "source": [
    "Атрибут класса/объекта мы будем называть любой элемент класса/объекта (переменную, метод, подкласс), на который мы можем сослаться через символ точки. Т.е. вот так: `MyClass.<атрибут>` или `my_object.<атрибут>`.    \n",
    "\n",
    "Все атрибуты можно разделить на 2 группы:     \n",
    "* Пользовательские атрибуты.    \n",
    "* Встроенные(служебные) атрибуты.     "
   ]
  },
  {
   "cell_type": "code",
   "execution_count": 8,
   "metadata": {
    "colab": {
     "base_uri": "https://localhost:8080/"
    },
    "executionInfo": {
     "elapsed": 5,
     "status": "ok",
     "timestamp": 1674484247946,
     "user": {
      "displayName": "Алексей Николаевич Черняков",
      "userId": "03502009944256768352"
     },
     "user_tz": -180
    },
    "id": "5WlpaD8Mhu_I",
    "outputId": "15390bee-b5b4-40c5-9de7-62adf2376d7b"
   },
   "outputs": [
    {
     "data": {
      "text/plain": [
       "mappingproxy({'__module__': '__main__',\n",
       "              'make': 'Марка авто',\n",
       "              'category': 'Седан',\n",
       "              'year': None,\n",
       "              'color': '',\n",
       "              'power': '',\n",
       "              'get_age': <function __main__.Car.get_age()>,\n",
       "              'get_tax': <function __main__.Car.get_tax()>,\n",
       "              '__dict__': <attribute '__dict__' of 'Car' objects>,\n",
       "              '__weakref__': <attribute '__weakref__' of 'Car' objects>,\n",
       "              '__doc__': None})"
      ]
     },
     "execution_count": 8,
     "metadata": {},
     "output_type": "execute_result"
    }
   ],
   "source": [
    "Car.__dict__"
   ]
  },
  {
   "cell_type": "markdown",
   "metadata": {
    "id": "1UmaBRost4ZY"
   },
   "source": [
    "__Создание динамические атрибута__"
   ]
  },
  {
   "cell_type": "code",
   "execution_count": 9,
   "metadata": {
    "colab": {
     "base_uri": "https://localhost:8080/",
     "height": 166
    },
    "executionInfo": {
     "elapsed": 641,
     "status": "error",
     "timestamp": 1674484365960,
     "user": {
      "displayName": "Алексей Николаевич Черняков",
      "userId": "03502009944256768352"
     },
     "user_tz": -180
    },
    "id": "4jxR3Iv6uUk5",
    "outputId": "f45b57f5-98d8-4607-b0b3-92ee8cf1ee44"
   },
   "outputs": [
    {
     "ename": "AttributeError",
     "evalue": "ignored",
     "output_type": "error",
     "traceback": [
      "\u001b[0;31m---------------------------------------------------------------------------\u001b[0m",
      "\u001b[0;31mAttributeError\u001b[0m                            Traceback (most recent call last)",
      "\u001b[0;32m<ipython-input-9-862a9e421957>\u001b[0m in \u001b[0;36m<module>\u001b[0;34m\u001b[0m\n\u001b[0;32m----> 1\u001b[0;31m \u001b[0mCar\u001b[0m\u001b[0;34m.\u001b[0m\u001b[0mengine\u001b[0m\u001b[0;34m\u001b[0m\u001b[0;34m\u001b[0m\u001b[0m\n\u001b[0m",
      "\u001b[0;31mAttributeError\u001b[0m: type object 'Car' has no attribute 'engine'"
     ]
    }
   ],
   "source": [
    "Car.engine"
   ]
  },
  {
   "cell_type": "code",
   "execution_count": 10,
   "metadata": {
    "executionInfo": {
     "elapsed": 261,
     "status": "ok",
     "timestamp": 1674484403755,
     "user": {
      "displayName": "Алексей Николаевич Черняков",
      "userId": "03502009944256768352"
     },
     "user_tz": -180
    },
    "id": "1Ivg3dAlutRg"
   },
   "outputs": [],
   "source": [
    "Car.engine = 'бензиновый'"
   ]
  },
  {
   "cell_type": "code",
   "execution_count": 11,
   "metadata": {
    "colab": {
     "base_uri": "https://localhost:8080/"
    },
    "executionInfo": {
     "elapsed": 667,
     "status": "ok",
     "timestamp": 1674484408042,
     "user": {
      "displayName": "Алексей Николаевич Черняков",
      "userId": "03502009944256768352"
     },
     "user_tz": -180
    },
    "id": "gMpnCOWyuz7n",
    "outputId": "4e084382-9f8f-4525-8cab-29ecb7829e67"
   },
   "outputs": [
    {
     "data": {
      "text/plain": [
       "mappingproxy({'__module__': '__main__',\n",
       "              'make': 'Марка авто',\n",
       "              'category': 'Седан',\n",
       "              'year': None,\n",
       "              'color': '',\n",
       "              'power': '',\n",
       "              'get_age': <function __main__.Car.get_age()>,\n",
       "              'get_tax': <function __main__.Car.get_tax()>,\n",
       "              '__dict__': <attribute '__dict__' of 'Car' objects>,\n",
       "              '__weakref__': <attribute '__weakref__' of 'Car' objects>,\n",
       "              '__doc__': None,\n",
       "              'engine': 'бензиновый'})"
      ]
     },
     "execution_count": 11,
     "metadata": {},
     "output_type": "execute_result"
    }
   ],
   "source": [
    "Car.__dict__"
   ]
  },
  {
   "cell_type": "markdown",
   "metadata": {
    "id": "zK3AdvtUjplL"
   },
   "source": [
    "##  **Создание экземпляра класса**"
   ]
  },
  {
   "cell_type": "code",
   "execution_count": 12,
   "metadata": {
    "colab": {
     "base_uri": "https://localhost:8080/"
    },
    "executionInfo": {
     "elapsed": 294,
     "status": "ok",
     "timestamp": 1674484499113,
     "user": {
      "displayName": "Алексей Николаевич Черняков",
      "userId": "03502009944256768352"
     },
     "user_tz": -180
    },
    "id": "NJmK3SF9kh_8",
    "outputId": "661bc297-b724-4a12-ac9f-5734092e7fd3"
   },
   "outputs": [
    {
     "name": "stdout",
     "output_type": "stream",
     "text": [
      "type: <class '__main__.Car'>\n",
      "id: 140583452589168\n"
     ]
    }
   ],
   "source": [
    "car_porsche = Car()\n",
    "print(f'type: {type(car_porsche)}\\nid: {id(car_porsche)}')"
   ]
  },
  {
   "cell_type": "code",
   "execution_count": 15,
   "metadata": {
    "colab": {
     "base_uri": "https://localhost:8080/"
    },
    "executionInfo": {
     "elapsed": 20,
     "status": "ok",
     "timestamp": 1674484617092,
     "user": {
      "displayName": "Алексей Николаевич Черняков",
      "userId": "03502009944256768352"
     },
     "user_tz": -180
    },
    "id": "IS23Q7ctxo5B",
    "outputId": "117ccfbe-5bff-4643-fbe4-c13469a5c263"
   },
   "outputs": [
    {
     "name": "stdout",
     "output_type": "stream",
     "text": [
      "None\n"
     ]
    }
   ],
   "source": [
    "print(car_porsche.year)"
   ]
  },
  {
   "cell_type": "code",
   "execution_count": 16,
   "metadata": {
    "colab": {
     "base_uri": "https://localhost:8080/"
    },
    "executionInfo": {
     "elapsed": 350,
     "status": "ok",
     "timestamp": 1674484634554,
     "user": {
      "displayName": "Алексей Николаевич Черняков",
      "userId": "03502009944256768352"
     },
     "user_tz": -180
    },
    "id": "i_Os6iGvktj6",
    "outputId": "10a0e667-5b1e-4a0e-98fe-70088f1515ea"
   },
   "outputs": [
    {
     "name": "stdout",
     "output_type": "stream",
     "text": [
      "type: <class '__main__.Car'>\n",
      "id: 140583488904304\n"
     ]
    }
   ],
   "source": [
    "car_audi = Car()\n",
    "print(f'type: {type(car_audi)}\\nid: {id(car_audi)}')"
   ]
  },
  {
   "cell_type": "code",
   "execution_count": 17,
   "metadata": {
    "executionInfo": {
     "elapsed": 716,
     "status": "ok",
     "timestamp": 1674484711017,
     "user": {
      "displayName": "Алексей Николаевич Черняков",
      "userId": "03502009944256768352"
     },
     "user_tz": -180
    },
    "id": "r35aBIZ1mDJr"
   },
   "outputs": [],
   "source": [
    "car_porsche.make = 'Porsche'"
   ]
  },
  {
   "cell_type": "code",
   "execution_count": 18,
   "metadata": {
    "colab": {
     "base_uri": "https://localhost:8080/"
    },
    "executionInfo": {
     "elapsed": 289,
     "status": "ok",
     "timestamp": 1674484718210,
     "user": {
      "displayName": "Алексей Николаевич Черняков",
      "userId": "03502009944256768352"
     },
     "user_tz": -180
    },
    "id": "CHqv2poG6zk-",
    "outputId": "271ac9e2-00bc-422e-c1d3-662ef3aa5c42"
   },
   "outputs": [
    {
     "name": "stdout",
     "output_type": "stream",
     "text": [
      "car_audi.make: Марка авто \n",
      "car_porsche.make: Porsche \n",
      "Car.make: Марка авто\n"
     ]
    }
   ],
   "source": [
    "print(f'car_audi.make: {car_audi.make} \\ncar_porsche.make: {car_porsche.make} \\nCar.make: {Car.make}')"
   ]
  },
  {
   "cell_type": "code",
   "execution_count": 19,
   "metadata": {
    "colab": {
     "base_uri": "https://localhost:8080/"
    },
    "executionInfo": {
     "elapsed": 321,
     "status": "ok",
     "timestamp": 1674484800325,
     "user": {
      "displayName": "Алексей Николаевич Черняков",
      "userId": "03502009944256768352"
     },
     "user_tz": -180
    },
    "id": "uluslTaPe9R9",
    "outputId": "40762f92-aa3d-44e7-c1d8-1fd0341b8cfe"
   },
   "outputs": [
    {
     "data": {
      "text/plain": [
       "{}"
      ]
     },
     "execution_count": 19,
     "metadata": {},
     "output_type": "execute_result"
    }
   ],
   "source": [
    "car_audi.__dict__"
   ]
  },
  {
   "cell_type": "code",
   "execution_count": 20,
   "metadata": {
    "colab": {
     "base_uri": "https://localhost:8080/"
    },
    "executionInfo": {
     "elapsed": 739,
     "status": "ok",
     "timestamp": 1674484814587,
     "user": {
      "displayName": "Алексей Николаевич Черняков",
      "userId": "03502009944256768352"
     },
     "user_tz": -180
    },
    "id": "piVxcLdHwfsz",
    "outputId": "11826c24-46dc-4726-809e-ba4bcd77dcb9"
   },
   "outputs": [
    {
     "data": {
      "text/plain": [
       "{'make': 'Porsche'}"
      ]
     },
     "execution_count": 20,
     "metadata": {},
     "output_type": "execute_result"
    }
   ],
   "source": [
    "car_porsche.__dict__"
   ]
  },
  {
   "cell_type": "markdown",
   "metadata": {
    "id": "Ptx1ikC00_wo"
   },
   "source": [
    "##  **Методы экземпляра класса.**\n",
    "\n"
   ]
  },
  {
   "cell_type": "code",
   "execution_count": 21,
   "metadata": {
    "colab": {
     "base_uri": "https://localhost:8080/"
    },
    "executionInfo": {
     "elapsed": 290,
     "status": "ok",
     "timestamp": 1674484947173,
     "user": {
      "displayName": "Алексей Николаевич Черняков",
      "userId": "03502009944256768352"
     },
     "user_tz": -180
    },
    "id": "BaSw3bJ-xOec",
    "outputId": "c97c2a31-4d76-45eb-9eb3-7c644afd4182"
   },
   "outputs": [
    {
     "data": {
      "text/plain": [
       "<function __main__.Car.get_age()>"
      ]
     },
     "execution_count": 21,
     "metadata": {},
     "output_type": "execute_result"
    }
   ],
   "source": [
    "Car.get_age"
   ]
  },
  {
   "cell_type": "code",
   "execution_count": 22,
   "metadata": {
    "colab": {
     "base_uri": "https://localhost:8080/"
    },
    "executionInfo": {
     "elapsed": 255,
     "status": "ok",
     "timestamp": 1674484970842,
     "user": {
      "displayName": "Алексей Николаевич Черняков",
      "userId": "03502009944256768352"
     },
     "user_tz": -180
    },
    "id": "ctgz2MvC2ceL",
    "outputId": "5e442646-6081-42da-915e-ad4218b38fef"
   },
   "outputs": [
    {
     "name": "stdout",
     "output_type": "stream",
     "text": [
      "Подсчет возраста автомобиля\n"
     ]
    }
   ],
   "source": [
    "Car.get_age()"
   ]
  },
  {
   "cell_type": "code",
   "execution_count": 23,
   "metadata": {
    "colab": {
     "base_uri": "https://localhost:8080/"
    },
    "executionInfo": {
     "elapsed": 357,
     "status": "ok",
     "timestamp": 1674484992521,
     "user": {
      "displayName": "Алексей Николаевич Черняков",
      "userId": "03502009944256768352"
     },
     "user_tz": -180
    },
    "id": "BTtKoHsg2qPc",
    "outputId": "1483d69f-63c9-48b4-d33a-5993198a31ab"
   },
   "outputs": [
    {
     "data": {
      "text/plain": [
       "<bound method Car.get_age of <__main__.Car object at 0x7fdc22c0bc70>>"
      ]
     },
     "execution_count": 23,
     "metadata": {},
     "output_type": "execute_result"
    }
   ],
   "source": [
    "car_porsche.get_age"
   ]
  },
  {
   "cell_type": "code",
   "execution_count": 24,
   "metadata": {
    "colab": {
     "base_uri": "https://localhost:8080/",
     "height": 166
    },
    "executionInfo": {
     "elapsed": 448,
     "status": "error",
     "timestamp": 1674485009469,
     "user": {
      "displayName": "Алексей Николаевич Черняков",
      "userId": "03502009944256768352"
     },
     "user_tz": -180
    },
    "id": "jmVlUcRB283b",
    "outputId": "2e9dfa6f-0519-4e18-9aba-7b7d64767a24"
   },
   "outputs": [
    {
     "ename": "TypeError",
     "evalue": "ignored",
     "output_type": "error",
     "traceback": [
      "\u001b[0;31m---------------------------------------------------------------------------\u001b[0m",
      "\u001b[0;31mTypeError\u001b[0m                                 Traceback (most recent call last)",
      "\u001b[0;32m<ipython-input-24-7fe77fea4c75>\u001b[0m in \u001b[0;36m<module>\u001b[0;34m\u001b[0m\n\u001b[0;32m----> 1\u001b[0;31m \u001b[0mcar_porsche\u001b[0m\u001b[0;34m.\u001b[0m\u001b[0mget_age\u001b[0m\u001b[0;34m(\u001b[0m\u001b[0;34m)\u001b[0m\u001b[0;34m\u001b[0m\u001b[0;34m\u001b[0m\u001b[0m\n\u001b[0m",
      "\u001b[0;31mTypeError\u001b[0m: get_age() takes 0 positional arguments but 1 was given"
     ]
    }
   ],
   "source": [
    "car_porsche.get_age()"
   ]
  },
  {
   "cell_type": "markdown",
   "metadata": {
    "id": "GBy0iwLg4wqQ"
   },
   "source": [
    "`self` - cлужебное слово которое содержит ссылку на текущий экземпляр класса. Как правило, эта ссылка передается в качестве первого параметра метода Python."
   ]
  },
  {
   "cell_type": "code",
   "execution_count": 25,
   "metadata": {
    "executionInfo": {
     "elapsed": 275,
     "status": "ok",
     "timestamp": 1674485134706,
     "user": {
      "displayName": "Алексей Николаевич Черняков",
      "userId": "03502009944256768352"
     },
     "user_tz": -180
    },
    "id": "H_o2yJdy3NHg"
   },
   "outputs": [],
   "source": [
    "class Car2:\n",
    "  make = None\n",
    "  year = None\n",
    "  power = ''\n",
    "\n",
    "  def get_age(self):\n",
    "    print(f'Подсчет возраста автомобиля для объект {self}' )\n",
    "  \n",
    "  def get_tax():\n",
    "    print('Подсчет транспортного налога')"
   ]
  },
  {
   "cell_type": "code",
   "execution_count": 26,
   "metadata": {
    "executionInfo": {
     "elapsed": 350,
     "status": "ok",
     "timestamp": 1674485158988,
     "user": {
      "displayName": "Алексей Николаевич Черняков",
      "userId": "03502009944256768352"
     },
     "user_tz": -180
    },
    "id": "i8jBkNaj6kXn"
   },
   "outputs": [],
   "source": [
    "car_porsche = Car2()"
   ]
  },
  {
   "cell_type": "code",
   "execution_count": 27,
   "metadata": {
    "colab": {
     "base_uri": "https://localhost:8080/"
    },
    "executionInfo": {
     "elapsed": 382,
     "status": "ok",
     "timestamp": 1674485166848,
     "user": {
      "displayName": "Алексей Николаевич Черняков",
      "userId": "03502009944256768352"
     },
     "user_tz": -180
    },
    "id": "tPpX1axY6o0b",
    "outputId": "9fd66ff8-def3-4dc1-b983-fe0132ae167b"
   },
   "outputs": [
    {
     "name": "stdout",
     "output_type": "stream",
     "text": [
      "Подсчет возраста автомобиля для объект <__main__.Car2 object at 0x7fdc22c1c970>\n"
     ]
    }
   ],
   "source": [
    "car_porsche.get_age()"
   ]
  },
  {
   "cell_type": "code",
   "execution_count": 28,
   "metadata": {
    "colab": {
     "base_uri": "https://localhost:8080/"
    },
    "executionInfo": {
     "elapsed": 291,
     "status": "ok",
     "timestamp": 1674485198010,
     "user": {
      "displayName": "Алексей Николаевич Черняков",
      "userId": "03502009944256768352"
     },
     "user_tz": -180
    },
    "id": "U71Kh8eQgr6R",
    "outputId": "b0751e14-6afc-494e-c846-f5be41e4c36d"
   },
   "outputs": [
    {
     "name": "stdout",
     "output_type": "stream",
     "text": [
      "Подсчет возраста автомобиля для объект <__main__.Car2 object at 0x7fdc22c1c5b0>\n"
     ]
    }
   ],
   "source": [
    "car_audi = Car2()\n",
    "car_audi.get_age()"
   ]
  },
  {
   "cell_type": "code",
   "execution_count": null,
   "metadata": {
    "id": "SLXUizuUhNNb"
   },
   "outputs": [],
   "source": []
  }
 ],
 "metadata": {
  "colab": {
   "collapsed_sections": [
    "fMOV5KthN5aE",
    "EyrgEqU_Ppjl",
    "jwYwGFdYRCOj",
    "d_SoP1gDRlEA",
    "nJMjrBlYSLzl",
    "_ifey9Y2STyz",
    "y-jdL7EQSlW_"
   ],
   "provenance": []
  },
  "kernelspec": {
   "display_name": "Python 3 (ipykernel)",
   "language": "python",
   "name": "python3"
  },
  "language_info": {
   "codemirror_mode": {
    "name": "ipython",
    "version": 3
   },
   "file_extension": ".py",
   "mimetype": "text/x-python",
   "name": "python",
   "nbconvert_exporter": "python",
   "pygments_lexer": "ipython3",
   "version": "3.10.9"
  }
 },
 "nbformat": 4,
 "nbformat_minor": 1
}
