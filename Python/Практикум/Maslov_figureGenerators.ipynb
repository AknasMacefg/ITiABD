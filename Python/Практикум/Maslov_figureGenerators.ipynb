{
 "cells": [
  {
   "cell_type": "code",
   "execution_count": 178,
   "id": "e5c1c378",
   "metadata": {},
   "outputs": [
    {
     "data": {
      "image/png": "[encoded data removed]",
      "text/plain": [
       "<Figure size 640x480 with 1 Axes>"
      ]
     },
     "metadata": {},
     "output_type": "display_data"
    }
   ],
   "source": [
    "import matplotlib.pyplot as plt\n",
    "from matplotlib.patches import Polygon\n",
    "import matplotlib.transforms as transforms\n",
    "import matplotlib\n",
    "import numpy as np\n",
    "\n",
    "def figure_generators(funcname, length, coord, counts):\n",
    "    polygons = []\n",
    "    for i in range(abs(counts)):\n",
    "        coord = (coord[0] + (length + 0.5) * (counts / abs(counts)), coord[1])\n",
    "        polygons.append(funcname(length, coord))\n",
    "    return polygons\n",
    "    \n",
    "\n",
    "def tr_translate(polygon, dx, dy):\n",
    "    translated_vertices = transforms.Affine2D().translate(dx, dy).transform(polygon.get_xy())\n",
    "    return Polygon(translated_vertices, edgecolor=polygon.get_edgecolor(), facecolor = polygon.get_facecolor())\n",
    "\n",
    "def tr_rotate(polygon, angle):\n",
    "    rotated_vertices = transforms.Affine2D().rotate_deg(angle).transform(polygon.get_xy())\n",
    "    return Polygon(rotated_vertices, edgecolor=polygon.get_edgecolor(), facecolor = polygon.get_facecolor())\n",
    "\n",
    "def tr_symmetry(polygon, axis):\n",
    "    if axis == 'x':\n",
    "        symmetry = transforms.Affine2D().scale(1, -1)\n",
    "    elif axis == 'y':\n",
    "        symmetry = transforms.Affine2D().scale(-1, 1)\n",
    "    else:\n",
    "        raise ValueError(\"Некорректная ось симметрии. Используйте 'x' или 'y'.\")\n",
    "    symmetrical_vertices = symmetry.transform(polygon.get_xy())\n",
    "    return Polygon(symmetrical_vertices, edgecolor=polygon.get_edgecolor(), facecolor = polygon.get_facecolor())\n",
    "    \n",
    "def tr_homothety(polygon, scale):\n",
    "    scaled_vertices = transforms.Affine2D().scale(scale, scale).transform(polygon.get_xy())\n",
    "    return Polygon(scaled_vertices, edgecolor=polygon.get_edgecolor(), facecolor = polygon.get_facecolor())\n",
    "\n",
    "def gen_rectangle(length, coord):\n",
    "    coord_arr = np.array([coord, (coord[0]  + length, coord[1]), (coord[0] + length, coord[1] + length), (coord[0], coord[1] + length)])\n",
    "    square = pat.Polygon(coord_arr, edgecolor = \"black\", facecolor = 'none')\n",
    "    return square\n",
    "    \n",
    "def gen_triangle(length, coord):\n",
    "    coord_arr = np.array([coord, (coord[0] + length, coord[1]), ((coord[0] + length / 2), coord[1] + length)])\n",
    "    triangle = pat.Polygon(coord_arr, edgecolor = \"black\", facecolor = 'none')\n",
    "    return triangle\n",
    "    \n",
    "def gen_hexagon(length, coord):\n",
    "    coord_arr = np.array([coord, (coord[0] + length / 2, coord[1]), (coord[0] + length, coord[1] + length / 2), (coord[0] + length / 2, coord[1] + length), (coord[0], coord[1] + length), (coord[0] - length / 2, coord[1] + length / 2)])\n",
    "    hexagon = pat.Polygon(coord_arr, edgecolor = \"black\", facecolor = 'none')\n",
    "    return hexagon\n",
    "    \n",
    "\n",
    "figures = figure_generators(gen_triangle, 2, (-10, 0), 7)\n",
    "\n",
    "fig, ax = plt.subplots()\n",
    "plt.xlim(-10, 10)\n",
    "plt.ylim(-10, 10)\n",
    "ax.axhline(y = 0, color = 'grey')\n",
    "ax.axvline(x = 0, color = 'grey')\n",
    "\n",
    "\n",
    "figures = list(map(lambda p: tr_translate(p, 0, 0), figures))\n",
    "figures = list(map(lambda p: tr_rotate(p, 0), figures))\n",
    "figures = list(map(lambda p: tr_homothety(p, 1), figures))\n",
    "\n",
    "for figure in figures:\n",
    "    ax.add_patch(figure)\n",
    "\n",
    "figures = list(map(lambda p: tr_translate(p, 0, -5), figures))\n",
    "figures = list(map(lambda p: tr_rotate(p, 180), figures))\n",
    "figures = list(map(lambda p: tr_symmetry(p, 'y'), figures))\n",
    "figures = list(map(lambda p: tr_homothety(p, 1), figures))\n",
    "\n",
    "\n",
    "for figure in figures:\n",
    "    ax.add_patch(figure)\n",
    "\n",
    "plt.show()\n",
    "\n",
    "\n",
    "##figures = list(map(lambda p: tr_translate(p, 0, -1), figures))\n",
    "##figures = list(map(lambda p: tr_rotate(p, 90), figures))\n",
    "##figures = list(map(lambda p: tr_symmetry(p, 'x'), figures))\n",
    "##figures = list(map(lambda p: tr_homothety(p, 1), figures))"
   ]
  },
  {
   "cell_type": "code",
   "execution_count": null,
   "id": "c68c31d6",
   "metadata": {},
   "outputs": [],
   "source": []
  },
  {
   "cell_type": "code",
   "execution_count": null,
   "id": "a8c81f03-f6a7-46b5-a80d-18ba08e42579",
   "metadata": {},
   "outputs": [],
   "source": []
  }
 ],
 "metadata": {
  "kernelspec": {
   "display_name": "Python 3 (ipykernel)",
   "language": "python",
   "name": "python3"
  },
  "language_info": {
   "codemirror_mode": {
    "name": "ipython",
    "version": 3
   },
   "file_extension": ".py",
   "mimetype": "text/x-python",
   "name": "python",
   "nbconvert_exporter": "python",
   "pygments_lexer": "ipython3",
   "version": "3.12.2"
  }
 },
 "nbformat": 4,
 "nbformat_minor": 5
}
