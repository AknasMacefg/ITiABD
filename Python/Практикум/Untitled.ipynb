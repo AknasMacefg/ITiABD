{
 "cells": [
  {
   "cell_type": "code",
   "execution_count": null,
   "id": "9ac26187-8b7f-48f5-8efa-5c7dd424b7e2",
   "metadata": {},
   "outputs": [],
   "source": [
    "class ChessField():\n",
    "    gameMap = [8][8]\n",
    "    \n",
    "    sides = [\"Black\", \"White\"]\n",
    "    charclasses = [\"Pawn\", \"Knight\", \"Rock\", \"Bishop\", \"Queen\", \"King\"]\n",
    "    \n",
    "    def MovingFigure(choiceStart, choiceEnd):\n",
    "       gameMap[choiceEnd[0]][choiceEnd[1]] = gameMap[choiceStart[0]][choiceStart[1]] \n",
    "\n",
    "class Player():\n",
    "    currfigures = {}\n",
    "    side = \"\"\n",
    "    def CurrentTurn():\n",
    "        print(\"Ход белых/черных: \")\n",
    "        choiceStart = input(\"Выберите фигуру: \")\n",
    "        choiceEnd = input(\"Выберите куда поставить: \")        \n",
    "\n",
    "class Figure():\n",
    "    figureClass = ''\n",
    "    figureSide = ''\n",
    "    figureMask = ''\n",
    "\n"
   ]
  }
 ],
 "metadata": {
  "kernelspec": {
   "display_name": "Python 3 (ipykernel)",
   "language": "python",
   "name": "python3"
  },
  "language_info": {
   "codemirror_mode": {
    "name": "ipython",
    "version": 3
   },
   "file_extension": ".py",
   "mimetype": "text/x-python",
   "name": "python",
   "nbconvert_exporter": "python",
   "pygments_lexer": "ipython3",
   "version": "3.12.2"
  }
 },
 "nbformat": 4,
 "nbformat_minor": 5
}
