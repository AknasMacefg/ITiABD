{
 "cells": [
  {
   "cell_type": "markdown",
   "metadata": {},
   "source": [
    "1) При помощи стека (можно использовать любую реализацию стека, например, из лекции) проверить, что в строке, содержащей большой фрагмент кода на python, корректно открываются и закрываются скобки '(' и ')'. Заводить какие-либо счетчики и вообще вести подсчет скобок запрещено.\n",
    "\n",
    "Например, в следующей строке корректное количество скобок:\n",
    "\n",
    "'((dsasdas((das(d)das)d)asd)da)'\n",
    "\n",
    "А вот в следующей закрывающих больше, чем открывающих:\n",
    "\n",
    "'(f(gfhd((hgfdg((fghh)dads)das))ds)adddads())))'"
   ]
  },
  {
   "cell_type": "code",
   "execution_count": 2,
   "metadata": {},
   "outputs": [
    {
     "name": "stdout",
     "output_type": "stream",
     "text": [
      "Некорректное количество скобок\n"
     ]
    }
   ],
   "source": [
    "example = '(f(gfhd((hgfdg((fghh)dads)das))ds)adddads())))'\n",
    "temp_list = []\n",
    "for i in example[::-1]:\n",
    "    if i == ')':\n",
    "        temp_list.append(i)\n",
    "    elif i == '(':\n",
    "        if temp_list != []:\n",
    "            temp_list.pop()\n",
    "        else:\n",
    "            temp_list.append('1')\n",
    "            break\n",
    "        \n",
    "if temp_list == []:\n",
    "    print(\"Корректное количество скобок\")\n",
    "else:\n",
    "    print(\"Некорректное количество скобок\")"
   ]
  },
  {
   "cell_type": "markdown",
   "metadata": {},
   "source": [
    "2) С помощью списка (list) реализовать стек. При создании стека нужно передать максимальную длину стека. В случае попытки добавления элемента, приводящего к превышению емкости стека возвращать ошибку.\n",
    "\n",
    "Стек должен поддерживать следующие операции:\n",
    "\n",
    "S.push(e): добавление элемента e на вершину стека S.\n",
    "\n",
    "S.pop(): удаляет и возвращает верхний элемент стека S. Если стек пуст, то возникает ошибка.\n",
    "\n",
    "S.top(): возвращает верхний элемент стека S, не удаляя его. Если стек пуст, то возникает ошибка.\n",
    "\n",
    "S.is_empty( ): возвращает True если стек S не содержит ни одного элемента.\n",
    "\n",
    "len(S): возвращает текущеее количество элементов в стеке S."
   ]
  },
  {
   "cell_type": "code",
   "execution_count": 15,
   "metadata": {},
   "outputs": [
    {
     "name": "stdout",
     "output_type": "stream",
     "text": [
      "None\n",
      "[1]\n",
      "1\n",
      "True\n",
      "0\n"
     ]
    }
   ],
   "source": [
    "class Stack:\n",
    "    def __init__(self):\n",
    "        self.list = []\n",
    "         \n",
    "    def push(self, item):\n",
    "        self.list.append(item)\n",
    "        \n",
    "    def pop(self):\n",
    "        try:\n",
    "            return self.list.pop()\n",
    "        except:\n",
    "            return \"Стек пуст!\"\n",
    "        \n",
    "    def top(self):\n",
    "        try:\n",
    "            return self.list[-1:]\n",
    "        except:\n",
    "            return \"Стек пуст!\"\n",
    "\n",
    "    def is_empty(self):\n",
    "        return self.list == []\n",
    "\n",
    "    def len(self):\n",
    "        return len(self.list)\n",
    "\n",
    "S = Stack()\n",
    "print(S.push(1))\n",
    "print(S.top())\n",
    "print(S.pop())\n",
    "print(S.is_empty())\n",
    "print(S.len())"
   ]
  },
  {
   "cell_type": "markdown",
   "metadata": {},
   "source": [
    "3) Реализовать класс однонаправленного связанного списка."
   ]
  },
  {
   "cell_type": "code",
   "execution_count": 19,
   "metadata": {},
   "outputs": [
    {
     "name": "stdout",
     "output_type": "stream",
     "text": [
      "LinkedList [\n",
      "3\n",
      "2\n",
      "1\n",
      "]\n"
     ]
    }
   ],
   "source": [
    "class Node:\n",
    "    def __init__(self, value = None, next = None):\n",
    "        self.value = value\n",
    "        self.next = next\n",
    "        \n",
    "class LinkedList:\n",
    "    def __init__(self):\n",
    "        self.first = None\n",
    "        self.last = None\n",
    "        self.length = 0\n",
    "\n",
    "    def __str__(self):\n",
    "        if self.first != None:\n",
    "            current = self.first\n",
    "            out = 'LinkedList [\\n' +str(current.value) +'\\n'\n",
    "            while current.next != None:\n",
    "                current = current.next\n",
    "                out += str(current.value) + '\\n'\n",
    "            return out + ']'\n",
    "        return 'LinkedList []'\n",
    "\n",
    "    def clear(self):\n",
    "        self.__init__()\n",
    "        \n",
    "    def push(self, x):\n",
    "            self.length+=1\n",
    "            if self.first == None:\n",
    "                self.last = self.first = Node(x,None)\n",
    "            else:\n",
    "                self.first = Node(x,self.first)\n",
    "\n",
    "\n",
    "L = LinkedList()\n",
    "L.push(1)\n",
    "L.push(2)\n",
    "L.push(3)\n",
    "print(L)"
   ]
  },
  {
   "cell_type": "markdown",
   "metadata": {},
   "source": [
    "3.1) Реализовать метод добавления элемента в начало списка."
   ]
  },
  {
   "cell_type": "markdown",
   "metadata": {},
   "source": [
    "4) На базе класса однонаправленного связанного списка реализовать двунаправленный связанный список."
   ]
  },
  {
   "cell_type": "markdown",
   "metadata": {},
   "source": [
    "4.1) Реализовать метод добавления элемента в начало списка."
   ]
  },
  {
   "cell_type": "markdown",
   "metadata": {},
   "source": [
    "5) При помощи класса связанного списка реализовать очередь."
   ]
  },
  {
   "cell_type": "code",
   "execution_count": null,
   "metadata": {},
   "outputs": [],
   "source": []
  },
  {
   "cell_type": "code",
   "execution_count": null,
   "metadata": {},
   "outputs": [],
   "source": []
  },
  {
   "cell_type": "markdown",
   "metadata": {},
   "source": [
    "6) Реализовать генератор, который возвращает значение поочередно извлекаемое из конца двух очередей (в качестве очереди используется deque из collections). Если очередь из которой извлекается элемент пуста - генератор заканчивает работу."
   ]
  }
 ],
 "metadata": {
  "anaconda-cloud": {},
  "kernelspec": {
   "display_name": "Python 3 (ipykernel)",
   "language": "python",
   "name": "python3"
  },
  "language_info": {
   "codemirror_mode": {
    "name": "ipython",
    "version": 3
   },
   "file_extension": ".py",
   "mimetype": "text/x-python",
   "name": "python",
   "nbconvert_exporter": "python",
   "pygments_lexer": "ipython3",
   "version": "3.12.2"
  }
 },
 "nbformat": 4,
 "nbformat_minor": 4
}
