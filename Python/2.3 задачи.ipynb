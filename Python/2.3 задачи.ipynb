{
 "cells": [
  {
   "cell_type": "markdown",
   "id": "a55a825e",
   "metadata": {},
   "source": [
    "#Тема 2.3. Наследование. Инкапсуляция. Уровни доступа атрибутов и методов\n",
    "\n",
    "''' Задача 1. Создать класс Calculator для операций сложения и вычитания двух чисел.\n",
    "Реализовать данный класс двумя способами: с использованием конструктора и без использования.\n",
    "При создании класса следовать принципу инкапсуляции.Создать переменную Operation, которая\n",
    "показывает  операцию, выполненную над числами. Изначатьно Operation=\"None\"'''\n",
    "#Пример инкапсуляции\n"
   ]
  },
  {
   "cell_type": "code",
   "execution_count": null,
   "id": "1cb7d594",
   "metadata": {},
   "outputs": [],
   "source": []
  },
  {
   "cell_type": "markdown",
   "id": "970d11cb",
   "metadata": {},
   "source": [
    "'''Задача 2. Создать родительский класс Сотрудник магазина, который содержит метод вывода информации\n",
    "о сотруднике (имя, зарплата, стаж). Создать дочерний класс Кассир и дочерний класс Мерчендайзер,\n",
    "которые также имеют возможность вывода информации (имя, зарплата, стаж)'''\n"
   ]
  },
  {
   "cell_type": "code",
   "execution_count": 17,
   "id": "b019165a",
   "metadata": {},
   "outputs": [
    {
     "name": "stdout",
     "output_type": "stream",
     "text": [
      "Алена 20000 3\n",
      "Иван 40000 2\n"
     ]
    }
   ],
   "source": [
    "class Sotrudnik:\n",
    "    def __init__(self, name, money, expi):\n",
    "        self.name = name\n",
    "        self.money = money\n",
    "        self.expi = expi\n",
    "    \n",
    "    def Vivod(self):\n",
    "        print (self.name, self.money, self.expi)\n",
    "\n",
    "class Casher(Sotrudnik):\n",
    "    def __init__(self,name, money, expi):\n",
    "        super().__init__(name, money, expi)\n",
    "\n",
    "class Merchen(Sotrudnik):\n",
    "    def __init__(self,name, money, expi):\n",
    "        super().__init__(name, money, expi)\n",
    "        \n",
    "NewCasher = Casher(\"Алена\", 20000, 3)     \n",
    "NewMerchen = Merchen(\"Иван\",40000, 2)\n",
    "NewCasher.Vivod()\n",
    "NewMerchen.Vivod()\n"
   ]
  },
  {
   "cell_type": "markdown",
   "id": "ea1d0f1f",
   "metadata": {},
   "source": [
    "\n",
    "'''Задача 3. Создать родительский класс Сотрудник магазина, который содержит метод вывода информации\n",
    "о сотруднике (имя, зарплата, стаж). Создать дочерний класс Кассир, который кроме атрибутов имя, зарплата и\n",
    "стаж, имеет еще два атрибута возраст и количество выговоров.'''\n"
   ]
  },
  {
   "cell_type": "code",
   "execution_count": 13,
   "id": "9c1e6e0a",
   "metadata": {},
   "outputs": [
    {
     "name": "stdout",
     "output_type": "stream",
     "text": [
      "Алена 20000 3 30 0\n"
     ]
    }
   ],
   "source": [
    "class Sotrudnik:\n",
    "    def __init__(self, name, money, expi):\n",
    "        self.name = name\n",
    "        self.money = money\n",
    "        self.expi = expi\n",
    "        \n",
    "\n",
    "class Casher(Sotrudnik):\n",
    "    def __init__(self, name, money, expi, age, countAngr):\n",
    "        super().__init__(name, money, expi)\n",
    "        self.age = age\n",
    "        self.countAngr = countAngr\n",
    "\n",
    "\n",
    "NewCasher = Casher(\"Алена\", 20000, 3, 30, 0)\n",
    "print(NewCasher.name, NewCasher.money, NewCasher.expi, NewCasher.age, NewCasher.countAngr)"
   ]
  },
  {
   "cell_type": "markdown",
   "id": "5ad37604",
   "metadata": {},
   "source": [
    "'''Задача 4. Создать родительский класс Animals и дочерние классы Cat, Dog и Horse, которые\n",
    "содержат методы, определяющие звуки, которые издают животные этих классов.'''"
   ]
  },
  {
   "cell_type": "code",
   "execution_count": null,
   "id": "b705f14b",
   "metadata": {},
   "outputs": [],
   "source": [
    "class Animals:\n",
    "    class Cat:\n",
    "        print(\"meow\")\n",
    "    class Dog:\n",
    "        def __init__(self):\n",
    "            print(\"auf\")\n",
    "    class "
   ]
  },
  {
   "cell_type": "markdown",
   "id": "8f6d5f27",
   "metadata": {},
   "source": [
    "'''Задача 5. Создать родительский класс \"Прямоугольник\", который содержит методы вычисления\n",
    "площади и периметра прямоугольника. Реализовать дочерний класс \"Квадрат\"\n",
    "с методами вычисления площади и периметра квадрата.'''"
   ]
  },
  {
   "cell_type": "code",
   "execution_count": null,
   "id": "5e41f214",
   "metadata": {},
   "outputs": [],
   "source": []
  },
  {
   "cell_type": "markdown",
   "id": "3431430e",
   "metadata": {},
   "source": [
    "'''Задача 6. Магазин компьютерной техники покупает по оптовым ценам\n",
    "компьютерные комплектующие. Техническая служба магазина собирает под заказ\n",
    "из них компьютеры. Общая цена компьютера складывается из цены\n",
    "комплектующих, наценки и стоимости работ. Наценка составляет 20% на\n",
    "комплектующие дешевле и 15% дороже 2000 руб. Если суммарная цена набора\n",
    "составляет более 50000 руб. то стоимость сборки не включается в общую\n",
    "цену товара. В противном случае стоимость сборки составляет 5% от\n",
    "общей цены набора. Создать следующий класс:\n",
    "поля: номер заказа, список комплектующих компьютера с указанием их названия\n",
    "и оптовой цены;\n",
    "методы: расчет цены компьютера,вывод результатов на экран.'''\n"
   ]
  },
  {
   "cell_type": "code",
   "execution_count": null,
   "id": "3851741c",
   "metadata": {},
   "outputs": [],
   "source": []
  },
  {
   "cell_type": "markdown",
   "id": "9187e9b1",
   "metadata": {},
   "source": [
    "'''Задача 7. Создать класс Лифт, объекты которого содержат атрибут\n",
    "текущей грузоподъемности. Разработать метод, который сравнивает текущую\n",
    "грузоподъемность лифта с макисмальной грузоподъемностью лифта и дает рекомендации\n",
    "по переполнению или недобору грузоподъемности. Организовать правильный доступ\n",
    "к атрибутам класса.'''"
   ]
  },
  {
   "cell_type": "code",
   "execution_count": null,
   "id": "c617a8ac",
   "metadata": {},
   "outputs": [],
   "source": []
  },
  {
   "cell_type": "markdown",
   "id": "bbf30488",
   "metadata": {},
   "source": [
    "'''Задача 8. Создать класс Квадрат, который будет рисовать закрашенный квадрат,\n",
    "зная координаты точек левого верхнего угла квадрата и  длину его стороны.\n",
    "Координаты точки левого верхнего угла и длину стороны квадрата сделать приватными.'''"
   ]
  },
  {
   "cell_type": "code",
   "execution_count": 54,
   "id": "cb954699",
   "metadata": {},
   "outputs": [],
   "source": [
    "from PIL import Image, ImageDraw\n",
    "class Square:\n",
    "    def __init__(self, coord, sidelen):\n",
    "        self.__coord = coord\n",
    "        self.__sidelen = sidelen\n",
    "        \n",
    "    def DrawSquare(self):\n",
    "        \n",
    "        \n",
    "                \n",
    "        \n",
    "NewSquare = Square([50,40], 30)\n",
    "NewSquare.DrawSquare()"
   ]
  },
  {
   "cell_type": "code",
   "execution_count": null,
   "id": "e4d4a038",
   "metadata": {},
   "outputs": [],
   "source": []
  },
  {
   "cell_type": "code",
   "execution_count": null,
   "id": "5aef9220",
   "metadata": {},
   "outputs": [],
   "source": []
  }
 ],
 "metadata": {
  "kernelspec": {
   "display_name": "Python 3 (ipykernel)",
   "language": "python",
   "name": "python3"
  },
  "language_info": {
   "codemirror_mode": {
    "name": "ipython",
    "version": 3
   },
   "file_extension": ".py",
   "mimetype": "text/x-python",
   "name": "python",
   "nbconvert_exporter": "python",
   "pygments_lexer": "ipython3",
   "version": "3.10.9"
  }
 },
 "nbformat": 4,
 "nbformat_minor": 5
}
