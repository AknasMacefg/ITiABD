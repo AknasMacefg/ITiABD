{
 "cells": [
  {
   "cell_type": "markdown",
   "metadata": {},
   "source": [
    "## Семинар 11\n",
    "# Тема:  Работа с выбросами"
   ]
  },
  {
   "cell_type": "markdown",
   "metadata": {},
   "source": [
    "Выбросы – это точки данных в признаке, которые отклоняются от нормы значений этого признака.\n",
    "\n",
    "Нет однозначного способа понять, что перед нами выброс. Разные способы обнаружения выбросов возвращают разные точки в качестве выбросов, и эти точки пересекаются лишь частично.\n",
    "\n",
    "\n",
    "**Способы обнаружения выбросов:**\n",
    "\n",
    "1. Поиск по порогу. \n",
    "\n",
    "Этот способ представляет собой погружение в предметную область и понимание того, какие значения признаки могут принимать, а какие - не могут.\n",
    "\n",
    "2. Обнаружение и обработка выбросов, используя метод **IQR** (interquartile range, межквартильное расстояние).\n",
    "\n",
    "Строим `boxplot` и все значения вне \"усов\" считаем выбросами. Левая линия ящика обозначает первый квартиль (25-й перцентиль q25), а правая линия ящика обозначает третий квартиль (75-й перцентиль q75). Границы \"усов\" определяются так: \n",
    "\n",
    "нижняя граница - это минимальное значение признака между q25 - (1.5*iqr) и q75 + (1.5*iqr),\n",
    "\n",
    "верхняя граница  - это максимальное значение признака между q25 - (1.5*iqr) и q75 + (1.5*iqr), \n",
    "\n",
    "где  iqr = q75-q25\n",
    "\n",
    "Метод межквартильного расстояния выделяет как выбросы все значения, находящиеся за пределами \"усов\".\n",
    "   \n",
    "3.  Поиск по отклонению (z-score)\n",
    "  \n",
    "Поиск по отклонению основан на поиске значения, на которое отклоняется данная точка от среднего. Делается это с помощью z-score, то есть, расстояния (измеряемого в количестве стандартных отклонений) от среднего значения точек.  \n",
    "\n",
    "4. Поиск выбросов с помощью методов машинного обучения\n",
    "\n",
    "Например, изолирующий лес (Isolation Forest) \n",
    "\n",
    "**Способы борьбы с выбросами:**\n",
    "\n",
    "- Выкинуть эти данные (только на трейне, на тесте ничего не выкидываем).\n",
    "- Заменять выбросы разными методами (использовать знания по предметной области, медианы, средние значения, np.clip и т.д.) \n",
    "- Делать/не делать дополнительную фичу. \n",
    "- Ничего не делать"
   ]
  },
  {
   "cell_type": "markdown",
   "metadata": {},
   "source": [
    "Импортируем необходимые библиотеки:"
   ]
  },
  {
   "cell_type": "code",
   "execution_count": 35,
   "metadata": {},
   "outputs": [],
   "source": [
    "import numpy as np\n",
    "import pandas as pd\n",
    "import matplotlib.pyplot as plt\n",
    "import random\n",
    "import seaborn as sns\n",
    "from sklearn.ensemble import IsolationForest"
   ]
  },
  {
   "cell_type": "markdown",
   "metadata": {},
   "source": [
    "### 1. Загрузите датасет apartament.csv и выведите первые 5 строк. "
   ]
  },
  {
   "cell_type": "code",
   "execution_count": 21,
   "metadata": {},
   "outputs": [
    {
     "data": {
      "text/html": [
       "<div>\n",
       "<style scoped>\n",
       "    .dataframe tbody tr th:only-of-type {\n",
       "        vertical-align: middle;\n",
       "    }\n",
       "\n",
       "    .dataframe tbody tr th {\n",
       "        vertical-align: top;\n",
       "    }\n",
       "\n",
       "    .dataframe thead th {\n",
       "        text-align: right;\n",
       "    }\n",
       "</style>\n",
       "<table border=\"1\" class=\"dataframe\">\n",
       "  <thead>\n",
       "    <tr style=\"text-align: right;\">\n",
       "      <th></th>\n",
       "      <th>Id</th>\n",
       "      <th>DistrictId</th>\n",
       "      <th>Rooms</th>\n",
       "      <th>Square</th>\n",
       "      <th>LifeSquare</th>\n",
       "      <th>KitchenSquare</th>\n",
       "      <th>Floor</th>\n",
       "      <th>HouseFloor</th>\n",
       "      <th>HouseYear</th>\n",
       "      <th>Ecology_1</th>\n",
       "      <th>Ecology_2</th>\n",
       "      <th>Ecology_3</th>\n",
       "      <th>Social_1</th>\n",
       "      <th>Social_2</th>\n",
       "      <th>Social_3</th>\n",
       "      <th>Healthcare_1</th>\n",
       "      <th>Helthcare_2</th>\n",
       "      <th>Shops_1</th>\n",
       "      <th>Shops_2</th>\n",
       "      <th>Price</th>\n",
       "    </tr>\n",
       "  </thead>\n",
       "  <tbody>\n",
       "    <tr>\n",
       "      <th>0</th>\n",
       "      <td>11809</td>\n",
       "      <td>27</td>\n",
       "      <td>3.0</td>\n",
       "      <td>115.027311</td>\n",
       "      <td>NaN</td>\n",
       "      <td>10.0</td>\n",
       "      <td>4</td>\n",
       "      <td>10.0</td>\n",
       "      <td>2014</td>\n",
       "      <td>0.075424</td>\n",
       "      <td>B</td>\n",
       "      <td>B</td>\n",
       "      <td>11</td>\n",
       "      <td>3097</td>\n",
       "      <td>0</td>\n",
       "      <td>NaN</td>\n",
       "      <td>0</td>\n",
       "      <td>0</td>\n",
       "      <td>B</td>\n",
       "      <td>305018.871089</td>\n",
       "    </tr>\n",
       "    <tr>\n",
       "      <th>1</th>\n",
       "      <td>3013</td>\n",
       "      <td>22</td>\n",
       "      <td>1.0</td>\n",
       "      <td>39.832524</td>\n",
       "      <td>23.169223</td>\n",
       "      <td>8.0</td>\n",
       "      <td>7</td>\n",
       "      <td>8.0</td>\n",
       "      <td>1966</td>\n",
       "      <td>0.118537</td>\n",
       "      <td>B</td>\n",
       "      <td>B</td>\n",
       "      <td>30</td>\n",
       "      <td>6207</td>\n",
       "      <td>1</td>\n",
       "      <td>1183.0</td>\n",
       "      <td>1</td>\n",
       "      <td>0</td>\n",
       "      <td>B</td>\n",
       "      <td>177734.553407</td>\n",
       "    </tr>\n",
       "    <tr>\n",
       "      <th>2</th>\n",
       "      <td>8215</td>\n",
       "      <td>1</td>\n",
       "      <td>3.0</td>\n",
       "      <td>78.342215</td>\n",
       "      <td>47.671972</td>\n",
       "      <td>10.0</td>\n",
       "      <td>2</td>\n",
       "      <td>17.0</td>\n",
       "      <td>1988</td>\n",
       "      <td>0.025609</td>\n",
       "      <td>B</td>\n",
       "      <td>B</td>\n",
       "      <td>33</td>\n",
       "      <td>5261</td>\n",
       "      <td>0</td>\n",
       "      <td>240.0</td>\n",
       "      <td>3</td>\n",
       "      <td>1</td>\n",
       "      <td>B</td>\n",
       "      <td>282078.720850</td>\n",
       "    </tr>\n",
       "    <tr>\n",
       "      <th>3</th>\n",
       "      <td>2352</td>\n",
       "      <td>1</td>\n",
       "      <td>1.0</td>\n",
       "      <td>40.409907</td>\n",
       "      <td>NaN</td>\n",
       "      <td>1.0</td>\n",
       "      <td>10</td>\n",
       "      <td>22.0</td>\n",
       "      <td>1977</td>\n",
       "      <td>0.007122</td>\n",
       "      <td>B</td>\n",
       "      <td>B</td>\n",
       "      <td>1</td>\n",
       "      <td>264</td>\n",
       "      <td>0</td>\n",
       "      <td>NaN</td>\n",
       "      <td>0</td>\n",
       "      <td>1</td>\n",
       "      <td>B</td>\n",
       "      <td>168106.007630</td>\n",
       "    </tr>\n",
       "    <tr>\n",
       "      <th>4</th>\n",
       "      <td>13866</td>\n",
       "      <td>94</td>\n",
       "      <td>2.0</td>\n",
       "      <td>64.285067</td>\n",
       "      <td>38.562517</td>\n",
       "      <td>9.0</td>\n",
       "      <td>16</td>\n",
       "      <td>16.0</td>\n",
       "      <td>1972</td>\n",
       "      <td>0.282798</td>\n",
       "      <td>B</td>\n",
       "      <td>B</td>\n",
       "      <td>33</td>\n",
       "      <td>8667</td>\n",
       "      <td>2</td>\n",
       "      <td>NaN</td>\n",
       "      <td>0</td>\n",
       "      <td>6</td>\n",
       "      <td>B</td>\n",
       "      <td>343995.102962</td>\n",
       "    </tr>\n",
       "  </tbody>\n",
       "</table>\n",
       "</div>"
      ],
      "text/plain": [
       "      Id  DistrictId  Rooms      Square  LifeSquare  KitchenSquare  Floor  \\\n",
       "0  11809          27    3.0  115.027311         NaN           10.0      4   \n",
       "1   3013          22    1.0   39.832524   23.169223            8.0      7   \n",
       "2   8215           1    3.0   78.342215   47.671972           10.0      2   \n",
       "3   2352           1    1.0   40.409907         NaN            1.0     10   \n",
       "4  13866          94    2.0   64.285067   38.562517            9.0     16   \n",
       "\n",
       "   HouseFloor  HouseYear  Ecology_1 Ecology_2 Ecology_3  Social_1  Social_2  \\\n",
       "0        10.0       2014   0.075424         B         B        11      3097   \n",
       "1         8.0       1966   0.118537         B         B        30      6207   \n",
       "2        17.0       1988   0.025609         B         B        33      5261   \n",
       "3        22.0       1977   0.007122         B         B         1       264   \n",
       "4        16.0       1972   0.282798         B         B        33      8667   \n",
       "\n",
       "   Social_3  Healthcare_1  Helthcare_2  Shops_1 Shops_2          Price  \n",
       "0         0           NaN            0        0       B  305018.871089  \n",
       "1         1        1183.0            1        0       B  177734.553407  \n",
       "2         0         240.0            3        1       B  282078.720850  \n",
       "3         0           NaN            0        1       B  168106.007630  \n",
       "4         2           NaN            0        6       B  343995.102962  "
      ]
     },
     "execution_count": 21,
     "metadata": {},
     "output_type": "execute_result"
    }
   ],
   "source": [
    "data = pd.read_csv('apartment.csv')\n",
    "data.head()"
   ]
  },
  {
   "cell_type": "markdown",
   "metadata": {},
   "source": [
    "### 2. Создайте копию загруженного датафрейма и выведите информацию о данных."
   ]
  },
  {
   "cell_type": "code",
   "execution_count": 22,
   "metadata": {},
   "outputs": [
    {
     "name": "stdout",
     "output_type": "stream",
     "text": [
      "<class 'pandas.core.frame.DataFrame'>\n",
      "RangeIndex: 10000 entries, 0 to 9999\n",
      "Data columns (total 20 columns):\n",
      " #   Column         Non-Null Count  Dtype  \n",
      "---  ------         --------------  -----  \n",
      " 0   Id             10000 non-null  int64  \n",
      " 1   DistrictId     10000 non-null  int64  \n",
      " 2   Rooms          10000 non-null  float64\n",
      " 3   Square         10000 non-null  float64\n",
      " 4   LifeSquare     7887 non-null   float64\n",
      " 5   KitchenSquare  10000 non-null  float64\n",
      " 6   Floor          10000 non-null  int64  \n",
      " 7   HouseFloor     10000 non-null  float64\n",
      " 8   HouseYear      10000 non-null  int64  \n",
      " 9   Ecology_1      10000 non-null  float64\n",
      " 10  Ecology_2      10000 non-null  object \n",
      " 11  Ecology_3      10000 non-null  object \n",
      " 12  Social_1       10000 non-null  int64  \n",
      " 13  Social_2       10000 non-null  int64  \n",
      " 14  Social_3       10000 non-null  int64  \n",
      " 15  Healthcare_1   5202 non-null   float64\n",
      " 16  Helthcare_2    10000 non-null  int64  \n",
      " 17  Shops_1        10000 non-null  int64  \n",
      " 18  Shops_2        10000 non-null  object \n",
      " 19  Price          10000 non-null  float64\n",
      "dtypes: float64(8), int64(9), object(3)\n",
      "memory usage: 1.5+ MB\n"
     ]
    }
   ],
   "source": [
    "copy_df = data.copy()\n",
    "copy_df.info()"
   ]
  },
  {
   "cell_type": "markdown",
   "metadata": {},
   "source": [
    "### 3. Осуществите обнаружение выбросов **по порогу** для признака `Rooms`. Для этого используйте следующие знания по предметной области: количество комнат не может быть 0 и больше 6. Выведите индексы тех наблюдений, где количество комнат не удовлетворяет этим условиям. Подсчитайте их количество."
   ]
  },
  {
   "cell_type": "code",
   "execution_count": 23,
   "metadata": {},
   "outputs": [
    {
     "data": {
      "text/plain": [
       "Rooms\n",
       "2.0     3880\n",
       "1.0     3705\n",
       "3.0     2235\n",
       "4.0      150\n",
       "5.0       18\n",
       "0.0        8\n",
       "10.0       2\n",
       "19.0       1\n",
       "6.0        1\n",
       "Name: count, dtype: int64"
      ]
     },
     "execution_count": 23,
     "metadata": {},
     "output_type": "execute_result"
    }
   ],
   "source": [
    "\n",
    "copy_df['Rooms'].value_counts()"
   ]
  },
  {
   "cell_type": "code",
   "execution_count": 24,
   "metadata": {},
   "outputs": [
    {
     "data": {
      "text/plain": [
       "Index([2194, 3780, 5894, 6401, 7644, 7929, 9767, 9869], dtype='int64')"
      ]
     },
     "execution_count": 24,
     "metadata": {},
     "output_type": "execute_result"
    }
   ],
   "source": [
    "rooms_index = copy_df.loc[(copy_df['Rooms']) < 1 | (copy_df['Rooms'] > 6), 'Rooms'].index\n",
    "rooms_index"
   ]
  },
  {
   "cell_type": "code",
   "execution_count": 25,
   "metadata": {},
   "outputs": [
    {
     "data": {
      "text/plain": [
       "np.int64(8)"
      ]
     },
     "execution_count": 25,
     "metadata": {},
     "output_type": "execute_result"
    }
   ],
   "source": [
    "rooms_index.value_counts().sum()"
   ]
  },
  {
   "cell_type": "code",
   "execution_count": 26,
   "metadata": {},
   "outputs": [
    {
     "data": {
      "text/html": [
       "<div>\n",
       "<style scoped>\n",
       "    .dataframe tbody tr th:only-of-type {\n",
       "        vertical-align: middle;\n",
       "    }\n",
       "\n",
       "    .dataframe tbody tr th {\n",
       "        vertical-align: top;\n",
       "    }\n",
       "\n",
       "    .dataframe thead th {\n",
       "        text-align: right;\n",
       "    }\n",
       "</style>\n",
       "<table border=\"1\" class=\"dataframe\">\n",
       "  <thead>\n",
       "    <tr style=\"text-align: right;\">\n",
       "      <th></th>\n",
       "      <th>Id</th>\n",
       "      <th>DistrictId</th>\n",
       "      <th>Rooms</th>\n",
       "      <th>Square</th>\n",
       "      <th>LifeSquare</th>\n",
       "      <th>KitchenSquare</th>\n",
       "      <th>Floor</th>\n",
       "      <th>HouseFloor</th>\n",
       "      <th>HouseYear</th>\n",
       "      <th>Ecology_1</th>\n",
       "      <th>Ecology_2</th>\n",
       "      <th>Ecology_3</th>\n",
       "      <th>Social_1</th>\n",
       "      <th>Social_2</th>\n",
       "      <th>Social_3</th>\n",
       "      <th>Healthcare_1</th>\n",
       "      <th>Helthcare_2</th>\n",
       "      <th>Shops_1</th>\n",
       "      <th>Shops_2</th>\n",
       "      <th>Price</th>\n",
       "    </tr>\n",
       "  </thead>\n",
       "  <tbody>\n",
       "    <tr>\n",
       "      <th>2194</th>\n",
       "      <td>3159</td>\n",
       "      <td>88</td>\n",
       "      <td>0.0</td>\n",
       "      <td>38.697117</td>\n",
       "      <td>19.345131</td>\n",
       "      <td>9.0</td>\n",
       "      <td>9</td>\n",
       "      <td>16.0</td>\n",
       "      <td>1982</td>\n",
       "      <td>0.127376</td>\n",
       "      <td>B</td>\n",
       "      <td>B</td>\n",
       "      <td>43</td>\n",
       "      <td>8429</td>\n",
       "      <td>3</td>\n",
       "      <td>NaN</td>\n",
       "      <td>3</td>\n",
       "      <td>9</td>\n",
       "      <td>B</td>\n",
       "      <td>158998.110646</td>\n",
       "    </tr>\n",
       "    <tr>\n",
       "      <th>3780</th>\n",
       "      <td>7317</td>\n",
       "      <td>27</td>\n",
       "      <td>0.0</td>\n",
       "      <td>41.790881</td>\n",
       "      <td>NaN</td>\n",
       "      <td>0.0</td>\n",
       "      <td>13</td>\n",
       "      <td>0.0</td>\n",
       "      <td>1977</td>\n",
       "      <td>0.211401</td>\n",
       "      <td>B</td>\n",
       "      <td>B</td>\n",
       "      <td>9</td>\n",
       "      <td>1892</td>\n",
       "      <td>0</td>\n",
       "      <td>NaN</td>\n",
       "      <td>0</td>\n",
       "      <td>1</td>\n",
       "      <td>B</td>\n",
       "      <td>98129.976788</td>\n",
       "    </tr>\n",
       "    <tr>\n",
       "      <th>5894</th>\n",
       "      <td>770</td>\n",
       "      <td>28</td>\n",
       "      <td>0.0</td>\n",
       "      <td>49.483501</td>\n",
       "      <td>NaN</td>\n",
       "      <td>0.0</td>\n",
       "      <td>16</td>\n",
       "      <td>0.0</td>\n",
       "      <td>2015</td>\n",
       "      <td>0.118537</td>\n",
       "      <td>B</td>\n",
       "      <td>B</td>\n",
       "      <td>30</td>\n",
       "      <td>6207</td>\n",
       "      <td>1</td>\n",
       "      <td>1183.0</td>\n",
       "      <td>1</td>\n",
       "      <td>0</td>\n",
       "      <td>B</td>\n",
       "      <td>217009.338463</td>\n",
       "    </tr>\n",
       "    <tr>\n",
       "      <th>6401</th>\n",
       "      <td>9443</td>\n",
       "      <td>27</td>\n",
       "      <td>0.0</td>\n",
       "      <td>87.762616</td>\n",
       "      <td>85.125471</td>\n",
       "      <td>0.0</td>\n",
       "      <td>5</td>\n",
       "      <td>15.0</td>\n",
       "      <td>1977</td>\n",
       "      <td>0.211401</td>\n",
       "      <td>B</td>\n",
       "      <td>B</td>\n",
       "      <td>9</td>\n",
       "      <td>1892</td>\n",
       "      <td>0</td>\n",
       "      <td>NaN</td>\n",
       "      <td>0</td>\n",
       "      <td>1</td>\n",
       "      <td>B</td>\n",
       "      <td>219281.918007</td>\n",
       "    </tr>\n",
       "    <tr>\n",
       "      <th>7644</th>\n",
       "      <td>7917</td>\n",
       "      <td>27</td>\n",
       "      <td>0.0</td>\n",
       "      <td>212.932361</td>\n",
       "      <td>211.231125</td>\n",
       "      <td>0.0</td>\n",
       "      <td>2</td>\n",
       "      <td>3.0</td>\n",
       "      <td>2008</td>\n",
       "      <td>0.211401</td>\n",
       "      <td>B</td>\n",
       "      <td>B</td>\n",
       "      <td>9</td>\n",
       "      <td>1892</td>\n",
       "      <td>0</td>\n",
       "      <td>NaN</td>\n",
       "      <td>0</td>\n",
       "      <td>1</td>\n",
       "      <td>B</td>\n",
       "      <td>302211.260887</td>\n",
       "    </tr>\n",
       "    <tr>\n",
       "      <th>7929</th>\n",
       "      <td>456</td>\n",
       "      <td>6</td>\n",
       "      <td>0.0</td>\n",
       "      <td>81.491446</td>\n",
       "      <td>NaN</td>\n",
       "      <td>0.0</td>\n",
       "      <td>4</td>\n",
       "      <td>0.0</td>\n",
       "      <td>1977</td>\n",
       "      <td>0.243205</td>\n",
       "      <td>B</td>\n",
       "      <td>B</td>\n",
       "      <td>5</td>\n",
       "      <td>1564</td>\n",
       "      <td>0</td>\n",
       "      <td>540.0</td>\n",
       "      <td>0</td>\n",
       "      <td>0</td>\n",
       "      <td>B</td>\n",
       "      <td>212864.799112</td>\n",
       "    </tr>\n",
       "    <tr>\n",
       "      <th>9767</th>\n",
       "      <td>12638</td>\n",
       "      <td>27</td>\n",
       "      <td>0.0</td>\n",
       "      <td>138.427694</td>\n",
       "      <td>136.215499</td>\n",
       "      <td>0.0</td>\n",
       "      <td>4</td>\n",
       "      <td>3.0</td>\n",
       "      <td>2016</td>\n",
       "      <td>0.075424</td>\n",
       "      <td>B</td>\n",
       "      <td>B</td>\n",
       "      <td>11</td>\n",
       "      <td>3097</td>\n",
       "      <td>0</td>\n",
       "      <td>NaN</td>\n",
       "      <td>0</td>\n",
       "      <td>0</td>\n",
       "      <td>B</td>\n",
       "      <td>268394.744389</td>\n",
       "    </tr>\n",
       "    <tr>\n",
       "      <th>9869</th>\n",
       "      <td>3224</td>\n",
       "      <td>27</td>\n",
       "      <td>0.0</td>\n",
       "      <td>2.377248</td>\n",
       "      <td>0.873147</td>\n",
       "      <td>0.0</td>\n",
       "      <td>1</td>\n",
       "      <td>0.0</td>\n",
       "      <td>1977</td>\n",
       "      <td>0.017647</td>\n",
       "      <td>B</td>\n",
       "      <td>B</td>\n",
       "      <td>2</td>\n",
       "      <td>469</td>\n",
       "      <td>0</td>\n",
       "      <td>NaN</td>\n",
       "      <td>0</td>\n",
       "      <td>0</td>\n",
       "      <td>B</td>\n",
       "      <td>126596.941798</td>\n",
       "    </tr>\n",
       "  </tbody>\n",
       "</table>\n",
       "</div>"
      ],
      "text/plain": [
       "         Id  DistrictId  Rooms      Square  LifeSquare  KitchenSquare  Floor  \\\n",
       "2194   3159          88    0.0   38.697117   19.345131            9.0      9   \n",
       "3780   7317          27    0.0   41.790881         NaN            0.0     13   \n",
       "5894    770          28    0.0   49.483501         NaN            0.0     16   \n",
       "6401   9443          27    0.0   87.762616   85.125471            0.0      5   \n",
       "7644   7917          27    0.0  212.932361  211.231125            0.0      2   \n",
       "7929    456           6    0.0   81.491446         NaN            0.0      4   \n",
       "9767  12638          27    0.0  138.427694  136.215499            0.0      4   \n",
       "9869   3224          27    0.0    2.377248    0.873147            0.0      1   \n",
       "\n",
       "      HouseFloor  HouseYear  Ecology_1 Ecology_2 Ecology_3  Social_1  \\\n",
       "2194        16.0       1982   0.127376         B         B        43   \n",
       "3780         0.0       1977   0.211401         B         B         9   \n",
       "5894         0.0       2015   0.118537         B         B        30   \n",
       "6401        15.0       1977   0.211401         B         B         9   \n",
       "7644         3.0       2008   0.211401         B         B         9   \n",
       "7929         0.0       1977   0.243205         B         B         5   \n",
       "9767         3.0       2016   0.075424         B         B        11   \n",
       "9869         0.0       1977   0.017647         B         B         2   \n",
       "\n",
       "      Social_2  Social_3  Healthcare_1  Helthcare_2  Shops_1 Shops_2  \\\n",
       "2194      8429         3           NaN            3        9       B   \n",
       "3780      1892         0           NaN            0        1       B   \n",
       "5894      6207         1        1183.0            1        0       B   \n",
       "6401      1892         0           NaN            0        1       B   \n",
       "7644      1892         0           NaN            0        1       B   \n",
       "7929      1564         0         540.0            0        0       B   \n",
       "9767      3097         0           NaN            0        0       B   \n",
       "9869       469         0           NaN            0        0       B   \n",
       "\n",
       "              Price  \n",
       "2194  158998.110646  \n",
       "3780   98129.976788  \n",
       "5894  217009.338463  \n",
       "6401  219281.918007  \n",
       "7644  302211.260887  \n",
       "7929  212864.799112  \n",
       "9767  268394.744389  \n",
       "9869  126596.941798  "
      ]
     },
     "execution_count": 26,
     "metadata": {},
     "output_type": "execute_result"
    }
   ],
   "source": [
    "copy_df.iloc[rooms_index]"
   ]
  },
  {
   "cell_type": "markdown",
   "metadata": {},
   "source": [
    "### 4. Обработайте выбросы в пизнаке Rooms, например, так: если число комнат равно нулю, то замените его на 1, если больше 6 - на 6. Добавьте к исходному датасету признак Rooms_outlier, в котором на местах с выбросами стоят 1, а остальные - 0. "
   ]
  },
  {
   "cell_type": "code",
   "execution_count": 27,
   "metadata": {},
   "outputs": [],
   "source": [
    "copy_df['Rooms_outlier'] = 0\n",
    "copy_df.loc[(copy_df['Rooms'] == 0) | (copy_df['Rooms'] > 6), 'Rooms_outlier' ] = 1\n"
   ]
  },
  {
   "cell_type": "code",
   "execution_count": null,
   "metadata": {},
   "outputs": [
    {
     "data": {
      "text/plain": [
       "Rooms_outlier\n",
       "0    9989\n",
       "1      11\n",
       "Name: count, dtype: int64"
      ]
     },
     "execution_count": 33,
     "metadata": {},
     "output_type": "execute_result"
    }
   ],
   "source": [
    "copy_df['Rooms_outlier'].value_counts()"
   ]
  },
  {
   "cell_type": "code",
   "execution_count": 28,
   "metadata": {},
   "outputs": [],
   "source": [
    "copy_df.loc[copy_df['Rooms'] == 0, 'Rooms' ] = 1\n",
    "copy_df.loc[copy_df['Rooms'] > 6, 'Rooms' ] = 6"
   ]
  },
  {
   "cell_type": "code",
   "execution_count": 29,
   "metadata": {},
   "outputs": [
    {
     "data": {
      "text/plain": [
       "Rooms\n",
       "2.0    3880\n",
       "1.0    3713\n",
       "3.0    2235\n",
       "4.0     150\n",
       "5.0      18\n",
       "6.0       4\n",
       "Name: count, dtype: int64"
      ]
     },
     "execution_count": 29,
     "metadata": {},
     "output_type": "execute_result"
    }
   ],
   "source": [
    "copy_df['Rooms'].value_counts()"
   ]
  },
  {
   "cell_type": "code",
   "execution_count": 34,
   "metadata": {},
   "outputs": [
    {
     "data": {
      "text/html": [
       "<div>\n",
       "<style scoped>\n",
       "    .dataframe tbody tr th:only-of-type {\n",
       "        vertical-align: middle;\n",
       "    }\n",
       "\n",
       "    .dataframe tbody tr th {\n",
       "        vertical-align: top;\n",
       "    }\n",
       "\n",
       "    .dataframe thead th {\n",
       "        text-align: right;\n",
       "    }\n",
       "</style>\n",
       "<table border=\"1\" class=\"dataframe\">\n",
       "  <thead>\n",
       "    <tr style=\"text-align: right;\">\n",
       "      <th></th>\n",
       "      <th>Id</th>\n",
       "      <th>DistrictId</th>\n",
       "      <th>Rooms</th>\n",
       "      <th>Square</th>\n",
       "      <th>LifeSquare</th>\n",
       "      <th>KitchenSquare</th>\n",
       "      <th>Floor</th>\n",
       "      <th>HouseFloor</th>\n",
       "      <th>HouseYear</th>\n",
       "      <th>Ecology_1</th>\n",
       "      <th>...</th>\n",
       "      <th>Ecology_3</th>\n",
       "      <th>Social_1</th>\n",
       "      <th>Social_2</th>\n",
       "      <th>Social_3</th>\n",
       "      <th>Healthcare_1</th>\n",
       "      <th>Helthcare_2</th>\n",
       "      <th>Shops_1</th>\n",
       "      <th>Shops_2</th>\n",
       "      <th>Price</th>\n",
       "      <th>Rooms_outlier</th>\n",
       "    </tr>\n",
       "  </thead>\n",
       "  <tbody>\n",
       "    <tr>\n",
       "      <th>0</th>\n",
       "      <td>11809</td>\n",
       "      <td>27</td>\n",
       "      <td>3.0</td>\n",
       "      <td>115.027311</td>\n",
       "      <td>NaN</td>\n",
       "      <td>10.0</td>\n",
       "      <td>4</td>\n",
       "      <td>10.0</td>\n",
       "      <td>2014</td>\n",
       "      <td>0.075424</td>\n",
       "      <td>...</td>\n",
       "      <td>B</td>\n",
       "      <td>11</td>\n",
       "      <td>3097</td>\n",
       "      <td>0</td>\n",
       "      <td>NaN</td>\n",
       "      <td>0</td>\n",
       "      <td>0</td>\n",
       "      <td>B</td>\n",
       "      <td>305018.871089</td>\n",
       "      <td>0</td>\n",
       "    </tr>\n",
       "    <tr>\n",
       "      <th>1</th>\n",
       "      <td>3013</td>\n",
       "      <td>22</td>\n",
       "      <td>1.0</td>\n",
       "      <td>39.832524</td>\n",
       "      <td>23.169223</td>\n",
       "      <td>8.0</td>\n",
       "      <td>7</td>\n",
       "      <td>8.0</td>\n",
       "      <td>1966</td>\n",
       "      <td>0.118537</td>\n",
       "      <td>...</td>\n",
       "      <td>B</td>\n",
       "      <td>30</td>\n",
       "      <td>6207</td>\n",
       "      <td>1</td>\n",
       "      <td>1183.0</td>\n",
       "      <td>1</td>\n",
       "      <td>0</td>\n",
       "      <td>B</td>\n",
       "      <td>177734.553407</td>\n",
       "      <td>0</td>\n",
       "    </tr>\n",
       "    <tr>\n",
       "      <th>2</th>\n",
       "      <td>8215</td>\n",
       "      <td>1</td>\n",
       "      <td>3.0</td>\n",
       "      <td>78.342215</td>\n",
       "      <td>47.671972</td>\n",
       "      <td>10.0</td>\n",
       "      <td>2</td>\n",
       "      <td>17.0</td>\n",
       "      <td>1988</td>\n",
       "      <td>0.025609</td>\n",
       "      <td>...</td>\n",
       "      <td>B</td>\n",
       "      <td>33</td>\n",
       "      <td>5261</td>\n",
       "      <td>0</td>\n",
       "      <td>240.0</td>\n",
       "      <td>3</td>\n",
       "      <td>1</td>\n",
       "      <td>B</td>\n",
       "      <td>282078.720850</td>\n",
       "      <td>0</td>\n",
       "    </tr>\n",
       "    <tr>\n",
       "      <th>3</th>\n",
       "      <td>2352</td>\n",
       "      <td>1</td>\n",
       "      <td>1.0</td>\n",
       "      <td>40.409907</td>\n",
       "      <td>NaN</td>\n",
       "      <td>1.0</td>\n",
       "      <td>10</td>\n",
       "      <td>22.0</td>\n",
       "      <td>1977</td>\n",
       "      <td>0.007122</td>\n",
       "      <td>...</td>\n",
       "      <td>B</td>\n",
       "      <td>1</td>\n",
       "      <td>264</td>\n",
       "      <td>0</td>\n",
       "      <td>NaN</td>\n",
       "      <td>0</td>\n",
       "      <td>1</td>\n",
       "      <td>B</td>\n",
       "      <td>168106.007630</td>\n",
       "      <td>0</td>\n",
       "    </tr>\n",
       "    <tr>\n",
       "      <th>4</th>\n",
       "      <td>13866</td>\n",
       "      <td>94</td>\n",
       "      <td>2.0</td>\n",
       "      <td>64.285067</td>\n",
       "      <td>38.562517</td>\n",
       "      <td>9.0</td>\n",
       "      <td>16</td>\n",
       "      <td>16.0</td>\n",
       "      <td>1972</td>\n",
       "      <td>0.282798</td>\n",
       "      <td>...</td>\n",
       "      <td>B</td>\n",
       "      <td>33</td>\n",
       "      <td>8667</td>\n",
       "      <td>2</td>\n",
       "      <td>NaN</td>\n",
       "      <td>0</td>\n",
       "      <td>6</td>\n",
       "      <td>B</td>\n",
       "      <td>343995.102962</td>\n",
       "      <td>0</td>\n",
       "    </tr>\n",
       "  </tbody>\n",
       "</table>\n",
       "<p>5 rows × 21 columns</p>\n",
       "</div>"
      ],
      "text/plain": [
       "      Id  DistrictId  Rooms      Square  LifeSquare  KitchenSquare  Floor  \\\n",
       "0  11809          27    3.0  115.027311         NaN           10.0      4   \n",
       "1   3013          22    1.0   39.832524   23.169223            8.0      7   \n",
       "2   8215           1    3.0   78.342215   47.671972           10.0      2   \n",
       "3   2352           1    1.0   40.409907         NaN            1.0     10   \n",
       "4  13866          94    2.0   64.285067   38.562517            9.0     16   \n",
       "\n",
       "   HouseFloor  HouseYear  Ecology_1  ... Ecology_3 Social_1  Social_2  \\\n",
       "0        10.0       2014   0.075424  ...         B       11      3097   \n",
       "1         8.0       1966   0.118537  ...         B       30      6207   \n",
       "2        17.0       1988   0.025609  ...         B       33      5261   \n",
       "3        22.0       1977   0.007122  ...         B        1       264   \n",
       "4        16.0       1972   0.282798  ...         B       33      8667   \n",
       "\n",
       "   Social_3  Healthcare_1  Helthcare_2  Shops_1  Shops_2          Price  \\\n",
       "0         0           NaN            0        0        B  305018.871089   \n",
       "1         1        1183.0            1        0        B  177734.553407   \n",
       "2         0         240.0            3        1        B  282078.720850   \n",
       "3         0           NaN            0        1        B  168106.007630   \n",
       "4         2           NaN            0        6        B  343995.102962   \n",
       "\n",
       "   Rooms_outlier  \n",
       "0              0  \n",
       "1              0  \n",
       "2              0  \n",
       "3              0  \n",
       "4              0  \n",
       "\n",
       "[5 rows x 21 columns]"
      ]
     },
     "execution_count": 34,
     "metadata": {},
     "output_type": "execute_result"
    }
   ],
   "source": [
    "copy_df.head()"
   ]
  },
  {
   "cell_type": "markdown",
   "metadata": {},
   "source": [
    "### 5. Для признака Ecology_1 осуществите обнаружение выбросов методом **IQR**. Для этого постройте \"ящик с усами\" для этого признака и визуально определите наличие выбросов. "
   ]
  },
  {
   "cell_type": "code",
   "execution_count": 52,
   "metadata": {},
   "outputs": [
    {
     "data": {
      "image/png": "[encoded data removed]",
      "text/plain": [
       "<Figure size 640x480 with 1 Axes>"
      ]
     },
     "metadata": {},
     "output_type": "display_data"
    }
   ],
   "source": [
    "plt.figure()\n",
    "sns.boxplot(x= copy_df['Ecology_1'])\n",
    "plt.show()"
   ]
  },
  {
   "cell_type": "markdown",
   "metadata": {},
   "source": [
    "### 6. Используя функцию outliers_iqr определите индексы наблюдений с выбросами. Подсчитайте их количество."
   ]
  },
  {
   "cell_type": "code",
   "execution_count": 30,
   "metadata": {},
   "outputs": [],
   "source": [
    "def outliers_iqr(x):\n",
    "    q25 = x.quantile(.25)\n",
    "    q75 = x.quantile(.75)  \n",
    "    iqr = q75 - q25   \n",
    "    lower_bound = q25 - iqr * 1.5  \n",
    "    upper_bound = q75 + iqr * 1.5 \n",
    "    outliers_index = x[(x > upper_bound) | (x < lower_bound)].index\n",
    "    min_border = x[(x <= upper_bound) & (x >= lower_bound)].min()\n",
    "    max_border = x[(x <= upper_bound) & (x >= lower_bound)].max()\n",
    "    return outliers_index, min_border, max_border"
   ]
  },
  {
   "cell_type": "code",
   "execution_count": null,
   "metadata": {},
   "outputs": [
    {
     "data": {
      "text/plain": [
       "(np.float64(0.0), np.float64(0.460556389))"
      ]
     },
     "execution_count": 49,
     "metadata": {},
     "output_type": "execute_result"
    }
   ],
   "source": [
    "outliers_index, min_border, max_border = outliers_iqr(x=copy_df['Ecology_1'])\n",
    "min_border, max_border"
   ]
  },
  {
   "cell_type": "code",
   "execution_count": 50,
   "metadata": {},
   "outputs": [
    {
     "data": {
      "text/plain": [
       "Index([ 201,  516,  704,  719,  798,  802, 1041, 1051, 1351, 1386, 1772, 2073,\n",
       "       2080, 2135, 2226, 2446, 2495, 2536, 3049, 3305, 3511, 4063, 4089, 4265,\n",
       "       4373, 4519, 4561, 4719, 4985, 5082, 5200, 5244, 5311, 5401, 5420, 5439,\n",
       "       5777, 5807, 5903, 6140, 6199, 6231, 6426, 7375, 7450, 7609, 7836, 8223,\n",
       "       8240, 8308, 8362, 8435, 8587, 8629, 9188, 9347, 9368, 9371, 9627, 9958,\n",
       "       9985],\n",
       "      dtype='int64')"
      ]
     },
     "execution_count": 50,
     "metadata": {},
     "output_type": "execute_result"
    }
   ],
   "source": [
    "outliers_index"
   ]
  },
  {
   "cell_type": "code",
   "execution_count": 51,
   "metadata": {},
   "outputs": [
    {
     "data": {
      "text/plain": [
       "np.int64(61)"
      ]
     },
     "execution_count": 51,
     "metadata": {},
     "output_type": "execute_result"
    }
   ],
   "source": [
    "outliers_index.value_counts().sum()"
   ]
  },
  {
   "cell_type": "markdown",
   "metadata": {},
   "source": [
    "### 7. Обработайте выбросы в пизнаке Ecology_1, например, так: замените их на np.nan и далее удалите наблюдения с пропусками в пизнаке Ecology_1."
   ]
  },
  {
   "cell_type": "code",
   "execution_count": 54,
   "metadata": {},
   "outputs": [
    {
     "data": {
      "text/plain": [
       "(9939, 21)"
      ]
     },
     "execution_count": 54,
     "metadata": {},
     "output_type": "execute_result"
    }
   ],
   "source": [
    "copy_df.loc[outliers_index, 'Ecology_1' ] = np.nan\n",
    "copy_df = copy_df.dropna(subset='Ecology_1', axis=0,ignore_index=True)\n",
    "copy_df.shape"
   ]
  },
  {
   "cell_type": "markdown",
   "metadata": {},
   "source": [
    "### 8. Снова постройте \"ящик с усами\" для этого признака и убедитесь, что выбросов больше нет."
   ]
  },
  {
   "cell_type": "code",
   "execution_count": null,
   "metadata": {},
   "outputs": [],
   "source": [
    "plt.figure()\n",
    "sns.boxplot(x= copy_df['Ecology_1'])\n",
    "plt.show()"
   ]
  },
  {
   "cell_type": "markdown",
   "metadata": {},
   "source": [
    "### 9. Для признака Square осуществите обнаружение выбросов методом **z-score**. Для этого используйте функцию outliers_z_score и определите индексы наблюдений с выбросами. Подсчитайте их количество."
   ]
  },
  {
   "cell_type": "code",
   "execution_count": 31,
   "metadata": {},
   "outputs": [],
   "source": [
    "def outliers_z_score(x, threshold=3):\n",
    "    mean = np.mean(x)\n",
    "    std = np.std(x)\n",
    "    z_scores = [(element - mean) / std for element in x]\n",
    "    print(len(z_scores))\n",
    "    return np.where(np.abs(z_scores) > threshold)[0]"
   ]
  },
  {
   "cell_type": "code",
   "execution_count": 57,
   "metadata": {},
   "outputs": [
    {
     "name": "stdout",
     "output_type": "stream",
     "text": [
      "9939\n"
     ]
    },
    {
     "data": {
      "text/plain": [
       "array([ 136,  285,  348,  402,  442,  510,  597,  690,  722,  726,  860,\n",
       "       1078, 1164, 1343, 1439, 1449, 1596, 1604, 1682, 1719, 1765, 1840,\n",
       "       1895, 1938, 1969, 2026, 2030, 2055, 2073, 2252, 2310, 2321, 2378,\n",
       "       2388, 2414, 2499, 2645, 2772, 2945, 2992, 3102, 3163, 3185, 3934,\n",
       "       4419, 4586, 4649, 4967, 5002, 5226, 5227, 5251, 5375, 5440, 5550,\n",
       "       5595, 5728, 5806, 5953, 5991, 6060, 6168, 6301, 6407, 6457, 6506,\n",
       "       6575, 6786, 6866, 6963, 6967, 7101, 7130, 7353, 7598, 7664, 7832,\n",
       "       7964, 7997, 8008, 8081, 8414, 8623, 8818, 8983, 9050, 9174, 9252,\n",
       "       9475, 9604, 9708, 9787, 9818])"
      ]
     },
     "execution_count": 57,
     "metadata": {},
     "output_type": "execute_result"
    }
   ],
   "source": [
    "outliers_z_index = outliers_z_score(copy_df['Square'])\n",
    "outliers_z_index"
   ]
  },
  {
   "cell_type": "code",
   "execution_count": 61,
   "metadata": {},
   "outputs": [
    {
     "data": {
      "text/plain": [
       "93"
      ]
     },
     "execution_count": 61,
     "metadata": {},
     "output_type": "execute_result"
    }
   ],
   "source": [
    "len(outliers_z_index)"
   ]
  },
  {
   "cell_type": "markdown",
   "metadata": {},
   "source": [
    "### 10.  Обработайте выбросы в пизнаке Square заменив их медианным значением. Добавьте к исходному датасету признак Square_outlier, в котором на местах с выбросами стоят 1, а остальные - 0. "
   ]
  },
  {
   "cell_type": "code",
   "execution_count": 63,
   "metadata": {},
   "outputs": [],
   "source": [
    "copy_df['Square_outlier'] = 0\n",
    "copy_df.loc[outliers_z_index, 'Square_outlier' ] = 1\n",
    "copy_df.loc[outliers_z_index, 'Square' ] = copy_df['Square'].median()\n"
   ]
  },
  {
   "cell_type": "code",
   "execution_count": 65,
   "metadata": {},
   "outputs": [
    {
     "data": {
      "text/plain": [
       "Square_outlier\n",
       "0    9846\n",
       "1      93\n",
       "Name: count, dtype: int64"
      ]
     },
     "execution_count": 65,
     "metadata": {},
     "output_type": "execute_result"
    }
   ],
   "source": [
    "copy_df['Square_outlier'].value_counts()"
   ]
  },
  {
   "cell_type": "code",
   "execution_count": null,
   "metadata": {},
   "outputs": [],
   "source": []
  },
  {
   "cell_type": "code",
   "execution_count": 64,
   "metadata": {},
   "outputs": [
    {
     "data": {
      "text/html": [
       "<div>\n",
       "<style scoped>\n",
       "    .dataframe tbody tr th:only-of-type {\n",
       "        vertical-align: middle;\n",
       "    }\n",
       "\n",
       "    .dataframe tbody tr th {\n",
       "        vertical-align: top;\n",
       "    }\n",
       "\n",
       "    .dataframe thead th {\n",
       "        text-align: right;\n",
       "    }\n",
       "</style>\n",
       "<table border=\"1\" class=\"dataframe\">\n",
       "  <thead>\n",
       "    <tr style=\"text-align: right;\">\n",
       "      <th></th>\n",
       "      <th>Id</th>\n",
       "      <th>DistrictId</th>\n",
       "      <th>Rooms</th>\n",
       "      <th>Square</th>\n",
       "      <th>LifeSquare</th>\n",
       "      <th>KitchenSquare</th>\n",
       "      <th>Floor</th>\n",
       "      <th>HouseFloor</th>\n",
       "      <th>HouseYear</th>\n",
       "      <th>Ecology_1</th>\n",
       "      <th>...</th>\n",
       "      <th>Social_1</th>\n",
       "      <th>Social_2</th>\n",
       "      <th>Social_3</th>\n",
       "      <th>Healthcare_1</th>\n",
       "      <th>Helthcare_2</th>\n",
       "      <th>Shops_1</th>\n",
       "      <th>Shops_2</th>\n",
       "      <th>Price</th>\n",
       "      <th>Rooms_outlier</th>\n",
       "      <th>Square_outlier</th>\n",
       "    </tr>\n",
       "  </thead>\n",
       "  <tbody>\n",
       "    <tr>\n",
       "      <th>0</th>\n",
       "      <td>11809</td>\n",
       "      <td>27</td>\n",
       "      <td>3.0</td>\n",
       "      <td>115.027311</td>\n",
       "      <td>NaN</td>\n",
       "      <td>10.0</td>\n",
       "      <td>4</td>\n",
       "      <td>10.0</td>\n",
       "      <td>2014</td>\n",
       "      <td>0.075424</td>\n",
       "      <td>...</td>\n",
       "      <td>11</td>\n",
       "      <td>3097</td>\n",
       "      <td>0</td>\n",
       "      <td>NaN</td>\n",
       "      <td>0</td>\n",
       "      <td>0</td>\n",
       "      <td>B</td>\n",
       "      <td>305018.871089</td>\n",
       "      <td>0</td>\n",
       "      <td>0</td>\n",
       "    </tr>\n",
       "    <tr>\n",
       "      <th>1</th>\n",
       "      <td>3013</td>\n",
       "      <td>22</td>\n",
       "      <td>1.0</td>\n",
       "      <td>39.832524</td>\n",
       "      <td>23.169223</td>\n",
       "      <td>8.0</td>\n",
       "      <td>7</td>\n",
       "      <td>8.0</td>\n",
       "      <td>1966</td>\n",
       "      <td>0.118537</td>\n",
       "      <td>...</td>\n",
       "      <td>30</td>\n",
       "      <td>6207</td>\n",
       "      <td>1</td>\n",
       "      <td>1183.0</td>\n",
       "      <td>1</td>\n",
       "      <td>0</td>\n",
       "      <td>B</td>\n",
       "      <td>177734.553407</td>\n",
       "      <td>0</td>\n",
       "      <td>0</td>\n",
       "    </tr>\n",
       "    <tr>\n",
       "      <th>2</th>\n",
       "      <td>8215</td>\n",
       "      <td>1</td>\n",
       "      <td>3.0</td>\n",
       "      <td>78.342215</td>\n",
       "      <td>47.671972</td>\n",
       "      <td>10.0</td>\n",
       "      <td>2</td>\n",
       "      <td>17.0</td>\n",
       "      <td>1988</td>\n",
       "      <td>0.025609</td>\n",
       "      <td>...</td>\n",
       "      <td>33</td>\n",
       "      <td>5261</td>\n",
       "      <td>0</td>\n",
       "      <td>240.0</td>\n",
       "      <td>3</td>\n",
       "      <td>1</td>\n",
       "      <td>B</td>\n",
       "      <td>282078.720850</td>\n",
       "      <td>0</td>\n",
       "      <td>0</td>\n",
       "    </tr>\n",
       "    <tr>\n",
       "      <th>3</th>\n",
       "      <td>2352</td>\n",
       "      <td>1</td>\n",
       "      <td>1.0</td>\n",
       "      <td>40.409907</td>\n",
       "      <td>NaN</td>\n",
       "      <td>1.0</td>\n",
       "      <td>10</td>\n",
       "      <td>22.0</td>\n",
       "      <td>1977</td>\n",
       "      <td>0.007122</td>\n",
       "      <td>...</td>\n",
       "      <td>1</td>\n",
       "      <td>264</td>\n",
       "      <td>0</td>\n",
       "      <td>NaN</td>\n",
       "      <td>0</td>\n",
       "      <td>1</td>\n",
       "      <td>B</td>\n",
       "      <td>168106.007630</td>\n",
       "      <td>0</td>\n",
       "      <td>0</td>\n",
       "    </tr>\n",
       "    <tr>\n",
       "      <th>4</th>\n",
       "      <td>13866</td>\n",
       "      <td>94</td>\n",
       "      <td>2.0</td>\n",
       "      <td>64.285067</td>\n",
       "      <td>38.562517</td>\n",
       "      <td>9.0</td>\n",
       "      <td>16</td>\n",
       "      <td>16.0</td>\n",
       "      <td>1972</td>\n",
       "      <td>0.282798</td>\n",
       "      <td>...</td>\n",
       "      <td>33</td>\n",
       "      <td>8667</td>\n",
       "      <td>2</td>\n",
       "      <td>NaN</td>\n",
       "      <td>0</td>\n",
       "      <td>6</td>\n",
       "      <td>B</td>\n",
       "      <td>343995.102962</td>\n",
       "      <td>0</td>\n",
       "      <td>0</td>\n",
       "    </tr>\n",
       "  </tbody>\n",
       "</table>\n",
       "<p>5 rows × 22 columns</p>\n",
       "</div>"
      ],
      "text/plain": [
       "      Id  DistrictId  Rooms      Square  LifeSquare  KitchenSquare  Floor  \\\n",
       "0  11809          27    3.0  115.027311         NaN           10.0      4   \n",
       "1   3013          22    1.0   39.832524   23.169223            8.0      7   \n",
       "2   8215           1    3.0   78.342215   47.671972           10.0      2   \n",
       "3   2352           1    1.0   40.409907         NaN            1.0     10   \n",
       "4  13866          94    2.0   64.285067   38.562517            9.0     16   \n",
       "\n",
       "   HouseFloor  HouseYear  Ecology_1  ... Social_1 Social_2  Social_3  \\\n",
       "0        10.0       2014   0.075424  ...       11     3097         0   \n",
       "1         8.0       1966   0.118537  ...       30     6207         1   \n",
       "2        17.0       1988   0.025609  ...       33     5261         0   \n",
       "3        22.0       1977   0.007122  ...        1      264         0   \n",
       "4        16.0       1972   0.282798  ...       33     8667         2   \n",
       "\n",
       "   Healthcare_1  Helthcare_2  Shops_1  Shops_2          Price Rooms_outlier  \\\n",
       "0           NaN            0        0        B  305018.871089             0   \n",
       "1        1183.0            1        0        B  177734.553407             0   \n",
       "2         240.0            3        1        B  282078.720850             0   \n",
       "3           NaN            0        1        B  168106.007630             0   \n",
       "4           NaN            0        6        B  343995.102962             0   \n",
       "\n",
       "   Square_outlier  \n",
       "0               0  \n",
       "1               0  \n",
       "2               0  \n",
       "3               0  \n",
       "4               0  \n",
       "\n",
       "[5 rows x 22 columns]"
      ]
     },
     "execution_count": 64,
     "metadata": {},
     "output_type": "execute_result"
    }
   ],
   "source": [
    "copy_df.head()"
   ]
  },
  {
   "cell_type": "markdown",
   "metadata": {},
   "source": [
    "# Задания для самостоятельного выполнения\n",
    "Продолжите работу с рассматриваемым датасетом `apartment.csv`. \n",
    "1. Осуществите обнаружение выбросов **по порогу** для признака `KitchenSquare`. Для этого используйте следующие знания по предметной области: площадь кухни не может быть меньше 3 и больше 13 метров. Выведите индексы тех наблюдений, где это условие не выполняется. Подсчитайте их количество.\n",
    "2. Обработайте выбросы в пизнаке `KitchenSquare`, например, так: площадь кухни меньше 3, то замените его на 3, если больше 13 - на медианное значение. Добавьте к исходному датасету признак `KitchenSquare_outlier`, в котором на местах с выбросами стоят 1, а остальные - 0. \n",
    "3. Осуществите обнаружение выбросов **по порогу** для признака `Floor`. Для этого используйте следующие знания по предметной области: этаж квартиры `Floor` не должен быть больше этажности дома `HouseFloor`. Выведите индексы тех наблюдений, где это условие не выполняется. Подсчитайте их количество.\n",
    "4. Обработайте выбросы в пизнаке `Floor`, например, так: замените этаж квартиры `Floor` на случайный от 0 (подвал) до числа этажей в доме `HouseFloor`. Добавьте к исходному датасету признак `Floor_outlier`, в котором на местах с выбросами стоят 1, а остальные - 0. \n",
    "5. Для признака `Social_1` осуществите обнаружение выбросов методом **IQR**. Для этого постройте \"ящик с усами\" для этого признака и визуально убедитесь, что выбросов нет. \n",
    "6. Для признака `Social_2` осуществите обнаружение выбросов методом **IQR**. Для этого постройте \"ящик с усами\" для этого признака и визуально определите наличие выбросов. Используя функцию `outliers_iqr` определите индексы наблюдений с выбросами. Подсчитайте их количество.\n",
    "7. Обработайте выбросы в пизнаке `Social_2`, например, так: замените их на np.nan и далее удалите наблюдения с пропусками.\n",
    "8. Для признака `Social_3` осуществите обнаружение выбросов методом **z-score**. Для этого используйте функцию `outliers_z_score` и определите индексы наблюдений с выбросами. Подсчитайте их количество.\n",
    "9.  Обработайте выбросы в пизнаке `Social_3` заменив их медианным значением. Добавьте к исходному датасету признак `Social_3_outlier`, в котором на местах с выбросами стоят 1, а остальные - 0.\n",
    "10. Осуществите обнаружение выбросов для признака `HouseYear` используя модель IsolationForest(contamination = 0.1, random_state = 42)."
   ]
  },
  {
   "cell_type": "code",
   "execution_count": null,
   "metadata": {},
   "outputs": [],
   "source": []
  }
 ],
 "metadata": {
  "kernelspec": {
   "display_name": "Python 3",
   "language": "python",
   "name": "python3"
  },
  "language_info": {
   "codemirror_mode": {
    "name": "ipython",
    "version": 3
   },
   "file_extension": ".py",
   "mimetype": "text/x-python",
   "name": "python",
   "nbconvert_exporter": "python",
   "pygments_lexer": "ipython3",
   "version": "3.13.2"
  }
 },
 "nbformat": 4,
 "nbformat_minor": 4
}
