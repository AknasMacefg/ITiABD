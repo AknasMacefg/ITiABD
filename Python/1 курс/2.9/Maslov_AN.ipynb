{
 "cells": [
  {
   "cell_type": "markdown",
   "metadata": {},
   "source": [
    "1) При помощи стека (можно использовать любую реализацию стека, например, из лекции) проверить, что в строке, содержащей большой фрагмент кода на python, корректно открываются и закрываются скобки '(' и ')'. Заводить какие-либо счетчики и вообще вести подсчет скобок запрещено.\n",
    "\n",
    "Например, в следующей строке корректное количество скобок:\n",
    "\n",
    "'((dsasdas((das(d)das)d)asd)da)'\n",
    "\n",
    "А вот в следующей закрывающих больше, чем открывающих:\n",
    "\n",
    "'(f(gfhd((hgfdg((fghh)dads)das))ds)adddads())))'"
   ]
  },
  {
   "cell_type": "code",
   "execution_count": 7,
   "metadata": {},
   "outputs": [
    {
     "name": "stdout",
     "output_type": "stream",
     "text": [
      "Некорректное количество скобок\n"
     ]
    }
   ],
   "source": [
    "class Stack:\n",
    "    def __init__(self):\n",
    "        self.list = []\n",
    "         \n",
    "    def push(self, item):\n",
    "        self.list.append(item)\n",
    "        \n",
    "    def pop(self):\n",
    "        try:\n",
    "            return self.list.pop()\n",
    "        except:\n",
    "            return \"Стек пуст!\"\n",
    "        \n",
    "    def top(self):\n",
    "        try:\n",
    "            return self.list[-1:]\n",
    "        except:\n",
    "            return \"Стек пуст!\"\n",
    "\n",
    "    def is_empty(self):\n",
    "        return self.list == []\n",
    "\n",
    "    def len(self):\n",
    "        return len(self.list)\n",
    "\n",
    "\n",
    "\n",
    "example = '(as(ds(ds)))]'\n",
    "temp_list = Stack()\n",
    "for i in example[::-1]:\n",
    "    if i == ')' or i == ']' or i == '}':\n",
    "        temp_list.push(i)\n",
    "    elif i == '(' or i == '[' or i == '{':\n",
    "        if temp_list != []:\n",
    "            temp_list.pop()\n",
    "        else:\n",
    "            temp_list.push('1')\n",
    "            break\n",
    "        \n",
    "if temp_list.is_empty() == True:\n",
    "    print(\"Корректное количество скобок\")\n",
    "else:\n",
    "    print(\"Некорректное количество скобок\")"
   ]
  },
  {
   "cell_type": "markdown",
   "metadata": {},
   "source": [
    "2) С помощью списка (list) реализовать стек. При создании стека нужно передать максимальную длину стека. В случае попытки добавления элемента, приводящего к превышению емкости стека возвращать ошибку.\n",
    "\n",
    "Стек должен поддерживать следующие операции:\n",
    "\n",
    "S.push(e): добавление элемента e на вершину стека S.\n",
    "\n",
    "S.pop(): удаляет и возвращает верхний элемент стека S. Если стек пуст, то возникает ошибка.\n",
    "\n",
    "S.top(): возвращает верхний элемент стека S, не удаляя его. Если стек пуст, то возникает ошибка.\n",
    "\n",
    "S.is_empty( ): возвращает True если стек S не содержит ни одного элемента.\n",
    "\n",
    "len(S): возвращает текущеее количество элементов в стеке S."
   ]
  },
  {
   "cell_type": "code",
   "execution_count": 15,
   "metadata": {},
   "outputs": [
    {
     "name": "stdout",
     "output_type": "stream",
     "text": [
      "None\n",
      "[1]\n",
      "1\n",
      "True\n",
      "0\n"
     ]
    }
   ],
   "source": [
    "class Stack:\n",
    "    def __init__(self):\n",
    "        self.list = []\n",
    "         \n",
    "    def push(self, item):\n",
    "        self.list.append(item)\n",
    "        \n",
    "    def pop(self):\n",
    "        try:\n",
    "            return self.list.pop()\n",
    "        except:\n",
    "            return \"Стек пуст!\"\n",
    "        \n",
    "    def top(self):\n",
    "        try:\n",
    "            return self.list[-1:]\n",
    "        except:\n",
    "            return \"Стек пуст!\"\n",
    "\n",
    "    def is_empty(self):\n",
    "        return self.list == []\n",
    "\n",
    "    def len(self):\n",
    "        return len(self.list)\n",
    "\n",
    "S = Stack()\n",
    "print(S.push(1))\n",
    "print(S.top())\n",
    "print(S.pop())\n",
    "print(S.is_empty())\n",
    "print(S.len())"
   ]
  },
  {
   "cell_type": "markdown",
   "metadata": {},
   "source": [
    "3) Реализовать класс однонаправленного связанного списка."
   ]
  },
  {
   "cell_type": "code",
   "execution_count": 28,
   "metadata": {},
   "outputs": [
    {
     "name": "stdout",
     "output_type": "stream",
     "text": [
      "0\n",
      "\n",
      "0\n",
      "1\n",
      "\n",
      "0\n",
      "1\n",
      "2\n",
      "\n",
      "0\n",
      "1\n",
      "2\n",
      "3\n",
      "\n",
      "0\n",
      "1\n",
      "2\n",
      "3\n",
      "4\n",
      "\n",
      "0\n",
      "1\n",
      "2\n",
      "3\n",
      "4\n",
      "5\n",
      "\n"
     ]
    },
    {
     "data": {
      "text/plain": [
       "6"
      ]
     },
     "execution_count": 28,
     "metadata": {},
     "output_type": "execute_result"
    }
   ],
   "source": [
    "class node:\n",
    "    def __init__(self, data = None, next = None):\n",
    "        self.data = data\n",
    "        self.next = next\n",
    "        \n",
    "class LinkedList:\n",
    "    def __init__(self):\n",
    "        self.head = None\n",
    "        self.tail = None\n",
    "\n",
    "    def __str__(self):\n",
    "        s = self.head\n",
    "        while s:\n",
    "            print(s.data)\n",
    "            s = s.next\n",
    "        return \"\"\n",
    "\n",
    "        \n",
    "    def addend(self, data):\n",
    "        newnode = node(data)\n",
    "        if not self.head:\n",
    "            self.head = newnode\n",
    "            self.tail = newnode\n",
    "        else:\n",
    "            self.tail.next = newnode\n",
    "            self.tail = newnode\n",
    "    \n",
    "    def addfirst(self, data):\n",
    "        newnode = node(data)\n",
    "        if not self.head:\n",
    "            self.head = newnode\n",
    "            self.tail = newnode\n",
    "        else:\n",
    "            newnode.next = self.head\n",
    "            self.head = newnode\n",
    "\n",
    "                        \n",
    "    def __len__(self):\n",
    "        n = self.head\n",
    "        count = 0\n",
    "        while n:\n",
    "            count += 1\n",
    "            n = n.next\n",
    "        return count\n",
    "    \n",
    "L = LinkedList()\n",
    "for i in range(6):\n",
    "    L.addend(i)\n",
    "    print(L)\n",
    "len(L)"
   ]
  },
  {
   "cell_type": "markdown",
   "metadata": {},
   "source": [
    "3.1) Реализовать метод добавления элемента в начало списка."
   ]
  },
  {
   "cell_type": "markdown",
   "metadata": {},
   "source": [
    "4) На базе класса однонаправленного связанного списка реализовать двунаправленный связанный список."
   ]
  },
  {
   "cell_type": "code",
   "execution_count": 41,
   "metadata": {},
   "outputs": [
    {
     "name": "stdout",
     "output_type": "stream",
     "text": [
      "0\n",
      "\n",
      "0\n",
      "0\n",
      "1\n",
      "\n",
      "1\n",
      "0\n",
      "0\n",
      "1\n",
      "2\n",
      "\n",
      "2\n",
      "1\n",
      "0\n",
      "0\n",
      "1\n",
      "2\n",
      "3\n",
      "\n",
      "3\n",
      "2\n",
      "1\n",
      "0\n",
      "0\n",
      "1\n",
      "2\n",
      "3\n",
      "4\n",
      "\n",
      "4\n",
      "3\n",
      "2\n",
      "1\n",
      "0\n",
      "0\n",
      "1\n",
      "2\n",
      "3\n",
      "4\n",
      "5\n",
      "\n",
      "5\n",
      "4\n",
      "3\n",
      "2\n",
      "1\n",
      "0\n"
     ]
    },
    {
     "data": {
      "text/plain": [
       "6"
      ]
     },
     "execution_count": 41,
     "metadata": {},
     "output_type": "execute_result"
    }
   ],
   "source": [
    "class node:\n",
    "    def __init__(self, data = None, next = None, prev = None):\n",
    "        self.data = data\n",
    "        self.next = next\n",
    "        self.prev = next\n",
    "\n",
    "class LinkedList:\n",
    "    def __init__(self):\n",
    "        self.head = None\n",
    "        self.tail = None\n",
    "\n",
    "    def __str__(self):\n",
    "        s = self.head\n",
    "        while s:\n",
    "            print(s.data)\n",
    "            s = s.next\n",
    "        return \"\"\n",
    "    def printback(self):\n",
    "        s = self.tail\n",
    "        while s:\n",
    "            print(s.data)\n",
    "            s = s.prev\n",
    "\n",
    "        \n",
    "    def addend(self, data):\n",
    "        newnode = node(data)\n",
    "        if not self.head:\n",
    "            self.head = newnode\n",
    "            self.tail = newnode\n",
    "        else:\n",
    "            self.tail.next = newnode\n",
    "            newnode.prev = self.tail\n",
    "            self.tail = newnode\n",
    "    \n",
    "    def addfirst(self, data):\n",
    "        newnode = node(data)\n",
    "        if not self.head:\n",
    "            self.head = newnode\n",
    "            self.tail = newnode\n",
    "        else:\n",
    "            newnode.next = self.head\n",
    "            head.prev = newnode\n",
    "            self.head = newnode\n",
    "\n",
    "                        \n",
    "    def __len__(self):\n",
    "        n = self.head\n",
    "        count = 0\n",
    "        while n:\n",
    "            count += 1\n",
    "            n = n.next\n",
    "        return count\n",
    "    \n",
    "L = LinkedList()\n",
    "for i in range(6):\n",
    "    L.addfirst(i)\n",
    "    print(L)\n",
    "    L.printback()\n",
    "len(L)"
   ]
  },
  {
   "cell_type": "markdown",
   "metadata": {},
   "source": [
    "4.1) Реализовать метод добавления элемента в начало списка."
   ]
  },
  {
   "cell_type": "markdown",
   "metadata": {},
   "source": [
    "5) При помощи класса связанного списка реализовать очередь."
   ]
  },
  {
   "cell_type": "code",
   "execution_count": 56,
   "metadata": {},
   "outputs": [
    {
     "name": "stdout",
     "output_type": "stream",
     "text": [
      "9\n",
      "8\n",
      "7\n",
      "6\n",
      "5\n",
      "4\n",
      "3\n",
      "2\n",
      "1\n",
      "0\n",
      "\n",
      "9\n",
      "\n",
      "\n"
     ]
    }
   ],
   "source": [
    "class node:\n",
    "    def __init__(self, data = None, next = None, prev = None):\n",
    "        self.data = data\n",
    "        self.next = next\n",
    "        self.prev = next\n",
    "\n",
    "class LinkedList:\n",
    "    def __init__(self):\n",
    "        self.head = None\n",
    "        self.tail = None\n",
    "\n",
    "    def __str__(self):\n",
    "        s = self.head\n",
    "        while s:\n",
    "            print(s.data)\n",
    "            s = s.next\n",
    "        return \"\"\n",
    "\n",
    "    def push(self, data):\n",
    "        newnode = node(data)\n",
    "        if not self.head:\n",
    "            self.head = newnode\n",
    "            self.tail = newnode\n",
    "        else:\n",
    "            newnode.next = self.head\n",
    "            head.prev = newnode\n",
    "            self.head = newnode\n",
    "    \n",
    "    def pop(self):\n",
    "        newnode = self.head.data\n",
    "        self.head = self.head.prev\n",
    "        return newnode\n",
    "                        \n",
    "    def __len__(self):\n",
    "        n = self.head\n",
    "        count = 0\n",
    "        while n:\n",
    "            count += 1\n",
    "            n = n.next\n",
    "        return count\n",
    " \n",
    "ord = LinkedList()\n",
    "for i in range(10):\n",
    "    ord.push(i)\n",
    "print(ord)\n",
    "print(ord.pop())"
   ]
  },
  {
   "cell_type": "code",
   "execution_count": null,
   "metadata": {},
   "outputs": [],
   "source": []
  },
  {
   "cell_type": "code",
   "execution_count": null,
   "metadata": {},
   "outputs": [],
   "source": []
  },
  {
   "cell_type": "code",
   "execution_count": null,
   "metadata": {},
   "outputs": [],
   "source": []
  },
  {
   "cell_type": "markdown",
   "metadata": {},
   "source": [
    "6) Реализовать генератор, который возвращает значение поочередно извлекаемое из конца двух очередей (в качестве очереди используется deque из collections). Если очередь из которой извлекается элемент пуста - генератор заканчивает работу."
   ]
  }
 ],
 "metadata": {
  "anaconda-cloud": {},
  "kernelspec": {
   "display_name": "Python 3 (ipykernel)",
   "language": "python",
   "name": "python3"
  },
  "language_info": {
   "codemirror_mode": {
    "name": "ipython",
    "version": 3
   },
   "file_extension": ".py",
   "mimetype": "text/x-python",
   "name": "python",
   "nbconvert_exporter": "python",
   "pygments_lexer": "ipython3",
   "version": "3.10.9"
  }
 },
 "nbformat": 4,
 "nbformat_minor": 4
}
