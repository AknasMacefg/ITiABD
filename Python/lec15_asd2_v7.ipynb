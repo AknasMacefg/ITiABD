{
 "cells": [
  {
   "cell_type": "markdown",
   "metadata": {},
   "source": [
    "# Лекция 15 \"Поиск и сортировка.\"\n",
    "\n",
    "### Финансовый университет при Правительстве РФ, лектор С.В. Макрушин\n",
    "\n",
    "__Автор: Сергей Вячеславович Макрушин__ e-mail: SVMakrushin@fa.ru \n",
    "\n",
    "Финансовый универсиет, 2021 г.  \n",
    "\n",
    "v 0.7 26.04.2021"
   ]
  },
  {
   "cell_type": "markdown",
   "metadata": {},
   "source": [
    "## Разделы: <a class=\"anchor\" id=\"разделы\"></a>\n",
    "\n",
    "* [Поиск](#поиск)\n",
    "    * [Бинарный поиск](#бинарный)\n",
    "* [Сортировка](#сортировка)    \n",
    "* [Простые методы сортировки](#простые-сортировки)    \n",
    "    * [Обменные сортировки](#обменные-сортировки)\n",
    "    * [Сортировка выбором (извлечением)](#сортировка-выбором)    \n",
    "    * [Сортировка включением (вставками)](#включением)    \n",
    "* [Эффективные методы сортировки](#эффективные)    \n",
    "    * [Быстрая сортировка](#быстрая)    \n",
    "    * [Сортировка Шелла](#шелла)    \n",
    "    * [Сортировка слиянием](#слиянием)    \n",
    "* [Итоги](#итоги)    \n",
    "* [Сортировка в Python](#в-python)    \n",
    "-\n",
    "\n",
    "* [к оглавлению](#разделы)"
   ]
  },
  {
   "cell_type": "code",
   "execution_count": 1,
   "metadata": {},
   "outputs": [
    {
     "data": {
      "text/html": [
       "﻿<style>\r\n",
       "\r\n",
       "\r\n",
       "b.n {\r\n",
       "    font-weight: normal;        \r\n",
       "}\r\n",
       "\r\n",
       "b.grbg {\r\n",
       "    background-color: #a0a0a0;      \r\n",
       "}\r\n",
       "\r\n",
       "b.r {\r\n",
       "    color: #ff0000;    \r\n",
       "}\r\n",
       "\r\n",
       "\r\n",
       "b.b {    \r\n",
       "    color: #0000ff;    \r\n",
       "}\r\n",
       "\r\n",
       "b.g {\r\n",
       "    color: #00ff00;    \r\n",
       "}\r\n",
       "\r\n",
       "\r\n",
       "// add your CSS styling here\r\n",
       "\r\n",
       "list-style: none;\r\n",
       "\r\n",
       "ul.s {\r\n",
       "//    list-style-type: none;\r\n",
       "    list-style: none;\r\n",
       "//    background-color: #ff0000;  \r\n",
       "//    color: #ffff00;\r\n",
       "//  padding-left: 1.2em;\r\n",
       "//  text-indent: -1.2em;\r\n",
       "}\r\n",
       "\r\n",
       "li.t {\r\n",
       "    list-style: none;\r\n",
       "//  padding-left: 1.2em;\r\n",
       "//  text-indent: -1.2em;    \r\n",
       "}\r\n",
       "\r\n",
       "\r\n",
       "*.r {\r\n",
       "    color: #ff0000;    \r\n",
       "}\r\n",
       "\r\n",
       "li.t:before {\r\n",
       "    content: \"\\21D2\";    \r\n",
       "//    content: \"►\";\r\n",
       "//    padding-left: -1.2em;    \r\n",
       "    text-indent: -1.2em;    \r\n",
       "    display: block;\r\n",
       "    float: left;\r\n",
       "    \r\n",
       "    \r\n",
       "//    width: 1.2em;\r\n",
       "//    color: #ff0000;\r\n",
       "}\r\n",
       "\r\n",
       "i.m:before {\r\n",
       "    font-style: normal;    \r\n",
       "    content: \"\\21D2\";  \r\n",
       "}\r\n",
       "i.m {\r\n",
       "    font-style: normal; \r\n",
       "}    \r\n",
       "\r\n",
       "/*--------------------*/\r\n",
       "/* em {\r\n",
       "    font-style: normal; \r\n",
       "} */\r\n",
       "\r\n",
       "\r\n",
       "em.bl {\r\n",
       "    font-style: normal;     \r\n",
       "    font-weight: bold;        \r\n",
       "}\r\n",
       "\r\n",
       "/* em.grbg {\r\n",
       "    font-style: normal;         \r\n",
       "    background-color: #a0a0a0;      \r\n",
       "} */\r\n",
       "\r\n",
       "em.cr {\r\n",
       "    font-style: normal;         \r\n",
       "    color: #ff0000;    \r\n",
       "}\r\n",
       "\r\n",
       "em.cb {    \r\n",
       "    font-style: normal;         \r\n",
       "    color: #0000ff;    \r\n",
       "}\r\n",
       "\r\n",
       "em.cg {\r\n",
       "    font-style: normal;         \r\n",
       "    color: #00ff00;    \r\n",
       "}\r\n",
       "\r\n",
       "/*--------------------*/\r\n",
       "\r\n",
       "em.qs {\r\n",
       "    font-style: normal; \r\n",
       "}\r\n",
       "\r\n",
       "em.qs::before {\r\n",
       "    font-weight: bold;    \r\n",
       "    color: #ff0000;    \r\n",
       "    content: \"Q:\";  \r\n",
       "}\r\n",
       "\r\n",
       "em.an {\r\n",
       "    font-style: normal; \r\n",
       "}\r\n",
       "\r\n",
       "em.an:before {\r\n",
       "    font-weight: bold;    \r\n",
       "    color: #0000ff;    \r\n",
       "    content: \"A:\";  \r\n",
       "}\r\n",
       "    \r\n",
       "em.nt {\r\n",
       "    font-style: normal; \r\n",
       "}\r\n",
       "\r\n",
       "em.nt:before {\r\n",
       "    font-weight: bold;    \r\n",
       "    color: #0000ff;    \r\n",
       "    content: \"Note:\";  \r\n",
       "}    \r\n",
       "    \r\n",
       "em.ex {\r\n",
       "    font-style: normal; \r\n",
       "}\r\n",
       "\r\n",
       "em.ex:before {\r\n",
       "    font-weight: bold;    \r\n",
       "    color: #00ff00;    \r\n",
       "    content: \"Ex:\";  \r\n",
       "} \r\n",
       "    \r\n",
       "em.df {\r\n",
       "    font-style: normal; \r\n",
       "}\r\n",
       "\r\n",
       "em.df:before {\r\n",
       "    font-weight: bold;    \r\n",
       "    color: #0000ff;    \r\n",
       "    content: \"Def:\";  \r\n",
       "}    \r\n",
       "\r\n",
       "em.pl {\r\n",
       "    font-style: normal; \r\n",
       "}\r\n",
       "\r\n",
       "em.pl:before {\r\n",
       "    font-weight: bold;    \r\n",
       "    color: #0000ff;    \r\n",
       "    content: \"+\";  \r\n",
       "}    \r\n",
       "\r\n",
       "em.mn {\r\n",
       "    font-style: normal; \r\n",
       "}\r\n",
       "\r\n",
       "em.mn:before {\r\n",
       "    font-weight: bold;    \r\n",
       "    color: #0000ff;    \r\n",
       "    content: \"-\";  \r\n",
       "}        \r\n",
       "\r\n",
       "em.plmn {\r\n",
       "    font-style: normal; \r\n",
       "}\r\n",
       "\r\n",
       "em.plmn:before {\r\n",
       "    font-weight: bold;    \r\n",
       "    color: #0000ff;    \r\n",
       "    content: \"\\00B1\";\\\\\"&plusmn;\";  \r\n",
       "}\r\n",
       "    \r\n",
       "em.hn {\r\n",
       "    font-style: normal; \r\n",
       "}\r\n",
       "\r\n",
       "em.hn:before {\r\n",
       "    font-weight: bold;    \r\n",
       "    color: #0000ff;    \r\n",
       "    content: \"\\21D2\";\\\\\"&rArr;\";  \r\n",
       "}     \r\n",
       "    \r\n",
       "</style>"
      ],
      "text/plain": [
       "<IPython.core.display.HTML object>"
      ]
     },
     "execution_count": 1,
     "metadata": {},
     "output_type": "execute_result"
    }
   ],
   "source": [
    "# загружаем стиль для оформления презентации\n",
    "from IPython.display import HTML\n",
    "from urllib.request import urlopen\n",
    "html = urlopen(\"file:./lec_v1.css\")\n",
    "HTML(html.read().decode('utf-8'))"
   ]
  },
  {
   "cell_type": "markdown",
   "metadata": {},
   "source": [
    "---\n",
    "\n",
    "## Поиск  <a class=\"anchor\" id=\"поиск\"></a>\n",
    "* [к оглавлению](#разделы)"
   ]
  },
  {
   "cell_type": "code",
   "execution_count": 105,
   "metadata": {},
   "outputs": [
    {
     "data": {
      "text/plain": [
       "False"
      ]
     },
     "execution_count": 105,
     "metadata": {},
     "output_type": "execute_result"
    }
   ],
   "source": [
    "# Проверка вхождения в список:\n",
    "23 in [54, 26, 93, 17, 77, 31, 44, 55, 20, 65]"
   ]
  },
  {
   "cell_type": "code",
   "execution_count": 106,
   "metadata": {},
   "outputs": [
    {
     "data": {
      "text/plain": [
       "True"
      ]
     },
     "execution_count": 106,
     "metadata": {},
     "output_type": "execute_result"
    }
   ],
   "source": [
    "17 in [54, 26, 93, 17, 77, 31, 44, 55, 20, 65]"
   ]
  },
  {
   "cell_type": "code",
   "execution_count": 107,
   "metadata": {},
   "outputs": [],
   "source": [
    "test_list = [54, 26, 93, 17, 77, 31, 44, 55, 20, 65]"
   ]
  },
  {
   "cell_type": "markdown",
   "metadata": {},
   "source": [
    "Пример проведения поиска в списке целых чисел:\n",
    "\n",
    "![](seq_search_1.png)"
   ]
  },
  {
   "cell_type": "code",
   "execution_count": 108,
   "metadata": {},
   "outputs": [],
   "source": [
    "def sequential_search(a_list, item):\n",
    "    for current_item in a_list:\n",
    "        if current_item == item:\n",
    "            return True\n",
    "    else:\n",
    "        return False"
   ]
  },
  {
   "cell_type": "code",
   "execution_count": 109,
   "metadata": {},
   "outputs": [
    {
     "data": {
      "text/plain": [
       "[54, 26, 93, 17, 77, 31, 44, 55, 20, 65]"
      ]
     },
     "execution_count": 109,
     "metadata": {},
     "output_type": "execute_result"
    }
   ],
   "source": [
    "test_list"
   ]
  },
  {
   "cell_type": "code",
   "execution_count": 110,
   "metadata": {},
   "outputs": [
    {
     "data": {
      "text/plain": [
       "False"
      ]
     },
     "execution_count": 110,
     "metadata": {},
     "output_type": "execute_result"
    }
   ],
   "source": [
    "sequential_search(test_list, 15)"
   ]
  },
  {
   "cell_type": "code",
   "execution_count": 111,
   "metadata": {},
   "outputs": [],
   "source": [
    "def sequential_search_2(a_list, item):\n",
    "    pos = 0\n",
    "    while pos < len(a_list):\n",
    "        if a_list[pos] == item:\n",
    "            return True\n",
    "        else:\n",
    "            pos += 1\n",
    "    return False"
   ]
  },
  {
   "cell_type": "code",
   "execution_count": 112,
   "metadata": {},
   "outputs": [
    {
     "name": "stdout",
     "output_type": "stream",
     "text": [
      "False\n",
      "True\n"
     ]
    }
   ],
   "source": [
    "# test_list = [54, 26, 93, 17, 77, 31, 44, 55, 20, 65]\n",
    "# test_list = [1, 2, 32, 8, 17, 19, 42, 13, 0]\n",
    "\n",
    "print(sequential_search_2(test_list, 3))\n",
    "print(sequential_search_2(test_list, 17))"
   ]
  },
  {
   "cell_type": "markdown",
   "metadata": {},
   "source": [
    "Сравнение количества операций сравнения, используемых при __последовательном__ поиске в __несортированном__ списке:\n",
    "\n",
    "![](seq_search_2.png)"
   ]
  },
  {
   "cell_type": "code",
   "execution_count": 32,
   "metadata": {},
   "outputs": [],
   "source": [
    "def ordered_sequential_search(a_list, item):\n",
    "    for current_item in a_list:\n",
    "        if current_item >= item:            \n",
    "            if current_item == item:\n",
    "                return True\n",
    "            else:\n",
    "                return False\n",
    "    else:\n",
    "        return False"
   ]
  },
  {
   "cell_type": "markdown",
   "metadata": {},
   "source": [
    "Сравнение количества операций сравнения, используемых при __последовательном__ поиске в __отсортированном__ списке:\n",
    "\n",
    "![](seq_search_3.png)"
   ]
  },
  {
   "cell_type": "code",
   "execution_count": 33,
   "metadata": {},
   "outputs": [
    {
     "data": {
      "text/plain": [
       "[17, 20, 26, 31, 44, 54, 55, 65, 77, 93]"
      ]
     },
     "execution_count": 33,
     "metadata": {},
     "output_type": "execute_result"
    }
   ],
   "source": [
    "ordered_test_list = sorted(test_list) \n",
    "ordered_test_list"
   ]
  },
  {
   "cell_type": "code",
   "execution_count": 34,
   "metadata": {
    "scrolled": true
   },
   "outputs": [
    {
     "name": "stdout",
     "output_type": "stream",
     "text": [
      "False\n",
      "True\n"
     ]
    }
   ],
   "source": [
    "print(ordered_sequential_search(ordered_test_list, 53))\n",
    "print(ordered_sequential_search(ordered_test_list, 54))"
   ]
  },
  {
   "cell_type": "markdown",
   "metadata": {},
   "source": [
    "### Бинарный поиск  <a class=\"anchor\" id=\"бинарный\"></a>\n",
    "* [к оглавлению](#разделы)"
   ]
  },
  {
   "cell_type": "markdown",
   "metadata": {},
   "source": [
    "Пример проведения двоичного посика в отсортированном списке целых чисел:\n",
    "\n",
    "![](seq_search_4.png)"
   ]
  },
  {
   "cell_type": "code",
   "execution_count": 43,
   "metadata": {},
   "outputs": [],
   "source": [
    "def binary_search(a_list, item):\n",
    "    first = 0\n",
    "    last = len(a_list) - 1\n",
    "\n",
    "    while first <= last:\n",
    "        midpoint = (first + last) // 2\n",
    "#         print(a_list[first:last+1], midpoint, a_list[midpoint])        \n",
    "        if a_list[midpoint] == item:\n",
    "            return True\n",
    "        else:\n",
    "            if item < a_list[midpoint]:\n",
    "                last = midpoint - 1\n",
    "            else:\n",
    "                first = midpoint + 1\n",
    "    return False"
   ]
  },
  {
   "cell_type": "code",
   "execution_count": 44,
   "metadata": {},
   "outputs": [
    {
     "data": {
      "text/plain": [
       "[17, 20, 26, 31, 44, 54, 55, 65, 77, 93]"
      ]
     },
     "execution_count": 44,
     "metadata": {},
     "output_type": "execute_result"
    }
   ],
   "source": [
    "ordered_test_list"
   ]
  },
  {
   "cell_type": "code",
   "execution_count": 45,
   "metadata": {},
   "outputs": [
    {
     "name": "stdout",
     "output_type": "stream",
     "text": [
      "[17, 20, 26, 31, 44, 54, 55, 65, 77, 93] 4 44\n",
      "[54, 55, 65, 77, 93] 7 65\n",
      "[54, 55] 5 54\n",
      "True\n"
     ]
    }
   ],
   "source": [
    "print(binary_search(ordered_test_list, 54))"
   ]
  },
  {
   "cell_type": "code",
   "execution_count": 46,
   "metadata": {},
   "outputs": [
    {
     "name": "stdout",
     "output_type": "stream",
     "text": [
      "[17, 20, 26, 31, 44, 54, 55, 65, 77, 93] 4 44\n",
      "[54, 55, 65, 77, 93] 7 65\n",
      "[54, 55] 5 54\n",
      "False\n"
     ]
    }
   ],
   "source": [
    "print(binary_search(ordered_test_list, 53))"
   ]
  },
  {
   "cell_type": "markdown",
   "metadata": {},
   "source": [
    "Сравнение количества оставшихся для рассмотрения элементов в зависимости от количества выполненных операций сравнения:\n",
    "\n",
    "![](seq_search_5.png)"
   ]
  },
  {
   "cell_type": "markdown",
   "metadata": {},
   "source": [
    "Бинарный поиск в отсортированном списке имеет сложность $O(\\ln n)$."
   ]
  },
  {
   "cell_type": "markdown",
   "metadata": {},
   "source": [
    "* Отдельная задача: поиск строк (поиск подстрок)"
   ]
  },
  {
   "cell_type": "markdown",
   "metadata": {},
   "source": [
    "---\n",
    "\n",
    "## Сортировка  <a class=\"anchor\" id=\"сортировка\"></a>\n",
    "* [к оглавлению](#разделы)"
   ]
  },
  {
   "cell_type": "markdown",
   "metadata": {},
   "source": [
    "Формулировка задачи сортировки:\n",
    "* Имеется последовательность однотипных записей, одно из полей которых выбрано в качестве ключевого (ключ сортировки). \n",
    "* Тип данных ключа должен включать операции сравнения (\"==\", \"<\", и производных от них \">\", \">=\", \"<=\").\n",
    "* Требуется преобразовать исходную последовательность в последовательность, содержащую те же записи, но в порядке возрастания (или убывания) значений ключа. "
   ]
  },
  {
   "cell_type": "markdown",
   "metadata": {},
   "source": [
    "Принято различать два типа сортировки: \n",
    "* внутренняя сортировка, в которой предполагается, что данные находятся в оперативной памяти, и важно оптимизировать число действий программы (для методов, основанных на сравнении, число сравнений, обменов элементов и пр.) \n",
    "* внешняя, в которой данные хранятся на внешнем устройстве с медленным доступом (магнитные лента, барабан, диск) и прежде всего надо снизить число обращений к этому устройству. "
   ]
  },
  {
   "cell_type": "markdown",
   "metadata": {},
   "source": [
    "Классификация основных методов сортировки:\n",
    "\n",
    "![](sort_1.png)"
   ]
  },
  {
   "cell_type": "markdown",
   "metadata": {},
   "source": [
    "---\n",
    "\n",
    "## Простые методы сортировки  <a class=\"anchor\" id=\"простые-сортировки\"></a>\n",
    "* [к оглавлению](#разделы)"
   ]
  },
  {
   "cell_type": "markdown",
   "metadata": {},
   "source": [
    "### Обменные сортировки (Bubble Sort)  <a class=\"anchor\" id=\"обменные-сортировки\"></a>\n",
    "* [к оглавлению](#разделы)"
   ]
  },
  {
   "cell_type": "markdown",
   "metadata": {},
   "source": [
    "Алгоритм прямого обмена основывается на сравнении и смене позиций пары соседних элементов. Процесс продолжается до тех \n",
    "пор, пока не будут упорядочены все элементы."
   ]
  },
  {
   "cell_type": "markdown",
   "metadata": {},
   "source": [
    "Пример первого прохода алгоритма сортировки пузырьком:\n",
    "\n",
    "![](sort_2.png)"
   ]
  },
  {
   "cell_type": "code",
   "execution_count": 47,
   "metadata": {},
   "outputs": [],
   "source": [
    "# Сортировка пузырьком:\n",
    "def bubble_sort(a_list):\n",
    "    for pass_num in range(len(a_list) - 1, 0, -1):\n",
    "        for i in range(pass_num):\n",
    "            if a_list[i] > a_list[i + 1]:\n",
    "                temp = a_list[i]\n",
    "                a_list[i] = a_list[i + 1]\n",
    "                a_list[i + 1] = temp\n",
    "    return a_list"
   ]
  },
  {
   "cell_type": "code",
   "execution_count": 48,
   "metadata": {},
   "outputs": [
    {
     "data": {
      "text/plain": [
       "[54, 26, 93, 17, 77, 31, 44, 55, 20, 65]"
      ]
     },
     "execution_count": 48,
     "metadata": {},
     "output_type": "execute_result"
    }
   ],
   "source": [
    "test_list"
   ]
  },
  {
   "cell_type": "code",
   "execution_count": 49,
   "metadata": {},
   "outputs": [
    {
     "data": {
      "text/plain": [
       "[17, 20, 26, 31, 44, 54, 55, 65, 77, 93]"
      ]
     },
     "execution_count": 49,
     "metadata": {},
     "output_type": "execute_result"
    }
   ],
   "source": [
    "bubble_sort(list(test_list))"
   ]
  },
  {
   "cell_type": "code",
   "execution_count": 50,
   "metadata": {},
   "outputs": [],
   "source": [
    "# Сортировка пузырьком:\n",
    "def bubble_sort_2(a_list):\n",
    "    for pass_num in range(len(a_list) - 1, 0, -1):\n",
    "        flag = False\n",
    "        for i in range(pass_num):\n",
    "            if a_list[i] > a_list[i + 1]:\n",
    "                temp = a_list[i]\n",
    "                a_list[i] = a_list[i + 1]\n",
    "                a_list[i + 1] = temp\n",
    "                flag = True\n",
    "        if not flag:\n",
    "            return a_list"
   ]
  },
  {
   "cell_type": "code",
   "execution_count": 51,
   "metadata": {},
   "outputs": [
    {
     "data": {
      "text/plain": [
       "[17, 20, 26, 31, 44, 54, 55, 65, 77, 93]"
      ]
     },
     "execution_count": 51,
     "metadata": {},
     "output_type": "execute_result"
    }
   ],
   "source": [
    "bubble_sort_2(list(test_list))"
   ]
  },
  {
   "cell_type": "markdown",
   "metadata": {},
   "source": [
    "Алгоритм имеет среднюю и максимальную временные сложности $O(n^2)$ (два вложенных цикла, зависящих от n линейно). Введение переменной Flag и прерывание работы в случае отсортированного массива позволяет свести минимальную временную сложность к $O(n)$. Отметим одну особенность приведенного алгоритма: легкий пузырек снизу поднимется наверх за один проход, тяжелые пузырьки опускаются с минимальной скоростью: один шаг за итерацию. "
   ]
  },
  {
   "cell_type": "markdown",
   "metadata": {},
   "source": [
    "## Сортировка выбором (извлечением) (Selection Sort)  <a class=\"anchor\" id=\"сортировка-выбором\"></a>\n",
    "* [к оглавлению](#разделы)"
   ]
  },
  {
   "cell_type": "markdown",
   "metadata": {},
   "source": [
    "Массив делится на уже отсортированную часть: \n",
    "\n",
    "$A_{i+1}, A_{i+2} … {А_n}$ \n",
    "\n",
    "и неотсортированную: \n",
    " \n",
    "$A_1, A_2, … ,A_i$.\n",
    "\n",
    "На каждом шаге извлекается максимальный элемент из неотсортированной части и ставится в начало отсортированной части. Оптимизация по сравнению с сортировкой пузырьком происходит за счет выполнения только одного обмена за каждый проход через список. В результате каждого прохода находится наибольшее значение в неотсортированной части и устанавливается в корректное место отсортированного фрагмента массива."
   ]
  },
  {
   "cell_type": "markdown",
   "metadata": {},
   "source": [
    "Пример работы алгоритма сортировки выбором:\n",
    "\n",
    "![](sort_3.png)"
   ]
  },
  {
   "cell_type": "code",
   "execution_count": 52,
   "metadata": {},
   "outputs": [],
   "source": [
    "def selection_sort(a_list):\n",
    "    for fill_slot in range(len(a_list) - 1, 0, -1):\n",
    "        pos_of_max = 0\n",
    "        for location in range(1, fill_slot + 1):\n",
    "            if a_list[location] > a_list[pos_of_max]:\n",
    "                pos_of_max = location\n",
    "\n",
    "        temp = a_list[fill_slot]\n",
    "        a_list[fill_slot] = a_list[pos_of_max]\n",
    "        a_list[pos_of_max] = temp\n",
    "        # Реализацию можно улучшить!\n",
    "    return a_list"
   ]
  },
  {
   "cell_type": "code",
   "execution_count": 53,
   "metadata": {},
   "outputs": [
    {
     "data": {
      "text/plain": [
       "[54, 26, 93, 17, 77, 31, 44, 55, 20, 65]"
      ]
     },
     "execution_count": 53,
     "metadata": {},
     "output_type": "execute_result"
    }
   ],
   "source": [
    "test_list"
   ]
  },
  {
   "cell_type": "code",
   "execution_count": 54,
   "metadata": {},
   "outputs": [
    {
     "data": {
      "text/plain": [
       "[17, 20, 26, 31, 44, 54, 55, 65, 77, 93]"
      ]
     },
     "execution_count": 54,
     "metadata": {},
     "output_type": "execute_result"
    }
   ],
   "source": [
    "selection_sort(list(test_list))"
   ]
  },
  {
   "cell_type": "markdown",
   "metadata": {},
   "source": [
    "С учетом того, что количество рассматриваемых на очередном шаге элементов уменьшается на единицу, общее количество операций: \n",
    "\n",
    "$(n-1) + (n-2) + (n-3) +... + 1 = 1/2 (n-1)(n-1+1)= 1/2(n^2-n) = O(n^2)$. \n",
    "\n",
    "По сравнению с обменной сортировкой:\n",
    "* (+) существенно меньше перестановок элементов $O(n)$ по сравнению $O(n^2)$\n",
    "* (-) нет возможности быстро отсортировать почти отсортированный массив\n",
    "\n",
    "Естественной идеей улучшения алгоритма выбором является идея использования информации, полученной при сравнении элементов при поиске максимального (минимального) элемента на предыдущих шагах. \n",
    "\n",
    "В общем случае, если n – точный квадрат, можно разделить массив на $\\sqrt{n}$ групп по $\\sqrt{n}$ элементов и находить максимальный элемент в каждой подгруппе. Любой выбор, кроме первого, требует не более чем $\\sqrt{n-2}$ сравнений внутри группы ранее выбранного элемента плюс $\\sqrt{n-1}$ сравнений среди \"лидеров групп“. Этот метод получил название квадратичный выбор общее время его работы составляет порядка $O(n\\sqrt{n})$ что существенно лучше, чем $O(n^2)$. "
   ]
  },
  {
   "cell_type": "markdown",
   "metadata": {},
   "source": [
    "### Сортировка включением (вставками) (Insertion Sort)  <a class=\"anchor\" id=\"включением\"></a>\n",
    "* [к оглавлению](#разделы)"
   ]
  },
  {
   "cell_type": "markdown",
   "metadata": {},
   "source": [
    "Массив делится на 2 части: отсортированную и неотсортированную. На каждом шаге берется очередной элемент из неотсортированной части и включается в отсортированную. Простое включение предполагает, что отсортировано начало массива $A_1, A_2, … ,A_{i-1}$, остаток массива $A_i,…,A_n$ – неотсортирован. На очередном шаге $A_i$ включается в отсортированную часть на соответствующее место. "
   ]
  },
  {
   "cell_type": "markdown",
   "metadata": {},
   "source": [
    "Пример работы алгоритма сортировки включением:\n",
    "\n",
    "![](sort_4.png)"
   ]
  },
  {
   "cell_type": "markdown",
   "metadata": {},
   "source": [
    "Пример работы 5го прохода алгоритма сортировки включением:\n",
    "\n",
    "![](sort_5.png)"
   ]
  },
  {
   "cell_type": "code",
   "execution_count": 55,
   "metadata": {},
   "outputs": [],
   "source": [
    "def insertion_sort(a_list):\n",
    "    for index in range(1, len(a_list)):\n",
    "\n",
    "        current_value = a_list[index]\n",
    "        position = index\n",
    "\n",
    "        while position > 0 and a_list[position - 1] > current_value:\n",
    "            a_list[position] = a_list[position - 1]\n",
    "            position -= 1\n",
    "\n",
    "        a_list[position] = current_value\n",
    "    return a_list"
   ]
  },
  {
   "cell_type": "code",
   "execution_count": 56,
   "metadata": {},
   "outputs": [
    {
     "data": {
      "text/plain": [
       "[54, 26, 93, 17, 77, 31, 44, 55, 20, 65]"
      ]
     },
     "execution_count": 56,
     "metadata": {},
     "output_type": "execute_result"
    }
   ],
   "source": [
    "test_list"
   ]
  },
  {
   "cell_type": "code",
   "execution_count": 57,
   "metadata": {},
   "outputs": [
    {
     "data": {
      "text/plain": [
       "[17, 20, 26, 31, 44, 54, 55, 65, 77, 93]"
      ]
     },
     "execution_count": 57,
     "metadata": {},
     "output_type": "execute_result"
    }
   ],
   "source": [
    "insertion_sort(list(test_list))"
   ]
  },
  {
   "cell_type": "markdown",
   "metadata": {},
   "source": [
    "Алгоритм имеет сложность $O(n^2)$, но в случае исходно отсортированного массива внутренний цикл не будет выполняться ни разу, поэтому метод имеет в этом случае временную сложность $O(n)$.\n",
    "\n",
    "* (+) является эффективным алгоритмом для маленьких наборов данных\n",
    "* (+) на практике более эффективен, чем остальные простые квадратичные сортировки "
   ]
  },
  {
   "cell_type": "markdown",
   "metadata": {},
   "source": [
    "---\n",
    "\n",
    "## Эффективные методы сортировки  <a class=\"anchor\" id=\"эффективные\"></a>\n",
    "* [к оглавлению](#разделы)"
   ]
  },
  {
   "cell_type": "markdown",
   "metadata": {},
   "source": [
    "### Сортировка Шелла (Shell Sort)  <a class=\"anchor\" id=\"шелла\"></a>\n",
    "* [к оглавлению](#разделы)"
   ]
  },
  {
   "cell_type": "markdown",
   "metadata": {},
   "source": [
    "Сортировка Шелла (Donald Shell, 1959г.) является модификацией алгоритма сортировки включением, которая состоит в следующем: вместо включения A[i] в подмассив предшествующих ему элементов, его включают в подсписок, содержащий элементы A[i-h], A[i-2h], A[i-3h] и тд, где h – положительная константа. Таким образом, формируется массив, в котором «h-серии» элементов, отстоящих друг от друга на h, сортируются отдельно. Процесс возобновляется с новым значением h, меньшим предыдущего. И так до тех пор, пока не будет достигнуто значение h=1. "
   ]
  },
  {
   "cell_type": "markdown",
   "metadata": {},
   "source": [
    "Пример работы сортировки Шелла (разбиение исходного массива с шагом 3):\n",
    "\n",
    "![](sort_6.png)"
   ]
  },
  {
   "cell_type": "markdown",
   "metadata": {},
   "source": [
    "Пример работы сортировки Шелла с шагом 3 (после сортировки каждого подсписка):\n",
    "\n",
    "![](sort_7.png)"
   ]
  },
  {
   "cell_type": "markdown",
   "metadata": {},
   "source": [
    "Пример работы последней стадии сортировки Шелла с шагом 1 (сортировка вставкой):\n",
    "\n",
    "![](sort_8.png)"
   ]
  },
  {
   "cell_type": "markdown",
   "metadata": {},
   "source": [
    "Пример работы сортировки Шелла (разбиение исходго массива с шагом 3):\n",
    "\n",
    "![](sort_9.png)"
   ]
  },
  {
   "cell_type": "code",
   "execution_count": 63,
   "metadata": {},
   "outputs": [],
   "source": [
    "# Модификация сортировки вставкой для подмассива с шагом gap и смещением start:\n",
    "def gap_insertion_sort(a_list, start, gap):\n",
    "    for i in range(start + gap, len(a_list), gap):\n",
    "        current_value = a_list[i]\n",
    "        position = i\n",
    "        \n",
    "        while position >= gap and a_list[position - gap] > current_value:\n",
    "            a_list[position] = a_list[position - gap]\n",
    "            position = position - gap\n",
    "\n",
    "        a_list[position] = current_value        "
   ]
  },
  {
   "cell_type": "code",
   "execution_count": 64,
   "metadata": {},
   "outputs": [],
   "source": [
    "def shell_sort(a_list):\n",
    "    sublist_count = len(a_list) // 2\n",
    "    while sublist_count > 0:\n",
    "        for start_position in range(sublist_count):\n",
    "            gap_insertion_sort(a_list, start_position, sublist_count)\n",
    "\n",
    "        print(\"After inc. of size\", sublist_count, \"Lst:\", a_list)\n",
    "\n",
    "        sublist_count = sublist_count // 2"
   ]
  },
  {
   "cell_type": "code",
   "execution_count": 67,
   "metadata": {},
   "outputs": [
    {
     "data": {
      "text/plain": [
       "([54, 26, 93, 17, 77, 31, 44, 55, 20, 65], 10)"
      ]
     },
     "execution_count": 67,
     "metadata": {},
     "output_type": "execute_result"
    }
   ],
   "source": [
    "test_list, len(test_list)"
   ]
  },
  {
   "cell_type": "code",
   "execution_count": 66,
   "metadata": {},
   "outputs": [
    {
     "name": "stdout",
     "output_type": "stream",
     "text": [
      "After inc. of size 5 Lst: [31, 26, 55, 17, 65, 54, 44, 93, 20, 77]\n",
      "After inc. of size 2 Lst: [20, 17, 31, 26, 44, 54, 55, 77, 65, 93]\n",
      "After inc. of size 1 Lst: [17, 20, 26, 31, 44, 54, 55, 65, 77, 93]\n"
     ]
    }
   ],
   "source": [
    "shell_sort(list(test_list))"
   ]
  },
  {
   "cell_type": "markdown",
   "metadata": {},
   "source": [
    "Для достаточно больших массивов рекомендуемой считается такая последовательность, что \n",
    "\n",
    "$$h_{i+1}=3h_i+1, h_1=1$$ \n",
    "\n",
    "получается последовательность : 1, 4, 13, 40, 121…($h_{i+1}=3h_i+1$)\n",
    "\n",
    "Начинается процесс с $h_{m-2}$, такого, что: $$h_{m-2} ≥ [n / 9]$$\n"
   ]
  },
  {
   "cell_type": "markdown",
   "metadata": {},
   "source": [
    "Временная сложность для алгоритма Шелла – $O (n^{4/3})$ и $\\Theta (n^{7/6})$, среднее число перемещений ~ $1,66n^{1,25}$. \n",
    "\n",
    "Количество перестановок элементов по результатам экспериментов со случайным массивом иллюстрируется следующей таблицей. \n",
    "\n",
    "![](sort_10.png)"
   ]
  },
  {
   "cell_type": "markdown",
   "metadata": {},
   "source": [
    "### Быстрая сортировка (Quick Sort)  <a class=\"anchor\" id=\"быстрая\"></a>\n",
    "* [к оглавлению](#разделы)"
   ]
  },
  {
   "cell_type": "markdown",
   "metadata": {},
   "source": [
    "Быстрая сортировка – это алгоритм сортировки, время работы которого для входного массива из n чисел в наихудшем случае равно $O(n^2)$. \n",
    "Несмотря на такую медленную работу в наихудшем случае, этот алгоритм на практике зачастую оказывается оптимальным благодаря тому, что в среднем время его работы намного лучше: $O (n \\ln n)$. Кроме того, постоянные множители, не учтенные в выражении $O (n \\ln n)$, достаточно малы по величине. \n",
    "Алгоритм обладает также тем преимуществом, что сортировка в нем выполняется без использования дополнительной памяти, поэтому он хорошо работает даже в средах с виртуальной памятью. "
   ]
  },
  {
   "cell_type": "markdown",
   "metadata": {},
   "source": [
    "Алгоритм быстрой сортировки является реализацией парадигмы «разделяй и властвуй». Разделение исходного массива осуществляется по следующему принципу: \n",
    "\n",
    "1. Выбрать наугад какой-либо элемент массива – х \n",
    "2. Просмотреть массив слева направо, пока не обнаружим элемент $A_i$ > x \n",
    "3. Просмотреть массив справа налево, пока не встретим $A_i$ < х \n",
    "4. Поменять местами эти два элемента \n",
    "5. Процесс просмотра и обмена продолжается, пока указатели обоих просмотров не встретятся "
   ]
  },
  {
   "cell_type": "markdown",
   "metadata": {},
   "source": [
    "Пример работы быстрой сортировки (выбор элемента для разделения массива):\n",
    "\n",
    "![](sort_11.png)"
   ]
  },
  {
   "cell_type": "markdown",
   "metadata": {},
   "source": [
    "Пример работы быстрой сортировки (разделения массива на две части: со значениями меньшими и большими, чем у разделяющего элемента):\n",
    "\n",
    "![](sort_12.png)"
   ]
  },
  {
   "cell_type": "markdown",
   "metadata": {},
   "source": [
    "Пример работы быстрой сортировки (подготовка к рекурсивному вызову сортировки двух подмассивов):\n",
    "\n",
    "![](sort_13.png)"
   ]
  },
  {
   "cell_type": "code",
   "execution_count": 82,
   "metadata": {},
   "outputs": [],
   "source": [
    "def quick_sort(a_list):\n",
    "    quick_sort_helper(a_list, 0, len(a_list) - 1)\n",
    "    return a_list\n",
    "\n",
    "def quick_sort_helper(a_list, first, last):\n",
    "    if first < last:\n",
    "\n",
    "        split_point = partition(a_list, first, last)\n",
    "#         print(a_list[first:split_point-1+1], a_list[split_point], a_list[split_point + 1:last+1])\n",
    "        \n",
    "        quick_sort_helper(a_list, first, split_point - 1)\n",
    "        quick_sort_helper(a_list, split_point + 1, last)\n",
    "\n",
    "def partition(a_list, first, last):\n",
    "    pivot_value = a_list[first]\n",
    "\n",
    "    left_mark = first + 1\n",
    "    right_mark = last\n",
    "\n",
    "    done = False\n",
    "    while not done:\n",
    "\n",
    "        while left_mark <= right_mark and a_list[left_mark] <= pivot_value:\n",
    "            left_mark = left_mark + 1\n",
    "\n",
    "        while a_list[right_mark] >= pivot_value and right_mark >= left_mark:\n",
    "            right_mark = right_mark - 1\n",
    "\n",
    "        if right_mark < left_mark:\n",
    "            done = True\n",
    "        else:\n",
    "            temp = a_list[left_mark]\n",
    "            a_list[left_mark] = a_list[right_mark]\n",
    "            a_list[right_mark] = temp\n",
    "\n",
    "    temp = a_list[first]\n",
    "    a_list[first] = a_list[right_mark]\n",
    "    a_list[right_mark] = temp\n",
    "\n",
    "    return right_mark            "
   ]
  },
  {
   "cell_type": "code",
   "execution_count": 83,
   "metadata": {},
   "outputs": [
    {
     "data": {
      "text/plain": [
       "[54, 26, 93, 17, 77, 31, 44, 55, 20, 65]"
      ]
     },
     "execution_count": 83,
     "metadata": {},
     "output_type": "execute_result"
    }
   ],
   "source": [
    "test_list"
   ]
  },
  {
   "cell_type": "code",
   "execution_count": 84,
   "metadata": {
    "scrolled": true
   },
   "outputs": [
    {
     "name": "stdout",
     "output_type": "stream",
     "text": [
      "[31, 26, 20, 17, 44] 54 [77, 55, 93, 65]\n",
      "[17, 26, 20] 31 [44]\n",
      "[] 17 [26, 20]\n",
      "[20] 26 []\n",
      "[65, 55] 77 [93]\n",
      "[55] 65 []\n"
     ]
    },
    {
     "data": {
      "text/plain": [
       "[17, 20, 26, 31, 44, 54, 55, 65, 77, 93]"
      ]
     },
     "execution_count": 84,
     "metadata": {},
     "output_type": "execute_result"
    }
   ],
   "source": [
    "quick_sort(list(test_list))"
   ]
  },
  {
   "cell_type": "markdown",
   "metadata": {},
   "source": [
    "Ожидаемое число обменов в быстром алгоритме – $(n-1)/6$, общее число сравнений $n \\ln n$. Наихудший случай – в качестве элемента для разбиения x выбирается наибольшее из всех значений в указанной области, т.е. левая часть состоит из $n-1$ элементов, а правая из 1, тогда временная сложность становится пропорциональна $n^2$. "
   ]
  },
  {
   "cell_type": "markdown",
   "metadata": {},
   "source": [
    "### Сортировка слиянием (Merge Sort)  <a class=\"anchor\" id=\"слиянием\"></a>\n",
    "* [к оглавлению](#разделы)"
   ]
  },
  {
   "cell_type": "markdown",
   "metadata": {},
   "source": [
    "Многие полезные алгоритмы имеют рекурсивную структуру: для решения данной задачи они рекурсивно вызывают сами себя один или несколько раз, чтобы решить вспомогательную задачу, имеющую непосредственное отношение к поставленной задаче. Такие алгоритмы зачастую разрабатываются с помощью метода декомпозиции, или разбиения: \n",
    "* сложная задача разбивается на несколько более простых, которые подобны исходной задаче, но имеют меньший объем;\n",
    "* далее эти вспомогательные задачи решаются рекурсивным методом, после чего полученные решения комбинируются с целью получить решение исходной задачи. \n",
    "\n",
    "Парадигма, лежащая в основе метода декомпозиции «разделяй и властвуй», на каждом уровне рекурсии включает в себя три этапа: \n",
    "1. Разделение задачи на несколько подзадач. \n",
    "2. Покорение – рекурсивное решение этих подзадач. Когда объем подзадачи достаточно мал, выделенные подзадачи решаются непосредственно. \n",
    "3. Комбинирование решения исходной задачи из решений вспомогательных задач. "
   ]
  },
  {
   "cell_type": "markdown",
   "metadata": {},
   "source": [
    "Алгоритм сортировки слиянием (merge sort) в большой степени соответствует парадигме метода разбиения. \n",
    "На интуитивном уровне его работу можно описать таким образом. \n",
    "\n",
    " __Разделение__: сортируемая последовательность, состоящая из n элементов, разбивается на две меньшие последовательности, каждая из которых содержит n/2 элементов.\n",
    "\n",
    " __Покорение__: сортировка обеих вспомогательных последовательностей методом слияния. \n",
    "\n",
    " __Комбинирование__: слияние двух отсортированных последовательностей для получения окончательного результата. \n",
    " \n",
    "Рекурсия достигает своего нижнего предела, когда длина сортируемой последовательности становится равной 1. В этом случае вся работа уже сделана, поскольку любую такую последовательность можно считать упорядоченной. \n",
    "Основная операция, которая производится в процессе сортировки по методу слияний, – это объединение двух отсортированных последовательностей в ходе комбинирования (последний этап). Это делается с помощью \n",
    "вспомогательной процедуры слияния. В этой процедуре предполагается, что элементы подмассивов упорядочены. Она сливает эти два подмассива в один отсортированный, элементы которого заменяют текущие элементы. Для выполнения этой процедуры требуется время в $O(n)$ , где $n$ – количество подлежащих слиянию элементов. \n",
    "\n",
    "Временная сложность алгоритма сортировки слиянием можно определить как $O(n \\ln n)$. "
   ]
  },
  {
   "cell_type": "markdown",
   "metadata": {},
   "source": [
    "Разбиение исходного массива в сортировке слиянием:\n",
    "\n",
    "![](sort_14.png)"
   ]
  },
  {
   "cell_type": "markdown",
   "metadata": {},
   "source": [
    "Слияние разбитого  массива в сортировке слиянием:\n",
    "\n",
    "![](sort_15.png)"
   ]
  },
  {
   "cell_type": "code",
   "execution_count": 85,
   "metadata": {},
   "outputs": [],
   "source": [
    "def merge_sort(a_list):\n",
    "    print(\"Splitting \", a_list)\n",
    "    if len(a_list) > 1:\n",
    "        mid = len(a_list) // 2\n",
    "        left_half = a_list[:mid]\n",
    "        right_half = a_list[mid:]\n",
    "\n",
    "        merge_sort(left_half)\n",
    "        merge_sort(right_half)\n",
    "\n",
    "        i = 0\n",
    "        j = 0\n",
    "        k = 0     \n",
    "        \n",
    "        while i < len(left_half) and j < len(right_half):\n",
    "            if left_half[i] < right_half[j]:\n",
    "                a_list[k] = left_half[i]\n",
    "                i += 1\n",
    "            else:\n",
    "                a_list[k] = right_half[j]\n",
    "                j += 1\n",
    "            k += 1\n",
    "\n",
    "        while i < len(left_half):\n",
    "            a_list[k] = left_half[i]\n",
    "            i += 1\n",
    "            k += 1\n",
    "\n",
    "        while j < len(right_half):\n",
    "            a_list[k] = right_half[j]\n",
    "            j += 1\n",
    "            k += 1  \n",
    "            \n",
    "        print(\"Merging \", a_list)   \n",
    "    return a_list"
   ]
  },
  {
   "cell_type": "code",
   "execution_count": 87,
   "metadata": {},
   "outputs": [
    {
     "name": "stdout",
     "output_type": "stream",
     "text": [
      "Splitting  [54, 26, 93, 17, 77, 31, 44, 55, 20, 65]\n",
      "Splitting  [54, 26, 93, 17, 77]\n",
      "Splitting  [54, 26]\n",
      "Splitting  [54]\n",
      "Splitting  [26]\n",
      "Merging  [26, 54]\n",
      "Splitting  [93, 17, 77]\n",
      "Splitting  [93]\n",
      "Splitting  [17, 77]\n",
      "Splitting  [17]\n",
      "Splitting  [77]\n",
      "Merging  [17, 77]\n",
      "Merging  [17, 77, 93]\n",
      "Merging  [17, 26, 54, 77, 93]\n",
      "Splitting  [31, 44, 55, 20, 65]\n",
      "Splitting  [31, 44]\n",
      "Splitting  [31]\n",
      "Splitting  [44]\n",
      "Merging  [31, 44]\n",
      "Splitting  [55, 20, 65]\n",
      "Splitting  [55]\n",
      "Splitting  [20, 65]\n",
      "Splitting  [20]\n",
      "Splitting  [65]\n",
      "Merging  [20, 65]\n",
      "Merging  [20, 55, 65]\n",
      "Merging  [20, 31, 44, 55, 65]\n",
      "Merging  [17, 20, 26, 31, 44, 54, 55, 65, 77, 93]\n"
     ]
    },
    {
     "data": {
      "text/plain": [
       "[17, 20, 26, 31, 44, 54, 55, 65, 77, 93]"
      ]
     },
     "execution_count": 87,
     "metadata": {},
     "output_type": "execute_result"
    }
   ],
   "source": [
    "merge_sort(list(test_list))"
   ]
  },
  {
   "cell_type": "markdown",
   "metadata": {},
   "source": [
    "### Итоги  <a class=\"anchor\" id=\"итоги\"></a>\n",
    "* [к оглавлению](#разделы)"
   ]
  },
  {
   "cell_type": "markdown",
   "metadata": {},
   "source": [
    "Сравнение сортировок: \n",
    "\n",
    "<img src=\"./img/animation of sorting algorithms2.gif\" alt=\"Drawing\" style=\"width: 800px;\"/>\n",
    "\n",
    "http://javarevisited.blogspot.ru/2017/02/difference-between-comparison-quicksort-and-non-comparison-counting-sort-algorithms.html\n",
    "\n",
    "http://www.cprogramming.com/tutorial/computersciencetheory/sortcomp.html\n",
    "\n",
    "https://en.wikipedia.org/wiki/Sorting_algorithm"
   ]
  },
  {
   "cell_type": "markdown",
   "metadata": {},
   "source": [
    "## Сортировка в Python  <a class=\"anchor\" id=\"в-python\"></a>\n",
    "* [к оглавлению](#разделы)"
   ]
  },
  {
   "cell_type": "code",
   "execution_count": 88,
   "metadata": {},
   "outputs": [],
   "source": [
    "colors = ['red', 'green', 'blue', 'cyan', 'magenta', 'yellow']"
   ]
  },
  {
   "cell_type": "code",
   "execution_count": 89,
   "metadata": {},
   "outputs": [
    {
     "data": {
      "text/plain": [
       "['red', 'green', 'blue', 'cyan', 'magenta', 'yellow']"
      ]
     },
     "execution_count": 89,
     "metadata": {},
     "output_type": "execute_result"
    }
   ],
   "source": [
    "colors"
   ]
  },
  {
   "cell_type": "code",
   "execution_count": 90,
   "metadata": {},
   "outputs": [],
   "source": [
    "# Встроенный метод для list (сортирует на месте):\n",
    "colors.sort() \n",
    "# This method has the effect of reordering the elements of the list into order, \n",
    "# as deﬁned by the natural meaning of the < operator for those elements"
   ]
  },
  {
   "cell_type": "code",
   "execution_count": 91,
   "metadata": {},
   "outputs": [
    {
     "data": {
      "text/plain": [
       "['blue', 'cyan', 'green', 'magenta', 'red', 'yellow']"
      ]
     },
     "execution_count": 91,
     "metadata": {},
     "output_type": "execute_result"
    }
   ],
   "source": [
    "colors"
   ]
  },
  {
   "cell_type": "code",
   "execution_count": 70,
   "metadata": {
    "collapsed": true,
    "jupyter": {
     "outputs_hidden": true
    }
   },
   "outputs": [],
   "source": [
    "colors = ['red', 'green', 'blue', 'cyan', 'magenta', 'yellow']"
   ]
  },
  {
   "cell_type": "code",
   "execution_count": 92,
   "metadata": {},
   "outputs": [
    {
     "data": {
      "text/plain": [
       "['blue', 'cyan', 'green', 'magenta', 'red', 'yellow']"
      ]
     },
     "execution_count": 92,
     "metadata": {},
     "output_type": "execute_result"
    }
   ],
   "source": [
    "sorted(colors) # сортирует в новом списке"
   ]
  },
  {
   "cell_type": "code",
   "execution_count": 93,
   "metadata": {},
   "outputs": [
    {
     "data": {
      "text/plain": [
       "['blue', 'cyan', 'green', 'magenta', 'red', 'yellow']"
      ]
     },
     "execution_count": 93,
     "metadata": {},
     "output_type": "execute_result"
    }
   ],
   "source": [
    "colors"
   ]
  },
  {
   "cell_type": "code",
   "execution_count": 94,
   "metadata": {},
   "outputs": [
    {
     "data": {
      "text/plain": [
       "['red', 'blue', 'cyan', 'green', 'yellow', 'magenta']"
      ]
     },
     "execution_count": 94,
     "metadata": {},
     "output_type": "execute_result"
    }
   ],
   "source": [
    "# задание функции для определения ключа для сортировки:\n",
    "sorted(colors, key=len)"
   ]
  },
  {
   "cell_type": "markdown",
   "metadata": {},
   "source": [
    "https://docs.python.org/3/howto/sorting.html#sortinghowto"
   ]
  },
  {
   "cell_type": "markdown",
   "metadata": {},
   "source": [
    "Эффективный поиск в отсортированном списке\n",
    "\n",
    "Библиотека bisect: https://docs.python.org/3/library/bisect.html#module-bisect"
   ]
  },
  {
   "cell_type": "code",
   "execution_count": 95,
   "metadata": {},
   "outputs": [],
   "source": [
    "from bisect import bisect_left\n",
    "\n",
    "def binary_search(a, x, lo=0, hi=None):  # can't use a to specify default for hi\n",
    "    hi = hi if hi is not None else len(a)  # hi defaults to len(a)   \n",
    "    pos = bisect_left(a, x, lo, hi)  # find insertion position\n",
    "    return (pos if pos != hi and a[pos] == x else None)  # don't walk off the end"
   ]
  },
  {
   "cell_type": "code",
   "execution_count": 96,
   "metadata": {},
   "outputs": [
    {
     "data": {
      "text/plain": [
       "[17, 20, 26, 31, 44, 54, 55, 65, 77, 93]"
      ]
     },
     "execution_count": 96,
     "metadata": {},
     "output_type": "execute_result"
    }
   ],
   "source": [
    "test_list_s = sorted(test_list)\n",
    "test_list_s"
   ]
  },
  {
   "cell_type": "code",
   "execution_count": 97,
   "metadata": {},
   "outputs": [
    {
     "data": {
      "text/plain": [
       "4"
      ]
     },
     "execution_count": 97,
     "metadata": {},
     "output_type": "execute_result"
    }
   ],
   "source": [
    "binary_search(test_list_s, 44)"
   ]
  },
  {
   "cell_type": "code",
   "execution_count": 98,
   "metadata": {},
   "outputs": [
    {
     "name": "stdout",
     "output_type": "stream",
     "text": [
      "None\n"
     ]
    }
   ],
   "source": [
    "print(binary_search(test_list_s, 45))"
   ]
  },
  {
   "cell_type": "code",
   "execution_count": 3,
   "metadata": {},
   "outputs": [
    {
     "name": "stdout",
     "output_type": "stream",
     "text": [
      "8\n"
     ]
    }
   ],
   "source": [
    "print(int('ff', 16))"
   ]
  },
  {
   "cell_type": "code",
   "execution_count": 4,
   "metadata": {},
   "outputs": [
    {
     "name": "stdout",
     "output_type": "stream",
     "text": [
      "Found words: ['This', 'text', 'with', 'some', 'words']\n"
     ]
    }
   ],
   "source": []
  },
  {
   "cell_type": "markdown",
   "metadata": {},
   "source": [
    "1) Необходимо отсортировать список студентов по их среднему баллу за сессию и вывести результат на экран. Использовать алгоритмы сортировки: сортировку выбором, сортировку слиянием и быструю сортировку. Сравнить время выполнения алгоритмов сортировки с помощью декоратора. Данные о студентах хранятся в файле.\n",
    "\n",
    "\n"
   ]
  },
  {
   "cell_type": "code",
   "execution_count": 15,
   "metadata": {},
   "outputs": [
    {
     "name": "stdout",
     "output_type": "stream",
     "text": [
      "{'Владимир Иванов': 88, 'Сергей Петров': 37, 'Валерий Смирнов': 5, 'Ольга Соколов': 3, 'Татьяна Михайлов': 50, 'Виталий Федоров': 64, 'Валерия Волков': 4, 'Милана Козлов': 78, 'Полина Лебедев': 56, 'Екатерина Егоров': 37, 'Тимофей Николаев': 97, 'Илья Кузнецов': 7, 'Виктория Павлов': 68, 'Наталья Орлов': 12, 'Лев Алексеев': 50, 'Юлия Зайцев': 26, 'Маргарита Семенов': 83, 'Аркадий Голубев': 44, 'Руслан Виноградов': 60, 'Аркадий Богданов': 21, 'Татьяна Воробьев': 53, 'Петр Фролов': 51, 'Виталий Козлов': 15, 'Даниил Степанов': 32, 'Елизавета Никитин': 68, 'Владислава Морозов': 46, 'Сергей Андреев': 16, 'Александр Ковалев': 49, 'Евгения Ильин': 91, 'Сергей Гусев': 48, 'Ирина Титов': 50, 'Дарья Куликов': 54, 'Тимофей Ларин': 32, 'Дарья Фомин': 18, 'Илья Давыдов': 57, 'Лидия Макаров': 58, 'Максим Анисимов': 31, 'Андрей Горбачев': 11, 'Екатерина Константинов': 24, 'София Исаев': 48, 'Кирилл Кудрявцев': 63, 'Марьяна Шарапов': 44, 'Артемий Романов': 0, 'Тамара Захаров': 30, 'Евгений Беляков': 97, 'София Тарасов': 1, 'Умар Буров': 84, 'Тимур Афанасьев': 24, 'Сергей Ефимов': 48, 'Павел Лукин': 78}\n",
      "Отсортированный словарь: {'Артемий Романов': 0, 'София Тарасов': 1, 'Ольга Соколов': 3, 'Валерия Волков': 4, 'Валерий Смирнов': 5, 'Илья Кузнецов': 7, 'Андрей Горбачев': 11, 'Наталья Орлов': 12, 'Виталий Козлов': 15, 'Сергей Андреев': 16, 'Дарья Фомин': 18, 'Аркадий Богданов': 21, 'Екатерина Константинов': 24, 'Тимур Афанасьев': 24, 'Юлия Зайцев': 26, 'Тамара Захаров': 30, 'Максим Анисимов': 31, 'Даниил Степанов': 32, 'Тимофей Ларин': 32, 'Сергей Петров': 37, 'Екатерина Егоров': 37, 'Аркадий Голубев': 44, 'Марьяна Шарапов': 44, 'Владислава Морозов': 46, 'Сергей Гусев': 48, 'София Исаев': 48, 'Сергей Ефимов': 48, 'Александр Ковалев': 49, 'Татьяна Михайлов': 50, 'Лев Алексеев': 50, 'Ирина Титов': 50, 'Петр Фролов': 51, 'Татьяна Воробьев': 53, 'Дарья Куликов': 54, 'Полина Лебедев': 56, 'Илья Давыдов': 57, 'Лидия Макаров': 58, 'Руслан Виноградов': 60, 'Кирилл Кудрявцев': 63, 'Виталий Федоров': 64, 'Виктория Павлов': 68, 'Елизавета Никитин': 68, 'Милана Козлов': 78, 'Павел Лукин': 78, 'Маргарита Семенов': 83, 'Умар Буров': 84, 'Владимир Иванов': 88, 'Евгения Ильин': 91, 'Тимофей Николаев': 97, 'Евгений Беляков': 97}\n"
     ]
    },
    {
     "data": {
      "text/plain": [
       "{'Артемий Романов': 0,\n",
       " 'София Тарасов': 1,\n",
       " 'Ольга Соколов': 3,\n",
       " 'Валерия Волков': 4,\n",
       " 'Валерий Смирнов': 5,\n",
       " 'Илья Кузнецов': 7,\n",
       " 'Андрей Горбачев': 11,\n",
       " 'Наталья Орлов': 12,\n",
       " 'Виталий Козлов': 15,\n",
       " 'Сергей Андреев': 16,\n",
       " 'Дарья Фомин': 18,\n",
       " 'Аркадий Богданов': 21,\n",
       " 'Екатерина Константинов': 24,\n",
       " 'Тимур Афанасьев': 24,\n",
       " 'Юлия Зайцев': 26,\n",
       " 'Тамара Захаров': 30,\n",
       " 'Максим Анисимов': 31,\n",
       " 'Даниил Степанов': 32,\n",
       " 'Тимофей Ларин': 32,\n",
       " 'Сергей Петров': 37,\n",
       " 'Екатерина Егоров': 37,\n",
       " 'Аркадий Голубев': 44,\n",
       " 'Марьяна Шарапов': 44,\n",
       " 'Владислава Морозов': 46,\n",
       " 'Сергей Гусев': 48,\n",
       " 'София Исаев': 48,\n",
       " 'Сергей Ефимов': 48,\n",
       " 'Александр Ковалев': 49,\n",
       " 'Татьяна Михайлов': 50,\n",
       " 'Лев Алексеев': 50,\n",
       " 'Ирина Титов': 50,\n",
       " 'Петр Фролов': 51,\n",
       " 'Татьяна Воробьев': 53,\n",
       " 'Дарья Куликов': 54,\n",
       " 'Полина Лебедев': 56,\n",
       " 'Илья Давыдов': 57,\n",
       " 'Лидия Макаров': 58,\n",
       " 'Руслан Виноградов': 60,\n",
       " 'Кирилл Кудрявцев': 63,\n",
       " 'Виталий Федоров': 64,\n",
       " 'Виктория Павлов': 68,\n",
       " 'Елизавета Никитин': 68,\n",
       " 'Милана Козлов': 78,\n",
       " 'Павел Лукин': 78,\n",
       " 'Маргарита Семенов': 83,\n",
       " 'Умар Буров': 84,\n",
       " 'Владимир Иванов': 88,\n",
       " 'Евгения Ильин': 91,\n",
       " 'Тимофей Николаев': 97,\n",
       " 'Евгений Беляков': 97}"
      ]
     },
     "execution_count": 15,
     "metadata": {},
     "output_type": "execute_result"
    }
   ],
   "source": [
    "import random\n",
    "\n",
    "names = [\n",
    "    \"Александр\", \"Екатерина\", \"Иван\", \"Ольга\", \"Дмитрий\", \"Мария\", \"Сергей\", \"Анна\", \"Павел\", \"Наталья\",\n",
    "    \"Александра\", \"Владимир\", \"Татьяна\", \"Алексей\", \"Елена\", \"Виктор\", \"Юлия\", \"Артем\", \"Светлана\", \"Михаил\",\n",
    "    \"Людмила\", \"Николай\", \"Ирина\", \"Андрей\", \"Оксана\", \"Анастасия\", \"Валентин\", \"Ксения\", \"Василий\", \"Евгения\",\n",
    "    \"Григорий\", \"Олеся\", \"Роман\", \"Дарья\", \"Владислав\", \"Лариса\", \"Денис\", \"Марина\", \"Артемий\", \"Евгений\",\n",
    "    \"София\", \"Валентина\", \"Станислав\", \"Ольга\", \"Кирилл\", \"Надежда\", \"Петр\", \"Ева\", \"Игорь\", \"Алина\",\n",
    "    \"Валерий\", \"Тамара\", \"Степан\", \"Лидия\", \"Федор\", \"Алла\", \"Ярослав\", \"Вера\", \"Станислава\", \"Даниил\",\n",
    "    \"Любовь\", \"Сергей\", \"Нина\", \"Владислава\", \"Виктория\", \"Геннадий\", \"Мирослава\", \"Илья\", \"Зоя\",\n",
    "    \"Виталий\", \"Елизавета\", \"Валерия\", \"Руслан\", \"Раиса\", \"Павел\", \"Наталья\", \"Лев\", \"Маргарита\",\n",
    "    \"Антон\",  \"Галина\",\"Владлен\",\"Екатерина\", \"Хонгр\", \"Умар\", \"Расул\", \"Тимур\", \"Ву Ле\", \"Лала\", \"Марьяна\", \"Тимофей\", \n",
    "    \"Арсений\", \"Олег\", \"Аркадий\", \"Афанасий\", \"Константин\", \"Максим\", \"Андрей\", \"Ульяна\", \"Полина\", \"Милана\"\n",
    "]\n",
    " \n",
    "surnames = [\n",
    "    \"Иванов\", \"Петров\", \"Смирнов\", \"Соколов\", \"Михайлов\", \"Федоров\", \"Волков\", \"Козлов\", \"Лебедев\", \"Егоров\",\n",
    "    \"Николаев\", \"Кузнецов\", \"Павлов\", \"Орлов\", \"Алексеев\", \"Зайцев\", \"Семенов\", \"Голубев\", \"Виноградов\", \"Богданов\",\n",
    "    \"Воробьев\", \"Фролов\", \"Козлов\", \"Степанов\", \"Никитин\", \"Морозов\", \"Андреев\", \"Ковалев\", \"Ильин\", \"Гусев\",\n",
    "    \"Титов\", \"Куликов\", \"Ларин\", \"Фомин\", \"Давыдов\", \"Макаров\", \"Анисимов\", \"Горбачев\", \"Константинов\", \"Исаев\",\n",
    "    \"Кудрявцев\", \"Шарапов\", \"Романов\", \"Захаров\", \"Беляков\", \"Тарасов\", \"Буров\", \"Афанасьев\", \"Ефимов\", \"Лукин\"\n",
    "]\n",
    " \n",
    "dictt = {}\n",
    "for surname in surnames:\n",
    "    name = random.choice(names)\n",
    "    mark = random.randrange(0, 100)\n",
    "    dictt[name + ' ' + surname] = mark\n",
    " \n",
    "print(dictt)\n",
    "\n",
    "cd = dictt\n",
    "qd = dictt\n",
    "\n",
    "\n",
    "\n",
    "\n",
    "\n"
   ]
  },
  {
   "cell_type": "code",
   "execution_count": 17,
   "metadata": {},
   "outputs": [
    {
     "name": "stdout",
     "output_type": "stream",
     "text": [
      "Отсортированный словарь:\n"
     ]
    },
    {
     "data": {
      "text/plain": [
       "{'Артемий Романов': 0,\n",
       " 'София Тарасов': 1,\n",
       " 'Ольга Соколов': 3,\n",
       " 'Валерия Волков': 4,\n",
       " 'Валерий Смирнов': 5,\n",
       " 'Илья Кузнецов': 7,\n",
       " 'Андрей Горбачев': 11,\n",
       " 'Наталья Орлов': 12,\n",
       " 'Виталий Козлов': 15,\n",
       " 'Сергей Андреев': 16,\n",
       " 'Дарья Фомин': 18,\n",
       " 'Аркадий Богданов': 21,\n",
       " 'Екатерина Константинов': 24,\n",
       " 'Тимур Афанасьев': 24,\n",
       " 'Юлия Зайцев': 26,\n",
       " 'Тамара Захаров': 30,\n",
       " 'Максим Анисимов': 31,\n",
       " 'Даниил Степанов': 32,\n",
       " 'Тимофей Ларин': 32,\n",
       " 'Екатерина Егоров': 37,\n",
       " 'Сергей Петров': 37,\n",
       " 'Марьяна Шарапов': 44,\n",
       " 'Аркадий Голубев': 44,\n",
       " 'Владислава Морозов': 46,\n",
       " 'София Исаев': 48,\n",
       " 'Сергей Ефимов': 48,\n",
       " 'Сергей Гусев': 48,\n",
       " 'Александр Ковалев': 49,\n",
       " 'Лев Алексеев': 50,\n",
       " 'Татьяна Михайлов': 50,\n",
       " 'Ирина Титов': 50,\n",
       " 'Петр Фролов': 51,\n",
       " 'Татьяна Воробьев': 53,\n",
       " 'Дарья Куликов': 54,\n",
       " 'Полина Лебедев': 56,\n",
       " 'Илья Давыдов': 57,\n",
       " 'Лидия Макаров': 58,\n",
       " 'Руслан Виноградов': 60,\n",
       " 'Кирилл Кудрявцев': 63,\n",
       " 'Виталий Федоров': 64,\n",
       " 'Елизавета Никитин': 68,\n",
       " 'Виктория Павлов': 68,\n",
       " 'Милана Козлов': 78,\n",
       " 'Павел Лукин': 78,\n",
       " 'Маргарита Семенов': 83,\n",
       " 'Умар Буров': 84,\n",
       " 'Владимир Иванов': 88,\n",
       " 'Евгения Ильин': 91,\n",
       " 'Тимофей Николаев': 97,\n",
       " 'Евгений Беляков': 97}"
      ]
     },
     "execution_count": 17,
     "metadata": {},
     "output_type": "execute_result"
    }
   ],
   "source": [
    "#comb sort\n",
    "def comb_sort_decorator(sort_func):\n",
    "    def wrapper(d):\n",
    "        def comb_sort(arr):\n",
    "            def get_next_gap(gap):\n",
    "                # Сокращаем gap для следующего шага\n",
    "                gap = (gap * 10) // 13\n",
    "                if gap < 1:\n",
    "                    return 1\n",
    "                return gap\n",
    "\n",
    "            n = len(arr)\n",
    "            gap = n\n",
    "            swapped = True\n",
    "\n",
    "            while gap != 1 or swapped:\n",
    "                # Получаем следующий gap\n",
    "                gap = get_next_gap(gap)\n",
    "                swapped = False\n",
    "                # Сравниваем все элементы с заданным gap\n",
    "                for i in range(0, n - gap):\n",
    "                    if arr[i][1] > arr[i + gap][1]:\n",
    "                        arr[i], arr[i + gap] = arr[i + gap], arr[i]\n",
    "                        swapped = True\n",
    "\n",
    "            return arr\n",
    "        \n",
    "        # Преобразуем словарь в список кортежей и сортируем его\n",
    "        items = list(d.items())\n",
    "        sorted_items = comb_sort(items)\n",
    "        \n",
    "        # Преобразуем обратно в словарь\n",
    "        sorted_dict = {k: v for k, v in sorted_items}\n",
    "        \n",
    "        # Вызываем исходную функцию с отсортированным словарем\n",
    "        return sort_func(sorted_dict)\n",
    "    \n",
    "    return wrapper\n",
    "\n",
    "# Пример функции, которая будет использовать отсортированный словарь\n",
    "@comb_sort_decorator\n",
    "def process_sorted_dict(d):\n",
    "    print(\"Отсортированный словарь:\")\n",
    "    return d\n",
    "\n",
    "# Пример использования\n",
    "process_sorted_dict(cd)"
   ]
  },
  {
   "cell_type": "code",
   "execution_count": 18,
   "metadata": {},
   "outputs": [
    {
     "name": "stdout",
     "output_type": "stream",
     "text": [
      "Отсортированный словарь:\n"
     ]
    },
    {
     "data": {
      "text/plain": [
       "{'Артемий Романов': 0,\n",
       " 'София Тарасов': 1,\n",
       " 'Ольга Соколов': 3,\n",
       " 'Валерия Волков': 4,\n",
       " 'Валерий Смирнов': 5,\n",
       " 'Илья Кузнецов': 7,\n",
       " 'Андрей Горбачев': 11,\n",
       " 'Наталья Орлов': 12,\n",
       " 'Виталий Козлов': 15,\n",
       " 'Сергей Андреев': 16,\n",
       " 'Дарья Фомин': 18,\n",
       " 'Аркадий Богданов': 21,\n",
       " 'Екатерина Константинов': 24,\n",
       " 'Тимур Афанасьев': 24,\n",
       " 'Юлия Зайцев': 26,\n",
       " 'Тамара Захаров': 30,\n",
       " 'Максим Анисимов': 31,\n",
       " 'Даниил Степанов': 32,\n",
       " 'Тимофей Ларин': 32,\n",
       " 'Сергей Петров': 37,\n",
       " 'Екатерина Егоров': 37,\n",
       " 'Аркадий Голубев': 44,\n",
       " 'Марьяна Шарапов': 44,\n",
       " 'Владислава Морозов': 46,\n",
       " 'Сергей Гусев': 48,\n",
       " 'София Исаев': 48,\n",
       " 'Сергей Ефимов': 48,\n",
       " 'Александр Ковалев': 49,\n",
       " 'Татьяна Михайлов': 50,\n",
       " 'Лев Алексеев': 50,\n",
       " 'Ирина Титов': 50,\n",
       " 'Петр Фролов': 51,\n",
       " 'Татьяна Воробьев': 53,\n",
       " 'Дарья Куликов': 54,\n",
       " 'Полина Лебедев': 56,\n",
       " 'Илья Давыдов': 57,\n",
       " 'Лидия Макаров': 58,\n",
       " 'Руслан Виноградов': 60,\n",
       " 'Кирилл Кудрявцев': 63,\n",
       " 'Виталий Федоров': 64,\n",
       " 'Виктория Павлов': 68,\n",
       " 'Елизавета Никитин': 68,\n",
       " 'Милана Козлов': 78,\n",
       " 'Павел Лукин': 78,\n",
       " 'Маргарита Семенов': 83,\n",
       " 'Умар Буров': 84,\n",
       " 'Владимир Иванов': 88,\n",
       " 'Евгения Ильин': 91,\n",
       " 'Тимофей Николаев': 97,\n",
       " 'Евгений Беляков': 97}"
      ]
     },
     "execution_count": 18,
     "metadata": {},
     "output_type": "execute_result"
    }
   ],
   "source": [
    "#quick comb\n",
    "\n",
    "def quick_sort_decorator(sort_func):\n",
    "    def wrapper(d):\n",
    "        def quick_sort(arr):\n",
    "            if len(arr) <= 1:\n",
    "                return arr\n",
    "            else:\n",
    "                pivot = arr[len(arr) // 2][1]\n",
    "                left = [x for x in arr if x[1] < pivot]\n",
    "                middle = [x for x in arr if x[1] == pivot]\n",
    "                right = [x for x in arr if x[1] > pivot]\n",
    "                return quick_sort(left) + middle + quick_sort(right)\n",
    "        \n",
    "        # Преобразуем словарь в список кортежей и сортируем его\n",
    "        items = list(d.items())\n",
    "        sorted_items = quick_sort(items)\n",
    "        \n",
    "        # Преобразуем обратно в словарь\n",
    "        sorted_dict = {k: v for k, v in sorted_items}\n",
    "        \n",
    "        # Вызываем исходную функцию с отсортированным словарем\n",
    "        return sort_func(sorted_dict)\n",
    "    \n",
    "    return wrapper\n",
    "\n",
    "# Пример функции, которая будет использовать отсортированный словарь\n",
    "@quick_sort_decorator\n",
    "def process_sorted_dict(d):\n",
    "    print(\"Отсортированный словарь:\")\n",
    "    return d\n",
    "\n",
    "\n",
    "process_sorted_dict(qd)"
   ]
  },
  {
   "cell_type": "markdown",
   "metadata": {},
   "source": [
    "2) Необходимо отсортировать массив объектов по заданному критерию и вывести результат на экран. В зависимости от переданного параметра отсортировать массив объектов класса «Книга» по автору, названию или году издания, используя алгоритмы сортировки: пузырьковую, сортировку вставками и быструю сортировку. Сравнить время выполнения алгоритмов сортировки с помощью декоратора. Данные о книгах хранятся в файле."
   ]
  },
  {
   "cell_type": "code",
   "execution_count": 23,
   "metadata": {},
   "outputs": [
    {
     "name": "stdout",
     "output_type": "stream",
     "text": [
      "True\n"
     ]
    }
   ],
   "source": [
    "books = [[\"Роулинг\", \"2002\", \"Гарри Поттер\"], [\"Чехов\", \"1894\", \"Студент\"], [\"Толстой\", \"1867\", \"Война и мир\"]]\n",
    "\n",
    "print('a' < 'b')\n",
    "\n"
   ]
  },
  {
   "cell_type": "code",
   "execution_count": null,
   "metadata": {},
   "outputs": [],
   "source": []
  }
 ],
 "metadata": {
  "kernelspec": {
   "display_name": "Python 3 (ipykernel)",
   "language": "python",
   "name": "python3"
  },
  "language_info": {
   "codemirror_mode": {
    "name": "ipython",
    "version": 3
   },
   "file_extension": ".py",
   "mimetype": "text/x-python",
   "name": "python",
   "nbconvert_exporter": "python",
   "pygments_lexer": "ipython3",
   "version": "3.12.2"
  }
 },
 "nbformat": 4,
 "nbformat_minor": 4
}
