{
 "cells": [
  {
   "cell_type": "markdown",
   "metadata": {},
   "source": [
    "5) Реализовать функцию вычисления факториала с помощью хвостовой рекурсии."
   ]
  },
  {
   "cell_type": "code",
   "execution_count": 156,
   "metadata": {},
   "outputs": [
    {
     "name": "stdout",
     "output_type": "stream",
     "text": [
      "6\n"
     ]
    }
   ],
   "source": [
    "def fact(n, m = 1):\n",
    "    if n == 0:\n",
    "        return m\n",
    "    else:\n",
    "        return fact(n - 1, m * n)\n",
    "\n",
    "print(fact(3))"
   ]
  },
  {
   "cell_type": "markdown",
   "metadata": {},
   "source": [
    "6) Реализовать функцию подсчета n-го числа Фибоначчи с помощью хвостовой рекурсии."
   ]
  },
  {
   "cell_type": "code",
   "execution_count": 155,
   "metadata": {},
   "outputs": [
    {
     "name": "stdout",
     "output_type": "stream",
     "text": [
      "8\n"
     ]
    }
   ],
   "source": [
    "def fib(n, a = 1, b = 1):\n",
    "    if n < 3:\n",
    "        return b\n",
    "    return fib(n - 1, b, a + b)\n",
    "\n",
    "print(fib(6))"
   ]
  },
  {
   "cell_type": "markdown",
   "metadata": {},
   "source": [
    "7) Реализовать декоратор, который выводит на печать возвращаемые значения функции."
   ]
  },
  {
   "cell_type": "code",
   "execution_count": 160,
   "metadata": {},
   "outputs": [],
   "source": [
    "def returner_numb(function): # декоратор\n",
    "    @functools.wraps(function)\n",
    "    def wrapper(*args, **kwargs): # обертка\n",
    "        print(' ' * args[0] * 3 + function.__name__ + '(' + str(args[0]) + ')')\n",
    "        result = function(*args, **kwargs)\n",
    "        if len(args) == 1:\n",
    "            print(' ' * args[0]* 3 + str(1))\n",
    "        else:\n",
    "            print(' ' * args[0] * 3 + str(args[1]))\n",
    "        return result\n",
    "    wrapper.__name__ = function.__name__\n",
    "    wrapper.__doc__ = function.__doc__\n",
    "    return wrapper "
   ]
  },
  {
   "cell_type": "markdown",
   "metadata": {},
   "source": [
    "8) С помощью декоратора реализовать отладочный вывод работы factorial(n) как для вызовов функций, так и для возвращаемых значений."
   ]
  },
  {
   "cell_type": "code",
   "execution_count": 161,
   "metadata": {},
   "outputs": [
    {
     "name": "stdout",
     "output_type": "stream",
     "text": [
      "            fact(4)\n",
      "         fact(3)\n",
      "      fact(2)\n",
      "   fact(1)\n",
      "fact(0)\n",
      "24\n",
      "   24\n",
      "      12\n",
      "         4\n",
      "            1\n",
      "24\n"
     ]
    }
   ],
   "source": [
    "\n",
    "@returner_numb\n",
    "def fact(n, m = 1):\n",
    "    if n == 0:\n",
    "        return m\n",
    "    return fact(n - 1, m * n)\n",
    "    \n",
    "print(fact(4))"
   ]
  },
  {
   "cell_type": "markdown",
   "metadata": {},
   "source": [
    "9) Модернизировать пункт 8) при помощи functools.wraps().\n",
    "\n",
    "https://stackoverflow.com/a/309000"
   ]
  },
  {
   "cell_type": "code",
   "execution_count": 162,
   "metadata": {},
   "outputs": [
    {
     "name": "stdout",
     "output_type": "stream",
     "text": [
      "               fact(5)\n",
      "            fact(4)\n",
      "         fact(3)\n",
      "      fact(2)\n",
      "   fact(1)\n",
      "fact(0)\n",
      "120\n",
      "   120\n",
      "      60\n",
      "         20\n",
      "            5\n",
      "               1\n",
      "120\n"
     ]
    }
   ],
   "source": [
    "import functools\n",
    "def positive_result(function): # декоратор\n",
    "    @functools.wraps(function)\n",
    "    def wrapper(*args, **kwargs): # обертка\n",
    "        print(' ' * args[0] * 3 + function.__name__ + '(' + str(args[0]) + ')')\n",
    "        result = function(*args, **kwargs)\n",
    "        if len(args) == 1:\n",
    "            print(' ' * args[0] * 3 + str(1))\n",
    "        else:\n",
    "            print(' ' * args[0] * 3 + str(args[1]))\n",
    "        return result\n",
    "    return wrapper \n",
    "\n",
    "@positive_result\n",
    "def fact(n, m = 1):\n",
    "    if n == 0:\n",
    "        return m\n",
    "    return fact(n - 1, m * n)\n",
    "    \n",
    "print(fact(5))"
   ]
  },
  {
   "cell_type": "markdown",
   "metadata": {},
   "source": [
    "10) Реализовать декоратор, который выводит на печать имя функции и ее аргументы (на одной строке) и длительность исполнения и возвращаемые значения функции (на другой строке). Вывод на печать оформляется отступами, соответсвующими вложенности вызова функции.\n",
    "\n",
    "Проверить на запуске рекурсивной реализации получения чисел Фибоначчи."
   ]
  },
  {
   "cell_type": "code",
   "execution_count": 211,
   "metadata": {},
   "outputs": [
    {
     "name": "stdout",
     "output_type": "stream",
     "text": [
      "               fib((5,))\n",
      "               2\n",
      "            fib((4, 1, 2))\n",
      "            3\n",
      "         fib((3, 2, 3))\n",
      "         5\n",
      "      fib((2, 3, 5))\n",
      "      5\n",
      "5\n"
     ]
    }
   ],
   "source": [
    "import functools\n",
    "\n",
    "def positive_result(function): # декоратор\n",
    "    @functools.wraps(function)\n",
    "    def wrapper(*args, **kwargs): # обертка\n",
    "        if len(args) == 1:\n",
    "            print(' ' * args[0] * 3 + function.__name__ + '(' + str(args) + ')')\n",
    "            print( ' ' * args[0] * 3 + str(2))\n",
    "        else:\n",
    "            print(' ' * args[0] * 3 + function.__name__ + '(' + str(args) + ')')\n",
    "            if args[0] > 2:\n",
    "                print( ' ' * args[0] * 3 + str(args[1] + args[2]))\n",
    "            else:\n",
    "                print(' ' * args[0] * 3 + str(args[2]))\n",
    "        result = function(*args, **kwargs)\n",
    "        return result\n",
    "    return wrapper \n",
    "\n",
    "@positive_result\n",
    "def fib(n, a = 1, b = 1):\n",
    "    if n < 3:\n",
    "        return b\n",
    "    return fib(n - 1, b, a + b)\n",
    "\n",
    "print(fib(5))"
   ]
  },
  {
   "cell_type": "code",
   "execution_count": null,
   "metadata": {},
   "outputs": [],
   "source": []
  }
 ],
 "metadata": {
  "anaconda-cloud": {},
  "kernelspec": {
   "display_name": "Python 3 (ipykernel)",
   "language": "python",
   "name": "python3"
  },
  "language_info": {
   "codemirror_mode": {
    "name": "ipython",
    "version": 3
   },
   "file_extension": ".py",
   "mimetype": "text/x-python",
   "name": "python",
   "nbconvert_exporter": "python",
   "pygments_lexer": "ipython3",
   "version": "3.12.2"
  }
 },
 "nbformat": 4,
 "nbformat_minor": 4
}
