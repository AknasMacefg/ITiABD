{
 "cells": [
  {
   "cell_type": "markdown",
   "metadata": {},
   "source": [
    "11) Создать декоратор tolst(len, fill) с параметрами len и fill. Декоратор превращает результат декорируемой функции в список состоящий из len элементов. Если исходная функция возвращает меньше заданного количества элементов, то оставшиеся места заполняются значениями fill, в случае, если количество возврващаемых элементов больше len, то хвост последовательности отбрасывается.\n",
    "\n",
    "https://stackoverflow.com/a/10176276"
   ]
  },
  {
   "cell_type": "code",
   "execution_count": 26,
   "metadata": {},
   "outputs": [
    {
     "data": {
      "text/plain": [
       "[0, 1, 2, 100, 100, 100, 100, 100, 100, 100]"
      ]
     },
     "execution_count": 26,
     "metadata": {},
     "output_type": "execute_result"
    }
   ],
   "source": [
    "import functools\n",
    "def tolst(len, fill): # декоратор\n",
    "    def act_tolst(function):  \n",
    "        @functools.wraps(function)\n",
    "        def wrapper(*args, **kwargs): # обертка\n",
    "            result = list(range(len))\n",
    "            result_func = function(*args, **kwargs)\n",
    "            if result_func <= result:\n",
    "                for i in range((max(result) - max(result_func))):\n",
    "                    result_func.append(fill)\n",
    "                return result_func\n",
    "            return result_func[:len]\n",
    "                \n",
    "        return wrapper\n",
    "    return act_tolst \n",
    "\n",
    "@tolst(10, 100)\n",
    "def simplefunc(len):\n",
    "    return list(range(len))\n",
    "\n",
    "simplefunc(3)\n",
    "    "
   ]
  },
  {
   "cell_type": "markdown",
   "metadata": {},
   "source": [
    "12) При помощи механизма map/filter/reduce возвести число 5 в степени от 0 до 10.\n",
    "12.2) Написать реализацию 12.1) без доп. функций (в том числе lambda).\n",
    "12.1) Написать реализацию 12) без оператора ** (возведение в степень) и написания доп. функций."
   ]
  },
  {
   "cell_type": "code",
   "execution_count": 23,
   "metadata": {},
   "outputs": [
    {
     "data": {
      "text/plain": [
       "[1, 5, 25, 125, 625, 3125, 15625, 78125, 390625, 1953125, 9765625]"
      ]
     },
     "execution_count": 23,
     "metadata": {},
     "output_type": "execute_result"
    }
   ],
   "source": [
    "isPower = lambda x: 5**x\n",
    "answ = map(isPower, range(11))\n",
    "list(answ)\n"
   ]
  },
  {
   "cell_type": "markdown",
   "metadata": {},
   "source": [
    "13) При помощи механизма map/filter/reduce превраить список целых чисел в строку, содержащую строковое представление этих чисел, разделенное пробелами.\n",
    "\n",
    "Пример: [1, 2, 3, 4] -> '1 2 3 4'"
   ]
  },
  {
   "cell_type": "code",
   "execution_count": 50,
   "metadata": {},
   "outputs": [
    {
     "name": "stdout",
     "output_type": "stream",
     "text": [
      "1 2 3 4\n"
     ]
    }
   ],
   "source": [
    "print(' '.join(map(str, range(1,5))))"
   ]
  },
  {
   "cell_type": "markdown",
   "metadata": {},
   "source": [
    "14) При помощи механизма map/filter/reduce возвести в квадрат числа от 1 до 100, и рассчитать их сумму, не включая в сумму числа, кратные 9."
   ]
  },
  {
   "cell_type": "code",
   "execution_count": 30,
   "metadata": {},
   "outputs": [
    {
     "data": {
      "text/plain": [
       "215589"
      ]
     },
     "execution_count": 30,
     "metadata": {},
     "output_type": "execute_result"
    }
   ],
   "source": [
    "sum(filter(lambda y: y % 9 != 0, list(map(lambda x: x**2, range(1, 101)))))"
   ]
  },
  {
   "cell_type": "markdown",
   "metadata": {},
   "source": [
    "14.1) Написать реализацию 14) в одну строку."
   ]
  },
  {
   "cell_type": "markdown",
   "metadata": {},
   "source": [
    "15) При помощи механизма map/filter/reduce из списка списков извлечь элементы, содержащиеся во вложенных списках по индексу 1.\n",
    "\n",
    "Пример:\n",
    "[[1, 2, 3], [2, 3, 4], [0, 1 , 1 , 1], [0, 0]] -> [2, 3, 1, 0]"
   ]
  },
  {
   "cell_type": "code",
   "execution_count": 61,
   "metadata": {},
   "outputs": [
    {
     "data": {
      "text/plain": [
       "[2, 3, 1, 0]"
      ]
     },
     "execution_count": 61,
     "metadata": {},
     "output_type": "execute_result"
    }
   ],
   "source": [
    "lst = [[1, 2, 3], [2, 3, 4], [0, 1 , 1 , 1], [0, 0]]\n",
    "list(map(lambda x: x[1], lst))"
   ]
  },
  {
   "cell_type": "markdown",
   "metadata": {},
   "source": [
    "15.1) Написать реализацию 15) без доп. функций (в том числе lambda)."
   ]
  },
  {
   "cell_type": "markdown",
   "metadata": {},
   "source": [
    "16) При помощи механизма map/filter/reduce из несколько одинаковых подряд идущих элементов оставить только один.\n",
    "\n",
    "\n",
    "[1, 2, 3, 4, 4, 4, 5, 6, 6, 7, 6, 1, 1] -> [1, 2, 3, 4, 5, 6, 7, 6, 1]"
   ]
  },
  {
   "cell_type": "code",
   "execution_count": 129,
   "metadata": {},
   "outputs": [
    {
     "name": "stdout",
     "output_type": "stream",
     "text": [
      "[1, 2, 3, 4, 5, 6, 7, 6, 1]\n"
     ]
    }
   ],
   "source": [
    "from functools import reduce\n",
    "lst_uni = []\n",
    "def uni(x, y):\n",
    "    if x is not None and x != y:\n",
    "        lst_uni.append(x)\n",
    "        lst_uni.append(y)  \n",
    "    elif int(lst_uni[-1]) != y:\n",
    "        lst_uni.append(y)\n",
    "    \n",
    "lst = [1, 2, 3, 4, 4, 4, 5, 6, 6, 7, 6, 1, 1]\n",
    "reduce(uni, lst)\n",
    "print(lst_uni)\n",
    "\n"
   ]
  },
  {
   "cell_type": "markdown",
   "metadata": {},
   "source": [
    "17) Написать декоратор flip, который переставляет аргументы декорируемой функции в обратном порядке (функция не имеет именованых аргументов)."
   ]
  },
  {
   "cell_type": "code",
   "execution_count": 80,
   "metadata": {},
   "outputs": [
    {
     "name": "stdout",
     "output_type": "stream",
     "text": [
      "([1, 2, 3], [3, 2, 1])\n"
     ]
    },
    {
     "data": {
      "text/plain": [
       "[3, 2, 1, 1, 2, 3]"
      ]
     },
     "execution_count": 80,
     "metadata": {},
     "output_type": "execute_result"
    }
   ],
   "source": [
    "import functools\n",
    "def flip(function):  \n",
    "    @functools.wraps(function)\n",
    "    def wrapper(*args, **kwargs): # обертка\n",
    "        print(args)\n",
    "        result_func = function(*args[::-1], **kwargs)\n",
    "        return result_func   \n",
    "    return wrapper\n",
    "\n",
    "@flip\n",
    "def simplefunc(slen, elen):\n",
    "    return slen + elen\n",
    "\n",
    "simplefunc([1,2,3], [3,2,1])\n",
    "    "
   ]
  },
  {
   "cell_type": "code",
   "execution_count": null,
   "metadata": {},
   "outputs": [],
   "source": []
  }
 ],
 "metadata": {
  "anaconda-cloud": {},
  "kernelspec": {
   "display_name": "Python 3 (ipykernel)",
   "language": "python",
   "name": "python3"
  },
  "language_info": {
   "codemirror_mode": {
    "name": "ipython",
    "version": 3
   },
   "file_extension": ".py",
   "mimetype": "text/x-python",
   "name": "python",
   "nbconvert_exporter": "python",
   "pygments_lexer": "ipython3",
   "version": "3.10.9"
  }
 },
 "nbformat": 4,
 "nbformat_minor": 1
}
