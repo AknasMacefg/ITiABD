{
 "cells": [
  {
   "cell_type": "markdown",
   "metadata": {},
   "source": [
    "## Функциональное программирование\n",
    "\n",
    "1) Реализовать функцию factorial(n) двумя способами: с помощью цикла и рекурсии.\n",
    "\n",
    "1.1) С использованием глобальной переменной реализовать вывод на экран отладочной информации о вызовах функции factorial(n) печатающий с отступами, соответствующими глубине рекурсии.\n",
    "\n",
    "Пример:\n",
    "\n",
    "In: factorial(4)\n",
    "    \n",
    "    factorial(4)\n",
    "\n",
    "        factorial(3)\n",
    "        \n",
    "            factorial(2)\n",
    "\n",
    "                factorial(1)\n",
    "      \n",
    "                    factorial(0)\n",
    "                    \n",
    "1.2) Реализовать функции printIn(s) и printOut(s), которые выводят строки s с отступами, при этом каждый вывод printIn(s) приводит к увеличению отсутпа, а  каждый вывод printOut(s) приводит к уменьшению отсутпа.\n",
    "\n",
    "1.3) С использованием printIn(s) и printOut(s) реализовать отладочный вывод работы factorial(n) как для вызовов функций, так и для возвращаемых значений.\n",
    "\n",
    "Пример:\n",
    "\n",
    "In: factorial(4)\n",
    "\n",
    "    factorial(4)\n",
    "\n",
    "        factorial(3)\n",
    "        \n",
    "            factorial(2)\n",
    "    \n",
    "                factorial(1)\n",
    "      \n",
    "                    factorial(0)\n",
    "                    \n",
    "                    1\n",
    "                    \n",
    "                1\n",
    "                \n",
    "            2\n",
    "            \n",
    "        6\n",
    "        \n",
    "    24\n",
    "\n",
    "\n"
   ]
  },
  {
   "cell_type": "code",
   "execution_count": 29,
   "metadata": {},
   "outputs": [
    {
     "name": "stdout",
     "output_type": "stream",
     "text": [
      "6\n",
      "   factorial (4)\n",
      "\n",
      "      factorial (3)\n",
      "\n",
      "         factorial (2)\n",
      "\n",
      "            factorial (1)\n",
      "\n",
      "               factorial (0)\n",
      "\n",
      "               1\n",
      "\n",
      "            1\n",
      "\n",
      "         2\n",
      "\n",
      "      6\n",
      "\n",
      "   24\n",
      "\n"
     ]
    },
    {
     "data": {
      "text/plain": [
       "24"
      ]
     },
     "execution_count": 29,
     "metadata": {},
     "output_type": "execute_result"
    }
   ],
   "source": [
    "n = 3\n",
    "q = 1\n",
    "for i in range(1, n + 1):\n",
    "    q *= i\n",
    "print(q)\n",
    "\n",
    "def factorial(ots, n):\n",
    "    def println(ots, n):\n",
    "        print(' ' * ots * 3 + 'factorial (' + str(n) + ')\\n')\n",
    "        return ots + 1\n",
    "    def printOut(ots, n):\n",
    "        print(' ' * ots * 3 + str(n) + '\\n')\n",
    "        return ots - 1\n",
    "        \n",
    "    ots = println(ots, n)       \n",
    "    if n > 0:\n",
    "        n = n * factorial(ots, n-1)\n",
    "        ots = printOut(ots - 1, n)\n",
    "        return n\n",
    "    ots = printOut(ots - 1, 1)\n",
    "    return 1\n",
    "    \n",
    "    \n",
    "n = 4       \n",
    "ots = 1    \n",
    "factorial(ots, n)"
   ]
  },
  {
   "cell_type": "markdown",
   "metadata": {},
   "source": [
    "\n",
    "\n",
    "2) Рекурсивно реализовать функцию fib(n) вычисляющую значение n-го числа Фибоначи. Учесть возможность вычисления числа с отрицательным индексом.\n",
    "\n",
    "2.1) С использованием printIn(s) и printOut(s) реализовать отладочный вывод работы fib(n)\n",
    "\n"
   ]
  },
  {
   "cell_type": "code",
   "execution_count": 43,
   "metadata": {},
   "outputs": [
    {
     "data": {
      "text/plain": [
       "5"
      ]
     },
     "execution_count": 43,
     "metadata": {},
     "output_type": "execute_result"
    }
   ],
   "source": [
    "def fib(n):  \n",
    "    if n not in (1, 2):\n",
    "        n = fib(n - 1) + fib(n - 2)\n",
    "        return n\n",
    "    return 1\n",
    "\n",
    "n = 5 \n",
    "fib(n)"
   ]
  },
  {
   "cell_type": "markdown",
   "metadata": {},
   "source": [
    "3) Реализовать функцию, принимающую на вход итерируемый объект функций и возвращающую словарь, в котором ключ - это первое слово из аннотации функции, а значение - ссылка на функцию.\n",
    "\n"
   ]
  },
  {
   "cell_type": "code",
   "execution_count": null,
   "metadata": {},
   "outputs": [],
   "source": []
  },
  {
   "cell_type": "markdown",
   "metadata": {},
   "source": [
    "4) Создать функцию реализующую REPL для словаря, созданного в задаче 3. Отдельно должен предусматриваться выход из цикла REPL."
   ]
  },
  {
   "cell_type": "markdown",
   "metadata": {},
   "source": [
    "4.1) Доработать REPL из задачи 4 так, чтобы пользователь мог передвать произвольное количество аргументов в функцию (при вводе пользователя аргументы разделяются пробелами).\n",
    "\n",
    "Пример:\n",
    "\n",
    "ввод пользователя>СКЛЕИТЬ текст1 текст2 текст3\n",
    "\n",
    "результат>текст1текст2текст3"
   ]
  },
  {
   "cell_type": "markdown",
   "metadata": {},
   "source": [
    "4.2) Доработать REPL из задачи 4 так, чтобы пользователь мог передвать  аргументы в функцию по их имени(при вводе пользователя именованные аргументы опредлеяются как ИМЯ=ЗНАЧЕНИЕ). \n",
    "\n",
    "Пример:\n",
    "\n",
    "ввод пользователя>БРОСИТЬ расстояние=5 \n",
    "\n",
    "\n",
    "результат>Предмет брошен на расстояние 5"
   ]
  },
  {
   "cell_type": "code",
   "execution_count": null,
   "metadata": {},
   "outputs": [],
   "source": []
  }
 ],
 "metadata": {
  "anaconda-cloud": {},
  "kernelspec": {
   "display_name": "Python 3 (ipykernel)",
   "language": "python",
   "name": "python3"
  },
  "language_info": {
   "codemirror_mode": {
    "name": "ipython",
    "version": 3
   },
   "file_extension": ".py",
   "mimetype": "text/x-python",
   "name": "python",
   "nbconvert_exporter": "python",
   "pygments_lexer": "ipython3",
   "version": "3.12.2"
  }
 },
 "nbformat": 4,
 "nbformat_minor": 4
}
