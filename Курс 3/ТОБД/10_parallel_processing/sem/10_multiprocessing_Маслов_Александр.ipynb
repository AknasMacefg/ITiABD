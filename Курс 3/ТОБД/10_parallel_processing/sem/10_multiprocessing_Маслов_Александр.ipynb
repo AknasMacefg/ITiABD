{
 "cells": [
  {
   "cell_type": "markdown",
   "metadata": {},
   "source": [
    "# Параллельные вычисления"
   ]
  },
  {
   "cell_type": "markdown",
   "metadata": {},
   "source": [
    "Материалы:\n",
    "* Макрушин С.В. Лекция 10: Параллельные вычисления\n",
    "* https://docs.python.org/3/library/multiprocessing.html"
   ]
  },
  {
   "cell_type": "markdown",
   "metadata": {},
   "source": [
    "## Задачи для совместного разбора"
   ]
  },
  {
   "cell_type": "markdown",
   "metadata": {},
   "source": [
    "1. Посчитайте, сколько раз встречается каждый из символов (заглавные и строчные символы не различаются) в файле `Dostoevskiy Fedor. Prestuplenie i nakazanie - BooksCafe.Net.txt` и в файле `Dostoevskiy Fedor. Igrok - BooksCafe.Net.txt`. "
   ]
  },
  {
   "cell_type": "code",
   "execution_count": 18,
   "metadata": {},
   "outputs": [
    {
     "name": "stdout",
     "output_type": "stream",
     "text": [
      "Текст 1\n",
      "{'с': 11506, 'п': 5488, 'а': 18235, 'и': 13586, 'б': 3979, 'о': 23129, ',': 6371, ' ': 46547, 'ч': 4112, 'т': 14244, 'к': 6743, 'л': 9960, 'н': 14239, 'г': 3947, 'у': 6043, 'в': 9397, 'е': 20053, 'й': 2027, 'э': 835, 'р': 9481, 'b': 219, 'o': 376, 'k': 20, 's': 428, 'c': 323, 'a': 589, 'f': 51, 'e': 1199, '.': 2953, 'n': 458, 't': 331, ':': 211, 'h': 226, 'p': 99, '/': 19, 'u': 284, 'r': 307, 'd': 191, 'v': 86, 'i': 368, 'y': 7, '_': 3, '-': 899, '1': 45, '0': 21, '9': 35, '6': 41, 'm': 400, 'l': 570, 'ж': 2296, 'д': 6680, 'х': 1534, 'ф': 633, 'м': 7105, 'g': 72, '2': 41, '4': 41, '7': 41, 'я': 5457, '!': 717, '(': 275, 'з': 3354, ')': 275, 'ц': 816, 'ь': 4856, 'ш': 1942, 'ы': 3868, 'ю': 1322, ';': 405, 'щ': 586, '?': 570, 'ъ': 62, '—': 1725, '…': 279, '«': 128, '[': 96, ']': 96, '»': 127, \"'\": 58, '3': 39, '5': 39, 'q': 49, 'j': 39, '8': 37, 'w': 6, 'x': 23, 'z': 43, '`': 8}\n",
      "Текст 2\n",
      "{'с': 50083, 'п': 25651, 'а': 73554, 'и': 62029, 'б': 16015, 'о': 106739, ',': 26972, ' ': 188396, 'ч': 16491, 'т': 59812, 'к': 30801, 'л': 42327, 'н': 60919, 'г': 16173, 'у': 27308, 'в': 43699, 'е': 80971, 'й': 9746, 'э': 3202, 'р': 39783, 'b': 24, 'o': 103, 'k': 15, 's': 95, 'c': 41, 'a': 97, 'f': 22, 'e': 161, '.': 9863, 'n': 113, 't': 97, ':': 983, 'h': 47, 'p': 28, '/': 21, 'u': 85, 'r': 75, 'd': 37, 'v': 64, 'i': 234, 'y': 4, '_': 7, '-': 3557, '1': 383, '0': 109, '9': 99, '6': 270, 'm': 53, 'l': 45, 'ж': 10551, 'д': 29632, 'х': 8126, 'ф': 1236, 'м': 29311, 'z': 10, '2': 140, '8': 296, '5': 135, 'я': 19750, '!': 3279, 'з': 14413, 'ш': 7436, 'ь': 20553, 'ю': 5417, 'ц': 2781, '«': 1186, '»': 1174, 'ы': 15448, 'щ': 3038, 'x': 51, '—': 6439, '(': 527, ')': 526, '[': 84, ']': 84, 'ъ': 222, '7': 120, '3': 119, '&': 21, '#': 21, ';': 1321, '…': 2262, '?': 2265, '4': 129, '–': 48, '№': 44, 'ё': 968, '\\t': 47, '„': 43, '“': 43, \"'\": 10, 'g': 18, 'j': 0, 'q': 8, 'w': 3}\n"
     ]
    }
   ],
   "source": [
    "dictionary1 = {}\n",
    "dictionary2 = {}\n",
    "with open('10_multiprocessing_data/Dostoevskiy Fedor. Igrok - BooksCafe.Net.txt', 'r') as file:\n",
    "    text1 = file.read().replace('\\n', '').replace('\\xa0', ' ')\n",
    "with open('10_multiprocessing_data/Dostoevskiy Fedor. Prestuplenie i nakazanie - BooksCafe.Net.txt', 'r') as file:\n",
    "    text2 = file.read().replace('\\n', '').replace('\\xa0', ' ')\n",
    "\n",
    "\n",
    "def counter (text):\n",
    "    dictionary = {}\n",
    "    for i in text:\n",
    "        if i.lower() not in dictionary:\n",
    "            dictionary[i.lower()] = 0\n",
    "        else:\n",
    "            dictionary[i.lower()] = dictionary[i.lower()] + 1 \n",
    "    print(dictionary)\n",
    "\n",
    "print(\"Текст 1\")\n",
    "counter(text1)\n",
    "print(\"Текст 2\")\n",
    "counter(text2)\n"
   ]
  },
  {
   "cell_type": "markdown",
   "metadata": {},
   "source": []
  },
  {
   "cell_type": "markdown",
   "metadata": {},
   "source": [
    "2. Решить задачу 1, распараллелив вычисления с помощью модуля `multiprocessing`. Для обработки каждого файла создать свой собственный процесс. "
   ]
  },
  {
   "cell_type": "code",
   "execution_count": null,
   "metadata": {},
   "outputs": [],
   "source": [
    "import multiprocessing as mp\n",
    "\n",
    "def counter(filename, result_dict):\n",
    "    with open(filename, 'r') as file:\n",
    "        text = file.read().replace('\\n', '').replace('\\xa0', ' ')\n",
    "    dictionary = {}\n",
    "    for i in text:\n",
    "        if i.lower() not in dictionary:\n",
    "            dictionary[i.lower()] = 1\n",
    "        else:\n",
    "            dictionary[i.lower()] = dictionary[i.lower()] + 1  \n",
    "    result_dict.put(dictionary)\n",
    "\n",
    "output = mp.Queue()\n",
    "dictionary1 = {}\n",
    "dictionary2 = {}\n",
    "processes = [mp.Process(target=counter, args=('10_multiprocessing_data/Dostoevskiy Fedor. Igrok - BooksCafe.Net.txt', output))]\n",
    "\n",
    "for p in processes:\n",
    "    p.start()\n",
    "\n",
    "for p in processes:\n",
    "    p.join()\n",
    "\n",
    "results = [output.get() for p in processes]\n",
    "\n",
    "print(results)\n",
    "    "
   ]
  },
  {
   "cell_type": "markdown",
   "metadata": {},
   "source": [
    "## Лабораторная работа 10"
   ]
  },
  {
   "cell_type": "markdown",
   "metadata": {},
   "source": [
    "1. Разбейте файл `recipes_full.csv` на несколько (например, 8) примерно одинаковых по объему файлов c названиями `id_tag_nsteps_*.csv`. Каждый файл содержит 3 столбца: `id`, `tag` и `n_steps`, разделенных символом `;`. Для разбора строк используйте `csv.reader`.\n",
    "\n",
    "__Важно__: вы не можете загружать в память весь файл сразу. Посмотреть на первые несколько строк файла вы можете, написав код, который считывает эти строки.\n",
    "\n",
    "Подсказка: примерное кол-во строк в файле - 2.3 млн.\n",
    "\n",
    "```\n",
    "id;tag;n_steps\n",
    "137739;60-minutes-or-less;11\n",
    "137739;time-to-make;11\n",
    "137739;course;11\n",
    "```\n"
   ]
  },
  {
   "cell_type": "code",
   "execution_count": 28,
   "metadata": {},
   "outputs": [],
   "source": [
    "import pandas as pd\n",
    "skip = 1\n",
    "rows = 290000\n",
    "header = {1:'id',5:'tags',6:'n_steps'} \n",
    "for i in range (0, 8):\n",
    "    data = pd.read_csv('recipes_full.csv', header = None, skiprows = skip, nrows=rows)\n",
    "    skip = skip + rows\n",
    "    data.iloc[:, [1, 5, 6]].to_csv('id_tag_nsteps_' + str(i) + '.csv', index=False, header=[header[1], header[5], header[6]], decimal=';')\n"
   ]
  },
  {
   "cell_type": "markdown",
   "metadata": {},
   "source": [
    "2. Напишите функцию, которая принимает на вход название файла, созданного в результате решения задачи 1, считает среднее значение количества шагов для каждого тэга и возвращает результат в виде словаря."
   ]
  },
  {
   "cell_type": "markdown",
   "metadata": {},
   "source": [
    "3. Напишите функцию, которая считает среднее значение количества шагов для каждого тэга по всем файлам, полученным в задаче 1, и возвращает результат в виде словаря. Не используйте параллельных вычислений. При реализации выделите функцию, которая объединяет результаты обработки отдельных файлов. Модифицируйте код из задачи 2 таким образом, чтобы иметь возможность получить результат, имея результаты обработки отдельных файлов. Определите, за какое время задача решается для всех файлов.\n"
   ]
  },
  {
   "cell_type": "code",
   "execution_count": null,
   "metadata": {},
   "outputs": [],
   "source": []
  },
  {
   "cell_type": "markdown",
   "metadata": {},
   "source": [
    "4. Решите задачу 3, распараллелив вычисления с помощью модуля `multiprocessing`. Для обработки каждого файла создайте свой собственный процесс. Определите, за какое время задача решается для всех файлов."
   ]
  },
  {
   "cell_type": "markdown",
   "metadata": {},
   "source": [
    "5. (*) Решите задачу 3, распараллелив вычисления с помощью модуля `multiprocessing`. Создайте фиксированное количество процессов (равное половине количества ядер на компьютере). При помощи очереди передайте названия файлов для обработки процессам и при помощи другой очереди заберите от них ответы. "
   ]
  },
  {
   "cell_type": "code",
   "execution_count": null,
   "metadata": {},
   "outputs": [],
   "source": []
  }
 ],
 "metadata": {
  "kernelspec": {
   "display_name": "Python 3",
   "language": "python",
   "name": "python3"
  },
  "language_info": {
   "codemirror_mode": {
    "name": "ipython",
    "version": 3
   },
   "file_extension": ".py",
   "mimetype": "text/x-python",
   "name": "python",
   "nbconvert_exporter": "python",
   "pygments_lexer": "ipython3",
   "version": "3.13.2"
  }
 },
 "nbformat": 4,
 "nbformat_minor": 4
}
