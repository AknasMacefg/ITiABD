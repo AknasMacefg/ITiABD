{
 "cells": [
  {
   "cell_type": "markdown",
   "id": "776cde9b",
   "metadata": {},
   "source": [
    "# ИД23-1 Маслов АН\n",
    "## Пример 4. Программа создает случайное количество строк в (кол-во ядер / 2) процессах, каждый процесс формирует результат в отдельном файле.\n",
    " "
   ]
  },
  {
   "cell_type": "code",
   "execution_count": 37,
   "id": "097ac8bc",
   "metadata": {},
   "outputs": [
    {
     "name": "stdout",
     "output_type": "stream",
     "text": [
      "Overwriting rand_csv.py\n"
     ]
    }
   ],
   "source": [
    "%%file rand_csv.py\n",
    "import random\n",
    "import time\n",
    "\n",
    "def rand_csv(length, pos, time_start, time_end, output): #генератор случайно даты и числа\n",
    "    csv_rows = []\n",
    "    for i in range(length):\n",
    "        stime = time.mktime(time.strptime(time_start, '%m/%d/%Y %I:%M %p'))\n",
    "        etime = time.mktime(time.strptime(time_end, '%m/%d/%Y %I:%M %p'))\n",
    "        ptime = stime + random.random() * (etime - stime)\n",
    "        csv_rows.append([time.strftime('%y%m%d%H%M%S', time.localtime(ptime)), random.randint(1, 9999999), pos])\n",
    "    output.put(csv_rows)"
   ]
  },
  {
   "cell_type": "code",
   "execution_count": 38,
   "id": "6703c6ce",
   "metadata": {},
   "outputs": [],
   "source": [
    "import rand_csv"
   ]
  },
  {
   "cell_type": "code",
   "execution_count": 39,
   "id": "3d9b4a58",
   "metadata": {},
   "outputs": [],
   "source": [
    "import multiprocessing as mp\n",
    "import random\n",
    "import pandas as pd\n",
    "\n",
    "output = mp.Queue()\n",
    "\n",
    "processes = [mp.Process(target=rand_csv.rand_csv, args=(random.randint(50000,500000), x, \"1/1/2008 1:30 PM\", \"1/1/2025 4:50 AM\", output)) \\\n",
    "             for x in range(int(mp.cpu_count() // 2))] #создаем (кол-во ядер / 2) процесса\n",
    "for p in processes:\n",
    "    p.start()\n",
    "\n",
    "results = [output.get() for p in processes] #сохраняем результат\n",
    "\n",
    "for p in processes:\n",
    "    p.join()\n",
    "\n",
    "pandas_result = []\n",
    "for i in results:\n",
    "    pandas_result = pandas_result + i\n",
    "    resultdata = pd.DataFrame(pandas_result, columns=[\"datetime\", \"rand_number\", \"process_number\"]) #создаем датафрейм\n",
    "    resultdata['datetime'] = pd.to_datetime(resultdata['datetime'], format='%y%m%d%H%M%S') #форматируем для удобства\n",
    "    resultdata = resultdata.sort_values('datetime') #сортируем по дате\n",
    "    resultdata.to_csv(\"csv_result_\"+str(resultdata[\"process_number\"][0])+\".csv\", sep=';', index=False) #записываем результат в csv файлы\n",
    "    pandas_result = []"
   ]
  },
  {
   "cell_type": "markdown",
   "id": "fa8c0a64",
   "metadata": {},
   "source": [
    "## Написать функцию, которая считает среднее значение числового значения для каждого года по всем полученным файлам и возвращает результат в виде словаря. Не используйте параллельных вычислений. При реализации выделить функцию, которая объединяет результаты обработки отдельных файлов."
   ]
  },
  {
   "cell_type": "code",
   "execution_count": 40,
   "id": "8e7123d8",
   "metadata": {},
   "outputs": [],
   "source": [
    "def avg_count(filename): #подсчёт среднего количества шагов по тэгу\n",
    "    numbers_dictionary = {}\n",
    "    data = pd.read_csv(filename, sep=';')\n",
    "    for i, k in zip(data['datetime'], data['rand_number']):\n",
    "        dates_clean = i[:4]\n",
    "        if dates_clean not in numbers_dictionary:\n",
    "            numbers_dictionary[dates_clean] = [1, k, 0]\n",
    "        else:\n",
    "            numbers_dictionary[dates_clean][0] = numbers_dictionary[dates_clean][0] + 1\n",
    "            numbers_dictionary[dates_clean][1] = numbers_dictionary[dates_clean][1] + k\n",
    "            numbers_dictionary[dates_clean][2] = numbers_dictionary[dates_clean][1] / numbers_dictionary[dates_clean][0]\n",
    "\n",
    "    return numbers_dictionary\n",
    "\n",
    "\n",
    "def numbers_count_merge(): #объединение средних значений по всем файлам\n",
    "    numbers_avg = {}\n",
    "    for i in range (0, 5):\n",
    "        if numbers_avg == {}:\n",
    "            numbers_avg = avg_count('csv_result_' + str(i) +'.csv')\n",
    "        else:\n",
    "            new_numbers = avg_count('csv_result_' + str(i) +'.csv')\n",
    "            for k in numbers_avg.keys():\n",
    "                if k not in numbers_avg:\n",
    "                    numbers_avg[k] = numbers_avg[k]\n",
    "                else:\n",
    "                    numbers_avg[k][0] = numbers_avg[k][0] + new_numbers[k][0]\n",
    "                    numbers_avg[k][1] = numbers_avg[k][1] + new_numbers[k][1]\n",
    "                    numbers_avg[k][2] = numbers_avg[k][1] / numbers_avg[k][0]\n",
    "                    \n",
    "    print(pd.DataFrame(numbers_avg).rename(index={0: \"Количество\", 1: \"Сумма\", 2:\"Среднее\"}))"
   ]
  },
  {
   "cell_type": "code",
   "execution_count": 41,
   "id": "662f3dcc",
   "metadata": {},
   "outputs": [
    {
     "name": "stdout",
     "output_type": "stream",
     "text": [
      "                    2008          2009          2010          2011  \\\n",
      "Количество  5.055300e+04  5.023200e+04  5.040300e+04  5.072100e+04   \n",
      "Сумма       2.532717e+11  2.509488e+11  2.525448e+11  2.537438e+11   \n",
      "Среднее     5.010024e+06  4.995795e+06  5.010512e+06  5.002736e+06   \n",
      "\n",
      "                    2012          2013          2014          2015  \\\n",
      "Количество  5.100400e+04  5.048200e+04  5.017600e+04  5.070900e+04   \n",
      "Сумма       2.557451e+11  2.528749e+11  2.503505e+11  2.526176e+11   \n",
      "Среднее     5.014217e+06  5.009209e+06  4.989446e+06  4.981711e+06   \n",
      "\n",
      "                    2016          2017          2018          2019  \\\n",
      "Количество  5.039100e+04  5.055900e+04  5.058800e+04  5.017100e+04   \n",
      "Сумма       2.532631e+11  2.531656e+11  2.525771e+11  2.509289e+11   \n",
      "Среднее     5.025959e+06  5.007330e+06  4.992827e+06  5.001473e+06   \n",
      "\n",
      "                    2020          2021          2022          2023  \\\n",
      "Количество  5.101200e+04  5.053800e+04  5.043300e+04  5.021500e+04   \n",
      "Сумма       2.552617e+11  2.528568e+11  2.525123e+11  2.511533e+11   \n",
      "Среднее     5.003955e+06  5.003300e+06  5.006887e+06  5.001560e+06   \n",
      "\n",
      "                    2024          2025  \n",
      "Количество  5.098300e+04  1.900000e+01  \n",
      "Сумма       2.544469e+11  1.153739e+08  \n",
      "Среднее     4.990818e+06  6.072309e+06  \n"
     ]
    }
   ],
   "source": [
    "numbers_count_merge()"
   ]
  }
 ],
 "metadata": {
  "kernelspec": {
   "display_name": "Python 3",
   "language": "python",
   "name": "python3"
  },
  "language_info": {
   "codemirror_mode": {
    "name": "ipython",
    "version": 3
   },
   "file_extension": ".py",
   "mimetype": "text/x-python",
   "name": "python",
   "nbconvert_exporter": "python",
   "pygments_lexer": "ipython3",
   "version": "3.13.2"
  }
 },
 "nbformat": 4,
 "nbformat_minor": 5
}
