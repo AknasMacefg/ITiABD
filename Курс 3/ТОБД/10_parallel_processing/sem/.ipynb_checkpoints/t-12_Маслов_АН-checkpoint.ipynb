{
 "cells": [
  {
   "cell_type": "code",
   "execution_count": 2,
   "id": "d2f5bd89",
   "metadata": {},
   "outputs": [
    {
     "name": "stdout",
     "output_type": "stream",
     "text": [
      "Writing rand_csv.py\n"
     ]
    }
   ],
   "source": [
    "%%file rand_csv.py\n",
    "\n",
    "import random\n",
    "import time\n",
    "\n",
    "def rand_csv(length, time_start, time_end, output):\n",
    "    csv_rows = []\n",
    "    for i in range(length):\n",
    "        stime = time.mktime(time.strptime(time_start, '%m/%d/%Y %I:%M %p'))\n",
    "        etime = time.mktime(time.strptime(time_end, '%m/%d/%Y %I:%M %p'))\n",
    "        ptime = stime + random.random() * (etime - stime)\n",
    "        csv_rows.append([ptime, random.randint(1, 9999999)])\n",
    "    output.put(csv_rows)"
   ]
  },
  {
   "cell_type": "code",
   "execution_count": 2,
   "id": "611b5719",
   "metadata": {},
   "outputs": [],
   "source": [
    "import rand_csv"
   ]
  },
  {
   "cell_type": "code",
   "execution_count": 3,
   "id": "e94e4a66",
   "metadata": {},
   "outputs": [
    {
     "ename": "",
     "evalue": "",
     "output_type": "error",
     "traceback": [
      "\u001b[1;31mThe Kernel crashed while executing code in the current cell or a previous cell. \n",
      "\u001b[1;31mPlease review the code in the cell(s) to identify a possible cause of the failure. \n",
      "\u001b[1;31mClick <a href='https://aka.ms/vscodeJupyterKernelCrash'>here</a> for more info. \n",
      "\u001b[1;31mView Jupyter <a href='command:jupyter.viewOutput'>log</a> for further details."
     ]
    }
   ],
   "source": [
    "import multiprocessing as mp\n",
    "import random\n",
    "\n",
    "output = mp.Queue()\n",
    "\n",
    "processes = [mp.Process(target=rand_csv.rand_csv, args=(random.randint(1,500), \"1/1/2008 1:30 PM\", \"1/1/2020 4:50 AM\", output)) \\\n",
    "             for x in range(4)]\n",
    "\n",
    "for p in processes:\n",
    "    p.start()\n",
    "\n",
    "for p in processes:\n",
    "    p.join()\n",
    "\n",
    "results = [output.get() for p in processes]\n",
    "\n",
    "print(results)"
   ]
  }
 ],
 "metadata": {
  "kernelspec": {
   "display_name": "Python 3",
   "language": "python",
   "name": "python3"
  },
  "language_info": {
   "codemirror_mode": {
    "name": "ipython",
    "version": 3
   },
   "file_extension": ".py",
   "mimetype": "text/x-python",
   "name": "python",
   "nbconvert_exporter": "python",
   "pygments_lexer": "ipython3",
   "version": "3.13.2"
  }
 },
 "nbformat": 4,
 "nbformat_minor": 5
}
