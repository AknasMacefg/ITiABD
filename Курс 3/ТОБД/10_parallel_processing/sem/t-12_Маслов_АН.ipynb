{
 "cells": [
  {
   "cell_type": "markdown",
   "id": "628e341a",
   "metadata": {},
   "source": [
    "# ИД23-1 Маслов АН\n",
    "## Пример 1. Программа создает случайное количество строк в 4 процессах, объединяет их и записывает в csv файл"
   ]
  },
  {
   "cell_type": "code",
   "execution_count": 15,
   "id": "d2f5bd89",
   "metadata": {},
   "outputs": [
    {
     "name": "stdout",
     "output_type": "stream",
     "text": [
      "Overwriting rand_csv.py\n"
     ]
    }
   ],
   "source": [
    "%%file rand_csv.py\n",
    "import random\n",
    "import time\n",
    "\n",
    "def rand_csv(length, time_start, time_end, output): #генератор случайно даты и числа\n",
    "    csv_rows = []\n",
    "    for i in range(length):\n",
    "        stime = time.mktime(time.strptime(time_start, '%m/%d/%Y %I:%M %p'))\n",
    "        etime = time.mktime(time.strptime(time_end, '%m/%d/%Y %I:%M %p'))\n",
    "        ptime = stime + random.random() * (etime - stime)\n",
    "        csv_rows.append([time.strftime('%y%m%d%H%M%S', time.localtime(ptime)), random.randint(1, 9999999)])\n",
    "    output.put(csv_rows)"
   ]
  },
  {
   "cell_type": "code",
   "execution_count": 16,
   "id": "611b5719",
   "metadata": {},
   "outputs": [],
   "source": [
    "import rand_csv"
   ]
  },
  {
   "cell_type": "code",
   "execution_count": 17,
   "id": "e94e4a66",
   "metadata": {},
   "outputs": [
    {
     "data": {
      "text/html": [
       "<div>\n",
       "<style scoped>\n",
       "    .dataframe tbody tr th:only-of-type {\n",
       "        vertical-align: middle;\n",
       "    }\n",
       "\n",
       "    .dataframe tbody tr th {\n",
       "        vertical-align: top;\n",
       "    }\n",
       "\n",
       "    .dataframe thead th {\n",
       "        text-align: right;\n",
       "    }\n",
       "</style>\n",
       "<table border=\"1\" class=\"dataframe\">\n",
       "  <thead>\n",
       "    <tr style=\"text-align: right;\">\n",
       "      <th></th>\n",
       "      <th>datetime</th>\n",
       "      <th>rand_number</th>\n",
       "    </tr>\n",
       "  </thead>\n",
       "  <tbody>\n",
       "    <tr>\n",
       "      <th>451096</th>\n",
       "      <td>2008-01-01 13:42:09</td>\n",
       "      <td>6030757</td>\n",
       "    </tr>\n",
       "    <tr>\n",
       "      <th>549561</th>\n",
       "      <td>2008-01-01 13:56:57</td>\n",
       "      <td>6484828</td>\n",
       "    </tr>\n",
       "    <tr>\n",
       "      <th>268314</th>\n",
       "      <td>2008-01-01 14:21:55</td>\n",
       "      <td>9842722</td>\n",
       "    </tr>\n",
       "    <tr>\n",
       "      <th>1086548</th>\n",
       "      <td>2008-01-01 14:26:49</td>\n",
       "      <td>4251113</td>\n",
       "    </tr>\n",
       "    <tr>\n",
       "      <th>154830</th>\n",
       "      <td>2008-01-01 14:28:02</td>\n",
       "      <td>2809513</td>\n",
       "    </tr>\n",
       "    <tr>\n",
       "      <th>...</th>\n",
       "      <td>...</td>\n",
       "      <td>...</td>\n",
       "    </tr>\n",
       "    <tr>\n",
       "      <th>1262015</th>\n",
       "      <td>2025-01-01 04:06:14</td>\n",
       "      <td>1625747</td>\n",
       "    </tr>\n",
       "    <tr>\n",
       "      <th>1075113</th>\n",
       "      <td>2025-01-01 04:19:37</td>\n",
       "      <td>9350572</td>\n",
       "    </tr>\n",
       "    <tr>\n",
       "      <th>89371</th>\n",
       "      <td>2025-01-01 04:21:04</td>\n",
       "      <td>4600696</td>\n",
       "    </tr>\n",
       "    <tr>\n",
       "      <th>396669</th>\n",
       "      <td>2025-01-01 04:36:52</td>\n",
       "      <td>7457410</td>\n",
       "    </tr>\n",
       "    <tr>\n",
       "      <th>1234409</th>\n",
       "      <td>2025-01-01 04:45:54</td>\n",
       "      <td>7680308</td>\n",
       "    </tr>\n",
       "  </tbody>\n",
       "</table>\n",
       "<p>1263499 rows × 2 columns</p>\n",
       "</div>"
      ],
      "text/plain": [
       "                   datetime  rand_number\n",
       "451096  2008-01-01 13:42:09      6030757\n",
       "549561  2008-01-01 13:56:57      6484828\n",
       "268314  2008-01-01 14:21:55      9842722\n",
       "1086548 2008-01-01 14:26:49      4251113\n",
       "154830  2008-01-01 14:28:02      2809513\n",
       "...                     ...          ...\n",
       "1262015 2025-01-01 04:06:14      1625747\n",
       "1075113 2025-01-01 04:19:37      9350572\n",
       "89371   2025-01-01 04:21:04      4600696\n",
       "396669  2025-01-01 04:36:52      7457410\n",
       "1234409 2025-01-01 04:45:54      7680308\n",
       "\n",
       "[1263499 rows x 2 columns]"
      ]
     },
     "execution_count": 17,
     "metadata": {},
     "output_type": "execute_result"
    }
   ],
   "source": [
    "import multiprocessing as mp\n",
    "import random\n",
    "import pandas as pd\n",
    "\n",
    "output = mp.Queue()\n",
    "\n",
    "processes = [mp.Process(target=rand_csv.rand_csv, args=(random.randint(50000,500000), \"1/1/2008 1:30 PM\", \"1/1/2025 4:50 AM\", output)) \\\n",
    "             for x in range(4)] #создаем 4 процесса\n",
    "for p in processes:\n",
    "    p.start()\n",
    "\n",
    "results = [output.get() for p in processes] #сохраняем результат\n",
    "\n",
    "for p in processes:\n",
    "    p.join()\n",
    "\n",
    "pandas_result = []\n",
    "for i in results:\n",
    "    pandas_result = pandas_result + i #форматируем для удобства\n",
    "\n",
    "resultdata = pd.DataFrame(pandas_result, columns=[\"datetime\", \"rand_number\"]) #создаем датафрейм\n",
    "resultdata['datetime'] = pd.to_datetime(resultdata['datetime'], format='%y%m%d%H%M%S')\n",
    "resultdata = resultdata.sort_values('datetime') #сортируем по дате\n",
    "resultdata.to_csv(\"csv_result.csv\", sep=';', index=False) #записываем результат в csv файл\n",
    "resultdata\n"
   ]
  },
  {
   "cell_type": "markdown",
   "id": "5fd16de0",
   "metadata": {},
   "source": [
    "## Пример 2. Программа формирует две очереди, одну и задачами и вторую с результатом этих задач"
   ]
  },
  {
   "cell_type": "code",
   "execution_count": 18,
   "id": "244bdf7d",
   "metadata": {},
   "outputs": [
    {
     "name": "stdout",
     "output_type": "stream",
     "text": [
      "Overwriting worker_time.py\n"
     ]
    }
   ],
   "source": [
    "%%file worker_time.py\n",
    "import time\n",
    "\n",
    "def mul_task(x): # Возведение в квадрат с задержкой\n",
    "    time.sleep(0.5)\n",
    "    return x * x\n",
    "\n",
    "def worker_time(task_queue, result_queue): #Берет задачи из очерещди и результат кладет в другую очередь\n",
    "    while True:\n",
    "        x = task_queue.get()\n",
    "        if x is None:   # сигнал остановки\n",
    "            break\n",
    "        result = mul_task(x)\n",
    "        result_queue.put(result)"
   ]
  },
  {
   "cell_type": "code",
   "execution_count": 19,
   "id": "61e3e4ab",
   "metadata": {},
   "outputs": [],
   "source": [
    "import worker_time"
   ]
  },
  {
   "cell_type": "code",
   "execution_count": 20,
   "id": "95338fd2",
   "metadata": {},
   "outputs": [
    {
     "name": "stdout",
     "output_type": "stream",
     "text": [
      "Результаты: [0, 1, 4, 9, 16, 25, 36, 49, 64, 81]\n"
     ]
    }
   ],
   "source": [
    "import multiprocessing as mp\n",
    "\n",
    "num_workers = 4\n",
    "task_queue = mp.Queue()\n",
    "result_queue = mp.Queue()\n",
    "\n",
    "# Запускаем рабочих\n",
    "workers = []\n",
    "for w in range(num_workers):\n",
    "    p = mp.Process(target=worker_time.worker_time, args=(task_queue, result_queue))\n",
    "    p.start()\n",
    "    workers.append(p)\n",
    "\n",
    "# Кладём задачи\n",
    "for i in range(10):\n",
    "    task_queue.put(i)\n",
    "\n",
    "# Отправляем сигнал остановки\n",
    "for w in range(num_workers):\n",
    "    task_queue.put(None)\n",
    "\n",
    "# Сбор результатов\n",
    "results = []\n",
    "for w in range(10):\n",
    "    results.append(result_queue.get())\n",
    "\n",
    "# Ожидание завершения\n",
    "for p in workers:\n",
    "    p.join()\n",
    "\n",
    "print(\"Результаты:\", results)"
   ]
  },
  {
   "cell_type": "markdown",
   "id": "c41b3d5e",
   "metadata": {},
   "source": [
    "## Пример 3. Программа формирует список дат и дня недели и упорядочивает их"
   ]
  },
  {
   "cell_type": "code",
   "execution_count": 21,
   "id": "ae14270f",
   "metadata": {},
   "outputs": [
    {
     "name": "stdout",
     "output_type": "stream",
     "text": [
      "Overwriting process_date.py\n"
     ]
    }
   ],
   "source": [
    "%%file process_date.py\n",
    "from datetime import datetime, timedelta\n",
    "import time\n",
    "def process_date(date_str): # Функция обработки даты\n",
    "    date_obj = datetime.strptime(date_str, \"%Y-%m-%d\")\n",
    "    time.sleep(0.3)  # имитация работы\n",
    "    return date_str, date_obj.strftime(\"%A\")  # (дата, день недели)"
   ]
  },
  {
   "cell_type": "code",
   "execution_count": 22,
   "id": "c207d280",
   "metadata": {},
   "outputs": [],
   "source": [
    "import process_date"
   ]
  },
  {
   "cell_type": "code",
   "execution_count": 23,
   "id": "246e973c",
   "metadata": {},
   "outputs": [
    {
     "name": "stdout",
     "output_type": "stream",
     "text": [
      "Результаты (map):\n",
      "2025-01-01 - Wednesday\n",
      "2025-01-02 - Thursday\n",
      "2025-01-03 - Friday\n",
      "2025-01-04 - Saturday\n",
      "2025-01-05 - Sunday\n",
      "2025-01-06 - Monday\n",
      "2025-01-07 - Tuesday\n",
      "2025-01-08 - Wednesday\n",
      "2025-01-09 - Thursday\n",
      "2025-01-10 - Friday\n",
      "\n",
      "Результаты (apply):\n",
      "2025-01-01 - Wednesday\n",
      "2025-01-02 - Thursday\n",
      "2025-01-03 - Friday\n",
      "2025-01-04 - Saturday\n",
      "2025-01-05 - Sunday\n",
      "2025-01-06 - Monday\n",
      "2025-01-07 - Tuesday\n",
      "2025-01-08 - Wednesday\n",
      "2025-01-09 - Thursday\n",
      "2025-01-10 - Friday\n"
     ]
    }
   ],
   "source": [
    "from multiprocessing import Pool\n",
    "from datetime import datetime, timedelta\n",
    "import time\n",
    "\n",
    "\n",
    "\n",
    "# Формируем список дат\n",
    "start_date = datetime(2025, 1, 1)\n",
    "dates = [(start_date + timedelta(days=i)).strftime(\"%Y-%m-%d\") for i in range(10)]\n",
    "\n",
    "with Pool(processes=4) as pool:\n",
    "    # Пример с map\n",
    "    ordered_results = pool.map(process_date.process_date, dates)\n",
    "\n",
    "    # Пример с apply\n",
    "    manual_results = []\n",
    "    for d in dates:\n",
    "        manual_results.append(pool.apply(process_date.process_date, (d,)))\n",
    "\n",
    "print(\"Результаты (map):\")\n",
    "for d, day in ordered_results:\n",
    "    print(f\"{d} - {day}\")\n",
    "\n",
    "print(\"\\nРезультаты (apply):\")\n",
    "for d, day in manual_results:\n",
    "    print(f\"{d} - {day}\")\n"
   ]
  }
 ],
 "metadata": {
  "kernelspec": {
   "display_name": "Python 3",
   "language": "python",
   "name": "python3"
  },
  "language_info": {
   "codemirror_mode": {
    "name": "ipython",
    "version": 3
   },
   "file_extension": ".py",
   "mimetype": "text/x-python",
   "name": "python",
   "nbconvert_exporter": "python",
   "pygments_lexer": "ipython3",
   "version": "3.13.7"
  }
 },
 "nbformat": 4,
 "nbformat_minor": 5
}
