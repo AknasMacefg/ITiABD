{
 "cells": [
  {
   "cell_type": "markdown",
   "id": "d5866508",
   "metadata": {},
   "source": [
    "## ИД23-1 Маслов АН Усложненный пример из лекции"
   ]
  },
  {
   "cell_type": "markdown",
   "id": "38c5bbd3",
   "metadata": {},
   "source": [
    "## Усложненный пример"
   ]
  },
  {
   "cell_type": "code",
   "execution_count": 77,
   "id": "c53addaa",
   "metadata": {},
   "outputs": [],
   "source": [
    "import numpy as np\n",
    "import dask\n",
    "import dask.threaded as dthr\n",
    "from dask.threaded import get\n",
    "from dask.delayed import Delayed\n",
    "import time"
   ]
  },
  {
   "cell_type": "code",
   "execution_count": 78,
   "id": "049d324c",
   "metadata": {},
   "outputs": [],
   "source": [
    "def mul_pow(i, k, o): #умножение с корнем\n",
    "    for q in range (10000000):\n",
    "        i= i * pow(k,(1/o))\n",
    "    return i\n",
    "\n",
    "def sum_pow(i, j): #сложение с корнем\n",
    "    for k in range (10000000):\n",
    "        i = i + pow(j, (1/j))\n",
    "    return i\n",
    "\n"
   ]
  },
  {
   "cell_type": "code",
   "execution_count": 79,
   "id": "25b01e0f",
   "metadata": {},
   "outputs": [
    {
     "name": "stdout",
     "output_type": "stream",
     "text": [
      "Время выполнения:  4.758375883102417\n",
      "Результат:  inf\n"
     ]
    }
   ],
   "source": [
    "start_time = time.time()\n",
    "a = 5000000\n",
    "x = 5000000\n",
    "u = 555\n",
    "k = 100\n",
    "b = mul_pow(a, u, k)\n",
    "y = mul_pow(x, u, k)\n",
    "z = sum_pow(b, y)\n",
    "norm_time = time.time() - start_time\n",
    "print('Время выполнения: ', norm_time)\n",
    "print('Результат: ', z)"
   ]
  },
  {
   "cell_type": "code",
   "execution_count": 80,
   "id": "ba09317b",
   "metadata": {},
   "outputs": [],
   "source": [
    "dsk = {\n",
    "'a': 5000000,\n",
    "'x': 5000000,\n",
    "'u': 555,\n",
    "'k': 100,\n",
    "'b': (mul_pow, 'a', 'u', 'k'),\n",
    "'y': (mul_pow, 'x', 'u', 'k'),\n",
    "'z': (sum_pow, 'b', 'y')\n",
    "}"
   ]
  },
  {
   "cell_type": "code",
   "execution_count": 81,
   "id": "aa1d49fc",
   "metadata": {},
   "outputs": [
    {
     "name": "stdout",
     "output_type": "stream",
     "text": [
      "Время выполнения:  3.5844993591308594\n",
      "Результат:  inf\n"
     ]
    }
   ],
   "source": [
    "start_time = time.time()\n",
    "result = get(dsk, 'z')\n",
    "dask_time = time.time() - start_time\n",
    "print('Время выполнения: ', dask_time)\n",
    "print('Результат: ', z)"
   ]
  },
  {
   "cell_type": "code",
   "execution_count": null,
   "id": "236fd2b0",
   "metadata": {},
   "outputs": [
    {
     "name": "stdout",
     "output_type": "stream",
     "text": [
      "Время выполнения с dask:  3.5844993591308594\n",
      "Время выполнения без dask:  4.758375883102417\n",
      "Вывод: с dask код выполняется быстрее\n"
     ]
    }
   ],
   "source": [
    "print('Время выполнения с dask: ', dask_time)\n",
    "print('Время выполнения без dask: ', norm_time)\n",
    "print('Вывод: C dask, код выполняется быстрее')"
   ]
  },
  {
   "cell_type": "code",
   "execution_count": 83,
   "id": "89cc3cd0",
   "metadata": {},
   "outputs": [
    {
     "data": {
      "image/png": "[encoded data removed]",
      "text/plain": [
       "<IPython.core.display.Image object>"
      ]
     },
     "execution_count": 83,
     "metadata": {},
     "output_type": "execute_result"
    }
   ],
   "source": [
    "# оборачиваем dsk в Dask Collection (Delayed)\n",
    "delayed_dsk = Delayed(\"w\", dsk)\n",
    "# визуализируем:\n",
    "delayed_dsk.visualize()"
   ]
  },
  {
   "cell_type": "code",
   "execution_count": null,
   "id": "eaac35bc",
   "metadata": {},
   "outputs": [],
   "source": []
  }
 ],
 "metadata": {
  "kernelspec": {
   "display_name": "Python 3",
   "language": "python",
   "name": "python3"
  },
  "language_info": {
   "codemirror_mode": {
    "name": "ipython",
    "version": 3
   },
   "file_extension": ".py",
   "mimetype": "text/x-python",
   "name": "python",
   "nbconvert_exporter": "python",
   "pygments_lexer": "ipython3",
   "version": "3.13.2"
  }
 },
 "nbformat": 4,
 "nbformat_minor": 5
}
