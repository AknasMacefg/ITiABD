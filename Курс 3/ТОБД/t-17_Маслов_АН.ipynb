{
 "cells": [
  {
   "cell_type": "markdown",
   "id": "01b240d5",
   "metadata": {},
   "source": [
    "# ИД23-1 Маслов АН\n",
    "## Измененные примеры из лекции по SQLlite3"
   ]
  },
  {
   "cell_type": "markdown",
   "id": "93eda162",
   "metadata": {},
   "source": [
    "### Создание БД (изменены таблицы)"
   ]
  },
  {
   "cell_type": "code",
   "execution_count": 11,
   "id": "30774ebe",
   "metadata": {},
   "outputs": [
    {
     "name": "stdout",
     "output_type": "stream",
     "text": [
      "Запрос успешно выполнен\n"
     ]
    }
   ],
   "source": [
    "import sqlite3\n",
    "\n",
    "# устанавливаем соединение с БД\n",
    "con = sqlite3.connect('maslov.db')\n",
    "# создаем объект-курсор\n",
    "cur = con.cursor()\n",
    "#создаем простую БД\n",
    "sql = \"\"\"\n",
    "CREATE TABLE USER\n",
    "(\n",
    "USER_ID INTEGER PRIMARY KEY AUTOINCREMENT NOT NULL,\n",
    "EMAIL VARCHAR(200) NOT NULL UNIQUE,\n",
    "PASSWORD VARCHAR(200) NOT NULL,\n",
    "ROLE VARCHAR(50) NOT NULL\n",
    ");\n",
    "CREATE TABLE AUTHOR\n",
    "(\n",
    "AUTHOR_ID INTEGER PRIMARY KEY AUTOINCREMENT NOT NULL,\n",
    "NAME VARCHAR(200),\n",
    "CONTACT VARCHAR(200),\n",
    "USER_ID INTEGER UNIQUE,\n",
    "FOREIGN KEY (USER_ID) REFERENCES USER (USER_ID)\n",
    ");\n",
    "CREATE TABLE BOOK\n",
    "(\n",
    "BOOK_ID INTEGER PRIMARY KEY AUTOINCREMENT NOT NULL,\n",
    "AUTHOR_ID INTEGER NOT NULL,\n",
    "TITLE VARCHAR(200) NOT NULL UNIQUE,\n",
    "YEAR INTEGER,\n",
    "FOREIGN KEY (AUTHOR_ID) REFERENCES AUTHOR (AUTHOR_ID)\n",
    ");\n",
    "\"\"\"\n",
    "\n",
    "try: # Обрабатываем исключения\n",
    "    cur.executescript(sql) # Выполняем SQL-запросы\n",
    "except sqlite3.DatabaseError as err:\n",
    "    print(\"Ошибка:\", err)\n",
    "else:\n",
    "    print (\"Запрос успешно выполнен\")\n",
    "cur.close()\n",
    "con.close()\n",
    "\n"
   ]
  },
  {
   "cell_type": "markdown",
   "id": "e6825d01",
   "metadata": {},
   "source": [
    "### Добавление записей в таблицу (изменены вносимые данные и показаны пара способов внесения)"
   ]
  },
  {
   "cell_type": "code",
   "execution_count": 12,
   "id": "b2abbc10",
   "metadata": {},
   "outputs": [
    {
     "name": "stdout",
     "output_type": "stream",
     "text": [
      "Запрос успешно выполнен\n"
     ]
    }
   ],
   "source": [
    "con = sqlite3.connect('maslov.db')\n",
    "cur = con.cursor()\n",
    "\n",
    "#SQL-запрос для вставки значений в таблицу USER\n",
    "sql_1 = '''\n",
    "INSERT INTO USER (EMAIL, PASSWORD, ROLE)\n",
    "VALUES (?, ?, ?);'''\n",
    "v1 = ('admin@inbox.com', 'password123', 'admin')\n",
    "v2 = ('alex@mail.ru', '123456', 'user')\n",
    "v3 = ('ivan@yandex.ru', 'qwerty', 'author')\n",
    "\n",
    "val_list = [v1, v2, v3]\n",
    "\n",
    "\n",
    "#SQL-запрос для вставки значений в таблицу AUTHOR\n",
    "sql_2 = ''' \n",
    "INSERT INTO AUTHOR (NAME, CONTACT, USER_ID)\n",
    "VALUES (?, ?, ?);'''\n",
    "v4 = ('Александр', '+7(999)123-45-67', None)\n",
    "v5 = ('Иван', '+7(999)234-56-78', 3)\n",
    "\n",
    "val_list_2 = [v4, v5]\n",
    "\n",
    "#SQL-запрос для вставки значений в таблицу BOOK\n",
    "sql_3 = '''\n",
    "INSERT INTO BOOK (AUTHOR_ID, TITLE, YEAR)\n",
    "VALUES (?, ?, ?);'''\n",
    "v6 = (1, 'Книга', 2009)\n",
    "\n",
    "try:\n",
    "    cur.executemany(sql_1, val_list) # Вставляем несколько записей\n",
    "    cur.executemany(sql_2, val_list_2)\n",
    "    cur.execute(sql_3, v6) # Вставляем одну запись\n",
    "except sqlite3.DatabaseError as err:\n",
    "    print(\"Ошибка:\", err)\n",
    "else:\n",
    "    print (\"Запрос успешно выполнен\")\n",
    "con.commit() # Завершаем транзакцию\n",
    "cur.close() # Закрываем объект-курсор\n",
    "con.close() # Закрываем соединение\n"
   ]
  },
  {
   "cell_type": "markdown",
   "id": "b76f9706",
   "metadata": {},
   "source": [
    "### Обработка результата запроса (вывод показан через JOIN)"
   ]
  },
  {
   "cell_type": "code",
   "execution_count": 16,
   "id": "2d1f19c1",
   "metadata": {},
   "outputs": [
    {
     "name": "stdout",
     "output_type": "stream",
     "text": [
      "Таблица AUTHOR:\n",
      "(1, 'Александр', '+7(999)123-45-67', None)\n",
      "(2, 'Иван', '+7(999)234-56-78', 3)\n",
      "Таблица BOOK и AUTHOR через JOIN:\n",
      "('Книга', 'Александр', 2009)\n"
     ]
    }
   ],
   "source": [
    "con = sqlite3.connect(\"maslov.db\")\n",
    "\n",
    "print(\"Таблица AUTHOR:\")\n",
    "cur = con.cursor()\n",
    "cur.execute('SELECT * FROM AUTHOR') \n",
    "for v in cur: #вывод результата запроса\n",
    "    print(v)\n",
    "\n",
    "print(\"Таблица BOOK и AUTHOR через JOIN:\")\n",
    "cur.execute('SELECT TITLE, NAME, YEAR FROM BOOK JOIN AUTHOR ON BOOK.AUTHOR_ID = AUTHOR.AUTHOR_ID')\n",
    "for v in cur:\n",
    "    print(v)\n",
    "\n",
    "cur.close()\n",
    "con.close()"
   ]
  },
  {
   "cell_type": "markdown",
   "id": "ebbdfc77",
   "metadata": {},
   "source": [
    "### Управление транзакциями (показана работа rollback)"
   ]
  },
  {
   "cell_type": "code",
   "execution_count": 14,
   "id": "b769e597",
   "metadata": {},
   "outputs": [
    {
     "name": "stdout",
     "output_type": "stream",
     "text": [
      "Результат вставки []\n",
      "Запрос успешно выполнен\n"
     ]
    }
   ],
   "source": [
    "con = sqlite3.connect(\"maslov.db\")\n",
    "cur = con.cursor()\n",
    "# SQL выражение\n",
    "sql = '''\n",
    "INSERT INTO USER (EMAIL, PASSWORD, ROLE)\n",
    "VALUES (?, ?, ?)'''\n",
    "val = ('New value', 'test', 'test')\n",
    "try:\n",
    "    cur.execute(sql, val)\n",
    "    con.rollback() # Отмена транзакции\n",
    "    cur.execute('SELECT * FROM USER WHERE EMAIL = ?', (val[0],)) #проверяем вставку\n",
    "    print('Результат вставки', cur.fetchall())\n",
    "except sqlite3.DatabaseError as err:\n",
    "    print(\"Ошибка:\", err)\n",
    "else:\n",
    "    print (\"Запрос успешно выполнен\")\n",
    "con.commit() # Завершаем транзакцию\n",
    "cur.close() # Закрываем объект-курсор\n",
    "con.close() # Закрываем соединение"
   ]
  },
  {
   "cell_type": "markdown",
   "id": "e4e2f208",
   "metadata": {},
   "source": [
    "### Обработка исключений (показана проверка исключения через другое исключение)"
   ]
  },
  {
   "cell_type": "code",
   "execution_count": 19,
   "id": "ef1cabe1",
   "metadata": {},
   "outputs": [
    {
     "name": "stdout",
     "output_type": "stream",
     "text": [
      "Ошибка: NOT NULL constraint failed: USER.PASSWORD\n"
     ]
    }
   ],
   "source": [
    "con = sqlite3.connect(\"maslov.db\")\n",
    "cur = con.cursor()\n",
    "# SQL выражение\n",
    "sql = '''\n",
    "INSERT INTO USER (EMAIL)\n",
    "VALUES (?)'''\n",
    "val = ('New value 3',)\n",
    "try:\n",
    "    with con:\n",
    "        con.execute(sql, val)\n",
    "except sqlite3.IntegrityError as err:\n",
    "    print(\"Ошибка:\", err)\n",
    "else:\n",
    "    print (\"Запрос успешно выполнен\")\n",
    "cur.close() # Закрываем объект-курсор\n",
    "con.close() # Закрываем соединение"
   ]
  }
 ],
 "metadata": {
  "kernelspec": {
   "display_name": "Python 3",
   "language": "python",
   "name": "python3"
  },
  "language_info": {
   "codemirror_mode": {
    "name": "ipython",
    "version": 3
   },
   "file_extension": ".py",
   "mimetype": "text/x-python",
   "name": "python",
   "nbconvert_exporter": "python",
   "pygments_lexer": "ipython3",
   "version": "3.13.2"
  }
 },
 "nbformat": 4,
 "nbformat_minor": 5
}
