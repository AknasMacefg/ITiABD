{
 "cells": [
  {
   "cell_type": "markdown",
   "metadata": {},
   "source": [
    "# Numpy"
   ]
  },
  {
   "cell_type": "markdown",
   "metadata": {},
   "source": [
    "Материалы:\n",
    "* Макрушин С.В. \"Лекция 1: Библиотека Numpy\"\n",
    "* https://numpy.org/doc/stable/user/index.html\n",
    "* https://numpy.org/doc/stable/reference/index.html"
   ]
  },
  {
   "cell_type": "markdown",
   "metadata": {},
   "source": [
    "## Задачи для совместного разбора"
   ]
  },
  {
   "cell_type": "markdown",
   "metadata": {},
   "source": [
    "1. Сгенерировать двухмерный массив `arr` размерности (4, 7), состоящий из случайных действительных чисел, равномерно распределенных в диапазоне от 0 до 20. Нормализовать значения массива с помощью преобразования вида  $𝑎𝑥+𝑏$  так, что после нормализации максимальный элемент масcива будет равен 1.0, минимальный 0.0"
   ]
  },
  {
   "cell_type": "code",
   "execution_count": 10,
   "metadata": {},
   "outputs": [
    {
     "name": "stdout",
     "output_type": "stream",
     "text": [
      "[[0.     0.9807 0.2739 0.4294 0.4719 0.7546 0.0243]\n",
      " [0.3277 0.6144 0.6601 0.4245 0.7118 1.     0.5472]\n",
      " [0.3719 0.5503 0.3076 0.3599 0.4763 0.4055 0.7741]\n",
      " [0.5187 0.517  0.856  0.4429 0.9488 0.7049 0.6426]]\n"
     ]
    }
   ],
   "source": [
    "import numpy as np\n",
    "arr = np.random.uniform(0,20,(4,7))\n",
    "arr = (arr - np.min(arr)) / (np.max(arr) - np.min(arr))\n",
    "print(np.round(arr,4))"
   ]
  },
  {
   "cell_type": "markdown",
   "metadata": {},
   "source": [
    "2. Создать матрицу 8 на 10 из случайных целых (используя модуль `numpy.random`) чисел из диапозона от 0 до 10 и найти в ней строку (ее индекс и вывести саму строку), в которой сумма значений минимальна."
   ]
  },
  {
   "cell_type": "code",
   "execution_count": 33,
   "metadata": {},
   "outputs": [
    {
     "name": "stdout",
     "output_type": "stream",
     "text": [
      "3 [4 2 0 7 1 2 1 9 2 2]\n"
     ]
    }
   ],
   "source": [
    "import numpy as np\n",
    "A = np.random.randint(0,10,(8,10))\n",
    "q = np.argmin(np.sum(A, axis = 1))\n",
    "print(q, A[q,])\n"
   ]
  },
  {
   "cell_type": "markdown",
   "metadata": {},
   "source": [
    "3. Найти евклидово расстояние между двумя одномерными векторами одинаковой размерности."
   ]
  },
  {
   "cell_type": "code",
   "execution_count": 1,
   "metadata": {},
   "outputs": [
    {
     "name": "stdout",
     "output_type": "stream",
     "text": [
      "2.236\n"
     ]
    }
   ],
   "source": [
    "import numpy as np\n",
    "A = np.array([2,4,6,8,10])\n",
    "B = np.array([1,3,5,7,9])\n",
    "dist = np.linalg.norm(A-B)\n",
    "print(round(dist,3))\n"
   ]
  },
  {
   "cell_type": "markdown",
   "metadata": {},
   "source": [
    "4. Решить матричное уравнение `A*X*B=-C` - найти матрицу `X`. Где `A = [[-1, 2, 4], [-3, 1, 2], [-3, 0, 1]]`, `B=[[3, -1], [2, 1]]`, `C=[[7, 21], [11, 8], [8, 4]]`."
   ]
  },
  {
   "cell_type": "code",
   "execution_count": 7,
   "metadata": {},
   "outputs": [
    {
     "name": "stdout",
     "output_type": "stream",
     "text": [
      "[[ 1.  0.]\n",
      " [-2.  1.]\n",
      " [ 3. -4.]]\n"
     ]
    }
   ],
   "source": [
    "import numpy as np\n",
    "A = np.array([[-1, 2, 4], [-3, 1, 2], [-3, 0, 1]])\n",
    "B = np.array([[3, -1], [2, 1]])\n",
    "C = np.array([[7, 21], [11, 8], [8, 4]])\n",
    "X = np.matmul(np.matmul(np.linalg.inv(A),(C * -1)), np.linalg.inv(B))\n",
    "print(np.round(X))"
   ]
  },
  {
   "cell_type": "markdown",
   "metadata": {},
   "source": [
    "## Лабораторная работа №1"
   ]
  },
  {
   "cell_type": "markdown",
   "metadata": {},
   "source": [
    "Замечание: при решении данных задач не подразумевается использования циклов или генераторов Python, если в задании не сказано обратного. Решение должно опираться на использования функционала библиотеки `numpy`."
   ]
  },
  {
   "cell_type": "markdown",
   "metadata": {},
   "source": [
    "1. Файл `minutes_n_ingredients.csv` содержит информацию об идентификаторе рецепта, времени его выполнения в минутах и количестве необходимых ингредиентов. Считайте данные из этого файла в виде массива `numpy` типа `int32`, используя `np.loadtxt`. Выведите на экран первые 5 строк массива."
   ]
  },
  {
   "cell_type": "code",
   "execution_count": 8,
   "metadata": {},
   "outputs": [
    {
     "name": "stdout",
     "output_type": "stream",
     "text": [
      "[[127244     60     16]\n",
      " [ 23891     25      7]\n",
      " [ 94746     10      6]\n",
      " [ 67660      5      6]\n",
      " [157911     60     14]]\n"
     ]
    }
   ],
   "source": [
    "import numpy as np\n",
    "arr = np.loadtxt(r\"minutes_n_ingredients.csv\", delimiter=';', dtype=np.int32)\n",
    "print(arr[:5,])"
   ]
  },
  {
   "cell_type": "markdown",
   "metadata": {},
   "source": [
    "2. Вычислите среднее значение, минимум, максимум и медиану по каждому из столбцов, кроме первого."
   ]
  },
  {
   "cell_type": "code",
   "execution_count": 40,
   "metadata": {},
   "outputs": [
    {
     "name": "stdout",
     "output_type": "stream",
     "text": [
      "21601.00169 0 2147483647 40.0\n",
      "9.05528 1 39 9.0\n"
     ]
    }
   ],
   "source": [
    "import numpy as np\n",
    "arr = np.loadtxt(r\"C:\\Users\\222690\\Downloads\\minutes_n_ingredients.csv\", delimiter=';', dtype=np.int32)\n",
    "print(np.mean(arr[:,1]), np.min(arr[:,1]), np.max(arr[:,1]), np.median(arr[:,1]))\n",
    "print(np.mean(arr[:,2]), np.min(arr[:,2]), np.max(arr[:,2]), np.median(arr[:,2]))"
   ]
  },
  {
   "cell_type": "markdown",
   "metadata": {},
   "source": [
    "3. Ограничьте сверху значения продолжительности выполнения рецепта значением квантиля $q_{0.75}$. "
   ]
  },
  {
   "cell_type": "code",
   "execution_count": 30,
   "metadata": {},
   "outputs": [
    {
     "name": "stdout",
     "output_type": "stream",
     "text": [
      "65.0\n"
     ]
    }
   ],
   "source": [
    "import numpy as np\n",
    "arr = np.loadtxt(r\"C:\\Users\\222690\\Downloads\\minutes_n_ingredients.csv\", delimiter=';', dtype=np.int32)\n",
    "print(np.quantile(arr[:,1],.75))"
   ]
  },
  {
   "cell_type": "markdown",
   "metadata": {},
   "source": [
    "4. Посчитайте, для скольких рецептов указана продолжительность, равная нулю. Замените для таких строк значение в данном столбце на 1."
   ]
  },
  {
   "cell_type": "code",
   "execution_count": 42,
   "metadata": {},
   "outputs": [
    {
     "name": "stdout",
     "output_type": "stream",
     "text": [
      "479\n"
     ]
    }
   ],
   "source": [
    "import numpy as np\n",
    "arr = np.loadtxt(r\"C:\\Users\\222690\\Downloads\\minutes_n_ingredients.csv\", delimiter=';', dtype=np.int32)\n",
    "print (np.count_nonzero(arr[:,1] == 0))\n",
    "arr[arr[:,1] == 0] = 1"
   ]
  },
  {
   "cell_type": "markdown",
   "metadata": {},
   "source": [
    "5. Посчитайте, сколько уникальных рецептов находится в датасете."
   ]
  },
  {
   "cell_type": "code",
   "execution_count": 26,
   "metadata": {},
   "outputs": [
    {
     "name": "stdout",
     "output_type": "stream",
     "text": [
      "100000\n"
     ]
    }
   ],
   "source": [
    "import numpy as np\n",
    "arr = np.loadtxt(r\"C:\\Users\\222690\\Downloads\\minutes_n_ingredients.csv\", delimiter=';', dtype=np.int32)\n",
    "print(len(np.unique(arr[:,0])))"
   ]
  },
  {
   "cell_type": "markdown",
   "metadata": {},
   "source": [
    "6. Сколько и каких различных значений кол-ва ингредиентов присутвует в рецептах из датасета?"
   ]
  },
  {
   "cell_type": "code",
   "execution_count": 32,
   "metadata": {},
   "outputs": [
    {
     "name": "stdout",
     "output_type": "stream",
     "text": [
      "[ 1  2  3  4  5  6  7  8  9 10 11 12 13 14 15 16 17 18 19 20 21 22 23 24\n",
      " 25 26 27 28 29 30 31 32 33 34 35 37 39]\n",
      "37\n"
     ]
    }
   ],
   "source": [
    "import numpy as np\n",
    "arr = np.loadtxt(r\"C:\\Users\\222690\\Downloads\\minutes_n_ingredients.csv\", delimiter=';', dtype=np.int32)\n",
    "print(np.unique(arr[:,2]))\n",
    "print(len(np.unique(arr[:,2])))"
   ]
  },
  {
   "cell_type": "markdown",
   "metadata": {},
   "source": [
    "7. Создайте версию массива, содержащую информацию только о рецептах, состоящих не более чем из 5 ингредиентов."
   ]
  },
  {
   "cell_type": "code",
   "execution_count": 9,
   "metadata": {},
   "outputs": [
    {
     "data": {
      "text/plain": [
       "(array([[446597,     15,      5],\n",
       "        [204134,      5,      3],\n",
       "        [ 25623,      6,      4],\n",
       "        ...,\n",
       "        [ 52088,     60,      5],\n",
       "        [128811,     15,      4],\n",
       "        [370915,      5,      4]]),\n",
       " (17262, 3))"
      ]
     },
     "execution_count": 9,
     "metadata": {},
     "output_type": "execute_result"
    }
   ],
   "source": [
    "short_cut = arr[np.where(arr[:, 2] <= 5)[0]]\n",
    "short_cut, short_cut.shape"
   ]
  },
  {
   "cell_type": "markdown",
   "metadata": {},
   "source": [
    "8. Для каждого рецепта посчитайте, сколько в среднем ингредиентов приходится на одну минуту рецепта. Найдите максимальное значение этой величины для всего датасета"
   ]
  },
  {
   "cell_type": "code",
   "execution_count": 10,
   "metadata": {},
   "outputs": [
    {
     "name": "stderr",
     "output_type": "stream",
     "text": [
      "C:\\Users\\alexm\\AppData\\Local\\Temp\\ipykernel_179760\\1091088505.py:1: RuntimeWarning: divide by zero encountered in divide\n",
      "  np.max(arr[:, 2]/arr[:, 1]), arr[:, 2]/arr[:, 1]\n"
     ]
    },
    {
     "data": {
      "text/plain": [
       "(inf,\n",
       " array([0.26666667, 0.28      , 0.6       , ..., 0.23076923, 0.8       ,\n",
       "        0.1       ]))"
      ]
     },
     "execution_count": 10,
     "metadata": {},
     "output_type": "execute_result"
    }
   ],
   "source": [
    "np.max(arr[:, 2]/arr[:, 1]), arr[:, 2]/arr[:, 1]"
   ]
  },
  {
   "cell_type": "markdown",
   "metadata": {},
   "source": [
    "9. Вычислите среднее количество ингредиентов для топ-100 рецептов с наибольшей продолжительностью"
   ]
  },
  {
   "cell_type": "code",
   "execution_count": 11,
   "metadata": {},
   "outputs": [
    {
     "data": {
      "text/plain": [
       "6.61"
      ]
     },
     "execution_count": 11,
     "metadata": {},
     "output_type": "execute_result"
    }
   ],
   "source": [
    "sorted_indices = np.argsort(arr[:, 1])[-100:]\n",
    "sorted_array = arr[sorted_indices]\n",
    "sorted_array[:, 2].mean()"
   ]
  },
  {
   "cell_type": "markdown",
   "metadata": {},
   "source": [
    "10. Выберите случайным образом и выведите информацию о 10 различных рецептах"
   ]
  },
  {
   "cell_type": "code",
   "execution_count": 66,
   "metadata": {},
   "outputs": [
    {
     "name": "stdout",
     "output_type": "stream",
     "text": [
      "[[258266     40      9]\n",
      " [232473      5      4]\n",
      " [189821     14     12]\n",
      " [305350     20     14]\n",
      " [228937     40      5]\n",
      " [223870    190      8]\n",
      " [367975     55      9]\n",
      " [431865     45     10]\n",
      " [205331     12     15]\n",
      " [520826     30      8]]\n"
     ]
    }
   ],
   "source": [
    "import numpy as np\n",
    "arr = np.loadtxt(r\"C:\\Users\\222690\\Downloads\\minutes_n_ingredients.csv\", delimiter=';', dtype=np.int32)\n",
    "arr2 = np.random.choice(arr.shape[0], size = 10)\n",
    "print(arr[arr2,])\n"
   ]
  },
  {
   "cell_type": "markdown",
   "metadata": {},
   "source": [
    "11. Выведите процент рецептов, кол-во ингредиентов в которых меньше среднего."
   ]
  },
  {
   "cell_type": "code",
   "execution_count": 13,
   "metadata": {},
   "outputs": [
    {
     "data": {
      "text/plain": [
       "'58.802%'"
      ]
     },
     "execution_count": 13,
     "metadata": {},
     "output_type": "execute_result"
    }
   ],
   "source": [
    "str(len(np.where(arr[:, 2] < arr[:, 2].mean())[0])/arr.shape[0]*100) + \"%\""
   ]
  },
  {
   "cell_type": "markdown",
   "metadata": {},
   "source": [
    "12. Назовем \"простым\" такой рецепт, длительность выполнения которого не больше 20 минут и кол-во ингредиентов в котором не больше 5. Создайте версию датасета с дополнительным столбцом, значениями которого являются 1, если рецепт простой, и 0 в противном случае."
   ]
  },
  {
   "cell_type": "code",
   "execution_count": 14,
   "metadata": {},
   "outputs": [
    {
     "data": {
      "text/plain": [
       "array([[127244,     60,     16,      0],\n",
       "       [ 23891,     25,      7,      0],\n",
       "       [ 94746,     10,      6,      0],\n",
       "       ...,\n",
       "       [498432,     65,     15,      0],\n",
       "       [370915,      5,      4,      1],\n",
       "       [ 81993,    140,     14,      0]])"
      ]
     },
     "execution_count": 14,
     "metadata": {},
     "output_type": "execute_result"
    }
   ],
   "source": [
    "good_recepts = np.zeros((arr.shape[0], 4), dtype=int) # Создаём пустой датасет\n",
    "good_recepts[:, :3] = arr # Заполняем первые 3\n",
    "good_recepts[np.where((arr[:, 2] <= 5) & (arr[:, 1] <= 20)), 3] = 1\n",
    "good_recepts"
   ]
  },
  {
   "cell_type": "markdown",
   "metadata": {},
   "source": [
    "13. Выведите процент \"простых\" рецептов в датасете"
   ]
  },
  {
   "cell_type": "code",
   "execution_count": 15,
   "metadata": {},
   "outputs": [
    {
     "data": {
      "text/plain": [
       "'9.552%'"
      ]
     },
     "execution_count": 15,
     "metadata": {},
     "output_type": "execute_result"
    }
   ],
   "source": [
    "str(sum(good_recepts[:, 3])/arr.shape[0]*100) + '%'"
   ]
  },
  {
   "cell_type": "markdown",
   "metadata": {},
   "source": [
    "14. Разделим рецепты на группы по следующему правилу. Назовем рецепты короткими, если их продолжительность составляет менее 10 минут; стандартными, если их продолжительность составляет более 10, но менее 20 минут; и длинными, если их продолжительность составляет не менее 20 минут. Создайте трехмерный массив, где нулевая ось отвечает за номер группы (короткий, стандартный или длинный рецепт), первая ось - за сам рецепт и вторая ось - за характеристики рецепта. Выберите максимальное количество рецептов из каждой группы таким образом, чтобы было возможно сформировать трехмерный массив. Выведите форму полученного массива."
   ]
  },
  {
   "cell_type": "code",
   "execution_count": 16,
   "metadata": {},
   "outputs": [
    {
     "data": {
      "text/plain": [
       "((3, 7588, 3),\n",
       " array([[[ 67660,      5,      6],\n",
       "         [366174,      7,      9],\n",
       "         [204134,      5,      3],\n",
       "         ...,\n",
       "         [420725,      5,      3],\n",
       "         [  4747,      0,      9],\n",
       "         [370915,      5,      4]],\n",
       " \n",
       "        [[ 94746,     10,      6],\n",
       "         [ 33941,     18,      9],\n",
       "         [446597,     15,      5],\n",
       "         ...,\n",
       "         [  9831,     15,      7],\n",
       "         [335859,     12,     14],\n",
       "         [256812,     10,      3]],\n",
       " \n",
       "        [[127244,     60,     16],\n",
       "         [ 23891,     25,      7],\n",
       "         [157911,     60,     14],\n",
       "         ...,\n",
       "         [168901,     25,      7],\n",
       "         [392339,     35,     13],\n",
       "         [206732,     45,     10]]]))"
      ]
     },
     "execution_count": 16,
     "metadata": {},
     "output_type": "execute_result"
    }
   ],
   "source": [
    "short_recipes = arr[arr[:, 1] < 10]\n",
    "standard_recipes = arr[(arr[:, 1] >= 10) & (arr[:, 1] < 20)]\n",
    "long_recipes = arr[arr[:, 1] >= 20]\n",
    "\n",
    "max_length = min(len(short_recipes), len(standard_recipes), len(long_recipes))\n",
    "\n",
    "three_dimensional_array = np.zeros((3, max_length, 3), dtype=int)\n",
    "\n",
    "three_dimensional_array[0, :max_length, :] = short_recipes[:max_length]\n",
    "three_dimensional_array[1, :max_length, :] = standard_recipes[:max_length]\n",
    "three_dimensional_array[2, :max_length, :] = long_recipes[:max_length]\n",
    "\n",
    "three_dimensional_array.shape, three_dimensional_array"
   ]
  },
  {
   "cell_type": "code",
   "execution_count": null,
   "metadata": {},
   "outputs": [],
   "source": []
  }
 ],
 "metadata": {
  "kernelspec": {
   "display_name": "Python 3 (ipykernel)",
   "language": "python",
   "name": "python3"
  },
  "language_info": {
   "codemirror_mode": {
    "name": "ipython",
    "version": 3
   },
   "file_extension": ".py",
   "mimetype": "text/x-python",
   "name": "python",
   "nbconvert_exporter": "python",
   "pygments_lexer": "ipython3",
   "version": "3.12.2"
  }
 },
 "nbformat": 4,
 "nbformat_minor": 4
}
