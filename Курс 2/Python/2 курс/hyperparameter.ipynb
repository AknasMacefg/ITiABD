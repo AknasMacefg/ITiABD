{
 "cells": [
  {
   "cell_type": "markdown",
   "id": "ccd63530",
   "metadata": {},
   "source": [
    "## Семинар 1\n",
    "# Оптимизация гиперпараметров"
   ]
  },
  {
   "cell_type": "markdown",
   "id": "6fc7397d",
   "metadata": {},
   "source": [
    "Гиперпараметр (англ. hyperparameter) — параметр, который не настраивается во время обучения модели. Пример гиперпараметра — шаг градиентного спуска, он задается перед обучением. Пример параметров — веса градиентного спуска, они изменяются и настраиваются во время обучения."
   ]
  },
  {
   "cell_type": "markdown",
   "id": "641066c3",
   "metadata": {},
   "source": [
    "Попытаемся улучшить обобщающую способность модели, настроив ее гиперпараметры.\n",
    "Задача оптимизации гиперпараметров заключается в подборе таких гиперпараметров, при которых заданная модель алгоритма будет наиболее эффективна.\n",
    "Наиболее часто используемый метод – это решетчатый поиск (grid search), который перебирает все возможные комбинации интересующих гиперпараметров."
   ]
  },
  {
   "cell_type": "code",
   "execution_count": 6,
   "id": "b37713ac-b7c2-4bb9-bcc4-7dc6b65a63bf",
   "metadata": {},
   "outputs": [],
   "source": [
    "import pandas as pd\n",
    "import numpy as np\n",
    "import matplotlib.pyplot as plt\n",
    "from sklearn.model_selection import train_test_split, cross_val_score\n",
    "from sklearn import datasets\n",
    "from sklearn import metrics\n",
    "from sklearn.linear_model import LogisticRegression\n",
    "\n",
    "from sklearn.model_selection import GridSearchCV, RandomizedSearchCV"
   ]
  },
  {
   "cell_type": "markdown",
   "id": "cc8865f9-cbd4-4d62-a21d-0db1b6d44454",
   "metadata": {},
   "source": [
    "# Задания для выполнения:"
   ]
  },
  {
   "cell_type": "markdown",
   "id": "30177233-794f-4e4b-8554-d146914403d8",
   "metadata": {},
   "source": [
    "### 1. Сгенерируйте данные для задачи бинарной классификации с 4 признаками и 10000 наблюдениями. Целевая переменная должна зависеть от 2 признаков. Выведите признаки в виде датафрейма, дав названия колонкам. Выведите число объектов в каждом классе.\n",
    "Указание: Для этого воспользуйтесь [make_classification](https://scikit-learn.org/stable/modules/generated/sklearn.datasets.make_classification.html), задав параметры: число строк n_samples=10000, число признаков n_features=4, число признаков от которых зависит целевая переменная n_informative=2, число избыточных признаков (т.е. признаков, являющихся линейными комбинациями признаков от которых зависит целевая переменная) n_redundant=2, фиксируем воспроизводимость случайных данных random_state=42."
   ]
  },
  {
   "cell_type": "code",
   "execution_count": 7,
   "id": "e51c4c9e-b665-43eb-b9d4-a028a0c7fc2b",
   "metadata": {},
   "outputs": [],
   "source": [
    "X,y = datasets.make_classification(n_samples = 10000, n_features = 4, n_informative = 2, n_redundant = 2, random_state = 42)"
   ]
  },
  {
   "cell_type": "code",
   "execution_count": 8,
   "id": "55f32116-c227-4235-be2e-f289f30b02ed",
   "metadata": {},
   "outputs": [
    {
     "data": {
      "text/plain": [
       "array([[ 1.52264971, -0.93455988, -0.46502165,  0.05887383],\n",
       "       [ 1.04810323, -0.74680553,  0.43685274,  0.85962787],\n",
       "       [ 1.02421601, -0.44941167, -1.62343415, -1.37865568],\n",
       "       [-0.43466749,  0.2817535 ,  0.02329917, -0.13524348],\n",
       "       [ 1.42116496, -0.73157419, -1.46292601, -1.05843534]])"
      ]
     },
     "execution_count": 8,
     "metadata": {},
     "output_type": "execute_result"
    }
   ],
   "source": [
    "X[:5]"
   ]
  },
  {
   "cell_type": "code",
   "execution_count": 9,
   "id": "a3c03c2b-b994-4e81-acd5-a749117a8101",
   "metadata": {},
   "outputs": [
    {
     "data": {
      "text/html": [
       "<div>\n",
       "<style scoped>\n",
       "    .dataframe tbody tr th:only-of-type {\n",
       "        vertical-align: middle;\n",
       "    }\n",
       "\n",
       "    .dataframe tbody tr th {\n",
       "        vertical-align: top;\n",
       "    }\n",
       "\n",
       "    .dataframe thead th {\n",
       "        text-align: right;\n",
       "    }\n",
       "</style>\n",
       "<table border=\"1\" class=\"dataframe\">\n",
       "  <thead>\n",
       "    <tr style=\"text-align: right;\">\n",
       "      <th></th>\n",
       "      <th>X1</th>\n",
       "      <th>X2</th>\n",
       "      <th>X3</th>\n",
       "      <th>X4</th>\n",
       "    </tr>\n",
       "  </thead>\n",
       "  <tbody>\n",
       "    <tr>\n",
       "      <th>0</th>\n",
       "      <td>1.522650</td>\n",
       "      <td>-0.934560</td>\n",
       "      <td>-0.465022</td>\n",
       "      <td>0.058874</td>\n",
       "    </tr>\n",
       "    <tr>\n",
       "      <th>1</th>\n",
       "      <td>1.048103</td>\n",
       "      <td>-0.746806</td>\n",
       "      <td>0.436853</td>\n",
       "      <td>0.859628</td>\n",
       "    </tr>\n",
       "    <tr>\n",
       "      <th>2</th>\n",
       "      <td>1.024216</td>\n",
       "      <td>-0.449412</td>\n",
       "      <td>-1.623434</td>\n",
       "      <td>-1.378656</td>\n",
       "    </tr>\n",
       "    <tr>\n",
       "      <th>3</th>\n",
       "      <td>-0.434667</td>\n",
       "      <td>0.281754</td>\n",
       "      <td>0.023299</td>\n",
       "      <td>-0.135243</td>\n",
       "    </tr>\n",
       "    <tr>\n",
       "      <th>4</th>\n",
       "      <td>1.421165</td>\n",
       "      <td>-0.731574</td>\n",
       "      <td>-1.462926</td>\n",
       "      <td>-1.058435</td>\n",
       "    </tr>\n",
       "  </tbody>\n",
       "</table>\n",
       "</div>"
      ],
      "text/plain": [
       "         X1        X2        X3        X4\n",
       "0  1.522650 -0.934560 -0.465022  0.058874\n",
       "1  1.048103 -0.746806  0.436853  0.859628\n",
       "2  1.024216 -0.449412 -1.623434 -1.378656\n",
       "3 -0.434667  0.281754  0.023299 -0.135243\n",
       "4  1.421165 -0.731574 -1.462926 -1.058435"
      ]
     },
     "execution_count": 9,
     "metadata": {},
     "output_type": "execute_result"
    }
   ],
   "source": [
    "df = pd.DataFrame(data = X, columns = ['X'+str(i) for i in range(1, X.shape[1] + 1)])\n",
    "df[:5]"
   ]
  },
  {
   "cell_type": "code",
   "execution_count": 10,
   "id": "f864505a-be4b-4863-993a-eab5059ad62d",
   "metadata": {},
   "outputs": [
    {
     "data": {
      "text/plain": [
       "0    5000\n",
       "1    5000\n",
       "Name: count, dtype: int64"
      ]
     },
     "execution_count": 10,
     "metadata": {},
     "output_type": "execute_result"
    }
   ],
   "source": [
    "pd.Series(y).value_counts()"
   ]
  },
  {
   "cell_type": "markdown",
   "id": "7626e848-3ced-42b0-885f-d83d4f8e0027",
   "metadata": {},
   "source": [
    "### 2. Разделите данные на обучающую и тестовую части. В тестовую часть отправьте 20% объектов и зафиксируйте способ перемешивания данных random_state=42. Выведите размеры обучающей и тестовой частей."
   ]
  },
  {
   "cell_type": "code",
   "execution_count": 11,
   "id": "7271e8f5-a3ee-426b-9659-1155d7dd412a",
   "metadata": {},
   "outputs": [],
   "source": [
    "X_train, X_test, y_train, y_test = train_test_split(X, y, test_size = 0.2, random_state = 42)"
   ]
  },
  {
   "cell_type": "code",
   "execution_count": 12,
   "id": "5c37ee7d-a8d8-4041-b3c3-d92946f32ff7",
   "metadata": {},
   "outputs": [
    {
     "data": {
      "text/plain": [
       "(8000, 2000)"
      ]
     },
     "execution_count": 12,
     "metadata": {},
     "output_type": "execute_result"
    }
   ],
   "source": [
    "X_train.shape[0], X_test.shape[0]"
   ]
  },
  {
   "cell_type": "markdown",
   "id": "cd34046f-84ee-4892-8f02-bd185cbc6694",
   "metadata": {},
   "source": [
    "### 3. Постройте модель логистической регрессии с гиперпараметрами, установленными по умолчанию. Для этого создайте класс LogisticRegression c дефолтными гиперпараметрами и обучите модель на обучающих данных. Сделайте предсказание на тестовых данных. Вычислите метрику accuracy на тестовых данных."
   ]
  },
  {
   "cell_type": "code",
   "execution_count": 13,
   "id": "36895d4b-61ae-4468-a415-366a7aa2e388",
   "metadata": {},
   "outputs": [],
   "source": [
    "model_default = LogisticRegression()"
   ]
  },
  {
   "cell_type": "code",
   "execution_count": 14,
   "id": "7279e60a-31b8-442b-b273-8f91b7fe82b8",
   "metadata": {},
   "outputs": [
    {
     "data": {
      "text/plain": [
       "{'C': 1.0,\n",
       " 'class_weight': None,\n",
       " 'dual': False,\n",
       " 'fit_intercept': True,\n",
       " 'intercept_scaling': 1,\n",
       " 'l1_ratio': None,\n",
       " 'max_iter': 100,\n",
       " 'multi_class': 'deprecated',\n",
       " 'n_jobs': None,\n",
       " 'penalty': 'l2',\n",
       " 'random_state': None,\n",
       " 'solver': 'lbfgs',\n",
       " 'tol': 0.0001,\n",
       " 'verbose': 0,\n",
       " 'warm_start': False}"
      ]
     },
     "execution_count": 14,
     "metadata": {},
     "output_type": "execute_result"
    }
   ],
   "source": [
    "model_default.get_params()"
   ]
  },
  {
   "cell_type": "code",
   "execution_count": 15,
   "id": "6deaffad-916d-4871-8fec-40a79b9540c4",
   "metadata": {},
   "outputs": [
    {
     "data": {
      "text/plain": [
       "0.8935"
      ]
     },
     "execution_count": 15,
     "metadata": {},
     "output_type": "execute_result"
    }
   ],
   "source": [
    "model_default.fit(X_train, y_train)\n",
    "accuracy_default = model_default.score(X_test, y_test)\n",
    "accuracy_default"
   ]
  },
  {
   "cell_type": "markdown",
   "id": "3ee86faf",
   "metadata": {},
   "source": [
    "### 4. Напишите функцию, принимающую матрицу признаков и вектор целей и осуществляющую решетчатый поиск лучших гиперпараметров модели LogisticRegression по метрике accuracy с использованием hold-out разбиения, среди двух гиперпараметров, значения которых указанны ниже. Подберите лучшие гиперпараметры на обучающих данных. Обучите модель с лучшими гиперпараметрами на обучающих данных и вычислите метрику accuracy на тестовых данных."
   ]
  },
  {
   "cell_type": "markdown",
   "id": "5f66b43a",
   "metadata": {},
   "source": [
    "Создадим диапазон вариантов для гиперпараметров в виде словаря:"
   ]
  },
  {
   "cell_type": "code",
   "execution_count": 16,
   "id": "4991d736-7693-4aee-aa2f-5ba5904d68a8",
   "metadata": {},
   "outputs": [
    {
     "data": {
      "text/plain": [
       "array([1.00000000e-03, 4.21696503e-03, 1.77827941e-02, 7.49894209e-02,\n",
       "       3.16227766e-01, 1.33352143e+00, 5.62341325e+00, 2.37137371e+01,\n",
       "       1.00000000e+02])"
      ]
     },
     "execution_count": 16,
     "metadata": {},
     "output_type": "execute_result"
    }
   ],
   "source": [
    "np.logspace(-3,2,9)"
   ]
  },
  {
   "cell_type": "code",
   "execution_count": 17,
   "id": "d4a6240a-198e-46f5-ae79-a5dfd490d96c",
   "metadata": {},
   "outputs": [],
   "source": [
    "param_grid = {'C': np.logspace(-3,2,9), \n",
    "              'solver': ['lbfgs','liblinear', 'saga']\n",
    "}"
   ]
  },
  {
   "cell_type": "code",
   "execution_count": 18,
   "id": "866323d8-398f-4d0c-abe9-fceceba15f47",
   "metadata": {},
   "outputs": [],
   "source": [
    "def Grid(X,y):\n",
    "    X_trainval, X_testval, y_trainval, y_testval = train_test_split(X, y, test_size = 0.2, random_state = 42)\n",
    "    best_score, score = 0, 0\n",
    "    for C in param_grid['C']:\n",
    "        for solver in param_grid['solver']:\n",
    "            model = LogisticRegression(C = C, solver = solver)\n",
    "            model.fit(X_trainval, y_trainval)\n",
    "            score = model.score(X_testval, y_testval)\n",
    "            if score > best_score:\n",
    "                best_score = score\n",
    "                best_parameters = {'C': C, 'solver': solver}\n",
    "    return  best_parameters     "
   ]
  },
  {
   "cell_type": "code",
   "execution_count": 19,
   "id": "7285b755-276b-412e-92fb-36fcb17d6ed3",
   "metadata": {},
   "outputs": [
    {
     "data": {
      "text/plain": [
       "{'C': np.float64(0.004216965034285823), 'solver': 'lbfgs'}"
      ]
     },
     "execution_count": 19,
     "metadata": {},
     "output_type": "execute_result"
    }
   ],
   "source": [
    "best_parameters = Grid(X_train, y_train)\n",
    "best_parameters"
   ]
  },
  {
   "cell_type": "code",
   "execution_count": 20,
   "id": "71c4a6e5-245b-4eff-af49-d5f4e141d976",
   "metadata": {},
   "outputs": [
    {
     "data": {
      "text/plain": [
       "0.894"
      ]
     },
     "execution_count": 20,
     "metadata": {},
     "output_type": "execute_result"
    }
   ],
   "source": [
    "best_model = LogisticRegression(**best_parameters)\n",
    "best_model.fit(X_train, y_train)\n",
    "accuracy_best = best_model.score(X_test, y_test)\n",
    "accuracy_best"
   ]
  },
  {
   "cell_type": "markdown",
   "id": "d6f56ded-8e1e-48b8-a844-50a1f0e7a73e",
   "metadata": {},
   "source": [
    "### 5. Напишите функцию, принимающую матрицу признаков и вектор целей и осуществляющую решетчатый поиск лучших гиперпараметров модели LogisticRegression по метрике accuracy с использованием перекрёстной проверки, для тех же гиперпараметров, что и в предыдущем задании. Подберите лучшие гиперпараметры на обучающих данных. Обучите модель с лучшими гиперпараметрами на обучающих данных и вычислите метрику accuracy на тестовых данных."
   ]
  },
  {
   "cell_type": "code",
   "execution_count": 21,
   "id": "66182d72-c6ce-4b5e-abf1-b1983147d93f",
   "metadata": {},
   "outputs": [],
   "source": [
    "def GridCV(X,y):\n",
    "    best_score, score = 0, 0\n",
    "    for C in param_grid['C']:\n",
    "        for solver in param_grid['solver']:\n",
    "            model = LogisticRegression(C = C, solver = solver)\n",
    "            score = np.mean(cross_val_score(model, X, y, cv = 5, scoring = 'accuracy'))\n",
    "            if score > best_score:\n",
    "                best_score = score\n",
    "                best_parameters = {'C': C, 'solver': solver}\n",
    "    return  best_parameters     "
   ]
  },
  {
   "cell_type": "code",
   "execution_count": 22,
   "id": "29597df8-2a82-4a04-91f5-6c29f8c84cc9",
   "metadata": {},
   "outputs": [
    {
     "data": {
      "text/plain": [
       "{'C': np.float64(0.01778279410038923), 'solver': 'saga'}"
      ]
     },
     "execution_count": 22,
     "metadata": {},
     "output_type": "execute_result"
    }
   ],
   "source": [
    "best_parameters = GridCV(X_train, y_train)\n",
    "best_parameters"
   ]
  },
  {
   "cell_type": "code",
   "execution_count": 23,
   "id": "bc6c9d4d-5299-417d-bab3-29c3cdea1fe7",
   "metadata": {},
   "outputs": [
    {
     "data": {
      "text/plain": [
       "0.894"
      ]
     },
     "execution_count": 23,
     "metadata": {},
     "output_type": "execute_result"
    }
   ],
   "source": [
    "best_model = LogisticRegression(**best_parameters)\n",
    "best_model.fit(X_train, y_train)\n",
    "accuracy_best = best_model.score(X_test, y_test)\n",
    "accuracy_best"
   ]
  },
  {
   "cell_type": "markdown",
   "id": "de25adcc-6962-47aa-b9aa-08ad40556aeb",
   "metadata": {},
   "source": [
    "### 6. Осуществите решетчатый поиск на обучающих данных лучших гиперпараметров модели LogisticRegression по метрике accuracy с использованием перекрёстной проверки, для тех же гиперпараметров, что и в предыдущем задании, используя класс GridSearchCV из библиотеки sklearn. Убедитесь, что результаты будут теми же, что и в предыдущем задании.\n",
    "Указание: Для выведения наилучших гиперпараметров модели, используйте атрибут best_params_. Наилучшая модель выводится при помощи атрибута best_estimator_."
   ]
  },
  {
   "cell_type": "code",
   "execution_count": 24,
   "id": "759ad539-c9a7-40a2-95aa-24a61e6a67d0",
   "metadata": {},
   "outputs": [],
   "source": [
    "gs = GridSearchCV(\n",
    "    estimator = LogisticRegression(),\n",
    "    param_grid = param_grid,\n",
    "    cv = 5,\n",
    "    scoring = 'accuracy')"
   ]
  },
  {
   "cell_type": "code",
   "execution_count": 25,
   "id": "f627890e-b860-4b0b-afb7-2bd1e16188e1",
   "metadata": {},
   "outputs": [
    {
     "data": {
      "text/html": [
       "<style>#sk-container-id-1 {\n",
       "  /* Definition of color scheme common for light and dark mode */\n",
       "  --sklearn-color-text: #000;\n",
       "  --sklearn-color-text-muted: #666;\n",
       "  --sklearn-color-line: gray;\n",
       "  /* Definition of color scheme for unfitted estimators */\n",
       "  --sklearn-color-unfitted-level-0: #fff5e6;\n",
       "  --sklearn-color-unfitted-level-1: #f6e4d2;\n",
       "  --sklearn-color-unfitted-level-2: #ffe0b3;\n",
       "  --sklearn-color-unfitted-level-3: chocolate;\n",
       "  /* Definition of color scheme for fitted estimators */\n",
       "  --sklearn-color-fitted-level-0: #f0f8ff;\n",
       "  --sklearn-color-fitted-level-1: #d4ebff;\n",
       "  --sklearn-color-fitted-level-2: #b3dbfd;\n",
       "  --sklearn-color-fitted-level-3: cornflowerblue;\n",
       "\n",
       "  /* Specific color for light theme */\n",
       "  --sklearn-color-text-on-default-background: var(--sg-text-color, var(--theme-code-foreground, var(--jp-content-font-color1, black)));\n",
       "  --sklearn-color-background: var(--sg-background-color, var(--theme-background, var(--jp-layout-color0, white)));\n",
       "  --sklearn-color-border-box: var(--sg-text-color, var(--theme-code-foreground, var(--jp-content-font-color1, black)));\n",
       "  --sklearn-color-icon: #696969;\n",
       "\n",
       "  @media (prefers-color-scheme: dark) {\n",
       "    /* Redefinition of color scheme for dark theme */\n",
       "    --sklearn-color-text-on-default-background: var(--sg-text-color, var(--theme-code-foreground, var(--jp-content-font-color1, white)));\n",
       "    --sklearn-color-background: var(--sg-background-color, var(--theme-background, var(--jp-layout-color0, #111)));\n",
       "    --sklearn-color-border-box: var(--sg-text-color, var(--theme-code-foreground, var(--jp-content-font-color1, white)));\n",
       "    --sklearn-color-icon: #878787;\n",
       "  }\n",
       "}\n",
       "\n",
       "#sk-container-id-1 {\n",
       "  color: var(--sklearn-color-text);\n",
       "}\n",
       "\n",
       "#sk-container-id-1 pre {\n",
       "  padding: 0;\n",
       "}\n",
       "\n",
       "#sk-container-id-1 input.sk-hidden--visually {\n",
       "  border: 0;\n",
       "  clip: rect(1px 1px 1px 1px);\n",
       "  clip: rect(1px, 1px, 1px, 1px);\n",
       "  height: 1px;\n",
       "  margin: -1px;\n",
       "  overflow: hidden;\n",
       "  padding: 0;\n",
       "  position: absolute;\n",
       "  width: 1px;\n",
       "}\n",
       "\n",
       "#sk-container-id-1 div.sk-dashed-wrapped {\n",
       "  border: 1px dashed var(--sklearn-color-line);\n",
       "  margin: 0 0.4em 0.5em 0.4em;\n",
       "  box-sizing: border-box;\n",
       "  padding-bottom: 0.4em;\n",
       "  background-color: var(--sklearn-color-background);\n",
       "}\n",
       "\n",
       "#sk-container-id-1 div.sk-container {\n",
       "  /* jupyter's `normalize.less` sets `[hidden] { display: none; }`\n",
       "     but bootstrap.min.css set `[hidden] { display: none !important; }`\n",
       "     so we also need the `!important` here to be able to override the\n",
       "     default hidden behavior on the sphinx rendered scikit-learn.org.\n",
       "     See: https://github.com/scikit-learn/scikit-learn/issues/21755 */\n",
       "  display: inline-block !important;\n",
       "  position: relative;\n",
       "}\n",
       "\n",
       "#sk-container-id-1 div.sk-text-repr-fallback {\n",
       "  display: none;\n",
       "}\n",
       "\n",
       "div.sk-parallel-item,\n",
       "div.sk-serial,\n",
       "div.sk-item {\n",
       "  /* draw centered vertical line to link estimators */\n",
       "  background-image: linear-gradient(var(--sklearn-color-text-on-default-background), var(--sklearn-color-text-on-default-background));\n",
       "  background-size: 2px 100%;\n",
       "  background-repeat: no-repeat;\n",
       "  background-position: center center;\n",
       "}\n",
       "\n",
       "/* Parallel-specific style estimator block */\n",
       "\n",
       "#sk-container-id-1 div.sk-parallel-item::after {\n",
       "  content: \"\";\n",
       "  width: 100%;\n",
       "  border-bottom: 2px solid var(--sklearn-color-text-on-default-background);\n",
       "  flex-grow: 1;\n",
       "}\n",
       "\n",
       "#sk-container-id-1 div.sk-parallel {\n",
       "  display: flex;\n",
       "  align-items: stretch;\n",
       "  justify-content: center;\n",
       "  background-color: var(--sklearn-color-background);\n",
       "  position: relative;\n",
       "}\n",
       "\n",
       "#sk-container-id-1 div.sk-parallel-item {\n",
       "  display: flex;\n",
       "  flex-direction: column;\n",
       "}\n",
       "\n",
       "#sk-container-id-1 div.sk-parallel-item:first-child::after {\n",
       "  align-self: flex-end;\n",
       "  width: 50%;\n",
       "}\n",
       "\n",
       "#sk-container-id-1 div.sk-parallel-item:last-child::after {\n",
       "  align-self: flex-start;\n",
       "  width: 50%;\n",
       "}\n",
       "\n",
       "#sk-container-id-1 div.sk-parallel-item:only-child::after {\n",
       "  width: 0;\n",
       "}\n",
       "\n",
       "/* Serial-specific style estimator block */\n",
       "\n",
       "#sk-container-id-1 div.sk-serial {\n",
       "  display: flex;\n",
       "  flex-direction: column;\n",
       "  align-items: center;\n",
       "  background-color: var(--sklearn-color-background);\n",
       "  padding-right: 1em;\n",
       "  padding-left: 1em;\n",
       "}\n",
       "\n",
       "\n",
       "/* Toggleable style: style used for estimator/Pipeline/ColumnTransformer box that is\n",
       "clickable and can be expanded/collapsed.\n",
       "- Pipeline and ColumnTransformer use this feature and define the default style\n",
       "- Estimators will overwrite some part of the style using the `sk-estimator` class\n",
       "*/\n",
       "\n",
       "/* Pipeline and ColumnTransformer style (default) */\n",
       "\n",
       "#sk-container-id-1 div.sk-toggleable {\n",
       "  /* Default theme specific background. It is overwritten whether we have a\n",
       "  specific estimator or a Pipeline/ColumnTransformer */\n",
       "  background-color: var(--sklearn-color-background);\n",
       "}\n",
       "\n",
       "/* Toggleable label */\n",
       "#sk-container-id-1 label.sk-toggleable__label {\n",
       "  cursor: pointer;\n",
       "  display: flex;\n",
       "  width: 100%;\n",
       "  margin-bottom: 0;\n",
       "  padding: 0.5em;\n",
       "  box-sizing: border-box;\n",
       "  text-align: center;\n",
       "  align-items: start;\n",
       "  justify-content: space-between;\n",
       "  gap: 0.5em;\n",
       "}\n",
       "\n",
       "#sk-container-id-1 label.sk-toggleable__label .caption {\n",
       "  font-size: 0.6rem;\n",
       "  font-weight: lighter;\n",
       "  color: var(--sklearn-color-text-muted);\n",
       "}\n",
       "\n",
       "#sk-container-id-1 label.sk-toggleable__label-arrow:before {\n",
       "  /* Arrow on the left of the label */\n",
       "  content: \"▸\";\n",
       "  float: left;\n",
       "  margin-right: 0.25em;\n",
       "  color: var(--sklearn-color-icon);\n",
       "}\n",
       "\n",
       "#sk-container-id-1 label.sk-toggleable__label-arrow:hover:before {\n",
       "  color: var(--sklearn-color-text);\n",
       "}\n",
       "\n",
       "/* Toggleable content - dropdown */\n",
       "\n",
       "#sk-container-id-1 div.sk-toggleable__content {\n",
       "  max-height: 0;\n",
       "  max-width: 0;\n",
       "  overflow: hidden;\n",
       "  text-align: left;\n",
       "  /* unfitted */\n",
       "  background-color: var(--sklearn-color-unfitted-level-0);\n",
       "}\n",
       "\n",
       "#sk-container-id-1 div.sk-toggleable__content.fitted {\n",
       "  /* fitted */\n",
       "  background-color: var(--sklearn-color-fitted-level-0);\n",
       "}\n",
       "\n",
       "#sk-container-id-1 div.sk-toggleable__content pre {\n",
       "  margin: 0.2em;\n",
       "  border-radius: 0.25em;\n",
       "  color: var(--sklearn-color-text);\n",
       "  /* unfitted */\n",
       "  background-color: var(--sklearn-color-unfitted-level-0);\n",
       "}\n",
       "\n",
       "#sk-container-id-1 div.sk-toggleable__content.fitted pre {\n",
       "  /* unfitted */\n",
       "  background-color: var(--sklearn-color-fitted-level-0);\n",
       "}\n",
       "\n",
       "#sk-container-id-1 input.sk-toggleable__control:checked~div.sk-toggleable__content {\n",
       "  /* Expand drop-down */\n",
       "  max-height: 200px;\n",
       "  max-width: 100%;\n",
       "  overflow: auto;\n",
       "}\n",
       "\n",
       "#sk-container-id-1 input.sk-toggleable__control:checked~label.sk-toggleable__label-arrow:before {\n",
       "  content: \"▾\";\n",
       "}\n",
       "\n",
       "/* Pipeline/ColumnTransformer-specific style */\n",
       "\n",
       "#sk-container-id-1 div.sk-label input.sk-toggleable__control:checked~label.sk-toggleable__label {\n",
       "  color: var(--sklearn-color-text);\n",
       "  background-color: var(--sklearn-color-unfitted-level-2);\n",
       "}\n",
       "\n",
       "#sk-container-id-1 div.sk-label.fitted input.sk-toggleable__control:checked~label.sk-toggleable__label {\n",
       "  background-color: var(--sklearn-color-fitted-level-2);\n",
       "}\n",
       "\n",
       "/* Estimator-specific style */\n",
       "\n",
       "/* Colorize estimator box */\n",
       "#sk-container-id-1 div.sk-estimator input.sk-toggleable__control:checked~label.sk-toggleable__label {\n",
       "  /* unfitted */\n",
       "  background-color: var(--sklearn-color-unfitted-level-2);\n",
       "}\n",
       "\n",
       "#sk-container-id-1 div.sk-estimator.fitted input.sk-toggleable__control:checked~label.sk-toggleable__label {\n",
       "  /* fitted */\n",
       "  background-color: var(--sklearn-color-fitted-level-2);\n",
       "}\n",
       "\n",
       "#sk-container-id-1 div.sk-label label.sk-toggleable__label,\n",
       "#sk-container-id-1 div.sk-label label {\n",
       "  /* The background is the default theme color */\n",
       "  color: var(--sklearn-color-text-on-default-background);\n",
       "}\n",
       "\n",
       "/* On hover, darken the color of the background */\n",
       "#sk-container-id-1 div.sk-label:hover label.sk-toggleable__label {\n",
       "  color: var(--sklearn-color-text);\n",
       "  background-color: var(--sklearn-color-unfitted-level-2);\n",
       "}\n",
       "\n",
       "/* Label box, darken color on hover, fitted */\n",
       "#sk-container-id-1 div.sk-label.fitted:hover label.sk-toggleable__label.fitted {\n",
       "  color: var(--sklearn-color-text);\n",
       "  background-color: var(--sklearn-color-fitted-level-2);\n",
       "}\n",
       "\n",
       "/* Estimator label */\n",
       "\n",
       "#sk-container-id-1 div.sk-label label {\n",
       "  font-family: monospace;\n",
       "  font-weight: bold;\n",
       "  display: inline-block;\n",
       "  line-height: 1.2em;\n",
       "}\n",
       "\n",
       "#sk-container-id-1 div.sk-label-container {\n",
       "  text-align: center;\n",
       "}\n",
       "\n",
       "/* Estimator-specific */\n",
       "#sk-container-id-1 div.sk-estimator {\n",
       "  font-family: monospace;\n",
       "  border: 1px dotted var(--sklearn-color-border-box);\n",
       "  border-radius: 0.25em;\n",
       "  box-sizing: border-box;\n",
       "  margin-bottom: 0.5em;\n",
       "  /* unfitted */\n",
       "  background-color: var(--sklearn-color-unfitted-level-0);\n",
       "}\n",
       "\n",
       "#sk-container-id-1 div.sk-estimator.fitted {\n",
       "  /* fitted */\n",
       "  background-color: var(--sklearn-color-fitted-level-0);\n",
       "}\n",
       "\n",
       "/* on hover */\n",
       "#sk-container-id-1 div.sk-estimator:hover {\n",
       "  /* unfitted */\n",
       "  background-color: var(--sklearn-color-unfitted-level-2);\n",
       "}\n",
       "\n",
       "#sk-container-id-1 div.sk-estimator.fitted:hover {\n",
       "  /* fitted */\n",
       "  background-color: var(--sklearn-color-fitted-level-2);\n",
       "}\n",
       "\n",
       "/* Specification for estimator info (e.g. \"i\" and \"?\") */\n",
       "\n",
       "/* Common style for \"i\" and \"?\" */\n",
       "\n",
       ".sk-estimator-doc-link,\n",
       "a:link.sk-estimator-doc-link,\n",
       "a:visited.sk-estimator-doc-link {\n",
       "  float: right;\n",
       "  font-size: smaller;\n",
       "  line-height: 1em;\n",
       "  font-family: monospace;\n",
       "  background-color: var(--sklearn-color-background);\n",
       "  border-radius: 1em;\n",
       "  height: 1em;\n",
       "  width: 1em;\n",
       "  text-decoration: none !important;\n",
       "  margin-left: 0.5em;\n",
       "  text-align: center;\n",
       "  /* unfitted */\n",
       "  border: var(--sklearn-color-unfitted-level-1) 1pt solid;\n",
       "  color: var(--sklearn-color-unfitted-level-1);\n",
       "}\n",
       "\n",
       ".sk-estimator-doc-link.fitted,\n",
       "a:link.sk-estimator-doc-link.fitted,\n",
       "a:visited.sk-estimator-doc-link.fitted {\n",
       "  /* fitted */\n",
       "  border: var(--sklearn-color-fitted-level-1) 1pt solid;\n",
       "  color: var(--sklearn-color-fitted-level-1);\n",
       "}\n",
       "\n",
       "/* On hover */\n",
       "div.sk-estimator:hover .sk-estimator-doc-link:hover,\n",
       ".sk-estimator-doc-link:hover,\n",
       "div.sk-label-container:hover .sk-estimator-doc-link:hover,\n",
       ".sk-estimator-doc-link:hover {\n",
       "  /* unfitted */\n",
       "  background-color: var(--sklearn-color-unfitted-level-3);\n",
       "  color: var(--sklearn-color-background);\n",
       "  text-decoration: none;\n",
       "}\n",
       "\n",
       "div.sk-estimator.fitted:hover .sk-estimator-doc-link.fitted:hover,\n",
       ".sk-estimator-doc-link.fitted:hover,\n",
       "div.sk-label-container:hover .sk-estimator-doc-link.fitted:hover,\n",
       ".sk-estimator-doc-link.fitted:hover {\n",
       "  /* fitted */\n",
       "  background-color: var(--sklearn-color-fitted-level-3);\n",
       "  color: var(--sklearn-color-background);\n",
       "  text-decoration: none;\n",
       "}\n",
       "\n",
       "/* Span, style for the box shown on hovering the info icon */\n",
       ".sk-estimator-doc-link span {\n",
       "  display: none;\n",
       "  z-index: 9999;\n",
       "  position: relative;\n",
       "  font-weight: normal;\n",
       "  right: .2ex;\n",
       "  padding: .5ex;\n",
       "  margin: .5ex;\n",
       "  width: min-content;\n",
       "  min-width: 20ex;\n",
       "  max-width: 50ex;\n",
       "  color: var(--sklearn-color-text);\n",
       "  box-shadow: 2pt 2pt 4pt #999;\n",
       "  /* unfitted */\n",
       "  background: var(--sklearn-color-unfitted-level-0);\n",
       "  border: .5pt solid var(--sklearn-color-unfitted-level-3);\n",
       "}\n",
       "\n",
       ".sk-estimator-doc-link.fitted span {\n",
       "  /* fitted */\n",
       "  background: var(--sklearn-color-fitted-level-0);\n",
       "  border: var(--sklearn-color-fitted-level-3);\n",
       "}\n",
       "\n",
       ".sk-estimator-doc-link:hover span {\n",
       "  display: block;\n",
       "}\n",
       "\n",
       "/* \"?\"-specific style due to the `<a>` HTML tag */\n",
       "\n",
       "#sk-container-id-1 a.estimator_doc_link {\n",
       "  float: right;\n",
       "  font-size: 1rem;\n",
       "  line-height: 1em;\n",
       "  font-family: monospace;\n",
       "  background-color: var(--sklearn-color-background);\n",
       "  border-radius: 1rem;\n",
       "  height: 1rem;\n",
       "  width: 1rem;\n",
       "  text-decoration: none;\n",
       "  /* unfitted */\n",
       "  color: var(--sklearn-color-unfitted-level-1);\n",
       "  border: var(--sklearn-color-unfitted-level-1) 1pt solid;\n",
       "}\n",
       "\n",
       "#sk-container-id-1 a.estimator_doc_link.fitted {\n",
       "  /* fitted */\n",
       "  border: var(--sklearn-color-fitted-level-1) 1pt solid;\n",
       "  color: var(--sklearn-color-fitted-level-1);\n",
       "}\n",
       "\n",
       "/* On hover */\n",
       "#sk-container-id-1 a.estimator_doc_link:hover {\n",
       "  /* unfitted */\n",
       "  background-color: var(--sklearn-color-unfitted-level-3);\n",
       "  color: var(--sklearn-color-background);\n",
       "  text-decoration: none;\n",
       "}\n",
       "\n",
       "#sk-container-id-1 a.estimator_doc_link.fitted:hover {\n",
       "  /* fitted */\n",
       "  background-color: var(--sklearn-color-fitted-level-3);\n",
       "}\n",
       "</style><div id=\"sk-container-id-1\" class=\"sk-top-container\"><div class=\"sk-text-repr-fallback\"><pre>GridSearchCV(cv=5, estimator=LogisticRegression(),\n",
       "             param_grid={&#x27;C&#x27;: array([1.00000000e-03, 4.21696503e-03, 1.77827941e-02, 7.49894209e-02,\n",
       "       3.16227766e-01, 1.33352143e+00, 5.62341325e+00, 2.37137371e+01,\n",
       "       1.00000000e+02]),\n",
       "                         &#x27;solver&#x27;: [&#x27;lbfgs&#x27;, &#x27;liblinear&#x27;, &#x27;saga&#x27;]},\n",
       "             scoring=&#x27;accuracy&#x27;)</pre><b>In a Jupyter environment, please rerun this cell to show the HTML representation or trust the notebook. <br />On GitHub, the HTML representation is unable to render, please try loading this page with nbviewer.org.</b></div><div class=\"sk-container\" hidden><div class=\"sk-item sk-dashed-wrapped\"><div class=\"sk-label-container\"><div class=\"sk-label fitted sk-toggleable\"><input class=\"sk-toggleable__control sk-hidden--visually\" id=\"sk-estimator-id-1\" type=\"checkbox\" ><label for=\"sk-estimator-id-1\" class=\"sk-toggleable__label fitted sk-toggleable__label-arrow\"><div><div>GridSearchCV</div></div><div><a class=\"sk-estimator-doc-link fitted\" rel=\"noreferrer\" target=\"_blank\" href=\"https://scikit-learn.org/1.6/modules/generated/sklearn.model_selection.GridSearchCV.html\">?<span>Documentation for GridSearchCV</span></a><span class=\"sk-estimator-doc-link fitted\">i<span>Fitted</span></span></div></label><div class=\"sk-toggleable__content fitted\"><pre>GridSearchCV(cv=5, estimator=LogisticRegression(),\n",
       "             param_grid={&#x27;C&#x27;: array([1.00000000e-03, 4.21696503e-03, 1.77827941e-02, 7.49894209e-02,\n",
       "       3.16227766e-01, 1.33352143e+00, 5.62341325e+00, 2.37137371e+01,\n",
       "       1.00000000e+02]),\n",
       "                         &#x27;solver&#x27;: [&#x27;lbfgs&#x27;, &#x27;liblinear&#x27;, &#x27;saga&#x27;]},\n",
       "             scoring=&#x27;accuracy&#x27;)</pre></div> </div></div><div class=\"sk-parallel\"><div class=\"sk-parallel-item\"><div class=\"sk-item\"><div class=\"sk-label-container\"><div class=\"sk-label fitted sk-toggleable\"><input class=\"sk-toggleable__control sk-hidden--visually\" id=\"sk-estimator-id-2\" type=\"checkbox\" ><label for=\"sk-estimator-id-2\" class=\"sk-toggleable__label fitted sk-toggleable__label-arrow\"><div><div>best_estimator_: LogisticRegression</div></div></label><div class=\"sk-toggleable__content fitted\"><pre>LogisticRegression(C=np.float64(0.01778279410038923), solver=&#x27;saga&#x27;)</pre></div> </div></div><div class=\"sk-serial\"><div class=\"sk-item\"><div class=\"sk-estimator fitted sk-toggleable\"><input class=\"sk-toggleable__control sk-hidden--visually\" id=\"sk-estimator-id-3\" type=\"checkbox\" ><label for=\"sk-estimator-id-3\" class=\"sk-toggleable__label fitted sk-toggleable__label-arrow\"><div><div>LogisticRegression</div></div><div><a class=\"sk-estimator-doc-link fitted\" rel=\"noreferrer\" target=\"_blank\" href=\"https://scikit-learn.org/1.6/modules/generated/sklearn.linear_model.LogisticRegression.html\">?<span>Documentation for LogisticRegression</span></a></div></label><div class=\"sk-toggleable__content fitted\"><pre>LogisticRegression(C=np.float64(0.01778279410038923), solver=&#x27;saga&#x27;)</pre></div> </div></div></div></div></div></div></div></div></div>"
      ],
      "text/plain": [
       "GridSearchCV(cv=5, estimator=LogisticRegression(),\n",
       "             param_grid={'C': array([1.00000000e-03, 4.21696503e-03, 1.77827941e-02, 7.49894209e-02,\n",
       "       3.16227766e-01, 1.33352143e+00, 5.62341325e+00, 2.37137371e+01,\n",
       "       1.00000000e+02]),\n",
       "                         'solver': ['lbfgs', 'liblinear', 'saga']},\n",
       "             scoring='accuracy')"
      ]
     },
     "execution_count": 25,
     "metadata": {},
     "output_type": "execute_result"
    }
   ],
   "source": [
    "gs.fit(X_train, y_train)"
   ]
  },
  {
   "cell_type": "code",
   "execution_count": 26,
   "id": "d60a8324-0ca1-4cc9-88b9-100352e7c8da",
   "metadata": {},
   "outputs": [
    {
     "data": {
      "text/plain": [
       "{'C': np.float64(0.01778279410038923), 'solver': 'saga'}"
      ]
     },
     "execution_count": 26,
     "metadata": {},
     "output_type": "execute_result"
    }
   ],
   "source": [
    "gs.best_params_"
   ]
  },
  {
   "cell_type": "code",
   "execution_count": 27,
   "id": "48c81381-e40f-4a5d-bc83-5a07d4f1d9cb",
   "metadata": {},
   "outputs": [
    {
     "data": {
      "text/plain": [
       "0.894"
      ]
     },
     "execution_count": 27,
     "metadata": {},
     "output_type": "execute_result"
    }
   ],
   "source": [
    "best_model = LogisticRegression(**gs.best_params_)\n",
    "best_model.fit(X_train, y_train)\n",
    "accuracy_best = best_model.score(X_test, y_test)\n",
    "accuracy_best"
   ]
  },
  {
   "cell_type": "code",
   "execution_count": 28,
   "id": "12ee3754-2868-4cb5-be62-062a1fe8f788",
   "metadata": {},
   "outputs": [
    {
     "data": {
      "text/plain": [
       "0.894"
      ]
     },
     "execution_count": 28,
     "metadata": {},
     "output_type": "execute_result"
    }
   ],
   "source": [
    "best_model = gs.best_estimator_\n",
    "best_model.fit(X_train, y_train)\n",
    "accuracy_best = best_model.score(X_test, y_test)\n",
    "accuracy_best"
   ]
  },
  {
   "cell_type": "markdown",
   "id": "3fd90da2",
   "metadata": {},
   "source": [
    "### 7. Выведите результаты решетчатого поиска с использованием класса GridSearchCV, осуществлённого в предыдущем пункте, в виде словаря и в виде датафрейма. Оставьте в датафрейме только два столбца со значениями гиперпараметров и со значениями вычисляемой метрики. Выведите самое большое значение среди средних значений метрики accuracy перекрестной проверки.\n",
    "Указание: Для выведения результатов решетчатого поиска в виде словаря используйте атрибут cv_results_. Для выведения самого большого значения среди средних значений метрики accuracy используйте атрибут best_score_."
   ]
  },
  {
   "cell_type": "code",
   "execution_count": 29,
   "id": "46a5adf4-646a-489a-9acc-75f3bac1422f",
   "metadata": {},
   "outputs": [
    {
     "data": {
      "text/plain": [
       "{'mean_fit_time': array([0.00232935, 0.00193582, 0.00486841, 0.00198026, 0.00206828,\n",
       "        0.00440912, 0.00203247, 0.00201688, 0.00422926, 0.00243034,\n",
       "        0.00201497, 0.00467515, 0.00253787, 0.00218134, 0.00415049,\n",
       "        0.00247231, 0.00218353, 0.00430779, 0.00235324, 0.00218596,\n",
       "        0.00432391, 0.0024395 , 0.00232024, 0.00433645, 0.00249686,\n",
       "        0.00228157, 0.00410099]),\n",
       " 'std_fit_time': array([2.63080010e-04, 3.21205934e-04, 5.70539089e-04, 1.54196663e-04,\n",
       "        1.08280259e-04, 8.18537788e-04, 1.23741622e-04, 7.03713105e-05,\n",
       "        1.12995859e-04, 2.72492039e-04, 6.40469878e-05, 6.06788333e-04,\n",
       "        1.94432747e-04, 8.19057733e-05, 3.00571896e-04, 1.58525558e-04,\n",
       "        1.77489628e-04, 4.35970871e-04, 2.37294235e-04, 7.19192479e-05,\n",
       "        5.13520089e-04, 1.85572194e-04, 1.37484764e-04, 1.52630845e-04,\n",
       "        2.50308289e-04, 2.65595155e-04, 2.74509416e-04]),\n",
       " 'mean_score_time': array([0.00050631, 0.0004426 , 0.00053291, 0.00043793, 0.00040445,\n",
       "        0.00045252, 0.00046926, 0.00036039, 0.00037394, 0.00038419,\n",
       "        0.00033503, 0.00038977, 0.0003932 , 0.00035186, 0.00041351,\n",
       "        0.0004046 , 0.00033312, 0.00039263, 0.00038633, 0.00033221,\n",
       "        0.00038009, 0.00041437, 0.00039668, 0.00035486, 0.00043187,\n",
       "        0.00033712, 0.00033522]),\n",
       " 'std_score_time': array([9.18291806e-05, 1.24620513e-04, 2.17098015e-04, 8.97862211e-05,\n",
       "        4.38834250e-05, 9.00560974e-05, 6.84902177e-05, 3.08810877e-05,\n",
       "        2.46979554e-05, 3.60454199e-05, 1.67948248e-05, 6.91434268e-05,\n",
       "        4.06791007e-05, 3.45525694e-05, 6.06282274e-05, 4.38635761e-05,\n",
       "        1.83674554e-05, 9.04857278e-05, 4.69171418e-05, 1.34537388e-05,\n",
       "        3.02817501e-05, 7.89981173e-05, 6.36861324e-05, 6.01256677e-05,\n",
       "        4.08698683e-05, 2.69668171e-05, 3.13536295e-05]),\n",
       " 'param_C': masked_array(data=[0.001, 0.001, 0.001, 0.004216965034285823,\n",
       "                    0.004216965034285823, 0.004216965034285823,\n",
       "                    0.01778279410038923, 0.01778279410038923,\n",
       "                    0.01778279410038923, 0.07498942093324558,\n",
       "                    0.07498942093324558, 0.07498942093324558,\n",
       "                    0.31622776601683794, 0.31622776601683794,\n",
       "                    0.31622776601683794, 1.333521432163324,\n",
       "                    1.333521432163324, 1.333521432163324,\n",
       "                    5.623413251903491, 5.623413251903491,\n",
       "                    5.623413251903491, 23.71373705661655,\n",
       "                    23.71373705661655, 23.71373705661655, 100.0, 100.0,\n",
       "                    100.0],\n",
       "              mask=[False, False, False, False, False, False, False, False,\n",
       "                    False, False, False, False, False, False, False, False,\n",
       "                    False, False, False, False, False, False, False, False,\n",
       "                    False, False, False],\n",
       "        fill_value=1e+20),\n",
       " 'param_solver': masked_array(data=['lbfgs', 'liblinear', 'saga', 'lbfgs', 'liblinear',\n",
       "                    'saga', 'lbfgs', 'liblinear', 'saga', 'lbfgs',\n",
       "                    'liblinear', 'saga', 'lbfgs', 'liblinear', 'saga',\n",
       "                    'lbfgs', 'liblinear', 'saga', 'lbfgs', 'liblinear',\n",
       "                    'saga', 'lbfgs', 'liblinear', 'saga', 'lbfgs',\n",
       "                    'liblinear', 'saga'],\n",
       "              mask=[False, False, False, False, False, False, False, False,\n",
       "                    False, False, False, False, False, False, False, False,\n",
       "                    False, False, False, False, False, False, False, False,\n",
       "                    False, False, False],\n",
       "        fill_value=np.str_('?'),\n",
       "             dtype=object),\n",
       " 'params': [{'C': np.float64(0.001), 'solver': 'lbfgs'},\n",
       "  {'C': np.float64(0.001), 'solver': 'liblinear'},\n",
       "  {'C': np.float64(0.001), 'solver': 'saga'},\n",
       "  {'C': np.float64(0.004216965034285823), 'solver': 'lbfgs'},\n",
       "  {'C': np.float64(0.004216965034285823), 'solver': 'liblinear'},\n",
       "  {'C': np.float64(0.004216965034285823), 'solver': 'saga'},\n",
       "  {'C': np.float64(0.01778279410038923), 'solver': 'lbfgs'},\n",
       "  {'C': np.float64(0.01778279410038923), 'solver': 'liblinear'},\n",
       "  {'C': np.float64(0.01778279410038923), 'solver': 'saga'},\n",
       "  {'C': np.float64(0.07498942093324558), 'solver': 'lbfgs'},\n",
       "  {'C': np.float64(0.07498942093324558), 'solver': 'liblinear'},\n",
       "  {'C': np.float64(0.07498942093324558), 'solver': 'saga'},\n",
       "  {'C': np.float64(0.31622776601683794), 'solver': 'lbfgs'},\n",
       "  {'C': np.float64(0.31622776601683794), 'solver': 'liblinear'},\n",
       "  {'C': np.float64(0.31622776601683794), 'solver': 'saga'},\n",
       "  {'C': np.float64(1.333521432163324), 'solver': 'lbfgs'},\n",
       "  {'C': np.float64(1.333521432163324), 'solver': 'liblinear'},\n",
       "  {'C': np.float64(1.333521432163324), 'solver': 'saga'},\n",
       "  {'C': np.float64(5.623413251903491), 'solver': 'lbfgs'},\n",
       "  {'C': np.float64(5.623413251903491), 'solver': 'liblinear'},\n",
       "  {'C': np.float64(5.623413251903491), 'solver': 'saga'},\n",
       "  {'C': np.float64(23.71373705661655), 'solver': 'lbfgs'},\n",
       "  {'C': np.float64(23.71373705661655), 'solver': 'liblinear'},\n",
       "  {'C': np.float64(23.71373705661655), 'solver': 'saga'},\n",
       "  {'C': np.float64(100.0), 'solver': 'lbfgs'},\n",
       "  {'C': np.float64(100.0), 'solver': 'liblinear'},\n",
       "  {'C': np.float64(100.0), 'solver': 'saga'}],\n",
       " 'split0_test_score': array([0.88125 , 0.88375 , 0.88125 , 0.88625 , 0.8875  , 0.88625 ,\n",
       "        0.885625, 0.88625 , 0.88625 , 0.884375, 0.884375, 0.884375,\n",
       "        0.884375, 0.884375, 0.884375, 0.885   , 0.885   , 0.885   ,\n",
       "        0.885625, 0.885625, 0.885625, 0.885625, 0.885625, 0.885625,\n",
       "        0.885625, 0.885625, 0.885625]),\n",
       " 'split1_test_score': array([0.878125, 0.87875 , 0.878125, 0.881875, 0.883125, 0.881875,\n",
       "        0.886875, 0.885625, 0.886875, 0.8875  , 0.8875  , 0.8875  ,\n",
       "        0.884375, 0.884375, 0.884375, 0.88375 , 0.88375 , 0.884375,\n",
       "        0.88375 , 0.88375 , 0.88375 , 0.88375 , 0.88375 , 0.88375 ,\n",
       "        0.88375 , 0.88375 , 0.88375 ]),\n",
       " 'split2_test_score': array([0.886875, 0.8875  , 0.886875, 0.891875, 0.891875, 0.891875,\n",
       "        0.8875  , 0.8875  , 0.8875  , 0.885   , 0.885   , 0.885   ,\n",
       "        0.885   , 0.885   , 0.885   , 0.885   , 0.885   , 0.885   ,\n",
       "        0.885   , 0.885   , 0.885   , 0.885   , 0.885   , 0.885   ,\n",
       "        0.885   , 0.885   , 0.885   ]),\n",
       " 'split3_test_score': array([0.894375, 0.891875, 0.894375, 0.9     , 0.900625, 0.9     ,\n",
       "        0.905625, 0.90625 , 0.905625, 0.906875, 0.906875, 0.9075  ,\n",
       "        0.906875, 0.906875, 0.906875, 0.906875, 0.906875, 0.906875,\n",
       "        0.906875, 0.906875, 0.906875, 0.906875, 0.906875, 0.906875,\n",
       "        0.906875, 0.906875, 0.906875]),\n",
       " 'split4_test_score': array([0.895   , 0.895   , 0.895   , 0.896875, 0.89625 , 0.896875,\n",
       "        0.89625 , 0.895625, 0.89625 , 0.894375, 0.895   , 0.894375,\n",
       "        0.893125, 0.893125, 0.893125, 0.893125, 0.893125, 0.893125,\n",
       "        0.893125, 0.893125, 0.893125, 0.893125, 0.893125, 0.893125,\n",
       "        0.893125, 0.893125, 0.893125]),\n",
       " 'mean_test_score': array([0.887125, 0.887375, 0.887125, 0.891375, 0.891875, 0.891375,\n",
       "        0.892375, 0.89225 , 0.8925  , 0.891625, 0.89175 , 0.89175 ,\n",
       "        0.89075 , 0.89075 , 0.89075 , 0.89075 , 0.89075 , 0.890875,\n",
       "        0.890875, 0.890875, 0.890875, 0.890875, 0.890875, 0.890875,\n",
       "        0.890875, 0.890875, 0.890875]),\n",
       " 'std_test_score': array([0.00678463, 0.00576086, 0.00678463, 0.00665442, 0.00618718,\n",
       "        0.00665442, 0.00761782, 0.00787202, 0.00751041, 0.00840944,\n",
       "        0.00845392, 0.00863677, 0.0087178 , 0.0087178 , 0.0087178 ,\n",
       "        0.00872675, 0.00872675, 0.00862953, 0.00864762, 0.00864762,\n",
       "        0.00864762, 0.00864762, 0.00864762, 0.00864762, 0.00864762,\n",
       "        0.00864762, 0.00864762]),\n",
       " 'rank_test_score': array([26, 25, 26,  8,  4,  8,  2,  3,  1,  7,  5,  5, 20, 20, 20, 20, 20,\n",
       "        10, 10, 10, 10, 10, 10, 10, 10, 10, 10], dtype=int32)}"
      ]
     },
     "execution_count": 29,
     "metadata": {},
     "output_type": "execute_result"
    }
   ],
   "source": [
    "gs.cv_results_"
   ]
  },
  {
   "cell_type": "code",
   "execution_count": 30,
   "id": "8ec6906a-88d5-476c-84af-aa78809591ea",
   "metadata": {},
   "outputs": [
    {
     "data": {
      "text/html": [
       "<div>\n",
       "<style scoped>\n",
       "    .dataframe tbody tr th:only-of-type {\n",
       "        vertical-align: middle;\n",
       "    }\n",
       "\n",
       "    .dataframe tbody tr th {\n",
       "        vertical-align: top;\n",
       "    }\n",
       "\n",
       "    .dataframe thead th {\n",
       "        text-align: right;\n",
       "    }\n",
       "</style>\n",
       "<table border=\"1\" class=\"dataframe\">\n",
       "  <thead>\n",
       "    <tr style=\"text-align: right;\">\n",
       "      <th></th>\n",
       "      <th>mean_fit_time</th>\n",
       "      <th>std_fit_time</th>\n",
       "      <th>mean_score_time</th>\n",
       "      <th>std_score_time</th>\n",
       "      <th>param_C</th>\n",
       "      <th>param_solver</th>\n",
       "      <th>params</th>\n",
       "      <th>split0_test_score</th>\n",
       "      <th>split1_test_score</th>\n",
       "      <th>split2_test_score</th>\n",
       "      <th>split3_test_score</th>\n",
       "      <th>split4_test_score</th>\n",
       "      <th>mean_test_score</th>\n",
       "      <th>std_test_score</th>\n",
       "      <th>rank_test_score</th>\n",
       "    </tr>\n",
       "  </thead>\n",
       "  <tbody>\n",
       "    <tr>\n",
       "      <th>0</th>\n",
       "      <td>0.002329</td>\n",
       "      <td>0.000263</td>\n",
       "      <td>0.000506</td>\n",
       "      <td>0.000092</td>\n",
       "      <td>0.001000</td>\n",
       "      <td>lbfgs</td>\n",
       "      <td>{'C': 0.001, 'solver': 'lbfgs'}</td>\n",
       "      <td>0.88125</td>\n",
       "      <td>0.878125</td>\n",
       "      <td>0.886875</td>\n",
       "      <td>0.894375</td>\n",
       "      <td>0.895000</td>\n",
       "      <td>0.887125</td>\n",
       "      <td>0.006785</td>\n",
       "      <td>26</td>\n",
       "    </tr>\n",
       "    <tr>\n",
       "      <th>1</th>\n",
       "      <td>0.001936</td>\n",
       "      <td>0.000321</td>\n",
       "      <td>0.000443</td>\n",
       "      <td>0.000125</td>\n",
       "      <td>0.001000</td>\n",
       "      <td>liblinear</td>\n",
       "      <td>{'C': 0.001, 'solver': 'liblinear'}</td>\n",
       "      <td>0.88375</td>\n",
       "      <td>0.878750</td>\n",
       "      <td>0.887500</td>\n",
       "      <td>0.891875</td>\n",
       "      <td>0.895000</td>\n",
       "      <td>0.887375</td>\n",
       "      <td>0.005761</td>\n",
       "      <td>25</td>\n",
       "    </tr>\n",
       "    <tr>\n",
       "      <th>2</th>\n",
       "      <td>0.004868</td>\n",
       "      <td>0.000571</td>\n",
       "      <td>0.000533</td>\n",
       "      <td>0.000217</td>\n",
       "      <td>0.001000</td>\n",
       "      <td>saga</td>\n",
       "      <td>{'C': 0.001, 'solver': 'saga'}</td>\n",
       "      <td>0.88125</td>\n",
       "      <td>0.878125</td>\n",
       "      <td>0.886875</td>\n",
       "      <td>0.894375</td>\n",
       "      <td>0.895000</td>\n",
       "      <td>0.887125</td>\n",
       "      <td>0.006785</td>\n",
       "      <td>26</td>\n",
       "    </tr>\n",
       "    <tr>\n",
       "      <th>3</th>\n",
       "      <td>0.001980</td>\n",
       "      <td>0.000154</td>\n",
       "      <td>0.000438</td>\n",
       "      <td>0.000090</td>\n",
       "      <td>0.004217</td>\n",
       "      <td>lbfgs</td>\n",
       "      <td>{'C': 0.004216965034285823, 'solver': 'lbfgs'}</td>\n",
       "      <td>0.88625</td>\n",
       "      <td>0.881875</td>\n",
       "      <td>0.891875</td>\n",
       "      <td>0.900000</td>\n",
       "      <td>0.896875</td>\n",
       "      <td>0.891375</td>\n",
       "      <td>0.006654</td>\n",
       "      <td>8</td>\n",
       "    </tr>\n",
       "    <tr>\n",
       "      <th>4</th>\n",
       "      <td>0.002068</td>\n",
       "      <td>0.000108</td>\n",
       "      <td>0.000404</td>\n",
       "      <td>0.000044</td>\n",
       "      <td>0.004217</td>\n",
       "      <td>liblinear</td>\n",
       "      <td>{'C': 0.004216965034285823, 'solver': 'libline...</td>\n",
       "      <td>0.88750</td>\n",
       "      <td>0.883125</td>\n",
       "      <td>0.891875</td>\n",
       "      <td>0.900625</td>\n",
       "      <td>0.896250</td>\n",
       "      <td>0.891875</td>\n",
       "      <td>0.006187</td>\n",
       "      <td>4</td>\n",
       "    </tr>\n",
       "  </tbody>\n",
       "</table>\n",
       "</div>"
      ],
      "text/plain": [
       "   mean_fit_time  std_fit_time  mean_score_time  std_score_time   param_C  \\\n",
       "0       0.002329      0.000263         0.000506        0.000092  0.001000   \n",
       "1       0.001936      0.000321         0.000443        0.000125  0.001000   \n",
       "2       0.004868      0.000571         0.000533        0.000217  0.001000   \n",
       "3       0.001980      0.000154         0.000438        0.000090  0.004217   \n",
       "4       0.002068      0.000108         0.000404        0.000044  0.004217   \n",
       "\n",
       "  param_solver                                             params  \\\n",
       "0        lbfgs                    {'C': 0.001, 'solver': 'lbfgs'}   \n",
       "1    liblinear                {'C': 0.001, 'solver': 'liblinear'}   \n",
       "2         saga                     {'C': 0.001, 'solver': 'saga'}   \n",
       "3        lbfgs     {'C': 0.004216965034285823, 'solver': 'lbfgs'}   \n",
       "4    liblinear  {'C': 0.004216965034285823, 'solver': 'libline...   \n",
       "\n",
       "   split0_test_score  split1_test_score  split2_test_score  split3_test_score  \\\n",
       "0            0.88125           0.878125           0.886875           0.894375   \n",
       "1            0.88375           0.878750           0.887500           0.891875   \n",
       "2            0.88125           0.878125           0.886875           0.894375   \n",
       "3            0.88625           0.881875           0.891875           0.900000   \n",
       "4            0.88750           0.883125           0.891875           0.900625   \n",
       "\n",
       "   split4_test_score  mean_test_score  std_test_score  rank_test_score  \n",
       "0           0.895000         0.887125        0.006785               26  \n",
       "1           0.895000         0.887375        0.005761               25  \n",
       "2           0.895000         0.887125        0.006785               26  \n",
       "3           0.896875         0.891375        0.006654                8  \n",
       "4           0.896250         0.891875        0.006187                4  "
      ]
     },
     "execution_count": 30,
     "metadata": {},
     "output_type": "execute_result"
    }
   ],
   "source": [
    "pd.DataFrame(gs.cv_results_).head()"
   ]
  },
  {
   "cell_type": "code",
   "execution_count": 31,
   "id": "b39e52e2-1ff9-4601-83a5-0254d39c3f0c",
   "metadata": {},
   "outputs": [
    {
     "data": {
      "text/html": [
       "<div>\n",
       "<style scoped>\n",
       "    .dataframe tbody tr th:only-of-type {\n",
       "        vertical-align: middle;\n",
       "    }\n",
       "\n",
       "    .dataframe tbody tr th {\n",
       "        vertical-align: top;\n",
       "    }\n",
       "\n",
       "    .dataframe thead th {\n",
       "        text-align: right;\n",
       "    }\n",
       "</style>\n",
       "<table border=\"1\" class=\"dataframe\">\n",
       "  <thead>\n",
       "    <tr style=\"text-align: right;\">\n",
       "      <th></th>\n",
       "      <th>params</th>\n",
       "      <th>mean_test_score</th>\n",
       "    </tr>\n",
       "  </thead>\n",
       "  <tbody>\n",
       "    <tr>\n",
       "      <th>0</th>\n",
       "      <td>{'C': 0.001, 'solver': 'lbfgs'}</td>\n",
       "      <td>0.887125</td>\n",
       "    </tr>\n",
       "    <tr>\n",
       "      <th>1</th>\n",
       "      <td>{'C': 0.001, 'solver': 'liblinear'}</td>\n",
       "      <td>0.887375</td>\n",
       "    </tr>\n",
       "    <tr>\n",
       "      <th>2</th>\n",
       "      <td>{'C': 0.001, 'solver': 'saga'}</td>\n",
       "      <td>0.887125</td>\n",
       "    </tr>\n",
       "    <tr>\n",
       "      <th>3</th>\n",
       "      <td>{'C': 0.004216965034285823, 'solver': 'lbfgs'}</td>\n",
       "      <td>0.891375</td>\n",
       "    </tr>\n",
       "    <tr>\n",
       "      <th>4</th>\n",
       "      <td>{'C': 0.004216965034285823, 'solver': 'libline...</td>\n",
       "      <td>0.891875</td>\n",
       "    </tr>\n",
       "    <tr>\n",
       "      <th>5</th>\n",
       "      <td>{'C': 0.004216965034285823, 'solver': 'saga'}</td>\n",
       "      <td>0.891375</td>\n",
       "    </tr>\n",
       "    <tr>\n",
       "      <th>6</th>\n",
       "      <td>{'C': 0.01778279410038923, 'solver': 'lbfgs'}</td>\n",
       "      <td>0.892375</td>\n",
       "    </tr>\n",
       "    <tr>\n",
       "      <th>7</th>\n",
       "      <td>{'C': 0.01778279410038923, 'solver': 'liblinear'}</td>\n",
       "      <td>0.892250</td>\n",
       "    </tr>\n",
       "    <tr>\n",
       "      <th>8</th>\n",
       "      <td>{'C': 0.01778279410038923, 'solver': 'saga'}</td>\n",
       "      <td>0.892500</td>\n",
       "    </tr>\n",
       "    <tr>\n",
       "      <th>9</th>\n",
       "      <td>{'C': 0.07498942093324558, 'solver': 'lbfgs'}</td>\n",
       "      <td>0.891625</td>\n",
       "    </tr>\n",
       "    <tr>\n",
       "      <th>10</th>\n",
       "      <td>{'C': 0.07498942093324558, 'solver': 'liblinear'}</td>\n",
       "      <td>0.891750</td>\n",
       "    </tr>\n",
       "    <tr>\n",
       "      <th>11</th>\n",
       "      <td>{'C': 0.07498942093324558, 'solver': 'saga'}</td>\n",
       "      <td>0.891750</td>\n",
       "    </tr>\n",
       "    <tr>\n",
       "      <th>12</th>\n",
       "      <td>{'C': 0.31622776601683794, 'solver': 'lbfgs'}</td>\n",
       "      <td>0.890750</td>\n",
       "    </tr>\n",
       "    <tr>\n",
       "      <th>13</th>\n",
       "      <td>{'C': 0.31622776601683794, 'solver': 'liblinear'}</td>\n",
       "      <td>0.890750</td>\n",
       "    </tr>\n",
       "    <tr>\n",
       "      <th>14</th>\n",
       "      <td>{'C': 0.31622776601683794, 'solver': 'saga'}</td>\n",
       "      <td>0.890750</td>\n",
       "    </tr>\n",
       "    <tr>\n",
       "      <th>15</th>\n",
       "      <td>{'C': 1.333521432163324, 'solver': 'lbfgs'}</td>\n",
       "      <td>0.890750</td>\n",
       "    </tr>\n",
       "    <tr>\n",
       "      <th>16</th>\n",
       "      <td>{'C': 1.333521432163324, 'solver': 'liblinear'}</td>\n",
       "      <td>0.890750</td>\n",
       "    </tr>\n",
       "    <tr>\n",
       "      <th>17</th>\n",
       "      <td>{'C': 1.333521432163324, 'solver': 'saga'}</td>\n",
       "      <td>0.890875</td>\n",
       "    </tr>\n",
       "    <tr>\n",
       "      <th>18</th>\n",
       "      <td>{'C': 5.623413251903491, 'solver': 'lbfgs'}</td>\n",
       "      <td>0.890875</td>\n",
       "    </tr>\n",
       "    <tr>\n",
       "      <th>19</th>\n",
       "      <td>{'C': 5.623413251903491, 'solver': 'liblinear'}</td>\n",
       "      <td>0.890875</td>\n",
       "    </tr>\n",
       "    <tr>\n",
       "      <th>20</th>\n",
       "      <td>{'C': 5.623413251903491, 'solver': 'saga'}</td>\n",
       "      <td>0.890875</td>\n",
       "    </tr>\n",
       "    <tr>\n",
       "      <th>21</th>\n",
       "      <td>{'C': 23.71373705661655, 'solver': 'lbfgs'}</td>\n",
       "      <td>0.890875</td>\n",
       "    </tr>\n",
       "    <tr>\n",
       "      <th>22</th>\n",
       "      <td>{'C': 23.71373705661655, 'solver': 'liblinear'}</td>\n",
       "      <td>0.890875</td>\n",
       "    </tr>\n",
       "    <tr>\n",
       "      <th>23</th>\n",
       "      <td>{'C': 23.71373705661655, 'solver': 'saga'}</td>\n",
       "      <td>0.890875</td>\n",
       "    </tr>\n",
       "    <tr>\n",
       "      <th>24</th>\n",
       "      <td>{'C': 100.0, 'solver': 'lbfgs'}</td>\n",
       "      <td>0.890875</td>\n",
       "    </tr>\n",
       "    <tr>\n",
       "      <th>25</th>\n",
       "      <td>{'C': 100.0, 'solver': 'liblinear'}</td>\n",
       "      <td>0.890875</td>\n",
       "    </tr>\n",
       "    <tr>\n",
       "      <th>26</th>\n",
       "      <td>{'C': 100.0, 'solver': 'saga'}</td>\n",
       "      <td>0.890875</td>\n",
       "    </tr>\n",
       "  </tbody>\n",
       "</table>\n",
       "</div>"
      ],
      "text/plain": [
       "                                               params  mean_test_score\n",
       "0                     {'C': 0.001, 'solver': 'lbfgs'}         0.887125\n",
       "1                 {'C': 0.001, 'solver': 'liblinear'}         0.887375\n",
       "2                      {'C': 0.001, 'solver': 'saga'}         0.887125\n",
       "3      {'C': 0.004216965034285823, 'solver': 'lbfgs'}         0.891375\n",
       "4   {'C': 0.004216965034285823, 'solver': 'libline...         0.891875\n",
       "5       {'C': 0.004216965034285823, 'solver': 'saga'}         0.891375\n",
       "6       {'C': 0.01778279410038923, 'solver': 'lbfgs'}         0.892375\n",
       "7   {'C': 0.01778279410038923, 'solver': 'liblinear'}         0.892250\n",
       "8        {'C': 0.01778279410038923, 'solver': 'saga'}         0.892500\n",
       "9       {'C': 0.07498942093324558, 'solver': 'lbfgs'}         0.891625\n",
       "10  {'C': 0.07498942093324558, 'solver': 'liblinear'}         0.891750\n",
       "11       {'C': 0.07498942093324558, 'solver': 'saga'}         0.891750\n",
       "12      {'C': 0.31622776601683794, 'solver': 'lbfgs'}         0.890750\n",
       "13  {'C': 0.31622776601683794, 'solver': 'liblinear'}         0.890750\n",
       "14       {'C': 0.31622776601683794, 'solver': 'saga'}         0.890750\n",
       "15        {'C': 1.333521432163324, 'solver': 'lbfgs'}         0.890750\n",
       "16    {'C': 1.333521432163324, 'solver': 'liblinear'}         0.890750\n",
       "17         {'C': 1.333521432163324, 'solver': 'saga'}         0.890875\n",
       "18        {'C': 5.623413251903491, 'solver': 'lbfgs'}         0.890875\n",
       "19    {'C': 5.623413251903491, 'solver': 'liblinear'}         0.890875\n",
       "20         {'C': 5.623413251903491, 'solver': 'saga'}         0.890875\n",
       "21        {'C': 23.71373705661655, 'solver': 'lbfgs'}         0.890875\n",
       "22    {'C': 23.71373705661655, 'solver': 'liblinear'}         0.890875\n",
       "23         {'C': 23.71373705661655, 'solver': 'saga'}         0.890875\n",
       "24                    {'C': 100.0, 'solver': 'lbfgs'}         0.890875\n",
       "25                {'C': 100.0, 'solver': 'liblinear'}         0.890875\n",
       "26                     {'C': 100.0, 'solver': 'saga'}         0.890875"
      ]
     },
     "execution_count": 31,
     "metadata": {},
     "output_type": "execute_result"
    }
   ],
   "source": [
    "pd.DataFrame({'params':gs.cv_results_['params'], 'mean_test_score':gs.cv_results_['mean_test_score']})"
   ]
  },
  {
   "cell_type": "code",
   "execution_count": 32,
   "id": "76daa09c-bbf8-4bff-a9ad-cbf94b687c39",
   "metadata": {},
   "outputs": [
    {
     "data": {
      "text/plain": [
       "np.float64(0.8924999999999998)"
      ]
     },
     "execution_count": 32,
     "metadata": {},
     "output_type": "execute_result"
    }
   ],
   "source": [
    "gs.best_score_"
   ]
  },
  {
   "cell_type": "code",
   "execution_count": 33,
   "id": "94eb7aad-ccb1-4a20-9259-0291695b36e3",
   "metadata": {},
   "outputs": [
    {
     "data": {
      "text/plain": [
       "np.float64(0.8924999999999998)"
      ]
     },
     "execution_count": 33,
     "metadata": {},
     "output_type": "execute_result"
    }
   ],
   "source": [
    "gs.cv_results_['mean_test_score'].max()"
   ]
  },
  {
   "cell_type": "markdown",
   "id": "22b01893",
   "metadata": {},
   "source": [
    "### 8. Используйте методы score и predict класса GridSearchCV, чтобы вычислить метрики качества accuracy и F1-меры на тестовых данных для модели LogisticRegression с лучшими гиперпараметрами."
   ]
  },
  {
   "cell_type": "code",
   "execution_count": 34,
   "id": "b815b1bf-fdda-4039-b528-bacc0c5eabe6",
   "metadata": {},
   "outputs": [
    {
     "data": {
      "text/plain": [
       "0.894"
      ]
     },
     "execution_count": 34,
     "metadata": {},
     "output_type": "execute_result"
    }
   ],
   "source": [
    "accuracy_best = gs.score(X_test, y_test)\n",
    "accuracy_best"
   ]
  },
  {
   "cell_type": "code",
   "execution_count": 38,
   "id": "35726787-6464-4f23-b323-4e701dc50436",
   "metadata": {},
   "outputs": [
    {
     "data": {
      "text/plain": [
       "0.8922764227642277"
      ]
     },
     "execution_count": 38,
     "metadata": {},
     "output_type": "execute_result"
    }
   ],
   "source": [
    "y_predict = gs.predict(X_test)\n",
    "F1_best = metrics.f1_score(y_test, y_predict)\n",
    "F1_best"
   ]
  },
  {
   "cell_type": "markdown",
   "id": "d2132a94",
   "metadata": {},
   "source": [
    "### 9. Осуществите решетчатый поиск на обучающих данных лучших гиперпараметров модели LogisticRegression по метрике accuracy с использованием перекрёстной проверки, используя класс GridSearchCV из библиотеки sklearn, среди списка словарей гиперпараметров, указанных ниже. Обучите модель с лучшими гиперпараметрами на обучающих данных и вычислите метрики accuracy и F1-меру на тестовых данных."
   ]
  },
  {
   "cell_type": "raw",
   "id": "dbf1e7ad-973d-46fc-94dc-e81e5aa9df43",
   "metadata": {},
   "source": [
    "param_grid = param_grid = [{'solver': ['liblinear'],\n",
    "    'penalty': ['l1', 'l2'],\n",
    "    'C': np.logspace(-3,2,9),\n",
    "    'max_iter' : [1000]                        \n",
    "   }, {\n",
    "    'solver': ['saga'],\n",
    "    'penalty': ['elasticnet'],\n",
    "    'l1_ratio': [0.1, 0.3, 0.5, 0.7, 0.9],\n",
    "    'max_iter' : [1000]\n",
    "}]"
   ]
  },
  {
   "cell_type": "code",
   "execution_count": 41,
   "id": "d25d02d5-120a-440f-afd3-8e3540a40743",
   "metadata": {},
   "outputs": [],
   "source": [
    "param_grid = param_grid = [{'solver': ['liblinear'],\n",
    "    'penalty': ['l1', 'l2'],\n",
    "    'C': np.logspace(-3,2,9),\n",
    "    'max_iter' : [1000]                        \n",
    "   }, {\n",
    "    'solver': ['saga'],\n",
    "    'penalty': ['elasticnet'],\n",
    "    'l1_ratio': [0.1, 0.3, 0.5, 0.7, 0.9],\n",
    "    'max_iter' : [1000]\n",
    "}]\n",
    "\n",
    "model = LogisticRegression()\n",
    "\n",
    "gs = GridSearchCV(\n",
    "    estimator=model,\n",
    "    param_grid=param_grid,\n",
    "    scoring='accuracy',\n",
    "    cv=5\n",
    ")\n",
    "\n",
    "gs.fit(X_train, y_train)\n",
    "best_model = gs.best_estimator_\n",
    "y_pred = best_model.predict(X_test)"
   ]
  },
  {
   "cell_type": "code",
   "execution_count": 42,
   "id": "6a7ebfcc",
   "metadata": {},
   "outputs": [
    {
     "data": {
      "text/plain": [
       "0.894"
      ]
     },
     "execution_count": 42,
     "metadata": {},
     "output_type": "execute_result"
    }
   ],
   "source": [
    "accuracy_best = metrics.accuracy_score(y_test, y_pred)\n",
    "accuracy_best"
   ]
  },
  {
   "cell_type": "code",
   "execution_count": 43,
   "id": "1aa23cb9",
   "metadata": {},
   "outputs": [
    {
     "data": {
      "text/plain": [
       "0.8928210313447927"
      ]
     },
     "execution_count": 43,
     "metadata": {},
     "output_type": "execute_result"
    }
   ],
   "source": [
    "f1 = metrics.f1_score(y_test, y_pred)\n",
    "f1"
   ]
  },
  {
   "cell_type": "markdown",
   "id": "f9cec7ed",
   "metadata": {},
   "source": [
    "### 10. Осуществите рандомизированный решетчатый поиск на обучающих данных лучших гиперпараметров модели LogisticRegression по метрике accuracy с использованием перекрёстной проверки, используя класс RandomizedSearchCV из библиотеки sklearn, для списка словарей гиперпараметров из предыдущего задания. Обучите модель с лучшими гиперпараметрами на обучающих данных и вычислите метрики accuracy и F1-меру на тестовых данных."
   ]
  },
  {
   "cell_type": "code",
   "execution_count": 45,
   "id": "352b7e72-c8ca-4aab-ba7d-b61ebbfadfe3",
   "metadata": {},
   "outputs": [],
   "source": [
    "param_grid = param_grid = [{'solver': ['liblinear'],\n",
    "    'penalty': ['l1', 'l2'],\n",
    "    'C': np.logspace(-3,2,9),\n",
    "    'max_iter' : [1000]                        \n",
    "   }, {\n",
    "    'solver': ['saga'],\n",
    "    'penalty': ['elasticnet'],\n",
    "    'l1_ratio': [0.1, 0.3, 0.5, 0.7, 0.9],\n",
    "    'max_iter' : [1000]\n",
    "}]\n",
    "\n",
    "model = LogisticRegression()\n",
    "\n",
    "random_search = RandomizedSearchCV(\n",
    "    estimator=model,\n",
    "    param_distributions=param_grid,\n",
    "    n_iter=20, \n",
    "    scoring='accuracy',  \n",
    "    cv=5, \n",
    "    random_state=42  \n",
    ")\n",
    "\n",
    "random_search.fit(X_train, y_train)\n",
    "best_model = random_search.best_estimator_\n",
    "y_pred = best_model.predict(X_test)"
   ]
  },
  {
   "cell_type": "code",
   "execution_count": 46,
   "id": "9a34a840",
   "metadata": {},
   "outputs": [
    {
     "data": {
      "text/plain": [
       "0.894"
      ]
     },
     "execution_count": 46,
     "metadata": {},
     "output_type": "execute_result"
    }
   ],
   "source": [
    "accuracy = metrics.accuracy_score(y_test, y_pred)\n",
    "accuracy"
   ]
  },
  {
   "cell_type": "code",
   "execution_count": 47,
   "id": "353fef8e",
   "metadata": {},
   "outputs": [
    {
     "data": {
      "text/plain": [
       "0.8928210313447927"
      ]
     },
     "execution_count": 47,
     "metadata": {},
     "output_type": "execute_result"
    }
   ],
   "source": [
    "f1 = metrics.f1_score(y_test, y_pred)\n",
    "f1"
   ]
  },
  {
   "cell_type": "markdown",
   "id": "5e3298c0-3e48-44d7-b0aa-cf673e7fd658",
   "metadata": {},
   "source": [
    "# Задания для самостоятельного выполнения:"
   ]
  },
  {
   "cell_type": "markdown",
   "id": "8ed206e0-5323-48f8-bcce-1027782ec8d9",
   "metadata": {},
   "source": [
    "### 1. Загрузите встроенный датасет `load_iris`. Обозначьте признаки за `X`, а целевую переменную за `y`. Выведите первые 5 строк в виде датафрейма. "
   ]
  },
  {
   "cell_type": "code",
   "execution_count": 49,
   "id": "a280749c-9a9b-4b9d-9a77-b95e9be4312b",
   "metadata": {},
   "outputs": [
    {
     "data": {
      "text/html": [
       "<div>\n",
       "<style scoped>\n",
       "    .dataframe tbody tr th:only-of-type {\n",
       "        vertical-align: middle;\n",
       "    }\n",
       "\n",
       "    .dataframe tbody tr th {\n",
       "        vertical-align: top;\n",
       "    }\n",
       "\n",
       "    .dataframe thead th {\n",
       "        text-align: right;\n",
       "    }\n",
       "</style>\n",
       "<table border=\"1\" class=\"dataframe\">\n",
       "  <thead>\n",
       "    <tr style=\"text-align: right;\">\n",
       "      <th></th>\n",
       "      <th>sepal length (cm)</th>\n",
       "      <th>sepal width (cm)</th>\n",
       "      <th>petal length (cm)</th>\n",
       "      <th>petal width (cm)</th>\n",
       "      <th>target</th>\n",
       "    </tr>\n",
       "  </thead>\n",
       "  <tbody>\n",
       "    <tr>\n",
       "      <th>0</th>\n",
       "      <td>5.1</td>\n",
       "      <td>3.5</td>\n",
       "      <td>1.4</td>\n",
       "      <td>0.2</td>\n",
       "      <td>0</td>\n",
       "    </tr>\n",
       "    <tr>\n",
       "      <th>1</th>\n",
       "      <td>4.9</td>\n",
       "      <td>3.0</td>\n",
       "      <td>1.4</td>\n",
       "      <td>0.2</td>\n",
       "      <td>0</td>\n",
       "    </tr>\n",
       "    <tr>\n",
       "      <th>2</th>\n",
       "      <td>4.7</td>\n",
       "      <td>3.2</td>\n",
       "      <td>1.3</td>\n",
       "      <td>0.2</td>\n",
       "      <td>0</td>\n",
       "    </tr>\n",
       "    <tr>\n",
       "      <th>3</th>\n",
       "      <td>4.6</td>\n",
       "      <td>3.1</td>\n",
       "      <td>1.5</td>\n",
       "      <td>0.2</td>\n",
       "      <td>0</td>\n",
       "    </tr>\n",
       "    <tr>\n",
       "      <th>4</th>\n",
       "      <td>5.0</td>\n",
       "      <td>3.6</td>\n",
       "      <td>1.4</td>\n",
       "      <td>0.2</td>\n",
       "      <td>0</td>\n",
       "    </tr>\n",
       "  </tbody>\n",
       "</table>\n",
       "</div>"
      ],
      "text/plain": [
       "   sepal length (cm)  sepal width (cm)  petal length (cm)  petal width (cm)  \\\n",
       "0                5.1               3.5                1.4               0.2   \n",
       "1                4.9               3.0                1.4               0.2   \n",
       "2                4.7               3.2                1.3               0.2   \n",
       "3                4.6               3.1                1.5               0.2   \n",
       "4                5.0               3.6                1.4               0.2   \n",
       "\n",
       "   target  \n",
       "0       0  \n",
       "1       0  \n",
       "2       0  \n",
       "3       0  \n",
       "4       0  "
      ]
     },
     "execution_count": 49,
     "metadata": {},
     "output_type": "execute_result"
    }
   ],
   "source": [
    "iris = datasets.load_iris()\n",
    "X = iris.data\n",
    "y = iris.target\n",
    "df = pd.DataFrame(X, columns=iris.feature_names)\n",
    "df['target'] = y\n",
    "df.head()"
   ]
  },
  {
   "cell_type": "markdown",
   "id": "a61739bd-335a-4f9c-907f-9446440af98a",
   "metadata": {},
   "source": [
    "### 2. Разделите данные на обучающую и тестовую части. В тестовую часть отправьте 15% объектов и зафиксируйте способ перемешивания данных random_state=0. Выведите размеры обучающей и тестовой частей."
   ]
  },
  {
   "cell_type": "code",
   "execution_count": 57,
   "id": "eae936a2-7818-444e-95ee-35992cc7af9e",
   "metadata": {},
   "outputs": [],
   "source": [
    "X_train, X_test, y_train, y_test = train_test_split(X, y, test_size = 0.15, random_state = 0)"
   ]
  },
  {
   "cell_type": "code",
   "execution_count": 58,
   "id": "be1cff63",
   "metadata": {},
   "outputs": [
    {
     "data": {
      "text/plain": [
       "(127, 23)"
      ]
     },
     "execution_count": 58,
     "metadata": {},
     "output_type": "execute_result"
    }
   ],
   "source": [
    "X_train.shape[0], X_test.shape[0]"
   ]
  },
  {
   "cell_type": "markdown",
   "id": "1012e2cd-d51d-46ba-be7d-0b8d11383c24",
   "metadata": {},
   "source": [
    "### 3. Для датасета load_iris осуществите классификацию методом логистической регрессии, создав класс LogisticRegression(max_iter = 1000). Выведите значения гиперпараметров этой модели, установленные по умолчанию. Обучите эту модель, сделайте предсказание. Оцените качество модели, выведя значения метрик accuracy и f1-score."
   ]
  },
  {
   "cell_type": "code",
   "execution_count": 53,
   "id": "90040f46-c25d-4e89-8294-8d2d2b1f6196",
   "metadata": {},
   "outputs": [
    {
     "data": {
      "text/plain": [
       "{'C': 1.0,\n",
       " 'class_weight': None,\n",
       " 'dual': False,\n",
       " 'fit_intercept': True,\n",
       " 'intercept_scaling': 1,\n",
       " 'l1_ratio': None,\n",
       " 'max_iter': 1000,\n",
       " 'multi_class': 'deprecated',\n",
       " 'n_jobs': None,\n",
       " 'penalty': 'l2',\n",
       " 'random_state': None,\n",
       " 'solver': 'lbfgs',\n",
       " 'tol': 0.0001,\n",
       " 'verbose': 0,\n",
       " 'warm_start': False}"
      ]
     },
     "execution_count": 53,
     "metadata": {},
     "output_type": "execute_result"
    }
   ],
   "source": [
    "model = LogisticRegression(max_iter=1000)\n",
    "model.get_params()\n"
   ]
  },
  {
   "cell_type": "code",
   "execution_count": 54,
   "id": "3f1ea0c3",
   "metadata": {},
   "outputs": [
    {
     "data": {
      "text/plain": [
       "1.0"
      ]
     },
     "execution_count": 54,
     "metadata": {},
     "output_type": "execute_result"
    }
   ],
   "source": [
    "model.fit(X_train, y_train)\n",
    "y_pred = model.predict(X_test)\n",
    "\n",
    "accuracy = metrics.accuracy_score(y_test, y_pred)\n",
    "accuracy"
   ]
  },
  {
   "cell_type": "code",
   "execution_count": 56,
   "id": "04a81a19",
   "metadata": {},
   "outputs": [
    {
     "data": {
      "text/plain": [
       "1.0"
      ]
     },
     "execution_count": 56,
     "metadata": {},
     "output_type": "execute_result"
    }
   ],
   "source": [
    "f1 = metrics.f1_score(y_test, y_pred, average='weighted') \n",
    "f1"
   ]
  },
  {
   "cell_type": "markdown",
   "id": "bcf7657f-bf98-4ce3-a090-68e3710e1e4c",
   "metadata": {},
   "source": [
    "### 4. Оптимизируйте гиперпараметры, используя следующие наборы гиперпараметров: param_grid = [{'solver': ['lbfgs', 'newton-cg'],'penalty': ['l2']}, {'C': np.logspace(0,4,10), 'penalty': ['l2', 'l1'], 'solver': ['liblinear']}, {'C': np.logspace(0,4,10), 'penalty': ['l2'], 'solver': ['lbfgs', 'newton-cg']},] по метрике accuracy. Реализуйте поиск лучших гиперпараметров с перекрёстной проверкой, используя класс GridSearchCV. Выведете результаты поиска в виде датафрейма, состоящего из двух колонок: в первой колонке все перебираемые сочитания гиперпараметров, а во второй соответствующие им средние значения метрики accuracy. Выведите значения лучших гиперпараметров."
   ]
  },
  {
   "cell_type": "code",
   "execution_count": 60,
   "id": "66e408a4-5b20-4a39-844e-d527f2455704",
   "metadata": {},
   "outputs": [
    {
     "data": {
      "text/html": [
       "<div>\n",
       "<style scoped>\n",
       "    .dataframe tbody tr th:only-of-type {\n",
       "        vertical-align: middle;\n",
       "    }\n",
       "\n",
       "    .dataframe tbody tr th {\n",
       "        vertical-align: top;\n",
       "    }\n",
       "\n",
       "    .dataframe thead th {\n",
       "        text-align: right;\n",
       "    }\n",
       "</style>\n",
       "<table border=\"1\" class=\"dataframe\">\n",
       "  <thead>\n",
       "    <tr style=\"text-align: right;\">\n",
       "      <th></th>\n",
       "      <th>params</th>\n",
       "      <th>mean_test_score</th>\n",
       "    </tr>\n",
       "  </thead>\n",
       "  <tbody>\n",
       "    <tr>\n",
       "      <th>0</th>\n",
       "      <td>{'penalty': 'l2', 'solver': 'lbfgs'}</td>\n",
       "      <td>0.960615</td>\n",
       "    </tr>\n",
       "    <tr>\n",
       "      <th>1</th>\n",
       "      <td>{'penalty': 'l2', 'solver': 'newton-cg'}</td>\n",
       "      <td>0.960615</td>\n",
       "    </tr>\n",
       "    <tr>\n",
       "      <th>2</th>\n",
       "      <td>{'C': 1.0, 'penalty': 'l2', 'solver': 'libline...</td>\n",
       "      <td>0.937538</td>\n",
       "    </tr>\n",
       "    <tr>\n",
       "      <th>3</th>\n",
       "      <td>{'C': 1.0, 'penalty': 'l1', 'solver': 'libline...</td>\n",
       "      <td>0.921538</td>\n",
       "    </tr>\n",
       "    <tr>\n",
       "      <th>4</th>\n",
       "      <td>{'C': 2.7825594022071245, 'penalty': 'l2', 'so...</td>\n",
       "      <td>0.937231</td>\n",
       "    </tr>\n",
       "    <tr>\n",
       "      <th>5</th>\n",
       "      <td>{'C': 2.7825594022071245, 'penalty': 'l1', 'so...</td>\n",
       "      <td>0.945231</td>\n",
       "    </tr>\n",
       "    <tr>\n",
       "      <th>6</th>\n",
       "      <td>{'C': 7.742636826811269, 'penalty': 'l2', 'sol...</td>\n",
       "      <td>0.952923</td>\n",
       "    </tr>\n",
       "    <tr>\n",
       "      <th>7</th>\n",
       "      <td>{'C': 7.742636826811269, 'penalty': 'l1', 'sol...</td>\n",
       "      <td>0.952923</td>\n",
       "    </tr>\n",
       "    <tr>\n",
       "      <th>8</th>\n",
       "      <td>{'C': 21.544346900318832, 'penalty': 'l2', 'so...</td>\n",
       "      <td>0.952923</td>\n",
       "    </tr>\n",
       "    <tr>\n",
       "      <th>9</th>\n",
       "      <td>{'C': 21.544346900318832, 'penalty': 'l1', 'so...</td>\n",
       "      <td>0.968615</td>\n",
       "    </tr>\n",
       "    <tr>\n",
       "      <th>10</th>\n",
       "      <td>{'C': 59.94842503189409, 'penalty': 'l2', 'sol...</td>\n",
       "      <td>0.952923</td>\n",
       "    </tr>\n",
       "    <tr>\n",
       "      <th>11</th>\n",
       "      <td>{'C': 59.94842503189409, 'penalty': 'l1', 'sol...</td>\n",
       "      <td>0.968615</td>\n",
       "    </tr>\n",
       "    <tr>\n",
       "      <th>12</th>\n",
       "      <td>{'C': 166.81005372000593, 'penalty': 'l2', 'so...</td>\n",
       "      <td>0.960615</td>\n",
       "    </tr>\n",
       "    <tr>\n",
       "      <th>13</th>\n",
       "      <td>{'C': 166.81005372000593, 'penalty': 'l1', 'so...</td>\n",
       "      <td>0.968615</td>\n",
       "    </tr>\n",
       "    <tr>\n",
       "      <th>14</th>\n",
       "      <td>{'C': 464.15888336127773, 'penalty': 'l2', 'so...</td>\n",
       "      <td>0.968615</td>\n",
       "    </tr>\n",
       "    <tr>\n",
       "      <th>15</th>\n",
       "      <td>{'C': 464.15888336127773, 'penalty': 'l1', 'so...</td>\n",
       "      <td>0.968615</td>\n",
       "    </tr>\n",
       "    <tr>\n",
       "      <th>16</th>\n",
       "      <td>{'C': 1291.5496650148827, 'penalty': 'l2', 'so...</td>\n",
       "      <td>0.968615</td>\n",
       "    </tr>\n",
       "    <tr>\n",
       "      <th>17</th>\n",
       "      <td>{'C': 1291.5496650148827, 'penalty': 'l1', 'so...</td>\n",
       "      <td>0.968615</td>\n",
       "    </tr>\n",
       "    <tr>\n",
       "      <th>18</th>\n",
       "      <td>{'C': 3593.813663804626, 'penalty': 'l2', 'sol...</td>\n",
       "      <td>0.968615</td>\n",
       "    </tr>\n",
       "    <tr>\n",
       "      <th>19</th>\n",
       "      <td>{'C': 3593.813663804626, 'penalty': 'l1', 'sol...</td>\n",
       "      <td>0.968615</td>\n",
       "    </tr>\n",
       "    <tr>\n",
       "      <th>20</th>\n",
       "      <td>{'C': 10000.0, 'penalty': 'l2', 'solver': 'lib...</td>\n",
       "      <td>0.968615</td>\n",
       "    </tr>\n",
       "    <tr>\n",
       "      <th>21</th>\n",
       "      <td>{'C': 10000.0, 'penalty': 'l1', 'solver': 'lib...</td>\n",
       "      <td>0.968615</td>\n",
       "    </tr>\n",
       "    <tr>\n",
       "      <th>22</th>\n",
       "      <td>{'C': 1.0, 'penalty': 'l2', 'solver': 'lbfgs'}</td>\n",
       "      <td>0.960615</td>\n",
       "    </tr>\n",
       "    <tr>\n",
       "      <th>23</th>\n",
       "      <td>{'C': 1.0, 'penalty': 'l2', 'solver': 'newton-...</td>\n",
       "      <td>0.960615</td>\n",
       "    </tr>\n",
       "    <tr>\n",
       "      <th>24</th>\n",
       "      <td>{'C': 2.7825594022071245, 'penalty': 'l2', 'so...</td>\n",
       "      <td>0.952923</td>\n",
       "    </tr>\n",
       "    <tr>\n",
       "      <th>25</th>\n",
       "      <td>{'C': 2.7825594022071245, 'penalty': 'l2', 'so...</td>\n",
       "      <td>0.952923</td>\n",
       "    </tr>\n",
       "    <tr>\n",
       "      <th>26</th>\n",
       "      <td>{'C': 7.742636826811269, 'penalty': 'l2', 'sol...</td>\n",
       "      <td>0.952923</td>\n",
       "    </tr>\n",
       "    <tr>\n",
       "      <th>27</th>\n",
       "      <td>{'C': 7.742636826811269, 'penalty': 'l2', 'sol...</td>\n",
       "      <td>0.952923</td>\n",
       "    </tr>\n",
       "    <tr>\n",
       "      <th>28</th>\n",
       "      <td>{'C': 21.544346900318832, 'penalty': 'l2', 'so...</td>\n",
       "      <td>0.968615</td>\n",
       "    </tr>\n",
       "    <tr>\n",
       "      <th>29</th>\n",
       "      <td>{'C': 21.544346900318832, 'penalty': 'l2', 'so...</td>\n",
       "      <td>0.968615</td>\n",
       "    </tr>\n",
       "    <tr>\n",
       "      <th>30</th>\n",
       "      <td>{'C': 59.94842503189409, 'penalty': 'l2', 'sol...</td>\n",
       "      <td>0.968615</td>\n",
       "    </tr>\n",
       "    <tr>\n",
       "      <th>31</th>\n",
       "      <td>{'C': 59.94842503189409, 'penalty': 'l2', 'sol...</td>\n",
       "      <td>0.968615</td>\n",
       "    </tr>\n",
       "    <tr>\n",
       "      <th>32</th>\n",
       "      <td>{'C': 166.81005372000593, 'penalty': 'l2', 'so...</td>\n",
       "      <td>0.968615</td>\n",
       "    </tr>\n",
       "    <tr>\n",
       "      <th>33</th>\n",
       "      <td>{'C': 166.81005372000593, 'penalty': 'l2', 'so...</td>\n",
       "      <td>0.968615</td>\n",
       "    </tr>\n",
       "    <tr>\n",
       "      <th>34</th>\n",
       "      <td>{'C': 464.15888336127773, 'penalty': 'l2', 'so...</td>\n",
       "      <td>0.968615</td>\n",
       "    </tr>\n",
       "    <tr>\n",
       "      <th>35</th>\n",
       "      <td>{'C': 464.15888336127773, 'penalty': 'l2', 'so...</td>\n",
       "      <td>0.968615</td>\n",
       "    </tr>\n",
       "    <tr>\n",
       "      <th>36</th>\n",
       "      <td>{'C': 1291.5496650148827, 'penalty': 'l2', 'so...</td>\n",
       "      <td>0.968615</td>\n",
       "    </tr>\n",
       "    <tr>\n",
       "      <th>37</th>\n",
       "      <td>{'C': 1291.5496650148827, 'penalty': 'l2', 'so...</td>\n",
       "      <td>0.968615</td>\n",
       "    </tr>\n",
       "    <tr>\n",
       "      <th>38</th>\n",
       "      <td>{'C': 3593.813663804626, 'penalty': 'l2', 'sol...</td>\n",
       "      <td>0.968615</td>\n",
       "    </tr>\n",
       "    <tr>\n",
       "      <th>39</th>\n",
       "      <td>{'C': 3593.813663804626, 'penalty': 'l2', 'sol...</td>\n",
       "      <td>0.968615</td>\n",
       "    </tr>\n",
       "    <tr>\n",
       "      <th>40</th>\n",
       "      <td>{'C': 10000.0, 'penalty': 'l2', 'solver': 'lbf...</td>\n",
       "      <td>0.968615</td>\n",
       "    </tr>\n",
       "    <tr>\n",
       "      <th>41</th>\n",
       "      <td>{'C': 10000.0, 'penalty': 'l2', 'solver': 'new...</td>\n",
       "      <td>0.960923</td>\n",
       "    </tr>\n",
       "  </tbody>\n",
       "</table>\n",
       "</div>"
      ],
      "text/plain": [
       "                                               params  mean_test_score\n",
       "0                {'penalty': 'l2', 'solver': 'lbfgs'}         0.960615\n",
       "1            {'penalty': 'l2', 'solver': 'newton-cg'}         0.960615\n",
       "2   {'C': 1.0, 'penalty': 'l2', 'solver': 'libline...         0.937538\n",
       "3   {'C': 1.0, 'penalty': 'l1', 'solver': 'libline...         0.921538\n",
       "4   {'C': 2.7825594022071245, 'penalty': 'l2', 'so...         0.937231\n",
       "5   {'C': 2.7825594022071245, 'penalty': 'l1', 'so...         0.945231\n",
       "6   {'C': 7.742636826811269, 'penalty': 'l2', 'sol...         0.952923\n",
       "7   {'C': 7.742636826811269, 'penalty': 'l1', 'sol...         0.952923\n",
       "8   {'C': 21.544346900318832, 'penalty': 'l2', 'so...         0.952923\n",
       "9   {'C': 21.544346900318832, 'penalty': 'l1', 'so...         0.968615\n",
       "10  {'C': 59.94842503189409, 'penalty': 'l2', 'sol...         0.952923\n",
       "11  {'C': 59.94842503189409, 'penalty': 'l1', 'sol...         0.968615\n",
       "12  {'C': 166.81005372000593, 'penalty': 'l2', 'so...         0.960615\n",
       "13  {'C': 166.81005372000593, 'penalty': 'l1', 'so...         0.968615\n",
       "14  {'C': 464.15888336127773, 'penalty': 'l2', 'so...         0.968615\n",
       "15  {'C': 464.15888336127773, 'penalty': 'l1', 'so...         0.968615\n",
       "16  {'C': 1291.5496650148827, 'penalty': 'l2', 'so...         0.968615\n",
       "17  {'C': 1291.5496650148827, 'penalty': 'l1', 'so...         0.968615\n",
       "18  {'C': 3593.813663804626, 'penalty': 'l2', 'sol...         0.968615\n",
       "19  {'C': 3593.813663804626, 'penalty': 'l1', 'sol...         0.968615\n",
       "20  {'C': 10000.0, 'penalty': 'l2', 'solver': 'lib...         0.968615\n",
       "21  {'C': 10000.0, 'penalty': 'l1', 'solver': 'lib...         0.968615\n",
       "22     {'C': 1.0, 'penalty': 'l2', 'solver': 'lbfgs'}         0.960615\n",
       "23  {'C': 1.0, 'penalty': 'l2', 'solver': 'newton-...         0.960615\n",
       "24  {'C': 2.7825594022071245, 'penalty': 'l2', 'so...         0.952923\n",
       "25  {'C': 2.7825594022071245, 'penalty': 'l2', 'so...         0.952923\n",
       "26  {'C': 7.742636826811269, 'penalty': 'l2', 'sol...         0.952923\n",
       "27  {'C': 7.742636826811269, 'penalty': 'l2', 'sol...         0.952923\n",
       "28  {'C': 21.544346900318832, 'penalty': 'l2', 'so...         0.968615\n",
       "29  {'C': 21.544346900318832, 'penalty': 'l2', 'so...         0.968615\n",
       "30  {'C': 59.94842503189409, 'penalty': 'l2', 'sol...         0.968615\n",
       "31  {'C': 59.94842503189409, 'penalty': 'l2', 'sol...         0.968615\n",
       "32  {'C': 166.81005372000593, 'penalty': 'l2', 'so...         0.968615\n",
       "33  {'C': 166.81005372000593, 'penalty': 'l2', 'so...         0.968615\n",
       "34  {'C': 464.15888336127773, 'penalty': 'l2', 'so...         0.968615\n",
       "35  {'C': 464.15888336127773, 'penalty': 'l2', 'so...         0.968615\n",
       "36  {'C': 1291.5496650148827, 'penalty': 'l2', 'so...         0.968615\n",
       "37  {'C': 1291.5496650148827, 'penalty': 'l2', 'so...         0.968615\n",
       "38  {'C': 3593.813663804626, 'penalty': 'l2', 'sol...         0.968615\n",
       "39  {'C': 3593.813663804626, 'penalty': 'l2', 'sol...         0.968615\n",
       "40  {'C': 10000.0, 'penalty': 'l2', 'solver': 'lbf...         0.968615\n",
       "41  {'C': 10000.0, 'penalty': 'l2', 'solver': 'new...         0.960923"
      ]
     },
     "execution_count": 60,
     "metadata": {},
     "output_type": "execute_result"
    }
   ],
   "source": [
    "param_grid = [\n",
    "    {\n",
    "        'solver': ['lbfgs', 'newton-cg'],\n",
    "        'penalty': ['l2']\n",
    "    },\n",
    "    {\n",
    "        'C': np.logspace(0, 4, 10),\n",
    "        'penalty': ['l2', 'l1'],\n",
    "        'solver': ['liblinear']\n",
    "    },\n",
    "    {\n",
    "        'C': np.logspace(0, 4, 10),\n",
    "        'penalty': ['l2'],\n",
    "        'solver': ['lbfgs', 'newton-cg']\n",
    "    }\n",
    "]\n",
    "\n",
    "model = LogisticRegression(max_iter=1000)\n",
    "\n",
    "grid_search = GridSearchCV(\n",
    "    estimator=model,\n",
    "    param_grid=param_grid,\n",
    "    scoring='accuracy',  \n",
    "    cv=5,  \n",
    ")\n",
    "\n",
    "grid_search.fit(X_train, y_train)\n",
    "results = pd.DataFrame(grid_search.cv_results_)[['params', 'mean_test_score']]\n",
    "results\n",
    "\n"
   ]
  },
  {
   "cell_type": "code",
   "execution_count": 61,
   "id": "5e6fc767",
   "metadata": {},
   "outputs": [
    {
     "data": {
      "text/plain": [
       "{'C': np.float64(21.544346900318832), 'penalty': 'l1', 'solver': 'liblinear'}"
      ]
     },
     "execution_count": 61,
     "metadata": {},
     "output_type": "execute_result"
    }
   ],
   "source": [
    "grid_search.best_params_"
   ]
  },
  {
   "cell_type": "markdown",
   "id": "8ca363ae-7680-4f8b-a3d0-f175c0e899ae",
   "metadata": {},
   "source": [
    "### 5. Выведите значение метрики accuracy на тестовых данных. Cделайте предсказание для лучшей модели и выведите метрику f1-score. Сравните полученные метрики с метриками, полученными без оптимизации гиперпараметров."
   ]
  },
  {
   "cell_type": "code",
   "execution_count": 62,
   "id": "67cf69f0",
   "metadata": {},
   "outputs": [
    {
     "data": {
      "text/plain": [
       "0.9565217391304348"
      ]
     },
     "execution_count": 62,
     "metadata": {},
     "output_type": "execute_result"
    }
   ],
   "source": [
    "best_model = grid_search.best_estimator_\n",
    "y_pred_best = best_model.predict(X_test)\n",
    "accuracy_best = metrics.accuracy_score(y_test, y_pred_best)\n",
    "accuracy_best"
   ]
  },
  {
   "cell_type": "code",
   "execution_count": 63,
   "id": "2bc1c925",
   "metadata": {},
   "outputs": [
    {
     "data": {
      "text/plain": [
       "0.9550514597773576"
      ]
     },
     "execution_count": 63,
     "metadata": {},
     "output_type": "execute_result"
    }
   ],
   "source": [
    "f1_best = metrics.f1_score(y_test, y_pred_best, average='weighted')  # Используем 'weighted' для многоклассовой классификации\n",
    "f1_best"
   ]
  },
  {
   "cell_type": "markdown",
   "id": "d8681393-af1f-430f-9f2b-0c98cb46f038",
   "metadata": {},
   "source": [
    "### 6. Осуществите рандомизированный решетчатый поиск лучших гиперпараметров по метрике accuracy для той же самой сетки гиперпараметров. "
   ]
  },
  {
   "cell_type": "code",
   "execution_count": null,
   "id": "57c6cad7-0599-4820-89dc-615f8eb15703",
   "metadata": {},
   "outputs": [
    {
     "data": {
      "text/plain": [
       "1.0"
      ]
     },
     "execution_count": 69,
     "metadata": {},
     "output_type": "execute_result"
    }
   ],
   "source": [
    "random_search = RandomizedSearchCV(\n",
    "    estimator=model,\n",
    "    param_distributions=param_grid,\n",
    "    n_iter=20, \n",
    "    scoring='accuracy',  \n",
    "    cv=5, \n",
    "    random_state=42  \n",
    ")\n",
    "random_search.fit(X_train, y_train)\n",
    "best_model = random_search.best_estimator_\n",
    "y_pred_best = best_model.predict(X_test)\n",
    "accuracy_best = metrics.accuracy_score(y_test, y_pred_best)\n",
    "accuracy_best"
   ]
  },
  {
   "cell_type": "code",
   "execution_count": 70,
   "id": "b46de565",
   "metadata": {},
   "outputs": [
    {
     "data": {
      "text/plain": [
       "1.0"
      ]
     },
     "execution_count": 70,
     "metadata": {},
     "output_type": "execute_result"
    }
   ],
   "source": [
    "f1_best = metrics.f1_score(y_test, y_pred_best, average='weighted')\n",
    "f1_best"
   ]
  },
  {
   "cell_type": "markdown",
   "id": "2b9156d1-c13f-4b6b-9bd3-79f5ffd64a6c",
   "metadata": {},
   "source": [
    "### 7. Осуществите решетчатый поиск лучших гиперпараметров по метрике f1 для той же самой сетки гиперпараметров. "
   ]
  },
  {
   "cell_type": "code",
   "execution_count": 71,
   "id": "3de9068c-208b-48d0-8e35-b7667ab543ef",
   "metadata": {},
   "outputs": [
    {
     "data": {
      "text/plain": [
       "0.9565217391304348"
      ]
     },
     "execution_count": 71,
     "metadata": {},
     "output_type": "execute_result"
    }
   ],
   "source": [
    "grid_search_f1 = GridSearchCV(\n",
    "    estimator=model,\n",
    "    param_grid=param_grid,\n",
    "    scoring='f1_weighted', \n",
    "    cv=5\n",
    ")\n",
    "\n",
    "grid_search_f1.fit(X_train, y_train)\n",
    "best_model_f1 = grid_search_f1.best_estimator_\n",
    "y_pred_best_f1 = best_model_f1.predict(X_test)\n",
    "accuracy_best_f1 = metrics.accuracy_score(y_test, y_pred_best_f1)\n",
    "accuracy_best_f1"
   ]
  },
  {
   "cell_type": "code",
   "execution_count": 72,
   "id": "e55e57f3",
   "metadata": {},
   "outputs": [
    {
     "data": {
      "text/plain": [
       "0.9550514597773576"
      ]
     },
     "execution_count": 72,
     "metadata": {},
     "output_type": "execute_result"
    }
   ],
   "source": [
    "f1_best_f1 = metrics.f1_score(y_test, y_pred_best_f1, average='weighted')\n",
    "f1_best_f1"
   ]
  }
 ],
 "metadata": {
  "kernelspec": {
   "display_name": "Python 3 (ipykernel)",
   "language": "python",
   "name": "python3"
  },
  "language_info": {
   "codemirror_mode": {
    "name": "ipython",
    "version": 3
   },
   "file_extension": ".py",
   "mimetype": "text/x-python",
   "name": "python",
   "nbconvert_exporter": "python",
   "pygments_lexer": "ipython3",
   "version": "3.13.2"
  }
 },
 "nbformat": 4,
 "nbformat_minor": 5
}
