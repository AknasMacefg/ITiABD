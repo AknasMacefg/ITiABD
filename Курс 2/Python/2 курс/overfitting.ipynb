{
 "cells": [
  {
   "cell_type": "markdown",
   "id": "0ca89aa5",
   "metadata": {},
   "source": [
    "## Семинар 4\n",
    "# Тема: Диагностика переобучения модели и борьба с ним на примере решающего дерева"
   ]
  },
  {
   "cell_type": "markdown",
   "id": "c749784d",
   "metadata": {},
   "source": [
    "### Переобучение\n",
    "Переобучение - ситуация, при которой данные из обучающей выборки будут описываться хорошо, а тестовые данные плохо.\n",
    "\n",
    "Иначе говоря, значения метрик будут хорошими на обучающей выборке, а на тестовой - плохими. \n",
    "\n",
    "В ситуации переобучения модель слишком сильно подогоняется под обучающую выборку. Модель необходимо упрощать.\n",
    "\n",
    "### Выявление переобучения\n",
    "Выявляют переобучения, вычисляя метрики на:\n",
    "\n",
    "$\\bullet$ обучающих данных\n",
    "\n",
    "$\\bullet$ тестовых данных\n",
    "fЗатем сравнивают их значения. Находя метрики на обучающих и тестовых данных, вычислять их нужно используя кросс-валидацию, а не разбиение на две части.\n",
    "\n",
    "### Кривая проверки\n",
    "Справиться с переобучением можно уменьшив параметр сложностьи модели. \n",
    "\n",
    "Требуется найти оптимальное значение параметра сложности модели, т.е. компромисс между переобучением и недообучением.\n",
    "Для этого строят, так называемую, кривую проверки (validation_curve), она представляет собой зависимость значения метрики от параметра сложности на обучающих и тестовых данных. Фактически это две кривые. Ситуация переобучения будет, когда расстояние между кривыми большое, т.е. разброс (variance) велик. Ситуация недообучения будет, когда обе кривые слишком далеко от идеального значения метрики, т.е. смещение (bias) от нужного значения (например, единицы в случае метрики accuracy) велико. По графику ищут оптимальное значение параметра сложности, т.е. компромисс между переобучением и недообучением.\n",
    "\n",
    "Для дерева решений параметром сложности модели будет, например, глубина дерева (max_depth). \n",
    "\n",
    "### Кривая заучивания\n",
    "Второй способ справиться с переобучением - это добавить новые данные, но, т.к. собрать новые данные не такая простая задача, прежде чем это делать следует оценить будет ли эффект от добавления новых данных, т.е. удастся ли уменньшить разброс (variance) при добавлении новых данных. Для этого нужно построить кривую заучивания (learning curve). Кривая заучивания даёт визуальное представление способности модели улучшаться за счет добавления новых образцов."
   ]
  },
  {
   "cell_type": "markdown",
   "id": "d4c6bb84",
   "metadata": {},
   "source": [
    "Импортируем необходимые библиотеки:"
   ]
  },
  {
   "cell_type": "code",
   "execution_count": 67,
   "id": "e455c94a",
   "metadata": {},
   "outputs": [],
   "source": [
    "import numpy as np\n",
    "import pandas as pd\n",
    "import matplotlib.pyplot as plt\n",
    "from sklearn.tree import  DecisionTreeClassifier, DecisionTreeRegressor\n",
    "from sklearn.model_selection import cross_validate\n",
    "\n",
    "from sklearn.model_selection import validation_curve, learning_curve"
   ]
  },
  {
   "cell_type": "markdown",
   "id": "29a1415d",
   "metadata": {},
   "source": [
    "### 1. Загрузите датасет `titanic.csv` и выведите первые 5 строк. Отдедите целевую переменную 'Survived' и обозначьте данные за `X`, а целевую переменную за `y`. Выведите их размеры."
   ]
  },
  {
   "cell_type": "code",
   "execution_count": 68,
   "id": "7dcbbe01",
   "metadata": {},
   "outputs": [
    {
     "data": {
      "text/html": [
       "<div>\n",
       "<style scoped>\n",
       "    .dataframe tbody tr th:only-of-type {\n",
       "        vertical-align: middle;\n",
       "    }\n",
       "\n",
       "    .dataframe tbody tr th {\n",
       "        vertical-align: top;\n",
       "    }\n",
       "\n",
       "    .dataframe thead th {\n",
       "        text-align: right;\n",
       "    }\n",
       "</style>\n",
       "<table border=\"1\" class=\"dataframe\">\n",
       "  <thead>\n",
       "    <tr style=\"text-align: right;\">\n",
       "      <th></th>\n",
       "      <th>PassengerId</th>\n",
       "      <th>Survived</th>\n",
       "      <th>Pclass</th>\n",
       "      <th>Sex</th>\n",
       "      <th>Age</th>\n",
       "      <th>SibSp</th>\n",
       "      <th>Parch</th>\n",
       "      <th>Fare</th>\n",
       "      <th>Embarked_C</th>\n",
       "      <th>Embarked_Q</th>\n",
       "      <th>Embarked_S</th>\n",
       "    </tr>\n",
       "  </thead>\n",
       "  <tbody>\n",
       "    <tr>\n",
       "      <th>0</th>\n",
       "      <td>1</td>\n",
       "      <td>0</td>\n",
       "      <td>3</td>\n",
       "      <td>0</td>\n",
       "      <td>22.0</td>\n",
       "      <td>1</td>\n",
       "      <td>0</td>\n",
       "      <td>7.2500</td>\n",
       "      <td>0</td>\n",
       "      <td>0</td>\n",
       "      <td>1</td>\n",
       "    </tr>\n",
       "    <tr>\n",
       "      <th>1</th>\n",
       "      <td>2</td>\n",
       "      <td>1</td>\n",
       "      <td>1</td>\n",
       "      <td>1</td>\n",
       "      <td>38.0</td>\n",
       "      <td>1</td>\n",
       "      <td>0</td>\n",
       "      <td>71.2833</td>\n",
       "      <td>1</td>\n",
       "      <td>0</td>\n",
       "      <td>0</td>\n",
       "    </tr>\n",
       "    <tr>\n",
       "      <th>2</th>\n",
       "      <td>3</td>\n",
       "      <td>1</td>\n",
       "      <td>3</td>\n",
       "      <td>1</td>\n",
       "      <td>26.0</td>\n",
       "      <td>0</td>\n",
       "      <td>0</td>\n",
       "      <td>7.9250</td>\n",
       "      <td>0</td>\n",
       "      <td>0</td>\n",
       "      <td>1</td>\n",
       "    </tr>\n",
       "    <tr>\n",
       "      <th>3</th>\n",
       "      <td>4</td>\n",
       "      <td>1</td>\n",
       "      <td>1</td>\n",
       "      <td>1</td>\n",
       "      <td>35.0</td>\n",
       "      <td>1</td>\n",
       "      <td>0</td>\n",
       "      <td>53.1000</td>\n",
       "      <td>0</td>\n",
       "      <td>0</td>\n",
       "      <td>1</td>\n",
       "    </tr>\n",
       "    <tr>\n",
       "      <th>4</th>\n",
       "      <td>5</td>\n",
       "      <td>0</td>\n",
       "      <td>3</td>\n",
       "      <td>0</td>\n",
       "      <td>35.0</td>\n",
       "      <td>0</td>\n",
       "      <td>0</td>\n",
       "      <td>8.0500</td>\n",
       "      <td>0</td>\n",
       "      <td>0</td>\n",
       "      <td>1</td>\n",
       "    </tr>\n",
       "  </tbody>\n",
       "</table>\n",
       "</div>"
      ],
      "text/plain": [
       "   PassengerId  Survived  Pclass  Sex   Age  SibSp  Parch     Fare  \\\n",
       "0            1         0       3    0  22.0      1      0   7.2500   \n",
       "1            2         1       1    1  38.0      1      0  71.2833   \n",
       "2            3         1       3    1  26.0      0      0   7.9250   \n",
       "3            4         1       1    1  35.0      1      0  53.1000   \n",
       "4            5         0       3    0  35.0      0      0   8.0500   \n",
       "\n",
       "   Embarked_C  Embarked_Q  Embarked_S  \n",
       "0           0           0           1  \n",
       "1           1           0           0  \n",
       "2           0           0           1  \n",
       "3           0           0           1  \n",
       "4           0           0           1  "
      ]
     },
     "execution_count": 68,
     "metadata": {},
     "output_type": "execute_result"
    }
   ],
   "source": [
    "df = pd.read_csv('titanic.csv')\n",
    "df.head()"
   ]
  },
  {
   "cell_type": "code",
   "execution_count": 69,
   "id": "81a301a0-7933-4649-bc29-429b9f5766e8",
   "metadata": {},
   "outputs": [
    {
     "data": {
      "text/plain": [
       "array([[ 3.    ,  0.    , 22.    ,  1.    ,  0.    ,  7.25  ,  0.    ,\n",
       "         0.    ,  1.    ],\n",
       "       [ 1.    ,  1.    , 38.    ,  1.    ,  0.    , 71.2833,  1.    ,\n",
       "         0.    ,  0.    ],\n",
       "       [ 3.    ,  1.    , 26.    ,  0.    ,  0.    ,  7.925 ,  0.    ,\n",
       "         0.    ,  1.    ],\n",
       "       [ 1.    ,  1.    , 35.    ,  1.    ,  0.    , 53.1   ,  0.    ,\n",
       "         0.    ,  1.    ],\n",
       "       [ 3.    ,  0.    , 35.    ,  0.    ,  0.    ,  8.05  ,  0.    ,\n",
       "         0.    ,  1.    ]])"
      ]
     },
     "execution_count": 69,
     "metadata": {},
     "output_type": "execute_result"
    }
   ],
   "source": [
    "y = df['Survived'].values\n",
    "X = df.drop(['PassengerId','Survived'], axis = 1).values\n",
    "X[:5]"
   ]
  },
  {
   "cell_type": "code",
   "execution_count": 70,
   "id": "389546cd-2c32-48f6-adae-65ac11b34779",
   "metadata": {},
   "outputs": [
    {
     "data": {
      "text/plain": [
       "((891, 9), (891,))"
      ]
     },
     "execution_count": 70,
     "metadata": {},
     "output_type": "execute_result"
    }
   ],
   "source": [
    "X.shape, y.shape"
   ]
  },
  {
   "cell_type": "markdown",
   "id": "ebbaae2e",
   "metadata": {},
   "source": [
    "### 2. Сделайте 10-блочную перекрёстную проверку (кросс-валидацию) модели DecisionTreeClassifier(random_state=3) с вычислением двух метрик accuracy и F1, используя библиотечную функцию cross_validate. Установите значение параметра return_train_score этой функции True для того, чтобы выводились значения метрик не только на тестовых данных, но и на обучающих тоже. Результаты выведите в виде двух датафреймов, оставив в первом только два столбца со значениями метрики accuracy на обучающих и тестовых данных, а во втором со значениями метрики F1."
   ]
  },
  {
   "cell_type": "code",
   "execution_count": 71,
   "id": "e3ffbdb0",
   "metadata": {},
   "outputs": [
    {
     "data": {
      "text/html": [
       "<div>\n",
       "<style scoped>\n",
       "    .dataframe tbody tr th:only-of-type {\n",
       "        vertical-align: middle;\n",
       "    }\n",
       "\n",
       "    .dataframe tbody tr th {\n",
       "        vertical-align: top;\n",
       "    }\n",
       "\n",
       "    .dataframe thead th {\n",
       "        text-align: right;\n",
       "    }\n",
       "</style>\n",
       "<table border=\"1\" class=\"dataframe\">\n",
       "  <thead>\n",
       "    <tr style=\"text-align: right;\">\n",
       "      <th></th>\n",
       "      <th>fit_time</th>\n",
       "      <th>score_time</th>\n",
       "      <th>test_accuracy</th>\n",
       "      <th>train_accuracy</th>\n",
       "      <th>test_f1</th>\n",
       "      <th>train_f1</th>\n",
       "    </tr>\n",
       "  </thead>\n",
       "  <tbody>\n",
       "    <tr>\n",
       "      <th>0</th>\n",
       "      <td>0.003705</td>\n",
       "      <td>0.004080</td>\n",
       "      <td>0.700000</td>\n",
       "      <td>0.977528</td>\n",
       "      <td>0.630137</td>\n",
       "      <td>0.970000</td>\n",
       "    </tr>\n",
       "    <tr>\n",
       "      <th>1</th>\n",
       "      <td>0.004426</td>\n",
       "      <td>0.004658</td>\n",
       "      <td>0.775281</td>\n",
       "      <td>0.978803</td>\n",
       "      <td>0.696970</td>\n",
       "      <td>0.971808</td>\n",
       "    </tr>\n",
       "    <tr>\n",
       "      <th>2</th>\n",
       "      <td>0.004115</td>\n",
       "      <td>0.003697</td>\n",
       "      <td>0.741573</td>\n",
       "      <td>0.982544</td>\n",
       "      <td>0.610169</td>\n",
       "      <td>0.976898</td>\n",
       "    </tr>\n",
       "    <tr>\n",
       "      <th>3</th>\n",
       "      <td>0.004303</td>\n",
       "      <td>0.004007</td>\n",
       "      <td>0.764045</td>\n",
       "      <td>0.976309</td>\n",
       "      <td>0.704225</td>\n",
       "      <td>0.968280</td>\n",
       "    </tr>\n",
       "    <tr>\n",
       "      <th>4</th>\n",
       "      <td>0.004489</td>\n",
       "      <td>0.003394</td>\n",
       "      <td>0.831461</td>\n",
       "      <td>0.977556</td>\n",
       "      <td>0.782609</td>\n",
       "      <td>0.970100</td>\n",
       "    </tr>\n",
       "    <tr>\n",
       "      <th>5</th>\n",
       "      <td>0.003318</td>\n",
       "      <td>0.003065</td>\n",
       "      <td>0.752809</td>\n",
       "      <td>0.980050</td>\n",
       "      <td>0.685714</td>\n",
       "      <td>0.973510</td>\n",
       "    </tr>\n",
       "    <tr>\n",
       "      <th>6</th>\n",
       "      <td>0.003251</td>\n",
       "      <td>0.002664</td>\n",
       "      <td>0.808989</td>\n",
       "      <td>0.976309</td>\n",
       "      <td>0.721311</td>\n",
       "      <td>0.968386</td>\n",
       "    </tr>\n",
       "    <tr>\n",
       "      <th>7</th>\n",
       "      <td>0.003158</td>\n",
       "      <td>0.002719</td>\n",
       "      <td>0.764045</td>\n",
       "      <td>0.976309</td>\n",
       "      <td>0.655738</td>\n",
       "      <td>0.968280</td>\n",
       "    </tr>\n",
       "    <tr>\n",
       "      <th>8</th>\n",
       "      <td>0.003040</td>\n",
       "      <td>0.002834</td>\n",
       "      <td>0.842697</td>\n",
       "      <td>0.976309</td>\n",
       "      <td>0.810811</td>\n",
       "      <td>0.968386</td>\n",
       "    </tr>\n",
       "    <tr>\n",
       "      <th>9</th>\n",
       "      <td>0.003229</td>\n",
       "      <td>0.003314</td>\n",
       "      <td>0.797753</td>\n",
       "      <td>0.977556</td>\n",
       "      <td>0.735294</td>\n",
       "      <td>0.969900</td>\n",
       "    </tr>\n",
       "  </tbody>\n",
       "</table>\n",
       "</div>"
      ],
      "text/plain": [
       "   fit_time  score_time  test_accuracy  train_accuracy   test_f1  train_f1\n",
       "0  0.003705    0.004080       0.700000        0.977528  0.630137  0.970000\n",
       "1  0.004426    0.004658       0.775281        0.978803  0.696970  0.971808\n",
       "2  0.004115    0.003697       0.741573        0.982544  0.610169  0.976898\n",
       "3  0.004303    0.004007       0.764045        0.976309  0.704225  0.968280\n",
       "4  0.004489    0.003394       0.831461        0.977556  0.782609  0.970100\n",
       "5  0.003318    0.003065       0.752809        0.980050  0.685714  0.973510\n",
       "6  0.003251    0.002664       0.808989        0.976309  0.721311  0.968386\n",
       "7  0.003158    0.002719       0.764045        0.976309  0.655738  0.968280\n",
       "8  0.003040    0.002834       0.842697        0.976309  0.810811  0.968386\n",
       "9  0.003229    0.003314       0.797753        0.977556  0.735294  0.969900"
      ]
     },
     "execution_count": 71,
     "metadata": {},
     "output_type": "execute_result"
    }
   ],
   "source": [
    "clf = DecisionTreeClassifier(random_state=3)\n",
    "cv_results = cross_validate(clf, X, y, cv = 10, scoring =['accuracy','f1'], return_train_score = True)\n",
    "pd.DataFrame(cv_results)"
   ]
  },
  {
   "cell_type": "code",
   "execution_count": 72,
   "id": "8ad2d4fd-2b2e-4fb2-82b6-09df8b6cf295",
   "metadata": {},
   "outputs": [
    {
     "data": {
      "text/html": [
       "<div>\n",
       "<style scoped>\n",
       "    .dataframe tbody tr th:only-of-type {\n",
       "        vertical-align: middle;\n",
       "    }\n",
       "\n",
       "    .dataframe tbody tr th {\n",
       "        vertical-align: top;\n",
       "    }\n",
       "\n",
       "    .dataframe thead th {\n",
       "        text-align: right;\n",
       "    }\n",
       "</style>\n",
       "<table border=\"1\" class=\"dataframe\">\n",
       "  <thead>\n",
       "    <tr style=\"text-align: right;\">\n",
       "      <th></th>\n",
       "      <th>train_accuracy</th>\n",
       "      <th>test_accuracy</th>\n",
       "    </tr>\n",
       "  </thead>\n",
       "  <tbody>\n",
       "    <tr>\n",
       "      <th>0</th>\n",
       "      <td>0.977528</td>\n",
       "      <td>0.700000</td>\n",
       "    </tr>\n",
       "    <tr>\n",
       "      <th>1</th>\n",
       "      <td>0.978803</td>\n",
       "      <td>0.775281</td>\n",
       "    </tr>\n",
       "    <tr>\n",
       "      <th>2</th>\n",
       "      <td>0.982544</td>\n",
       "      <td>0.741573</td>\n",
       "    </tr>\n",
       "    <tr>\n",
       "      <th>3</th>\n",
       "      <td>0.976309</td>\n",
       "      <td>0.764045</td>\n",
       "    </tr>\n",
       "    <tr>\n",
       "      <th>4</th>\n",
       "      <td>0.977556</td>\n",
       "      <td>0.831461</td>\n",
       "    </tr>\n",
       "    <tr>\n",
       "      <th>5</th>\n",
       "      <td>0.980050</td>\n",
       "      <td>0.752809</td>\n",
       "    </tr>\n",
       "    <tr>\n",
       "      <th>6</th>\n",
       "      <td>0.976309</td>\n",
       "      <td>0.808989</td>\n",
       "    </tr>\n",
       "    <tr>\n",
       "      <th>7</th>\n",
       "      <td>0.976309</td>\n",
       "      <td>0.764045</td>\n",
       "    </tr>\n",
       "    <tr>\n",
       "      <th>8</th>\n",
       "      <td>0.976309</td>\n",
       "      <td>0.842697</td>\n",
       "    </tr>\n",
       "    <tr>\n",
       "      <th>9</th>\n",
       "      <td>0.977556</td>\n",
       "      <td>0.797753</td>\n",
       "    </tr>\n",
       "  </tbody>\n",
       "</table>\n",
       "</div>"
      ],
      "text/plain": [
       "   train_accuracy  test_accuracy\n",
       "0        0.977528       0.700000\n",
       "1        0.978803       0.775281\n",
       "2        0.982544       0.741573\n",
       "3        0.976309       0.764045\n",
       "4        0.977556       0.831461\n",
       "5        0.980050       0.752809\n",
       "6        0.976309       0.808989\n",
       "7        0.976309       0.764045\n",
       "8        0.976309       0.842697\n",
       "9        0.977556       0.797753"
      ]
     },
     "execution_count": 72,
     "metadata": {},
     "output_type": "execute_result"
    }
   ],
   "source": [
    "scores_accuracy = pd.DataFrame(cv_results)[['train_accuracy', 'test_accuracy']]\n",
    "scores_accuracy"
   ]
  },
  {
   "cell_type": "code",
   "execution_count": 73,
   "id": "b96f2fb8-392f-400f-a449-d6365be26dbf",
   "metadata": {},
   "outputs": [
    {
     "data": {
      "text/html": [
       "<div>\n",
       "<style scoped>\n",
       "    .dataframe tbody tr th:only-of-type {\n",
       "        vertical-align: middle;\n",
       "    }\n",
       "\n",
       "    .dataframe tbody tr th {\n",
       "        vertical-align: top;\n",
       "    }\n",
       "\n",
       "    .dataframe thead th {\n",
       "        text-align: right;\n",
       "    }\n",
       "</style>\n",
       "<table border=\"1\" class=\"dataframe\">\n",
       "  <thead>\n",
       "    <tr style=\"text-align: right;\">\n",
       "      <th></th>\n",
       "      <th>train_f1</th>\n",
       "      <th>test_f1</th>\n",
       "    </tr>\n",
       "  </thead>\n",
       "  <tbody>\n",
       "    <tr>\n",
       "      <th>0</th>\n",
       "      <td>0.970000</td>\n",
       "      <td>0.630137</td>\n",
       "    </tr>\n",
       "    <tr>\n",
       "      <th>1</th>\n",
       "      <td>0.971808</td>\n",
       "      <td>0.696970</td>\n",
       "    </tr>\n",
       "    <tr>\n",
       "      <th>2</th>\n",
       "      <td>0.976898</td>\n",
       "      <td>0.610169</td>\n",
       "    </tr>\n",
       "    <tr>\n",
       "      <th>3</th>\n",
       "      <td>0.968280</td>\n",
       "      <td>0.704225</td>\n",
       "    </tr>\n",
       "    <tr>\n",
       "      <th>4</th>\n",
       "      <td>0.970100</td>\n",
       "      <td>0.782609</td>\n",
       "    </tr>\n",
       "    <tr>\n",
       "      <th>5</th>\n",
       "      <td>0.973510</td>\n",
       "      <td>0.685714</td>\n",
       "    </tr>\n",
       "    <tr>\n",
       "      <th>6</th>\n",
       "      <td>0.968386</td>\n",
       "      <td>0.721311</td>\n",
       "    </tr>\n",
       "    <tr>\n",
       "      <th>7</th>\n",
       "      <td>0.968280</td>\n",
       "      <td>0.655738</td>\n",
       "    </tr>\n",
       "    <tr>\n",
       "      <th>8</th>\n",
       "      <td>0.968386</td>\n",
       "      <td>0.810811</td>\n",
       "    </tr>\n",
       "    <tr>\n",
       "      <th>9</th>\n",
       "      <td>0.969900</td>\n",
       "      <td>0.735294</td>\n",
       "    </tr>\n",
       "  </tbody>\n",
       "</table>\n",
       "</div>"
      ],
      "text/plain": [
       "   train_f1   test_f1\n",
       "0  0.970000  0.630137\n",
       "1  0.971808  0.696970\n",
       "2  0.976898  0.610169\n",
       "3  0.968280  0.704225\n",
       "4  0.970100  0.782609\n",
       "5  0.973510  0.685714\n",
       "6  0.968386  0.721311\n",
       "7  0.968280  0.655738\n",
       "8  0.968386  0.810811\n",
       "9  0.969900  0.735294"
      ]
     },
     "execution_count": 73,
     "metadata": {},
     "output_type": "execute_result"
    }
   ],
   "source": [
    "scores_f1 = pd.DataFrame(cv_results)[['train_f1', 'test_f1']]\n",
    "scores_f1"
   ]
  },
  {
   "cell_type": "markdown",
   "id": "24f2bc73",
   "metadata": {},
   "source": [
    "### 3. Найдите средние значения метрики accuracy на обучающих и на тестовых данных. Сравните эти значения между собой и сделайте предположение о переобученности модели. Проделайте аналогичные действия со значениями метрики F1."
   ]
  },
  {
   "cell_type": "code",
   "execution_count": 74,
   "id": "57a7866e",
   "metadata": {},
   "outputs": [
    {
     "data": {
      "text/plain": [
       "np.float64(0.9779273725797865)"
      ]
     },
     "execution_count": 74,
     "metadata": {},
     "output_type": "execute_result"
    }
   ],
   "source": [
    "scores_accuracy['train_accuracy'].mean()"
   ]
  },
  {
   "cell_type": "code",
   "execution_count": 75,
   "id": "1337aac8-9db1-4924-82ff-6aacea75273f",
   "metadata": {},
   "outputs": [
    {
     "data": {
      "text/plain": [
       "np.float64(0.9705547566874287)"
      ]
     },
     "execution_count": 75,
     "metadata": {},
     "output_type": "execute_result"
    }
   ],
   "source": [
    "scores_f1['train_f1'].mean()"
   ]
  },
  {
   "cell_type": "markdown",
   "id": "e15b31e3",
   "metadata": {},
   "source": [
    "### 4. Визуализируйте для метрик accuracy и F1 полученные результаты перекрёстной-проверки, написав функцию plot_cv_scores, которая строит значения метрик на обучающих и тестовых данных для каждого блока. Убедитесь по графикам, что имеет место переобучение, т.к. ломаные линии для обучающих и тестовых данных не пересекаются."
   ]
  },
  {
   "cell_type": "code",
   "execution_count": 76,
   "id": "2b6dc44d",
   "metadata": {},
   "outputs": [],
   "source": [
    "def plot_cv_scores(scores, scoring):\n",
    "    plt.figure(figsize = (8, 4))\n",
    "    plt.plot(scores.iloc[:,0], label = 'train', marker = '.')\n",
    "    plt.plot(scores.iloc[:,1], label = 'test', marker = '.')\n",
    "    plt.axhline(y = 1, color = 'black', ls ='dashed')\n",
    "    plt.legend()\n",
    "    plt.xlabel(\"Итерация перекрестной проверки\")\n",
    "    plt.ylabel(scoring)\n",
    "    plt.title(\"Диагностика переобучения\")\n",
    "    plt.show()"
   ]
  },
  {
   "cell_type": "code",
   "execution_count": 77,
   "id": "aff06d5b-214b-44c7-8145-cbbf94f9d31a",
   "metadata": {},
   "outputs": [
    {
     "data": {
      "image/png": "[encoded data removed]",
      "text/plain": [
       "<Figure size 800x400 with 1 Axes>"
      ]
     },
     "metadata": {},
     "output_type": "display_data"
    }
   ],
   "source": [
    "plot_cv_scores(scores_accuracy, 'accuracy')"
   ]
  },
  {
   "cell_type": "code",
   "execution_count": 78,
   "id": "184101ca-f3a0-4d86-852b-a58120fb13f7",
   "metadata": {},
   "outputs": [
    {
     "data": {
      "image/png": "[encoded data removed]",
      "text/plain": [
       "<Figure size 800x400 with 1 Axes>"
      ]
     },
     "metadata": {},
     "output_type": "display_data"
    }
   ],
   "source": [
    "plot_cv_scores(scores_f1, 'f1')"
   ]
  },
  {
   "cell_type": "markdown",
   "id": "ac47683a",
   "metadata": {},
   "source": [
    "### 5. Поборитесь с переобучением в этой задаче, для этого варьируйте значение гиперпараметра max_depth (он является параметром регуляризации для дерева решений) и постройте соответствующую ***кривую проверки***, вычислив необходимые для её построения значения при помощи функции validation_curve. Используйте метрический показатель F1. Глядя на график, определите оптимальное значение  max_depth."
   ]
  },
  {
   "cell_type": "code",
   "execution_count": 79,
   "id": "ac68a8cb",
   "metadata": {},
   "outputs": [
    {
     "data": {
      "text/plain": [
       "array([1, 2, 3, 4, 5, 6, 7, 8, 9])"
      ]
     },
     "execution_count": 79,
     "metadata": {},
     "output_type": "execute_result"
    }
   ],
   "source": [
    "max_depth = np.arange(1, 10)\n",
    "max_depth"
   ]
  },
  {
   "cell_type": "code",
   "execution_count": 80,
   "id": "c03b44d0-7369-49bd-b480-0c5027eb48ae",
   "metadata": {},
   "outputs": [],
   "source": [
    "train_scores, test_scores = validation_curve(clf, X, y, param_name = 'max_depth', param_range = max_depth, cv = 5, scoring = 'f1')"
   ]
  },
  {
   "cell_type": "code",
   "execution_count": 81,
   "id": "aafeb39a-4758-46c9-ba1e-ea994511c4d5",
   "metadata": {},
   "outputs": [
    {
     "data": {
      "text/plain": [
       "array([[0.70134875, 0.70363289, 0.70992366, 0.72556391, 0.71102662],\n",
       "       [0.65227818, 0.62034739, 0.73333333, 0.75179856, 0.71102662],\n",
       "       [0.75098814, 0.75390625, 0.7578125 , 0.75847458, 0.73477407],\n",
       "       [0.74172185, 0.77369439, 0.77165354, 0.76332623, 0.73362445],\n",
       "       [0.79766537, 0.78464819, 0.77799607, 0.79268293, 0.79607843],\n",
       "       [0.80876494, 0.80338266, 0.791423  , 0.82304527, 0.81923077],\n",
       "       [0.83299799, 0.83844581, 0.80979284, 0.85207101, 0.84086444],\n",
       "       [0.85375494, 0.84536082, 0.82061856, 0.87573964, 0.86601942],\n",
       "       [0.8875969 , 0.87550201, 0.84897959, 0.88667992, 0.87077535]])"
      ]
     },
     "execution_count": 81,
     "metadata": {},
     "output_type": "execute_result"
    }
   ],
   "source": [
    "train_scores"
   ]
  },
  {
   "cell_type": "code",
   "execution_count": 82,
   "id": "c9b7182d-bdfa-4c94-9b57-24fa819f2c83",
   "metadata": {},
   "outputs": [
    {
     "data": {
      "text/plain": [
       "array([0.71029916, 0.69375682, 0.75119111, 0.75680409, 0.7898142 ,\n",
       "       0.80916933, 0.83483442, 0.85229868, 0.87390675])"
      ]
     },
     "execution_count": 82,
     "metadata": {},
     "output_type": "execute_result"
    }
   ],
   "source": [
    "train_scores.mean(axis = 1)"
   ]
  },
  {
   "cell_type": "code",
   "execution_count": 83,
   "id": "fa5a1839-4252-4e0d-8dec-a54a8316bd9a",
   "metadata": {},
   "outputs": [],
   "source": [
    "def plot_train_test_curves(train_scores, test_scores, x):\n",
    "    plt.plot(x, train_scores.mean(axis = 1), label ='Train scores', color = 'r')\n",
    "    plt.plot(x, test_scores.mean(axis = 1), label ='Test scores', color = 'g')\n",
    "    plt.axhline(y = 1, color = 'black', ls ='dashed')\n",
    "    plt.legend()\n",
    "    "
   ]
  },
  {
   "cell_type": "code",
   "execution_count": 84,
   "id": "9f2d9b40-1288-40e4-b5e2-7137f845e3d9",
   "metadata": {},
   "outputs": [
    {
     "data": {
      "image/png": "[encoded data removed]",
      "text/plain": [
       "<Figure size 640x480 with 1 Axes>"
      ]
     },
     "metadata": {},
     "output_type": "display_data"
    }
   ],
   "source": [
    "plot_train_test_curves(train_scores, test_scores, max_depth)\n",
    "plt.title(\"Кривая проверки\")\n",
    "plt.xlabel(\"max_depth\")\n",
    "plt.ylabel(\"f1\")\n",
    "plt.show()"
   ]
  },
  {
   "cell_type": "markdown",
   "id": "a06d17bb-cef0-4f72-8bf8-0d5530c7661b",
   "metadata": {},
   "source": [
    "max_depth = 5\n"
   ]
  },
  {
   "cell_type": "markdown",
   "id": "251aa0d8",
   "metadata": {},
   "source": [
    "### 6. Сделайте 10-блочную перекрёстную проверку (кросс-валидацию) модели DecisionTreeClassifier с random_state=3 и найденным оптимальным значением max_depth, используя библиотечную функцию cross_validate. Результаты выведите в виде двух датафреймов, оставив в первом только два столбца со значениями метрики accuracy на обучающих и тестовых данных, а во втором со значениями метрики F1. Найдите средние значения метрик accuracy и F1 на обучающих и на тестовых данных. "
   ]
  },
  {
   "cell_type": "code",
   "execution_count": 85,
   "id": "d0f277fa",
   "metadata": {},
   "outputs": [
    {
     "data": {
      "text/html": [
       "<div>\n",
       "<style scoped>\n",
       "    .dataframe tbody tr th:only-of-type {\n",
       "        vertical-align: middle;\n",
       "    }\n",
       "\n",
       "    .dataframe tbody tr th {\n",
       "        vertical-align: top;\n",
       "    }\n",
       "\n",
       "    .dataframe thead th {\n",
       "        text-align: right;\n",
       "    }\n",
       "</style>\n",
       "<table border=\"1\" class=\"dataframe\">\n",
       "  <thead>\n",
       "    <tr style=\"text-align: right;\">\n",
       "      <th></th>\n",
       "      <th>fit_time</th>\n",
       "      <th>score_time</th>\n",
       "      <th>test_accuracy</th>\n",
       "      <th>train_accuracy</th>\n",
       "      <th>test_f1</th>\n",
       "      <th>train_f1</th>\n",
       "    </tr>\n",
       "  </thead>\n",
       "  <tbody>\n",
       "    <tr>\n",
       "      <th>0</th>\n",
       "      <td>0.003549</td>\n",
       "      <td>0.004201</td>\n",
       "      <td>0.722222</td>\n",
       "      <td>0.865169</td>\n",
       "      <td>0.603175</td>\n",
       "      <td>0.803636</td>\n",
       "    </tr>\n",
       "    <tr>\n",
       "      <th>1</th>\n",
       "      <td>0.002317</td>\n",
       "      <td>0.003701</td>\n",
       "      <td>0.797753</td>\n",
       "      <td>0.850374</td>\n",
       "      <td>0.689655</td>\n",
       "      <td>0.776119</td>\n",
       "    </tr>\n",
       "    <tr>\n",
       "      <th>2</th>\n",
       "      <td>0.003009</td>\n",
       "      <td>0.003980</td>\n",
       "      <td>0.786517</td>\n",
       "      <td>0.856608</td>\n",
       "      <td>0.688525</td>\n",
       "      <td>0.805415</td>\n",
       "    </tr>\n",
       "    <tr>\n",
       "      <th>3</th>\n",
       "      <td>0.004254</td>\n",
       "      <td>0.004208</td>\n",
       "      <td>0.797753</td>\n",
       "      <td>0.855362</td>\n",
       "      <td>0.750000</td>\n",
       "      <td>0.790614</td>\n",
       "    </tr>\n",
       "    <tr>\n",
       "      <th>4</th>\n",
       "      <td>0.003292</td>\n",
       "      <td>0.004779</td>\n",
       "      <td>0.842697</td>\n",
       "      <td>0.845387</td>\n",
       "      <td>0.794118</td>\n",
       "      <td>0.785467</td>\n",
       "    </tr>\n",
       "    <tr>\n",
       "      <th>5</th>\n",
       "      <td>0.004550</td>\n",
       "      <td>0.005725</td>\n",
       "      <td>0.797753</td>\n",
       "      <td>0.847880</td>\n",
       "      <td>0.709677</td>\n",
       "      <td>0.790378</td>\n",
       "    </tr>\n",
       "    <tr>\n",
       "      <th>6</th>\n",
       "      <td>0.002916</td>\n",
       "      <td>0.004971</td>\n",
       "      <td>0.786517</td>\n",
       "      <td>0.846633</td>\n",
       "      <td>0.677966</td>\n",
       "      <td>0.789744</td>\n",
       "    </tr>\n",
       "    <tr>\n",
       "      <th>7</th>\n",
       "      <td>0.005537</td>\n",
       "      <td>0.004073</td>\n",
       "      <td>0.786517</td>\n",
       "      <td>0.869077</td>\n",
       "      <td>0.666667</td>\n",
       "      <td>0.816112</td>\n",
       "    </tr>\n",
       "    <tr>\n",
       "      <th>8</th>\n",
       "      <td>0.003084</td>\n",
       "      <td>0.003845</td>\n",
       "      <td>0.876404</td>\n",
       "      <td>0.844140</td>\n",
       "      <td>0.830769</td>\n",
       "      <td>0.785592</td>\n",
       "    </tr>\n",
       "    <tr>\n",
       "      <th>9</th>\n",
       "      <td>0.004599</td>\n",
       "      <td>0.003909</td>\n",
       "      <td>0.820225</td>\n",
       "      <td>0.851621</td>\n",
       "      <td>0.771429</td>\n",
       "      <td>0.797963</td>\n",
       "    </tr>\n",
       "  </tbody>\n",
       "</table>\n",
       "</div>"
      ],
      "text/plain": [
       "   fit_time  score_time  test_accuracy  train_accuracy   test_f1  train_f1\n",
       "0  0.003549    0.004201       0.722222        0.865169  0.603175  0.803636\n",
       "1  0.002317    0.003701       0.797753        0.850374  0.689655  0.776119\n",
       "2  0.003009    0.003980       0.786517        0.856608  0.688525  0.805415\n",
       "3  0.004254    0.004208       0.797753        0.855362  0.750000  0.790614\n",
       "4  0.003292    0.004779       0.842697        0.845387  0.794118  0.785467\n",
       "5  0.004550    0.005725       0.797753        0.847880  0.709677  0.790378\n",
       "6  0.002916    0.004971       0.786517        0.846633  0.677966  0.789744\n",
       "7  0.005537    0.004073       0.786517        0.869077  0.666667  0.816112\n",
       "8  0.003084    0.003845       0.876404        0.844140  0.830769  0.785592\n",
       "9  0.004599    0.003909       0.820225        0.851621  0.771429  0.797963"
      ]
     },
     "execution_count": 85,
     "metadata": {},
     "output_type": "execute_result"
    }
   ],
   "source": [
    "clf_opt = DecisionTreeClassifier(random_state=3, max_depth = 5)\n",
    "cv_results = cross_validate(clf_opt, X, y, cv = 10, scoring = ['accuracy', 'f1'], return_train_score = True)\n",
    "pd.DataFrame(cv_results)\n"
   ]
  },
  {
   "cell_type": "code",
   "execution_count": 86,
   "id": "0dcd7612-f327-496b-9792-62c60654a547",
   "metadata": {},
   "outputs": [
    {
     "data": {
      "text/html": [
       "<div>\n",
       "<style scoped>\n",
       "    .dataframe tbody tr th:only-of-type {\n",
       "        vertical-align: middle;\n",
       "    }\n",
       "\n",
       "    .dataframe tbody tr th {\n",
       "        vertical-align: top;\n",
       "    }\n",
       "\n",
       "    .dataframe thead th {\n",
       "        text-align: right;\n",
       "    }\n",
       "</style>\n",
       "<table border=\"1\" class=\"dataframe\">\n",
       "  <thead>\n",
       "    <tr style=\"text-align: right;\">\n",
       "      <th></th>\n",
       "      <th>train_accuracy</th>\n",
       "      <th>test_accuracy</th>\n",
       "    </tr>\n",
       "  </thead>\n",
       "  <tbody>\n",
       "    <tr>\n",
       "      <th>0</th>\n",
       "      <td>0.865169</td>\n",
       "      <td>0.722222</td>\n",
       "    </tr>\n",
       "    <tr>\n",
       "      <th>1</th>\n",
       "      <td>0.850374</td>\n",
       "      <td>0.797753</td>\n",
       "    </tr>\n",
       "    <tr>\n",
       "      <th>2</th>\n",
       "      <td>0.856608</td>\n",
       "      <td>0.786517</td>\n",
       "    </tr>\n",
       "    <tr>\n",
       "      <th>3</th>\n",
       "      <td>0.855362</td>\n",
       "      <td>0.797753</td>\n",
       "    </tr>\n",
       "    <tr>\n",
       "      <th>4</th>\n",
       "      <td>0.845387</td>\n",
       "      <td>0.842697</td>\n",
       "    </tr>\n",
       "    <tr>\n",
       "      <th>5</th>\n",
       "      <td>0.847880</td>\n",
       "      <td>0.797753</td>\n",
       "    </tr>\n",
       "    <tr>\n",
       "      <th>6</th>\n",
       "      <td>0.846633</td>\n",
       "      <td>0.786517</td>\n",
       "    </tr>\n",
       "    <tr>\n",
       "      <th>7</th>\n",
       "      <td>0.869077</td>\n",
       "      <td>0.786517</td>\n",
       "    </tr>\n",
       "    <tr>\n",
       "      <th>8</th>\n",
       "      <td>0.844140</td>\n",
       "      <td>0.876404</td>\n",
       "    </tr>\n",
       "    <tr>\n",
       "      <th>9</th>\n",
       "      <td>0.851621</td>\n",
       "      <td>0.820225</td>\n",
       "    </tr>\n",
       "  </tbody>\n",
       "</table>\n",
       "</div>"
      ],
      "text/plain": [
       "   train_accuracy  test_accuracy\n",
       "0        0.865169       0.722222\n",
       "1        0.850374       0.797753\n",
       "2        0.856608       0.786517\n",
       "3        0.855362       0.797753\n",
       "4        0.845387       0.842697\n",
       "5        0.847880       0.797753\n",
       "6        0.846633       0.786517\n",
       "7        0.869077       0.786517\n",
       "8        0.844140       0.876404\n",
       "9        0.851621       0.820225"
      ]
     },
     "execution_count": 86,
     "metadata": {},
     "output_type": "execute_result"
    }
   ],
   "source": [
    "scores_accuracy = pd.DataFrame(cv_results)[['train_accuracy', 'test_accuracy']]\n",
    "scores_accuracy"
   ]
  },
  {
   "cell_type": "code",
   "execution_count": 87,
   "id": "4e9fb4da-f177-4093-b89a-a2f5602573b2",
   "metadata": {},
   "outputs": [
    {
     "data": {
      "text/html": [
       "<div>\n",
       "<style scoped>\n",
       "    .dataframe tbody tr th:only-of-type {\n",
       "        vertical-align: middle;\n",
       "    }\n",
       "\n",
       "    .dataframe tbody tr th {\n",
       "        vertical-align: top;\n",
       "    }\n",
       "\n",
       "    .dataframe thead th {\n",
       "        text-align: right;\n",
       "    }\n",
       "</style>\n",
       "<table border=\"1\" class=\"dataframe\">\n",
       "  <thead>\n",
       "    <tr style=\"text-align: right;\">\n",
       "      <th></th>\n",
       "      <th>train_f1</th>\n",
       "      <th>test_f1</th>\n",
       "    </tr>\n",
       "  </thead>\n",
       "  <tbody>\n",
       "    <tr>\n",
       "      <th>0</th>\n",
       "      <td>0.803636</td>\n",
       "      <td>0.603175</td>\n",
       "    </tr>\n",
       "    <tr>\n",
       "      <th>1</th>\n",
       "      <td>0.776119</td>\n",
       "      <td>0.689655</td>\n",
       "    </tr>\n",
       "    <tr>\n",
       "      <th>2</th>\n",
       "      <td>0.805415</td>\n",
       "      <td>0.688525</td>\n",
       "    </tr>\n",
       "    <tr>\n",
       "      <th>3</th>\n",
       "      <td>0.790614</td>\n",
       "      <td>0.750000</td>\n",
       "    </tr>\n",
       "    <tr>\n",
       "      <th>4</th>\n",
       "      <td>0.785467</td>\n",
       "      <td>0.794118</td>\n",
       "    </tr>\n",
       "    <tr>\n",
       "      <th>5</th>\n",
       "      <td>0.790378</td>\n",
       "      <td>0.709677</td>\n",
       "    </tr>\n",
       "    <tr>\n",
       "      <th>6</th>\n",
       "      <td>0.789744</td>\n",
       "      <td>0.677966</td>\n",
       "    </tr>\n",
       "    <tr>\n",
       "      <th>7</th>\n",
       "      <td>0.816112</td>\n",
       "      <td>0.666667</td>\n",
       "    </tr>\n",
       "    <tr>\n",
       "      <th>8</th>\n",
       "      <td>0.785592</td>\n",
       "      <td>0.830769</td>\n",
       "    </tr>\n",
       "    <tr>\n",
       "      <th>9</th>\n",
       "      <td>0.797963</td>\n",
       "      <td>0.771429</td>\n",
       "    </tr>\n",
       "  </tbody>\n",
       "</table>\n",
       "</div>"
      ],
      "text/plain": [
       "   train_f1   test_f1\n",
       "0  0.803636  0.603175\n",
       "1  0.776119  0.689655\n",
       "2  0.805415  0.688525\n",
       "3  0.790614  0.750000\n",
       "4  0.785467  0.794118\n",
       "5  0.790378  0.709677\n",
       "6  0.789744  0.677966\n",
       "7  0.816112  0.666667\n",
       "8  0.785592  0.830769\n",
       "9  0.797963  0.771429"
      ]
     },
     "execution_count": 87,
     "metadata": {},
     "output_type": "execute_result"
    }
   ],
   "source": [
    "scores_f1 = pd.DataFrame(cv_results)[['train_f1', 'test_f1']]\n",
    "scores_f1"
   ]
  },
  {
   "cell_type": "code",
   "execution_count": 88,
   "id": "c05d8b44-0004-4138-88aa-0684926ac0a3",
   "metadata": {},
   "outputs": [
    {
     "data": {
      "text/plain": [
       "train_accuracy    0.853225\n",
       "test_accuracy     0.801436\n",
       "dtype: float64"
      ]
     },
     "execution_count": 88,
     "metadata": {},
     "output_type": "execute_result"
    }
   ],
   "source": [
    "scores_accuracy.mean()"
   ]
  },
  {
   "cell_type": "code",
   "execution_count": 89,
   "id": "e1053f66-fb72-4ce2-8f61-997b428eacee",
   "metadata": {},
   "outputs": [
    {
     "data": {
      "text/plain": [
       "train_f1    0.794104\n",
       "test_f1     0.718198\n",
       "dtype: float64"
      ]
     },
     "execution_count": 89,
     "metadata": {},
     "output_type": "execute_result"
    }
   ],
   "source": [
    "scores_f1.mean()"
   ]
  },
  {
   "cell_type": "markdown",
   "id": "2231d36b",
   "metadata": {},
   "source": [
    "### 7. Убедитесь, что переобучение больше нет, построив соответствующие графики при помощи функции plot_cv_scores."
   ]
  },
  {
   "cell_type": "code",
   "execution_count": 90,
   "id": "f84a40bb",
   "metadata": {},
   "outputs": [
    {
     "data": {
      "image/png": "[encoded data removed]",
      "text/plain": [
       "<Figure size 800x400 with 1 Axes>"
      ]
     },
     "metadata": {},
     "output_type": "display_data"
    }
   ],
   "source": [
    "plot_cv_scores(scores_accuracy, 'accuracy')"
   ]
  },
  {
   "cell_type": "code",
   "execution_count": 91,
   "id": "3aeb5619-bb65-4dc6-bd5f-1f564162f715",
   "metadata": {},
   "outputs": [
    {
     "data": {
      "image/png": "[encoded data removed]",
      "text/plain": [
       "<Figure size 800x400 with 1 Axes>"
      ]
     },
     "metadata": {},
     "output_type": "display_data"
    }
   ],
   "source": [
    "plot_cv_scores(scores_f1, 'f1')"
   ]
  },
  {
   "cell_type": "markdown",
   "id": "13d4adae",
   "metadata": {},
   "source": [
    "### 8. Постройте ***кривую заучивания***, вычислив необходимые для её построения значения при помощи функции learning_curve. Используйте метрический показатель F1. Глядя на график, сделайте вывод о том, может ли помочь в борьбе с переобучением добавление новых данных."
   ]
  },
  {
   "cell_type": "code",
   "execution_count": 92,
   "id": "c15b291d",
   "metadata": {},
   "outputs": [
    {
     "data": {
      "text/plain": [
       "array([0.01      , 0.03020408, 0.05040816, 0.07061224, 0.09081633,\n",
       "       0.11102041, 0.13122449, 0.15142857, 0.17163265, 0.19183673,\n",
       "       0.21204082, 0.2322449 , 0.25244898, 0.27265306, 0.29285714,\n",
       "       0.31306122, 0.33326531, 0.35346939, 0.37367347, 0.39387755,\n",
       "       0.41408163, 0.43428571, 0.4544898 , 0.47469388, 0.49489796,\n",
       "       0.51510204, 0.53530612, 0.5555102 , 0.57571429, 0.59591837,\n",
       "       0.61612245, 0.63632653, 0.65653061, 0.67673469, 0.69693878,\n",
       "       0.71714286, 0.73734694, 0.75755102, 0.7777551 , 0.79795918,\n",
       "       0.81816327, 0.83836735, 0.85857143, 0.87877551, 0.89897959,\n",
       "       0.91918367, 0.93938776, 0.95959184, 0.97979592, 1.        ])"
      ]
     },
     "execution_count": 92,
     "metadata": {},
     "output_type": "execute_result"
    }
   ],
   "source": [
    "train_size = np.linspace (0.01, 1.0, 50)\n",
    "train_size"
   ]
  },
  {
   "cell_type": "code",
   "execution_count": 93,
   "id": "3ec75873-771f-49d4-9e15-1e439305330d",
   "metadata": {},
   "outputs": [
    {
     "data": {
      "text/plain": [
       "array([  8,  24,  40,  56,  72,  88, 105, 121, 137, 153, 169, 186, 202,\n",
       "       218, 234, 250, 266, 283, 299, 315, 331, 347, 364, 380, 396, 412,\n",
       "       428, 444, 461, 477, 493, 509, 525, 542, 558, 574, 590, 606, 622,\n",
       "       639, 655, 671, 687, 703, 720, 736, 752, 768, 784, 801])"
      ]
     },
     "execution_count": 93,
     "metadata": {},
     "output_type": "execute_result"
    }
   ],
   "source": [
    "train_sizes, train_scores, test_scores = learning_curve(clf_opt, X, y, train_sizes = train_size, cv = 10, scoring = 'f1')\n",
    "train_sizes"
   ]
  },
  {
   "cell_type": "code",
   "execution_count": 94,
   "id": "3c5bd29d-8034-4150-b8fe-6fcdd4e80825",
   "metadata": {},
   "outputs": [
    {
     "data": {
      "image/png": "[encoded data removed]",
      "text/plain": [
       "<Figure size 640x480 with 1 Axes>"
      ]
     },
     "metadata": {},
     "output_type": "display_data"
    }
   ],
   "source": [
    "plot_train_test_curves(train_scores, test_scores, train_sizes)\n",
    "plt.title(\"Кривая заучивания\")\n",
    "plt.xlabel(\"max_depth\")\n",
    "plt.ylabel(\"f1\")\n",
    "plt.show()"
   ]
  },
  {
   "cell_type": "markdown",
   "id": "6bb34dc9",
   "metadata": {},
   "source": [
    "## Задания для самостоятельного выполнения\n"
   ]
  },
  {
   "cell_type": "markdown",
   "id": "308968e4",
   "metadata": {},
   "source": [
    "1. Загрузите датасет `boston.csv` и выведите первые 5 строк. Отдедите целевую переменную 'MEDV' и обозначьте данные за `X`, а целевую переменную за `y`. Выведите их размеры."
   ]
  },
  {
   "cell_type": "code",
   "execution_count": 95,
   "id": "6c63e4e6",
   "metadata": {},
   "outputs": [
    {
     "data": {
      "text/html": [
       "<div>\n",
       "<style scoped>\n",
       "    .dataframe tbody tr th:only-of-type {\n",
       "        vertical-align: middle;\n",
       "    }\n",
       "\n",
       "    .dataframe tbody tr th {\n",
       "        vertical-align: top;\n",
       "    }\n",
       "\n",
       "    .dataframe thead th {\n",
       "        text-align: right;\n",
       "    }\n",
       "</style>\n",
       "<table border=\"1\" class=\"dataframe\">\n",
       "  <thead>\n",
       "    <tr style=\"text-align: right;\">\n",
       "      <th></th>\n",
       "      <th>CRIM</th>\n",
       "      <th>ZN</th>\n",
       "      <th>INDUS</th>\n",
       "      <th>CHAS</th>\n",
       "      <th>NOX</th>\n",
       "      <th>RM</th>\n",
       "      <th>AGE</th>\n",
       "      <th>DIS</th>\n",
       "      <th>RAD</th>\n",
       "      <th>TAX</th>\n",
       "      <th>PTRATIO</th>\n",
       "      <th>B</th>\n",
       "      <th>LSTAT</th>\n",
       "      <th>MEDV</th>\n",
       "    </tr>\n",
       "  </thead>\n",
       "  <tbody>\n",
       "    <tr>\n",
       "      <th>0</th>\n",
       "      <td>0.00632</td>\n",
       "      <td>18.0</td>\n",
       "      <td>2.31</td>\n",
       "      <td>0.0</td>\n",
       "      <td>0.538</td>\n",
       "      <td>6.575</td>\n",
       "      <td>65.2</td>\n",
       "      <td>4.0900</td>\n",
       "      <td>1.0</td>\n",
       "      <td>296.0</td>\n",
       "      <td>15.3</td>\n",
       "      <td>396.90</td>\n",
       "      <td>4.98</td>\n",
       "      <td>24.0</td>\n",
       "    </tr>\n",
       "    <tr>\n",
       "      <th>1</th>\n",
       "      <td>0.02731</td>\n",
       "      <td>0.0</td>\n",
       "      <td>7.07</td>\n",
       "      <td>0.0</td>\n",
       "      <td>0.469</td>\n",
       "      <td>6.421</td>\n",
       "      <td>78.9</td>\n",
       "      <td>4.9671</td>\n",
       "      <td>2.0</td>\n",
       "      <td>242.0</td>\n",
       "      <td>17.8</td>\n",
       "      <td>396.90</td>\n",
       "      <td>9.14</td>\n",
       "      <td>21.6</td>\n",
       "    </tr>\n",
       "    <tr>\n",
       "      <th>2</th>\n",
       "      <td>0.02729</td>\n",
       "      <td>0.0</td>\n",
       "      <td>7.07</td>\n",
       "      <td>0.0</td>\n",
       "      <td>0.469</td>\n",
       "      <td>7.185</td>\n",
       "      <td>61.1</td>\n",
       "      <td>4.9671</td>\n",
       "      <td>2.0</td>\n",
       "      <td>242.0</td>\n",
       "      <td>17.8</td>\n",
       "      <td>392.83</td>\n",
       "      <td>4.03</td>\n",
       "      <td>34.7</td>\n",
       "    </tr>\n",
       "    <tr>\n",
       "      <th>3</th>\n",
       "      <td>0.03237</td>\n",
       "      <td>0.0</td>\n",
       "      <td>2.18</td>\n",
       "      <td>0.0</td>\n",
       "      <td>0.458</td>\n",
       "      <td>6.998</td>\n",
       "      <td>45.8</td>\n",
       "      <td>6.0622</td>\n",
       "      <td>3.0</td>\n",
       "      <td>222.0</td>\n",
       "      <td>18.7</td>\n",
       "      <td>394.63</td>\n",
       "      <td>2.94</td>\n",
       "      <td>33.4</td>\n",
       "    </tr>\n",
       "    <tr>\n",
       "      <th>4</th>\n",
       "      <td>0.06905</td>\n",
       "      <td>0.0</td>\n",
       "      <td>2.18</td>\n",
       "      <td>0.0</td>\n",
       "      <td>0.458</td>\n",
       "      <td>7.147</td>\n",
       "      <td>54.2</td>\n",
       "      <td>6.0622</td>\n",
       "      <td>3.0</td>\n",
       "      <td>222.0</td>\n",
       "      <td>18.7</td>\n",
       "      <td>396.90</td>\n",
       "      <td>5.33</td>\n",
       "      <td>36.2</td>\n",
       "    </tr>\n",
       "  </tbody>\n",
       "</table>\n",
       "</div>"
      ],
      "text/plain": [
       "      CRIM    ZN  INDUS  CHAS    NOX     RM   AGE     DIS  RAD    TAX  \\\n",
       "0  0.00632  18.0   2.31   0.0  0.538  6.575  65.2  4.0900  1.0  296.0   \n",
       "1  0.02731   0.0   7.07   0.0  0.469  6.421  78.9  4.9671  2.0  242.0   \n",
       "2  0.02729   0.0   7.07   0.0  0.469  7.185  61.1  4.9671  2.0  242.0   \n",
       "3  0.03237   0.0   2.18   0.0  0.458  6.998  45.8  6.0622  3.0  222.0   \n",
       "4  0.06905   0.0   2.18   0.0  0.458  7.147  54.2  6.0622  3.0  222.0   \n",
       "\n",
       "   PTRATIO       B  LSTAT  MEDV  \n",
       "0     15.3  396.90   4.98  24.0  \n",
       "1     17.8  396.90   9.14  21.6  \n",
       "2     17.8  392.83   4.03  34.7  \n",
       "3     18.7  394.63   2.94  33.4  \n",
       "4     18.7  396.90   5.33  36.2  "
      ]
     },
     "execution_count": 95,
     "metadata": {},
     "output_type": "execute_result"
    }
   ],
   "source": [
    "df = pd.read_csv('boston.csv')\n",
    "df.head(5)"
   ]
  },
  {
   "cell_type": "code",
   "execution_count": 96,
   "id": "ba6711d6",
   "metadata": {},
   "outputs": [
    {
     "data": {
      "text/plain": [
       "((506, 13), (506,))"
      ]
     },
     "execution_count": 96,
     "metadata": {},
     "output_type": "execute_result"
    }
   ],
   "source": [
    "X = df.drop('MEDV', axis=1)  # Все столбцы кроме 'MEDV'\n",
    "y = df['MEDV']\n",
    "X.shape, y.shape"
   ]
  },
  {
   "cell_type": "markdown",
   "id": "bd8d2fcf",
   "metadata": {},
   "source": [
    "\n",
    "2. Убедитесь, что решается задача регрессии, для этого выведите количество уникальных значений целевой переменной и сравните его с общим количеством наблюдений."
   ]
  },
  {
   "cell_type": "code",
   "execution_count": 97,
   "id": "3b338c1f",
   "metadata": {},
   "outputs": [
    {
     "data": {
      "text/plain": [
       "(229, 506)"
      ]
     },
     "execution_count": 97,
     "metadata": {},
     "output_type": "execute_result"
    }
   ],
   "source": [
    "y.nunique(), len(y)"
   ]
  },
  {
   "cell_type": "markdown",
   "id": "7ad39286",
   "metadata": {},
   "source": [
    "3. Сделайте 7-блочную перекрёстную проверку (кросс-валидацию) модели DecisionTreeRegressor(random_state=0) с вычислением метрики neg_mean_squared_error, используя библиотечную функцию cross_validate. Установите значение параметра return_train_score этой функции True для того, чтобы выводились значения метрик не только на тестовых данных, но и на обучающих тоже. Результаты выведите в виде датафрейма, оставив только два столбца со значениями метрики на обучающих и тестовых данных, но заменив знак каждого значения на противоположный, чтобы вместо метрики neg_mean_squared_error, получалась метрика mean_squared_error."
   ]
  },
  {
   "cell_type": "code",
   "execution_count": 98,
   "id": "193b0c19",
   "metadata": {},
   "outputs": [
    {
     "data": {
      "text/html": [
       "<div>\n",
       "<style scoped>\n",
       "    .dataframe tbody tr th:only-of-type {\n",
       "        vertical-align: middle;\n",
       "    }\n",
       "\n",
       "    .dataframe tbody tr th {\n",
       "        vertical-align: top;\n",
       "    }\n",
       "\n",
       "    .dataframe thead th {\n",
       "        text-align: right;\n",
       "    }\n",
       "</style>\n",
       "<table border=\"1\" class=\"dataframe\">\n",
       "  <thead>\n",
       "    <tr style=\"text-align: right;\">\n",
       "      <th></th>\n",
       "      <th>train_score</th>\n",
       "      <th>test_score</th>\n",
       "    </tr>\n",
       "  </thead>\n",
       "  <tbody>\n",
       "    <tr>\n",
       "      <th>0</th>\n",
       "      <td>0.0</td>\n",
       "      <td>12.563014</td>\n",
       "    </tr>\n",
       "    <tr>\n",
       "      <th>1</th>\n",
       "      <td>0.0</td>\n",
       "      <td>13.159315</td>\n",
       "    </tr>\n",
       "    <tr>\n",
       "      <th>2</th>\n",
       "      <td>0.0</td>\n",
       "      <td>72.171806</td>\n",
       "    </tr>\n",
       "    <tr>\n",
       "      <th>3</th>\n",
       "      <td>0.0</td>\n",
       "      <td>31.916250</td>\n",
       "    </tr>\n",
       "    <tr>\n",
       "      <th>4</th>\n",
       "      <td>0.0</td>\n",
       "      <td>10.841250</td>\n",
       "    </tr>\n",
       "    <tr>\n",
       "      <th>5</th>\n",
       "      <td>0.0</td>\n",
       "      <td>96.612222</td>\n",
       "    </tr>\n",
       "    <tr>\n",
       "      <th>6</th>\n",
       "      <td>0.0</td>\n",
       "      <td>16.670278</td>\n",
       "    </tr>\n",
       "  </tbody>\n",
       "</table>\n",
       "</div>"
      ],
      "text/plain": [
       "   train_score  test_score\n",
       "0          0.0   12.563014\n",
       "1          0.0   13.159315\n",
       "2          0.0   72.171806\n",
       "3          0.0   31.916250\n",
       "4          0.0   10.841250\n",
       "5          0.0   96.612222\n",
       "6          0.0   16.670278"
      ]
     },
     "execution_count": 98,
     "metadata": {},
     "output_type": "execute_result"
    }
   ],
   "source": [
    "model = DecisionTreeRegressor(random_state=0)\n",
    "cv_results = cross_validate(\n",
    "    model, X, y, cv=7, scoring='neg_mean_squared_error', return_train_score=True\n",
    ")\n",
    "results_df = pd.DataFrame(cv_results)\n",
    "results_df = results_df[['train_score', 'test_score']]\n",
    "results_df = -results_df\n",
    "results_df"
   ]
  },
  {
   "cell_type": "markdown",
   "id": "9094f952",
   "metadata": {},
   "source": [
    "4. Найдите средние значения метрики mean_squared_error на обучающих и на тестовых данных. Сравните эти значения между собой и сделайте предположение о переобученности модели. "
   ]
  },
  {
   "cell_type": "code",
   "execution_count": 99,
   "id": "0d927983",
   "metadata": {},
   "outputs": [
    {
     "data": {
      "text/plain": [
       "(np.float64(0.0), np.float64(36.27630490323984))"
      ]
     },
     "execution_count": 99,
     "metadata": {},
     "output_type": "execute_result"
    }
   ],
   "source": [
    "mean_train_mse = results_df['train_score'].mean()\n",
    "mean_test_mse = results_df['test_score'].mean()\n",
    "mean_train_mse, mean_test_mse"
   ]
  },
  {
   "cell_type": "markdown",
   "id": "47b80f6a",
   "metadata": {},
   "source": [
    "5. Визуализируйте для метрики mean_squared_error полученные результаты перекрёстной-проверки, используя функцию plot_cv_scores. Убедитесь по графикам, что имеет место переобучение, т.к. ломаные линии для обучающих и тестовых данных не пересекаются. "
   ]
  },
  {
   "cell_type": "code",
   "execution_count": 100,
   "id": "04c31885",
   "metadata": {},
   "outputs": [
    {
     "data": {
      "image/png": "[encoded data removed]",
      "text/plain": [
       "<Figure size 800x400 with 1 Axes>"
      ]
     },
     "metadata": {},
     "output_type": "display_data"
    }
   ],
   "source": [
    "plot_cv_scores(results_df, 'mse')"
   ]
  },
  {
   "cell_type": "markdown",
   "id": "ff81feb1",
   "metadata": {},
   "source": [
    "6. Поборитесь с переобучением, для этого варьируйте значение гиперпараметра max_depth = [1, 2, 3, 4, 5, 6]  и постройте соответствующую ***кривую проверки***, вычислив необходимые для её построения значения при помощи функции validation_curve. Используйте метрический показатель neg_mean_squared_error. Глядя на график, определите оптимальное значение  max_depth."
   ]
  },
  {
   "cell_type": "code",
   "execution_count": 101,
   "id": "7561cfe6",
   "metadata": {},
   "outputs": [
    {
     "data": {
      "text/plain": [
       "array([1, 2, 3, 4, 5, 6])"
      ]
     },
     "execution_count": 101,
     "metadata": {},
     "output_type": "execute_result"
    }
   ],
   "source": [
    "max_depth = np.arange(1,7)\n",
    "max_depth"
   ]
  },
  {
   "cell_type": "code",
   "execution_count": 102,
   "id": "422b7465",
   "metadata": {},
   "outputs": [],
   "source": [
    "train_scores, test_scores = validation_curve(model, X, y, param_name = 'max_depth', param_range = max_depth, cv = 7, scoring = 'neg_mean_squared_error')\n",
    "train_scores = -train_scores\n",
    "test_scores = -test_scores"
   ]
  },
  {
   "cell_type": "code",
   "execution_count": 103,
   "id": "12c3c55a",
   "metadata": {},
   "outputs": [
    {
     "data": {
      "image/png": "[encoded data removed]",
      "text/plain": [
       "<Figure size 640x480 with 1 Axes>"
      ]
     },
     "metadata": {},
     "output_type": "display_data"
    }
   ],
   "source": [
    "plot_train_test_curves(train_scores, test_scores, max_depth)\n",
    "plt.title(\"Кривая проверки\")\n",
    "plt.xlabel(\"max_depth\")\n",
    "plt.ylabel(\"mse\")\n",
    "plt.show()"
   ]
  },
  {
   "cell_type": "markdown",
   "id": "117fa033",
   "metadata": {},
   "source": [
    "7. Сделайте 7-блочную перекрёстную проверку (кросс-валидацию) модели DecisionTreeClassifier с random_state=0 и найденным оптимальным значением max_depth, используя библиотечную функцию cross_validate. Результаты выведите в виде датафрейма, оставив только два столбца со значениями метрики на обучающих и тестовых данных, заменив их знаки. Найдите среднее значение метрики mean_squared_error на обучающих и на тестовых данных. "
   ]
  },
  {
   "cell_type": "code",
   "execution_count": 116,
   "id": "4a16cfce",
   "metadata": {},
   "outputs": [
    {
     "data": {
      "text/html": [
       "<div>\n",
       "<style scoped>\n",
       "    .dataframe tbody tr th:only-of-type {\n",
       "        vertical-align: middle;\n",
       "    }\n",
       "\n",
       "    .dataframe tbody tr th {\n",
       "        vertical-align: top;\n",
       "    }\n",
       "\n",
       "    .dataframe thead th {\n",
       "        text-align: right;\n",
       "    }\n",
       "</style>\n",
       "<table border=\"1\" class=\"dataframe\">\n",
       "  <thead>\n",
       "    <tr style=\"text-align: right;\">\n",
       "      <th></th>\n",
       "      <th>train_score</th>\n",
       "      <th>test_score</th>\n",
       "    </tr>\n",
       "  </thead>\n",
       "  <tbody>\n",
       "    <tr>\n",
       "      <th>0</th>\n",
       "      <td>9.539601</td>\n",
       "      <td>12.899315</td>\n",
       "    </tr>\n",
       "    <tr>\n",
       "      <th>1</th>\n",
       "      <td>9.629274</td>\n",
       "      <td>6.855621</td>\n",
       "    </tr>\n",
       "    <tr>\n",
       "      <th>2</th>\n",
       "      <td>7.968420</td>\n",
       "      <td>46.124992</td>\n",
       "    </tr>\n",
       "    <tr>\n",
       "      <th>3</th>\n",
       "      <td>9.022595</td>\n",
       "      <td>36.159002</td>\n",
       "    </tr>\n",
       "    <tr>\n",
       "      <th>4</th>\n",
       "      <td>9.992385</td>\n",
       "      <td>11.581104</td>\n",
       "    </tr>\n",
       "    <tr>\n",
       "      <th>5</th>\n",
       "      <td>7.021039</td>\n",
       "      <td>79.936812</td>\n",
       "    </tr>\n",
       "    <tr>\n",
       "      <th>6</th>\n",
       "      <td>9.369718</td>\n",
       "      <td>35.646482</td>\n",
       "    </tr>\n",
       "  </tbody>\n",
       "</table>\n",
       "</div>"
      ],
      "text/plain": [
       "   train_score  test_score\n",
       "0     9.539601   12.899315\n",
       "1     9.629274    6.855621\n",
       "2     7.968420   46.124992\n",
       "3     9.022595   36.159002\n",
       "4     9.992385   11.581104\n",
       "5     7.021039   79.936812\n",
       "6     9.369718   35.646482"
      ]
     },
     "execution_count": 116,
     "metadata": {},
     "output_type": "execute_result"
    }
   ],
   "source": [
    "model_opt = DecisionTreeRegressor(random_state=0, max_depth=4)\n",
    "cv_results = cross_validate(\n",
    "    model_opt, X, y, cv=7, scoring='neg_mean_squared_error', return_train_score=True\n",
    ")\n",
    "results_df = pd.DataFrame(cv_results)\n",
    "results_df = results_df[['train_score', 'test_score']]\n",
    "results_df = -results_df\n",
    "results_df"
   ]
  },
  {
   "cell_type": "code",
   "execution_count": 117,
   "id": "29be5092",
   "metadata": {},
   "outputs": [
    {
     "data": {
      "text/plain": [
       "(np.float64(8.934719023793884), np.float64(32.74333252875279))"
      ]
     },
     "execution_count": 117,
     "metadata": {},
     "output_type": "execute_result"
    }
   ],
   "source": [
    "results_df['train_score'].mean(), results_df['test_score'].mean()"
   ]
  },
  {
   "cell_type": "markdown",
   "id": "926b5403",
   "metadata": {},
   "source": [
    "8. Убедитесь, что переобучение больше нет, построив соответствующие графики при помощи функции plot_cv_scores."
   ]
  },
  {
   "cell_type": "code",
   "execution_count": 118,
   "id": "68f53e2b",
   "metadata": {},
   "outputs": [
    {
     "data": {
      "image/png": "[encoded data removed]",
      "text/plain": [
       "<Figure size 800x400 with 1 Axes>"
      ]
     },
     "metadata": {},
     "output_type": "display_data"
    }
   ],
   "source": [
    "plot_cv_scores(results_df, 'mse')"
   ]
  },
  {
   "cell_type": "markdown",
   "id": "658d10f4",
   "metadata": {},
   "source": [
    "9. Постройте ***кривую заучивания***, вычислив необходимые для её построения значения при помощи функции learning_curve. Используйте метрический показатель neg_mean_squared_error. Глядя на график, сделайте вывод о том, может ли помочь в борьбе с переобучением добавление новых данных."
   ]
  },
  {
   "cell_type": "code",
   "execution_count": 119,
   "id": "ea58882a",
   "metadata": {},
   "outputs": [
    {
     "data": {
      "text/plain": [
       "array([0.1, 0.2, 0.3, 0.4, 0.5, 0.6, 0.7, 0.8, 0.9, 1. ])"
      ]
     },
     "execution_count": 119,
     "metadata": {},
     "output_type": "execute_result"
    }
   ],
   "source": [
    "train_size = np.linspace(0.1, 1.0, 10)\n",
    "train_size"
   ]
  },
  {
   "cell_type": "code",
   "execution_count": 121,
   "id": "2a7e75bd",
   "metadata": {},
   "outputs": [
    {
     "data": {
      "text/plain": [
       "array([ 43,  86, 129, 173, 216, 259, 303, 346, 389, 433])"
      ]
     },
     "execution_count": 121,
     "metadata": {},
     "output_type": "execute_result"
    }
   ],
   "source": [
    "train_sizes, train_scores, test_scores = learning_curve(model_opt, X, y, train_sizes = train_size, cv = 7, scoring='neg_mean_squared_error')\n",
    "train_sizes\n"
   ]
  },
  {
   "cell_type": "code",
   "execution_count": 122,
   "id": "2332ffea",
   "metadata": {},
   "outputs": [],
   "source": [
    "train_scores = -train_scores\n",
    "test_scores = -test_scores"
   ]
  },
  {
   "cell_type": "code",
   "execution_count": 123,
   "id": "4382adeb",
   "metadata": {},
   "outputs": [
    {
     "data": {
      "image/png": "[encoded data removed]",
      "text/plain": [
       "<Figure size 640x480 with 1 Axes>"
      ]
     },
     "metadata": {},
     "output_type": "display_data"
    }
   ],
   "source": [
    "plot_train_test_curves(train_scores, test_scores, train_sizes)\n",
    "plt.title(\"Кривая заучивания\")\n",
    "plt.xlabel(\"max_depth\")\n",
    "plt.ylabel(\"mse\")\n",
    "plt.show()"
   ]
  }
 ],
 "metadata": {
  "kernelspec": {
   "display_name": "Python 3",
   "language": "python",
   "name": "python3"
  },
  "language_info": {
   "codemirror_mode": {
    "name": "ipython",
    "version": 3
   },
   "file_extension": ".py",
   "mimetype": "text/x-python",
   "name": "python",
   "nbconvert_exporter": "python",
   "pygments_lexer": "ipython3",
   "version": "3.13.2"
  }
 },
 "nbformat": 4,
 "nbformat_minor": 5
}
