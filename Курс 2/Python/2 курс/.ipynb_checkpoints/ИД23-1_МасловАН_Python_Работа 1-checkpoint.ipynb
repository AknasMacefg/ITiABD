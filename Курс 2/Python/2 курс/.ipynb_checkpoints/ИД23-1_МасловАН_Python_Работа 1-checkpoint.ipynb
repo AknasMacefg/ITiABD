{
 "cells": [
  {
   "cell_type": "code",
   "execution_count": 24,
   "id": "0e80aa7c-f7ca-4677-8d7d-57f5102e6942",
   "metadata": {},
   "outputs": [
    {
     "data": {
      "text/plain": [
       "0"
      ]
     },
     "execution_count": 24,
     "metadata": {},
     "output_type": "execute_result"
    }
   ],
   "source": [
    "from PyQt6.QtCore import QPointF, QTimer, QVariantAnimation, QCoreApplication, Qt\n",
    "from PyQt6.QtGui import QColor\n",
    "from PyQt6.QtWidgets import (\n",
    "    QApplication,\n",
    "    QGraphicsItem,\n",
    "    QGraphicsView,\n",
    "    QGraphicsScene,\n",
    "    QGraphicsEllipseItem,\n",
    "    QPushButton,\n",
    ")\n",
    "from random import sample\n",
    "from math import cos, sin, radians\n",
    "\n",
    "class Circle(QGraphicsEllipseItem):\n",
    "    def __init__(self, x, y, r, angle):\n",
    "        super().__init__(x, y, r, r)\n",
    "        self.angle = angle\n",
    "        self.diagon = random.sample(range(125, 200), 1)[0]\n",
    "        self.speed = r/100 + self.diagon/1000\n",
    "        randomcolor = random.sample(range(255), 3)\n",
    "        self.setBrush(QColor(randomcolor[0], randomcolor[1], randomcolor[2]))\n",
    "        self.animation = QVariantAnimation(duration=10)\n",
    "        self.animation.finished.connect(self.create_next_point)\n",
    "\n",
    "    def create_next_point(self):\n",
    "        if self.angle >= 360:\n",
    "            self.angle = 0\n",
    "        x = self.diagon * cos(radians(self.angle))\n",
    "        y = self.diagon * sin(radians(self.angle))\n",
    "        self.setPos(x, y)\n",
    "        self.angle += self.speed\n",
    "        self.move_to(x, y)\n",
    "\n",
    "    def move_to(self, x, y):\n",
    "        self.animation.setStartValue(self.pos())\n",
    "        self.animation.setEndValue(QPointF(x, y))\n",
    "        self.animation.start()\n",
    "\n",
    "class GraphicView(QGraphicsView):\n",
    "    def __init__(self):\n",
    "        super().__init__()\n",
    "        self.setWindowTitle('ИД23-1 Маслов АН')\n",
    "        scene = QGraphicsScene(self)\n",
    "        self.setScene(scene)\n",
    "        self.setSceneRect(0, 0, 500, 700)\n",
    "        self.setBackgroundBrush(QColor(173, 216, 230))\n",
    "        \n",
    "    def create_circle(self):\n",
    "        x = 0\n",
    "        y = 490\n",
    "        r = random.sample(range(10, 40), 1)[0]\n",
    "        circle = Circle(x, y, r, angle)\n",
    "        circle.create_next_point()\n",
    "        self.scene().addItem(circle)\n",
    "\n",
    "app = QCoreApplication.instance()\n",
    "if app is None:\n",
    "    app = QApplication([])\n",
    "    \n",
    "view = GraphicView()\n",
    "view.show()\n",
    "app.exec()"
   ]
  },
  {
   "cell_type": "code",
   "execution_count": null,
   "id": "c2746fa2-fa3d-460d-8034-24f8a2dda4cc",
   "metadata": {},
   "outputs": [],
   "source": []
  },
  {
   "cell_type": "code",
   "execution_count": null,
   "id": "548c8475-0887-4786-830c-8e412ae2b726",
   "metadata": {},
   "outputs": [],
   "source": []
  },
  {
   "cell_type": "code",
   "execution_count": null,
   "id": "314bca7b-466b-4f61-a006-e03091b5c32b",
   "metadata": {},
   "outputs": [],
   "source": []
  }
 ],
 "metadata": {
  "kernelspec": {
   "display_name": "Python 3 (ipykernel)",
   "language": "python",
   "name": "python3"
  },
  "language_info": {
   "codemirror_mode": {
    "name": "ipython",
    "version": 3
   },
   "file_extension": ".py",
   "mimetype": "text/x-python",
   "name": "python",
   "nbconvert_exporter": "python",
   "pygments_lexer": "ipython3",
   "version": "3.12.2"
  }
 },
 "nbformat": 4,
 "nbformat_minor": 5
}
