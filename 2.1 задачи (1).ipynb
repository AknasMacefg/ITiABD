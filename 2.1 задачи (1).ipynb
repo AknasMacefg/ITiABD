{
 "cells": [
  {
   "cell_type": "markdown",
   "id": "cf260427",
   "metadata": {},
   "source": [
    "# Тема 2.1. Знакомство с классами.\n",
    "## Атрибуты класса. Экземпляр класса. Методы экземпляра класса.\n"
   ]
  },
  {
   "cell_type": "markdown",
   "id": "0a75cbad",
   "metadata": {},
   "source": [
    "Задача 1.Создайте класс фрукты Fruit, хранящий информацию о форме фрукта,\n",
    "его цвете и вкусе. Форму, цвет и вкус фрукта оформить в виде атрибутов класса.\n",
    "Создать несколько объектов (экземпляров класса), изменить значения атрибутов\n",
    "класса для конкретных объектов.'''"
   ]
  },
  {
   "cell_type": "code",
   "execution_count": 22,
   "id": "25d9cc6b",
   "metadata": {},
   "outputs": [
    {
     "name": "stdout",
     "output_type": "stream",
     "text": [
      "оранжевый кислый\n"
     ]
    }
   ],
   "source": [
    "class Fruit:\n",
    "    form = None\n",
    "    colour = None\n",
    "    taste = None\n",
    "    def set_defa(self, formex, colourex, tasteex):\n",
    "        self.form = formex\n",
    "        self.colour = colourex\n",
    "        self.taste = tasteex\n",
    "    \n",
    "orange = Fruit()\n",
    "orange.set_defa(\"круглый\", \"оранжевый\", \"сладкий\")\n",
    "\n",
    "apple = Fruit()\n",
    "apple.set_defa(\"круглый\", \"зеленый\", \"кислый\")\n",
    "\n",
    "print(orange.colour, apple.taste)"
   ]
  },
  {
   "cell_type": "markdown",
   "id": "705802e3",
   "metadata": {},
   "source": [
    "\n",
    "'''Задача 2. Для класса фрукты Fruit, созданного в предыдущей задаче, создать\n",
    "атрибуты класса Вес и Количество динамически (не в классе)'''\n"
   ]
  },
  {
   "cell_type": "code",
   "execution_count": 24,
   "id": "ec653ca6",
   "metadata": {},
   "outputs": [
    {
     "name": "stdout",
     "output_type": "stream",
     "text": [
      "None None\n"
     ]
    }
   ],
   "source": [
    "class Fruit:\n",
    "    form = None\n",
    "    colour = None\n",
    "    taste = None\n",
    "    def set_defa(self, formex, colourex, tasteex):\n",
    "        self.form = formex\n",
    "        self.colour = colourex\n",
    "        self.taste = tasteex\n",
    "\n",
    "Fruit.weight = None\n",
    "Fruit.count = None\n",
    "print (Fruit.weight, Fruit.count)"
   ]
  },
  {
   "cell_type": "markdown",
   "id": "cf7ab119",
   "metadata": {},
   "source": [
    "\n",
    "\n",
    "'''Задача 3. Для класса фрукты Fruit, созданного в задаче номер 1, создать:\n",
    "- метод подсчета общего веса текущего экземпляра класса.\n",
    "- метод сравнения общего веса данного экземпляра класса с любым другим.\n",
    "- метод вывода полной информации об экземпляре класса в виде таблицы.'''\n"
   ]
  },
  {
   "cell_type": "code",
   "execution_count": 1,
   "id": "2d6360a3",
   "metadata": {},
   "outputs": [
    {
     "name": "stdout",
     "output_type": "stream",
     "text": [
      "500\n",
      "Апельсин легче яблока\n",
      "Форма: круглый\n",
      "Цвет: оранжевый\n",
      "Вкус: сладкий\n",
      "Вес: 100\n",
      "Количество: 5\n",
      "\n"
     ]
    }
   ],
   "source": [
    "class Fruit:\n",
    "    form = None\n",
    "    colour = None\n",
    "    taste = None\n",
    "    def set_defa(self, formex, colourex, tasteex, weightex, countex):\n",
    "        self.form = formex\n",
    "        self.colour = colourex\n",
    "        self.taste = tasteex\n",
    "        self.weight = weightex\n",
    "        self.count = countex\n",
    "    \n",
    "    def get_fullweight(self):\n",
    "        return self.weight * self.count\n",
    "    \n",
    "    def get_weightdiff(self, other):\n",
    "        if self.weight < other.weight:\n",
    "            return \"легче\"\n",
    "        else:\n",
    "            if self.weight == other.weight:\n",
    "                return \"равен\"\n",
    "            else:\n",
    "                return \"тяжелее\"\n",
    "    \n",
    "    def get_info():\n",
    "        print(colour)\n",
    "    \n",
    "    def print_fullinfo(self):\n",
    "        print(\"Форма: \" + self.form + \"\\n\" + \"Цвет: \" + self.colour + \"\\n\" + \"Вкус: \" + self.taste + \"\\n\" + \"Вес: \" + str(self.weight) + \"\\n\" + \"Количество: \" + str(self.count) + \"\\n\")\n",
    "\n",
    "Fruit.weight = None\n",
    "Fruit.count = None\n",
    "\n",
    "orange = Fruit()\n",
    "orange.set_defa(\"круглый\", \"оранжевый\", \"сладкий\", 100, 5)\n",
    "\n",
    "\n",
    "apple = Fruit()\n",
    "apple.set_defa(\"круглый\", \"зеленый\", \"кислый\", 300, 2)\n",
    "\n",
    "print(orange.get_fullweight())\n",
    "print(\"Апельсин \" + orange.get_weightdiff(apple) + \" яблока\")\n",
    "orange.print_fullinfo()\n"
   ]
  },
  {
   "cell_type": "markdown",
   "id": "7f8138af",
   "metadata": {},
   "source": [
    "\n",
    "'''Задача 4. Создать класс школьник, который хранит  информацию об ученике\n",
    "(имя, возраст, класс, all marks {'math':75}). Создать метод изменения среднего балла ученика\n",
    "и метод получения (вывода на печать) среднего балла ученика. Вывести полную информацию об ученике'''\n",
    "добавить метод добвления предмет и оценку к all marks\n"
   ]
  },
  {
   "cell_type": "code",
   "execution_count": 27,
   "id": "21a1963b",
   "metadata": {},
   "outputs": [
    {
     "name": "stdout",
     "output_type": "stream",
     "text": [
      "Имя: Петя\n",
      " Возраст: 16\n",
      " Класс: 9\n",
      " Оценки: {'math': 75, 'lang': 70, 'inf': 65, 'bio': 55, 'litr': 90}\n",
      "71.0\n"
     ]
    }
   ],
   "source": [
    "import numpy as np\n",
    "class Pupil:\n",
    "    name = \"Петя\"\n",
    "    age = 16\n",
    "    grade = 9\n",
    "    all_marks = {'math':75, 'lang':70,'inf':65,'bio':55}\n",
    "    \n",
    "    def get_average(self):\n",
    "        avg = np.mean(list(self.all_marks.values()))\n",
    "        print(avg)\n",
    "    \n",
    "    def get_fullinfo(self):\n",
    "        print(\"Имя: \" + self.name + \"\\n\",\n",
    "              \"Возраст: \" + str(self.age) + \"\\n\",\n",
    "              \"Класс: \" + str(self.grade) + \"\\n\",\n",
    "              \"Оценки: \" + str(self.all_marks))\n",
    "    \n",
    "    def add_allmarks(self, name, mark):\n",
    "        self.all_marks.update({name:mark})\n",
    "\n",
    "petya = Pupil()\n",
    "petya.add_allmarks(\"litr\", 90)\n",
    "petya.get_fullinfo()\n",
    "petya.get_average()"
   ]
  },
  {
   "cell_type": "markdown",
   "id": "651cd4ed",
   "metadata": {},
   "source": [
    "\n",
    "'''Задача 5. К предыдущей задаче №4 добавить методы изменения имени и возраста ученика.'''\n",
    "\n"
   ]
  },
  {
   "cell_type": "code",
   "execution_count": null,
   "id": "176c833e",
   "metadata": {},
   "outputs": [],
   "source": [
    "import numpy as np\n",
    "class Pupil:\n",
    "    name = \"Петя\"\n",
    "    age = 16\n",
    "    grade = 9\n",
    "    all_marks = {'math':75, 'lang':70,'inf':65,'bio':55}\n",
    "    \n",
    "    def get_average(self):\n",
    "        avg = np.mean(list(self.all_marks.values()))\n",
    "        print(avg)\n",
    "    \n",
    "    def get_fullinfo(self):\n",
    "        print(\"Имя: \" + self.name + \"\\n\",\n",
    "              \"Возраст: \" + str(self.age) + \"\\n\",\n",
    "              \"Класс: \" + str(self.grade) + \"\\n\",\n",
    "              \"Оценки: \" + str(self.all_marks))\n",
    "    \n",
    "    def add_allmarks(self, name, mark):\n",
    "        self.all_marks.update({name:mark})\n",
    "    \n",
    "    def change_bio(self, name, age):\n",
    "        self.name = name\n",
    "        self.age = age"
   ]
  },
  {
   "cell_type": "markdown",
   "id": "9f65ac1a",
   "metadata": {},
   "source": [
    "'''Задача 6. Реализовать класс - простейший калькулятор, который в качестве методов реализует\n",
    "арифметические операции.\n",
    "Программа на вход принимает комбинацию чисел и операций,разделенных пробелами.\n",
    "Например, 6 - 7 + 4. В качестве операций для работы с числами использовать сложение и вычитание.'''"
   ]
  },
  {
   "cell_type": "code",
   "execution_count": 59,
   "id": "4e3764a7",
   "metadata": {},
   "outputs": [
    {
     "name": "stdout",
     "output_type": "stream",
     "text": [
      "3\n"
     ]
    }
   ],
   "source": [
    "class Calc():\n",
    "    answer = 0\n",
    "    primer12 = \"\"\n",
    "    def resh(self, first,  second, znak):\n",
    "        match znak:\n",
    "            case '-':\n",
    "                self.answer = first - second\n",
    "            case '+':\n",
    "                self.answer = first + second\n",
    "        return self.answer\n",
    "        \n",
    "primer = Calc()\n",
    "primer.primer12 = \"6-7+4\"\n",
    "first = None\n",
    "second = None\n",
    "znak = None\n",
    "for i in primer.primer12:\n",
    "    if first == None:\n",
    "        first = int(i)\n",
    "    else:\n",
    "        if znak == None:\n",
    "            znak = i\n",
    "        else:\n",
    "            if second == None:\n",
    "                second = int(i)\n",
    "    if type(second) == int:\n",
    "        first = primer.resh(first, second, znak)\n",
    "        znak = None\n",
    "        second = None\n",
    "\n",
    "print(first)\n",
    "        \n",
    "\n",
    "\n",
    "    "
   ]
  },
  {
   "cell_type": "markdown",
   "id": "4540c22c",
   "metadata": {},
   "source": [
    "7. Создайте класс Ведомость, имеющий атрибут класса: список_дисциплин (значением \n",
    "является список с названиями дисциплин); дисциплина (при задании значения проверять \n",
    "наличие дисциплины в атрибуте список_дисциплин), группа; методы: put – добавляет в \n",
    "ведомость информацию об оценке студента (фамилия, оценка – параметры метода). Для \n",
    "хранения данных внутри класса используйте словарь, в котором ключом является фамилия \n",
    "студента. Возможные оценки – «отлично», «хорошо», «удовл.», «неудовл.», «н/я»; get –\n",
    "возвращает оценку, полученную студентом (фамилия студента – параметр метода); change\n",
    "– изменяет оценку, полученную студентом (фамилия студента и новая оценка – параметры \n",
    "метода); del – удаляет информацию о студенте из ведомости (фамилия студента – параметр \n",
    "метода); result – возвращает кортеж из 5 чисел (количество каждого вида оценок в \n",
    "ведомости); __init__ – конструктор; __str__ – возвращает строку, содержащую заголовки \n",
    "(название экзамена, группа) и результаты экзамена в виде таблицы; count – возвращает \n",
    "количество студентов в ведомости; names – возвращает список фамилий, имеющихся в \n",
    "ведомости. Продемонстрируйте работу с классами, создав необходимые объекты и вызвав \n",
    "все их методы"
   ]
  },
  {
   "cell_type": "code",
   "execution_count": null,
   "id": "bcf21837",
   "metadata": {},
   "outputs": [],
   "source": []
  },
  {
   "cell_type": "markdown",
   "id": "c9a93dd9",
   "metadata": {},
   "source": [
    "8. Используя класс People в качестве базового, создайте класс Сотрудник (Worker), \n",
    "имеющий атрибуты: должность (post); зарплата (salary) и методы: __init__ – конструктор; \n",
    "__str__ – для вывода строковой информации. Создать два метода для класса Сотрудник и \n",
    "один метод для класса People. Продемонстрируйте работу с классами, создав необходимые \n",
    "объекты и вызвав все их методы.\n"
   ]
  },
  {
   "cell_type": "code",
   "execution_count": null,
   "id": "62b023af",
   "metadata": {},
   "outputs": [],
   "source": []
  },
  {
   "cell_type": "markdown",
   "id": "5e4f08a1",
   "metadata": {},
   "source": [
    "9. Используя класс Сотрудник в качестве базового создайте класс Преподаватель \n",
    "(Teacher), имеющий: атрибут дисциплины (disciplines), в котором хранятся названия \n",
    "дисциплин, которые ведет преподаватель; методы __init__ и __str__;методы \n",
    "добавить_дисциплину (add_dis) и удалить_дисциплину (delete_dis), которые позволяют \n",
    "изменять список дисциплин. Продемонстрируйте работу с классами, создав необходимые \n",
    "объекты и вызвав все их методы."
   ]
  },
  {
   "cell_type": "code",
   "execution_count": null,
   "id": "16ffb162",
   "metadata": {},
   "outputs": [],
   "source": []
  }
 ],
 "metadata": {
  "kernelspec": {
   "display_name": "Python 3 (ipykernel)",
   "language": "python",
   "name": "python3"
  },
  "language_info": {
   "codemirror_mode": {
    "name": "ipython",
    "version": 3
   },
   "file_extension": ".py",
   "mimetype": "text/x-python",
   "name": "python",
   "nbconvert_exporter": "python",
   "pygments_lexer": "ipython3",
   "version": "3.10.9"
  }
 },
 "nbformat": 4,
 "nbformat_minor": 5
}
